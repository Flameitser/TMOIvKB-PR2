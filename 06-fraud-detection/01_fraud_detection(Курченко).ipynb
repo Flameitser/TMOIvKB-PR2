{
  "cells": [
    {
      "cell_type": "markdown",
      "metadata": {
        "id": "t73_xJJyPGwZ"
      },
      "source": [
        "## **Fraud Detection in Python**\n",
        "\n",
        "**Course Description**\n",
        "\n",
        "A typical organization loses an estimated 5% of its yearly revenue to fraud. In this course, learn to fight fraud by using data. Apply supervised learning algorithms to detect fraudulent behavior based upon past fraud, and use unsupervised learning methods to discover new types of fraud activities.\n",
        "\n",
        "Fraudulent transactions are rare compared to the norm.  As such, learn to properly classify imbalanced datasets.\n",
        "\n",
        "The course provides technical and theoretical insights and demonstrates how to implement fraud detection models. Finally, get tips and advice from real-life experience to help prevent common mistakes in fraud analytics."
      ]
    },
    {
      "cell_type": "markdown",
      "metadata": {
        "id": "wvrhzbAoPGwb"
      },
      "source": [
        "**Imports**"
      ]
    },
    {
      "cell_type": "code",
      "source": [
        "# Для выполнения кода пришлось скачать pandas версии ДО 1.5.3\n",
        "!pip install \"pandas<2.0.0\""
      ],
      "metadata": {
        "colab": {
          "base_uri": "https://localhost:8080/"
        },
        "id": "OAtzZfitShE9",
        "outputId": "ff6ee757-ab80-4cc6-fa67-935517b35662"
      },
      "execution_count": 1,
      "outputs": [
        {
          "output_type": "stream",
          "name": "stdout",
          "text": [
            "Requirement already satisfied: pandas<2.0.0 in /usr/local/lib/python3.10/dist-packages (1.5.3)\n",
            "Requirement already satisfied: python-dateutil>=2.8.1 in /usr/local/lib/python3.10/dist-packages (from pandas<2.0.0) (2.8.2)\n",
            "Requirement already satisfied: pytz>=2020.1 in /usr/local/lib/python3.10/dist-packages (from pandas<2.0.0) (2023.4)\n",
            "Requirement already satisfied: numpy>=1.21.0 in /usr/local/lib/python3.10/dist-packages (from pandas<2.0.0) (1.25.2)\n",
            "Requirement already satisfied: six>=1.5 in /usr/local/lib/python3.10/dist-packages (from python-dateutil>=2.8.1->pandas<2.0.0) (1.16.0)\n"
          ]
        }
      ]
    },
    {
      "cell_type": "code",
      "execution_count": 2,
      "metadata": {
        "tags": [],
        "id": "vSCjH6-KPGwb"
      },
      "outputs": [],
      "source": [
        "import warnings\n",
        "warnings.filterwarnings('ignore')\n",
        "warnings.simplefilter('ignore')"
      ]
    },
    {
      "cell_type": "code",
      "execution_count": 3,
      "metadata": {
        "tags": [],
        "id": "0pTAeQx3PGwc"
      },
      "outputs": [],
      "source": [
        "import pandas as pd\n",
        "import matplotlib.pyplot as plt\n",
        "from matplotlib.patches import Rectangle\n",
        "import numpy as np\n",
        "from pprint import pprint as pp\n",
        "import csv\n",
        "from pathlib import Path\n",
        "import seaborn as sns\n",
        "from itertools import product\n",
        "import string\n",
        "\n",
        "import nltk\n",
        "from nltk.corpus import stopwords\n",
        "from nltk.stem.wordnet import WordNetLemmatizer\n",
        "\n",
        "from imblearn.over_sampling import SMOTE\n",
        "from imblearn.over_sampling import BorderlineSMOTE\n",
        "from imblearn.pipeline import Pipeline\n",
        "\n",
        "from sklearn.linear_model import LinearRegression, LogisticRegression\n",
        "from sklearn.model_selection import train_test_split, GridSearchCV\n",
        "from sklearn.tree import DecisionTreeClassifier\n",
        "from sklearn.metrics import r2_score, classification_report, confusion_matrix, accuracy_score, roc_auc_score, roc_curve, precision_recall_curve, average_precision_score\n",
        "from sklearn.metrics import homogeneity_score, silhouette_score\n",
        "from sklearn.ensemble import RandomForestClassifier, VotingClassifier\n",
        "from sklearn.preprocessing import MinMaxScaler\n",
        "from sklearn.cluster import MiniBatchKMeans, DBSCAN\n",
        "\n",
        "import gensim\n",
        "from gensim import corpora"
      ]
    },
    {
      "cell_type": "markdown",
      "metadata": {
        "id": "gAMXfkB3PGwc"
      },
      "source": [
        "**Pandas Configuration Options**"
      ]
    },
    {
      "cell_type": "code",
      "execution_count": 4,
      "metadata": {
        "tags": [],
        "id": "Jk-323K0PGwc"
      },
      "outputs": [],
      "source": [
        "pd.set_option('display.max_columns', 700)\n",
        "pd.set_option('display.max_rows', 400)\n",
        "pd.set_option('display.min_rows', 10)\n",
        "pd.set_option('display.expand_frame_repr', True)"
      ]
    },
    {
      "cell_type": "markdown",
      "metadata": {
        "id": "TC0rbLIyPGwd"
      },
      "source": [
        "**Data Files Location**\n",
        "\n",
        "* Most data files for the exercises can be found on the [course site](https://www.datacamp.com/courses/fraud-detection-in-python)\n",
        "    * [Chapter 1](https://assets.datacamp.com/production/repositories/2162/datasets/cc3a36b722c0806e4a7df2634e345975a0724958/chapter_1.zip)\n",
        "    * [Chapter 2](https://assets.datacamp.com/production/repositories/2162/datasets/4fb6199be9b89626dcd6b36c235cbf60cf4c1631/chapter_2.zip)\n",
        "    * [Chapter 3](https://assets.datacamp.com/production/repositories/2162/datasets/08cfcd4158b3a758e72e9bd077a9e44fec9f773b/chapter_3.zip)\n",
        "    * [Chapter 4](https://assets.datacamp.com/production/repositories/2162/datasets/94f2356652dc9ea8f0654b5e9c29645115b6e77f/chapter_4.zip)"
      ]
    },
    {
      "cell_type": "markdown",
      "metadata": {
        "id": "q49E4cCFPGwd"
      },
      "source": [
        "**Data File Objects**"
      ]
    },
    {
      "cell_type": "code",
      "execution_count": 5,
      "metadata": {
        "tags": [],
        "id": "5FVrItnKPGwd"
      },
      "outputs": [],
      "source": [
        "data = Path.cwd()\n",
        "\n",
        "ch1 = data / 'chapter_1'\n",
        "cc1_file = ch1 / 'creditcard_sampledata.csv'\n",
        "cc3_file = ch1 / 'creditcard_sampledata_3.csv'\n",
        "\n",
        "ch2 = data / 'chapter_2'\n",
        "cc2_file = ch2 / 'creditcard_sampledata_2.csv'\n",
        "\n",
        "ch3 = data / 'chapter_3'\n",
        "banksim_file = ch3 / 'banksim.csv'\n",
        "banksim_adj_file = ch3 / 'banksim_adj.csv'\n",
        "db_full_file = ch3 / 'db_full.pickle'\n",
        "labels_file = ch3 / 'labels.pickle'\n",
        "labels_full_file = ch3 / 'labels_full.pickle'\n",
        "x_scaled_file = ch3 / 'x_scaled.pickle'\n",
        "x_scaled_full_file = ch3 / 'x_scaled_full.pickle'\n",
        "\n",
        "ch4 = data / 'chapter_4'\n",
        "enron_emails_clean_file = ch4 / 'enron_emails_clean.csv'\n",
        "cleantext_file = ch4 / 'cleantext.pickle'\n",
        "corpus_file = ch4 / 'corpus.pickle'\n",
        "dict_file = ch4 / 'dict.pickle'\n",
        "ldamodel_file = ch4 / 'ldamodel.pickle'"
      ]
    },
    {
      "cell_type": "markdown",
      "metadata": {
        "id": "6fBW1UmMPGwd"
      },
      "source": [
        "# Introduction and preparing your data\n",
        "\n",
        "Learn about the typical challenges associated with fraud detection. Learn how to resample data in a smart way, and tackle problems with imbalanced data."
      ]
    },
    {
      "cell_type": "markdown",
      "metadata": {
        "id": "zKeJT5qXPGwd"
      },
      "source": [
        "## Introduction to fraud detection\n",
        "\n",
        "* Types:\n",
        "    * Insurance\n",
        "    * Credit card\n",
        "    * Identity theft\n",
        "    * Money laundering\n",
        "    * Tax evasion\n",
        "    * Healthcare\n",
        "    * Product warranty\n",
        "* e-commerce businesses must continuously assess the legitimacy of client transactions\n",
        "* Detecting fraud is challenging:\n",
        "    * Uncommon; < 0.01% of transactions\n",
        "    * Attempts are made to conceal fraud\n",
        "    * Behavior evolves\n",
        "    * Fraudulent activities perpetrated by networks - organized crime\n",
        "* Fraud detection requires training an algorithm to identify concealed observations from any normal observations\n",
        "* Fraud analytics teams:\n",
        "    * Often use rules based systems, based on manually set thresholds and experience\n",
        "    * Check the news\n",
        "    * Receive external lists of fraudulent accounts and names\n",
        "        * suspicious names or track an external hit list from police to reference check against the client base\n",
        "    * Sometimes use machine learning algorithms to detect fraud or suspicious behavior\n",
        "        * Existing sources can be used as inputs into the ML model\n",
        "        * Verify the veracity of rules based labels"
      ]
    },
    {
      "cell_type": "markdown",
      "metadata": {
        "id": "q3jbUKQ1PGwd"
      },
      "source": [
        "### Checking the fraud to non-fraud ratio\n",
        "\n",
        "In this chapter, you will work on `creditcard_sampledata.csv`, a dataset containing credit card transactions data. Fraud occurrences are fortunately an **extreme minority** in these transactions.\n",
        "\n",
        "However, Machine Learning algorithms usually work best when the different classes contained in the dataset are more or less equally present. If there are few cases of fraud, then there's little data to learn how to identify them. This is known as **class imbalance**, and it's one of the main challenges of fraud detection.\n",
        "\n",
        "Let's explore this dataset, and observe this class imbalance problem.\n",
        "\n",
        "**Instructions**\n",
        "\n",
        "* `import pandas as pd`, read the credit card data in and assign it to `df`. This has been done for you.\n",
        "* Use `.info()` to print information about `df`.\n",
        "* Use `.value_counts()` to get the count of fraudulent and non-fraudulent transactions in the `'Class'` column. Assign the result to `occ`.\n",
        "* Get the ratio of fraudulent transactions over the total number of transactions in the dataset."
      ]
    },
    {
      "cell_type": "code",
      "execution_count": 6,
      "metadata": {
        "tags": [],
        "id": "dcyHR-bXPGwd"
      },
      "outputs": [],
      "source": [
        "df = pd.read_csv(cc3_file)"
      ]
    },
    {
      "cell_type": "markdown",
      "metadata": {
        "id": "07cv1LSPPGwd"
      },
      "source": [
        "#### Explore the features available in your dataframe"
      ]
    },
    {
      "cell_type": "code",
      "execution_count": 7,
      "metadata": {
        "tags": [],
        "colab": {
          "base_uri": "https://localhost:8080/"
        },
        "id": "U1ZZ3D33PGwd",
        "outputId": "1e3b1b3a-bc63-4ab9-d4f8-f12a0f751cb4"
      },
      "outputs": [
        {
          "output_type": "stream",
          "name": "stdout",
          "text": [
            "<class 'pandas.core.frame.DataFrame'>\n",
            "RangeIndex: 5050 entries, 0 to 5049\n",
            "Data columns (total 31 columns):\n",
            " #   Column      Non-Null Count  Dtype  \n",
            "---  ------      --------------  -----  \n",
            " 0   Unnamed: 0  5050 non-null   int64  \n",
            " 1   V1          5050 non-null   float64\n",
            " 2   V2          5050 non-null   float64\n",
            " 3   V3          5050 non-null   float64\n",
            " 4   V4          5050 non-null   float64\n",
            " 5   V5          5050 non-null   float64\n",
            " 6   V6          5050 non-null   float64\n",
            " 7   V7          5050 non-null   float64\n",
            " 8   V8          5050 non-null   float64\n",
            " 9   V9          5050 non-null   float64\n",
            " 10  V10         5050 non-null   float64\n",
            " 11  V11         5050 non-null   float64\n",
            " 12  V12         5050 non-null   float64\n",
            " 13  V13         5050 non-null   float64\n",
            " 14  V14         5050 non-null   float64\n",
            " 15  V15         5050 non-null   float64\n",
            " 16  V16         5050 non-null   float64\n",
            " 17  V17         5050 non-null   float64\n",
            " 18  V18         5050 non-null   float64\n",
            " 19  V19         5050 non-null   float64\n",
            " 20  V20         5050 non-null   float64\n",
            " 21  V21         5050 non-null   float64\n",
            " 22  V22         5050 non-null   float64\n",
            " 23  V23         5050 non-null   float64\n",
            " 24  V24         5050 non-null   float64\n",
            " 25  V25         5050 non-null   float64\n",
            " 26  V26         5050 non-null   float64\n",
            " 27  V27         5050 non-null   float64\n",
            " 28  V28         5050 non-null   float64\n",
            " 29  Amount      5050 non-null   float64\n",
            " 30  Class       5050 non-null   int64  \n",
            "dtypes: float64(29), int64(2)\n",
            "memory usage: 1.2 MB\n"
          ]
        }
      ],
      "source": [
        "df.info()"
      ]
    },
    {
      "cell_type": "code",
      "execution_count": 8,
      "metadata": {
        "tags": [],
        "colab": {
          "base_uri": "https://localhost:8080/",
          "height": 244
        },
        "id": "vImtMS3XPGwd",
        "outputId": "3099f673-fd4e-41f0-9d5f-1ef50ee90c5e"
      },
      "outputs": [
        {
          "output_type": "execute_result",
          "data": {
            "text/plain": [
              "   Unnamed: 0        V1        V2        V3        V4        V5        V6  \\\n",
              "0      258647  1.725265 -1.337256 -1.012687 -0.361656 -1.431611 -1.098681   \n",
              "1       69263  0.683254 -1.681875  0.533349 -0.326064 -1.455603  0.101832   \n",
              "2       96552  1.067973 -0.656667  1.029738  0.253899 -1.172715  0.073232   \n",
              "3      281898  0.119513  0.729275 -1.678879 -1.551408  3.128914  3.210632   \n",
              "4       86917  1.271253  0.275694  0.159568  1.003096 -0.128535 -0.608730   \n",
              "\n",
              "         V7        V8        V9       V10       V11       V12       V13  \\\n",
              "0 -0.842274 -0.026594 -0.032409  0.215113  1.618952 -0.654046 -1.442665   \n",
              "1 -0.520590  0.114036 -0.601760  0.444011  1.521570  0.499202 -0.127849   \n",
              "2 -0.745771  0.249803  1.383057 -0.483771 -0.782780  0.005242 -1.273288   \n",
              "3  0.356276  0.920374 -0.160589 -0.801748  0.137341 -0.156740 -0.429388   \n",
              "4  0.088777 -0.145336  0.156047  0.022707 -0.963306 -0.228074 -0.324933   \n",
              "\n",
              "        V14       V15       V16       V17       V18       V19       V20  \\\n",
              "0 -1.546538 -0.230008  1.785539  1.419793  0.071666  0.233031  0.275911   \n",
              "1 -0.237253 -0.752351  0.667190  0.724785 -1.736615  0.702088  0.638186   \n",
              "2 -0.269260  0.091287 -0.347973  0.495328 -0.925949  0.099138 -0.083859   \n",
              "3 -0.752392  0.155272  0.215068  0.352222 -0.376168 -0.398920  0.043715   \n",
              "4  0.390609  1.065923  0.285930 -0.627072  0.170175 -0.215912 -0.147394   \n",
              "\n",
              "        V21       V22       V23       V24       V25       V26       V27  \\\n",
              "0  0.414524  0.793434  0.028887  0.419421 -0.367529 -0.155634 -0.015768   \n",
              "1  0.116898 -0.304605 -0.125547  0.244848  0.069163 -0.460712 -0.017068   \n",
              "2 -0.189315 -0.426743  0.079539  0.129692  0.002778  0.970498 -0.035056   \n",
              "3 -0.335825 -0.906171  0.108350  0.593062 -0.424303  0.164201  0.245881   \n",
              "4  0.031958  0.123503 -0.174528 -0.147535  0.735909 -0.262270  0.015577   \n",
              "\n",
              "        V28  Amount  Class  \n",
              "0  0.010790  189.00      0  \n",
              "1  0.063542  315.17      0  \n",
              "2  0.017313   59.98      0  \n",
              "3  0.071029    0.89      0  \n",
              "4  0.015955    6.53      0  "
            ],
            "text/html": [
              "\n",
              "  <div id=\"df-0f3ee122-959a-4b65-a236-abcd546d721d\" class=\"colab-df-container\">\n",
              "    <div>\n",
              "<style scoped>\n",
              "    .dataframe tbody tr th:only-of-type {\n",
              "        vertical-align: middle;\n",
              "    }\n",
              "\n",
              "    .dataframe tbody tr th {\n",
              "        vertical-align: top;\n",
              "    }\n",
              "\n",
              "    .dataframe thead th {\n",
              "        text-align: right;\n",
              "    }\n",
              "</style>\n",
              "<table border=\"1\" class=\"dataframe\">\n",
              "  <thead>\n",
              "    <tr style=\"text-align: right;\">\n",
              "      <th></th>\n",
              "      <th>Unnamed: 0</th>\n",
              "      <th>V1</th>\n",
              "      <th>V2</th>\n",
              "      <th>V3</th>\n",
              "      <th>V4</th>\n",
              "      <th>V5</th>\n",
              "      <th>V6</th>\n",
              "      <th>V7</th>\n",
              "      <th>V8</th>\n",
              "      <th>V9</th>\n",
              "      <th>V10</th>\n",
              "      <th>V11</th>\n",
              "      <th>V12</th>\n",
              "      <th>V13</th>\n",
              "      <th>V14</th>\n",
              "      <th>V15</th>\n",
              "      <th>V16</th>\n",
              "      <th>V17</th>\n",
              "      <th>V18</th>\n",
              "      <th>V19</th>\n",
              "      <th>V20</th>\n",
              "      <th>V21</th>\n",
              "      <th>V22</th>\n",
              "      <th>V23</th>\n",
              "      <th>V24</th>\n",
              "      <th>V25</th>\n",
              "      <th>V26</th>\n",
              "      <th>V27</th>\n",
              "      <th>V28</th>\n",
              "      <th>Amount</th>\n",
              "      <th>Class</th>\n",
              "    </tr>\n",
              "  </thead>\n",
              "  <tbody>\n",
              "    <tr>\n",
              "      <th>0</th>\n",
              "      <td>258647</td>\n",
              "      <td>1.725265</td>\n",
              "      <td>-1.337256</td>\n",
              "      <td>-1.012687</td>\n",
              "      <td>-0.361656</td>\n",
              "      <td>-1.431611</td>\n",
              "      <td>-1.098681</td>\n",
              "      <td>-0.842274</td>\n",
              "      <td>-0.026594</td>\n",
              "      <td>-0.032409</td>\n",
              "      <td>0.215113</td>\n",
              "      <td>1.618952</td>\n",
              "      <td>-0.654046</td>\n",
              "      <td>-1.442665</td>\n",
              "      <td>-1.546538</td>\n",
              "      <td>-0.230008</td>\n",
              "      <td>1.785539</td>\n",
              "      <td>1.419793</td>\n",
              "      <td>0.071666</td>\n",
              "      <td>0.233031</td>\n",
              "      <td>0.275911</td>\n",
              "      <td>0.414524</td>\n",
              "      <td>0.793434</td>\n",
              "      <td>0.028887</td>\n",
              "      <td>0.419421</td>\n",
              "      <td>-0.367529</td>\n",
              "      <td>-0.155634</td>\n",
              "      <td>-0.015768</td>\n",
              "      <td>0.010790</td>\n",
              "      <td>189.00</td>\n",
              "      <td>0</td>\n",
              "    </tr>\n",
              "    <tr>\n",
              "      <th>1</th>\n",
              "      <td>69263</td>\n",
              "      <td>0.683254</td>\n",
              "      <td>-1.681875</td>\n",
              "      <td>0.533349</td>\n",
              "      <td>-0.326064</td>\n",
              "      <td>-1.455603</td>\n",
              "      <td>0.101832</td>\n",
              "      <td>-0.520590</td>\n",
              "      <td>0.114036</td>\n",
              "      <td>-0.601760</td>\n",
              "      <td>0.444011</td>\n",
              "      <td>1.521570</td>\n",
              "      <td>0.499202</td>\n",
              "      <td>-0.127849</td>\n",
              "      <td>-0.237253</td>\n",
              "      <td>-0.752351</td>\n",
              "      <td>0.667190</td>\n",
              "      <td>0.724785</td>\n",
              "      <td>-1.736615</td>\n",
              "      <td>0.702088</td>\n",
              "      <td>0.638186</td>\n",
              "      <td>0.116898</td>\n",
              "      <td>-0.304605</td>\n",
              "      <td>-0.125547</td>\n",
              "      <td>0.244848</td>\n",
              "      <td>0.069163</td>\n",
              "      <td>-0.460712</td>\n",
              "      <td>-0.017068</td>\n",
              "      <td>0.063542</td>\n",
              "      <td>315.17</td>\n",
              "      <td>0</td>\n",
              "    </tr>\n",
              "    <tr>\n",
              "      <th>2</th>\n",
              "      <td>96552</td>\n",
              "      <td>1.067973</td>\n",
              "      <td>-0.656667</td>\n",
              "      <td>1.029738</td>\n",
              "      <td>0.253899</td>\n",
              "      <td>-1.172715</td>\n",
              "      <td>0.073232</td>\n",
              "      <td>-0.745771</td>\n",
              "      <td>0.249803</td>\n",
              "      <td>1.383057</td>\n",
              "      <td>-0.483771</td>\n",
              "      <td>-0.782780</td>\n",
              "      <td>0.005242</td>\n",
              "      <td>-1.273288</td>\n",
              "      <td>-0.269260</td>\n",
              "      <td>0.091287</td>\n",
              "      <td>-0.347973</td>\n",
              "      <td>0.495328</td>\n",
              "      <td>-0.925949</td>\n",
              "      <td>0.099138</td>\n",
              "      <td>-0.083859</td>\n",
              "      <td>-0.189315</td>\n",
              "      <td>-0.426743</td>\n",
              "      <td>0.079539</td>\n",
              "      <td>0.129692</td>\n",
              "      <td>0.002778</td>\n",
              "      <td>0.970498</td>\n",
              "      <td>-0.035056</td>\n",
              "      <td>0.017313</td>\n",
              "      <td>59.98</td>\n",
              "      <td>0</td>\n",
              "    </tr>\n",
              "    <tr>\n",
              "      <th>3</th>\n",
              "      <td>281898</td>\n",
              "      <td>0.119513</td>\n",
              "      <td>0.729275</td>\n",
              "      <td>-1.678879</td>\n",
              "      <td>-1.551408</td>\n",
              "      <td>3.128914</td>\n",
              "      <td>3.210632</td>\n",
              "      <td>0.356276</td>\n",
              "      <td>0.920374</td>\n",
              "      <td>-0.160589</td>\n",
              "      <td>-0.801748</td>\n",
              "      <td>0.137341</td>\n",
              "      <td>-0.156740</td>\n",
              "      <td>-0.429388</td>\n",
              "      <td>-0.752392</td>\n",
              "      <td>0.155272</td>\n",
              "      <td>0.215068</td>\n",
              "      <td>0.352222</td>\n",
              "      <td>-0.376168</td>\n",
              "      <td>-0.398920</td>\n",
              "      <td>0.043715</td>\n",
              "      <td>-0.335825</td>\n",
              "      <td>-0.906171</td>\n",
              "      <td>0.108350</td>\n",
              "      <td>0.593062</td>\n",
              "      <td>-0.424303</td>\n",
              "      <td>0.164201</td>\n",
              "      <td>0.245881</td>\n",
              "      <td>0.071029</td>\n",
              "      <td>0.89</td>\n",
              "      <td>0</td>\n",
              "    </tr>\n",
              "    <tr>\n",
              "      <th>4</th>\n",
              "      <td>86917</td>\n",
              "      <td>1.271253</td>\n",
              "      <td>0.275694</td>\n",
              "      <td>0.159568</td>\n",
              "      <td>1.003096</td>\n",
              "      <td>-0.128535</td>\n",
              "      <td>-0.608730</td>\n",
              "      <td>0.088777</td>\n",
              "      <td>-0.145336</td>\n",
              "      <td>0.156047</td>\n",
              "      <td>0.022707</td>\n",
              "      <td>-0.963306</td>\n",
              "      <td>-0.228074</td>\n",
              "      <td>-0.324933</td>\n",
              "      <td>0.390609</td>\n",
              "      <td>1.065923</td>\n",
              "      <td>0.285930</td>\n",
              "      <td>-0.627072</td>\n",
              "      <td>0.170175</td>\n",
              "      <td>-0.215912</td>\n",
              "      <td>-0.147394</td>\n",
              "      <td>0.031958</td>\n",
              "      <td>0.123503</td>\n",
              "      <td>-0.174528</td>\n",
              "      <td>-0.147535</td>\n",
              "      <td>0.735909</td>\n",
              "      <td>-0.262270</td>\n",
              "      <td>0.015577</td>\n",
              "      <td>0.015955</td>\n",
              "      <td>6.53</td>\n",
              "      <td>0</td>\n",
              "    </tr>\n",
              "  </tbody>\n",
              "</table>\n",
              "</div>\n",
              "    <div class=\"colab-df-buttons\">\n",
              "\n",
              "  <div class=\"colab-df-container\">\n",
              "    <button class=\"colab-df-convert\" onclick=\"convertToInteractive('df-0f3ee122-959a-4b65-a236-abcd546d721d')\"\n",
              "            title=\"Convert this dataframe to an interactive table.\"\n",
              "            style=\"display:none;\">\n",
              "\n",
              "  <svg xmlns=\"http://www.w3.org/2000/svg\" height=\"24px\" viewBox=\"0 -960 960 960\">\n",
              "    <path d=\"M120-120v-720h720v720H120Zm60-500h600v-160H180v160Zm220 220h160v-160H400v160Zm0 220h160v-160H400v160ZM180-400h160v-160H180v160Zm440 0h160v-160H620v160ZM180-180h160v-160H180v160Zm440 0h160v-160H620v160Z\"/>\n",
              "  </svg>\n",
              "    </button>\n",
              "\n",
              "  <style>\n",
              "    .colab-df-container {\n",
              "      display:flex;\n",
              "      gap: 12px;\n",
              "    }\n",
              "\n",
              "    .colab-df-convert {\n",
              "      background-color: #E8F0FE;\n",
              "      border: none;\n",
              "      border-radius: 50%;\n",
              "      cursor: pointer;\n",
              "      display: none;\n",
              "      fill: #1967D2;\n",
              "      height: 32px;\n",
              "      padding: 0 0 0 0;\n",
              "      width: 32px;\n",
              "    }\n",
              "\n",
              "    .colab-df-convert:hover {\n",
              "      background-color: #E2EBFA;\n",
              "      box-shadow: 0px 1px 2px rgba(60, 64, 67, 0.3), 0px 1px 3px 1px rgba(60, 64, 67, 0.15);\n",
              "      fill: #174EA6;\n",
              "    }\n",
              "\n",
              "    .colab-df-buttons div {\n",
              "      margin-bottom: 4px;\n",
              "    }\n",
              "\n",
              "    [theme=dark] .colab-df-convert {\n",
              "      background-color: #3B4455;\n",
              "      fill: #D2E3FC;\n",
              "    }\n",
              "\n",
              "    [theme=dark] .colab-df-convert:hover {\n",
              "      background-color: #434B5C;\n",
              "      box-shadow: 0px 1px 3px 1px rgba(0, 0, 0, 0.15);\n",
              "      filter: drop-shadow(0px 1px 2px rgba(0, 0, 0, 0.3));\n",
              "      fill: #FFFFFF;\n",
              "    }\n",
              "  </style>\n",
              "\n",
              "    <script>\n",
              "      const buttonEl =\n",
              "        document.querySelector('#df-0f3ee122-959a-4b65-a236-abcd546d721d button.colab-df-convert');\n",
              "      buttonEl.style.display =\n",
              "        google.colab.kernel.accessAllowed ? 'block' : 'none';\n",
              "\n",
              "      async function convertToInteractive(key) {\n",
              "        const element = document.querySelector('#df-0f3ee122-959a-4b65-a236-abcd546d721d');\n",
              "        const dataTable =\n",
              "          await google.colab.kernel.invokeFunction('convertToInteractive',\n",
              "                                                    [key], {});\n",
              "        if (!dataTable) return;\n",
              "\n",
              "        const docLinkHtml = 'Like what you see? Visit the ' +\n",
              "          '<a target=\"_blank\" href=https://colab.research.google.com/notebooks/data_table.ipynb>data table notebook</a>'\n",
              "          + ' to learn more about interactive tables.';\n",
              "        element.innerHTML = '';\n",
              "        dataTable['output_type'] = 'display_data';\n",
              "        await google.colab.output.renderOutput(dataTable, element);\n",
              "        const docLink = document.createElement('div');\n",
              "        docLink.innerHTML = docLinkHtml;\n",
              "        element.appendChild(docLink);\n",
              "      }\n",
              "    </script>\n",
              "  </div>\n",
              "\n",
              "\n",
              "<div id=\"df-a87283f0-79b4-4948-b86c-ede55bf4959a\">\n",
              "  <button class=\"colab-df-quickchart\" onclick=\"quickchart('df-a87283f0-79b4-4948-b86c-ede55bf4959a')\"\n",
              "            title=\"Suggest charts\"\n",
              "            style=\"display:none;\">\n",
              "\n",
              "<svg xmlns=\"http://www.w3.org/2000/svg\" height=\"24px\"viewBox=\"0 0 24 24\"\n",
              "     width=\"24px\">\n",
              "    <g>\n",
              "        <path d=\"M19 3H5c-1.1 0-2 .9-2 2v14c0 1.1.9 2 2 2h14c1.1 0 2-.9 2-2V5c0-1.1-.9-2-2-2zM9 17H7v-7h2v7zm4 0h-2V7h2v10zm4 0h-2v-4h2v4z\"/>\n",
              "    </g>\n",
              "</svg>\n",
              "  </button>\n",
              "\n",
              "<style>\n",
              "  .colab-df-quickchart {\n",
              "      --bg-color: #E8F0FE;\n",
              "      --fill-color: #1967D2;\n",
              "      --hover-bg-color: #E2EBFA;\n",
              "      --hover-fill-color: #174EA6;\n",
              "      --disabled-fill-color: #AAA;\n",
              "      --disabled-bg-color: #DDD;\n",
              "  }\n",
              "\n",
              "  [theme=dark] .colab-df-quickchart {\n",
              "      --bg-color: #3B4455;\n",
              "      --fill-color: #D2E3FC;\n",
              "      --hover-bg-color: #434B5C;\n",
              "      --hover-fill-color: #FFFFFF;\n",
              "      --disabled-bg-color: #3B4455;\n",
              "      --disabled-fill-color: #666;\n",
              "  }\n",
              "\n",
              "  .colab-df-quickchart {\n",
              "    background-color: var(--bg-color);\n",
              "    border: none;\n",
              "    border-radius: 50%;\n",
              "    cursor: pointer;\n",
              "    display: none;\n",
              "    fill: var(--fill-color);\n",
              "    height: 32px;\n",
              "    padding: 0;\n",
              "    width: 32px;\n",
              "  }\n",
              "\n",
              "  .colab-df-quickchart:hover {\n",
              "    background-color: var(--hover-bg-color);\n",
              "    box-shadow: 0 1px 2px rgba(60, 64, 67, 0.3), 0 1px 3px 1px rgba(60, 64, 67, 0.15);\n",
              "    fill: var(--button-hover-fill-color);\n",
              "  }\n",
              "\n",
              "  .colab-df-quickchart-complete:disabled,\n",
              "  .colab-df-quickchart-complete:disabled:hover {\n",
              "    background-color: var(--disabled-bg-color);\n",
              "    fill: var(--disabled-fill-color);\n",
              "    box-shadow: none;\n",
              "  }\n",
              "\n",
              "  .colab-df-spinner {\n",
              "    border: 2px solid var(--fill-color);\n",
              "    border-color: transparent;\n",
              "    border-bottom-color: var(--fill-color);\n",
              "    animation:\n",
              "      spin 1s steps(1) infinite;\n",
              "  }\n",
              "\n",
              "  @keyframes spin {\n",
              "    0% {\n",
              "      border-color: transparent;\n",
              "      border-bottom-color: var(--fill-color);\n",
              "      border-left-color: var(--fill-color);\n",
              "    }\n",
              "    20% {\n",
              "      border-color: transparent;\n",
              "      border-left-color: var(--fill-color);\n",
              "      border-top-color: var(--fill-color);\n",
              "    }\n",
              "    30% {\n",
              "      border-color: transparent;\n",
              "      border-left-color: var(--fill-color);\n",
              "      border-top-color: var(--fill-color);\n",
              "      border-right-color: var(--fill-color);\n",
              "    }\n",
              "    40% {\n",
              "      border-color: transparent;\n",
              "      border-right-color: var(--fill-color);\n",
              "      border-top-color: var(--fill-color);\n",
              "    }\n",
              "    60% {\n",
              "      border-color: transparent;\n",
              "      border-right-color: var(--fill-color);\n",
              "    }\n",
              "    80% {\n",
              "      border-color: transparent;\n",
              "      border-right-color: var(--fill-color);\n",
              "      border-bottom-color: var(--fill-color);\n",
              "    }\n",
              "    90% {\n",
              "      border-color: transparent;\n",
              "      border-bottom-color: var(--fill-color);\n",
              "    }\n",
              "  }\n",
              "</style>\n",
              "\n",
              "  <script>\n",
              "    async function quickchart(key) {\n",
              "      const quickchartButtonEl =\n",
              "        document.querySelector('#' + key + ' button');\n",
              "      quickchartButtonEl.disabled = true;  // To prevent multiple clicks.\n",
              "      quickchartButtonEl.classList.add('colab-df-spinner');\n",
              "      try {\n",
              "        const charts = await google.colab.kernel.invokeFunction(\n",
              "            'suggestCharts', [key], {});\n",
              "      } catch (error) {\n",
              "        console.error('Error during call to suggestCharts:', error);\n",
              "      }\n",
              "      quickchartButtonEl.classList.remove('colab-df-spinner');\n",
              "      quickchartButtonEl.classList.add('colab-df-quickchart-complete');\n",
              "    }\n",
              "    (() => {\n",
              "      let quickchartButtonEl =\n",
              "        document.querySelector('#df-a87283f0-79b4-4948-b86c-ede55bf4959a button');\n",
              "      quickchartButtonEl.style.display =\n",
              "        google.colab.kernel.accessAllowed ? 'block' : 'none';\n",
              "    })();\n",
              "  </script>\n",
              "</div>\n",
              "    </div>\n",
              "  </div>\n"
            ],
            "application/vnd.google.colaboratory.intrinsic+json": {
              "type": "dataframe",
              "variable_name": "df"
            }
          },
          "metadata": {},
          "execution_count": 8
        }
      ],
      "source": [
        "df.head()"
      ]
    },
    {
      "cell_type": "code",
      "execution_count": 9,
      "metadata": {
        "tags": [],
        "colab": {
          "base_uri": "https://localhost:8080/"
        },
        "id": "jvwy1aiIPGwe",
        "outputId": "94e80924-d6d2-4642-b5dc-201e77ee69a7"
      },
      "outputs": [
        {
          "output_type": "execute_result",
          "data": {
            "text/plain": [
              "0    5000\n",
              "1      50\n",
              "Name: Class, dtype: int64"
            ]
          },
          "metadata": {},
          "execution_count": 9
        }
      ],
      "source": [
        "# Count the occurrences of fraud and no fraud and print them\n",
        "occ = df['Class'].value_counts()\n",
        "occ"
      ]
    },
    {
      "cell_type": "code",
      "execution_count": 10,
      "metadata": {
        "tags": [],
        "colab": {
          "base_uri": "https://localhost:8080/"
        },
        "id": "kIbv0O83PGwe",
        "outputId": "18e3806e-300a-47d9-c6c3-5fff57e67c81"
      },
      "outputs": [
        {
          "output_type": "stream",
          "name": "stdout",
          "text": [
            "Ratio of fraudulent cases: 0.009900990099009901\n",
            "Ratio of non-fraudulent cases: 0.9900990099009901\n"
          ]
        }
      ],
      "source": [
        "# Print the ratio of fraud cases\n",
        "ratio_cases = occ/len(df.index)\n",
        "print(f'Ratio of fraudulent cases: {ratio_cases[1]}\\nRatio of non-fraudulent cases: {ratio_cases[0]}')"
      ]
    },
    {
      "cell_type": "markdown",
      "metadata": {
        "id": "blY6qG3EPGwe"
      },
      "source": [
        "**The ratio of fraudulent transactions is very low. This is a case of class imbalance problem, and you're going to learn how to deal with this in the next exercises.**"
      ]
    },
    {
      "cell_type": "markdown",
      "metadata": {
        "id": "4ORknGa8PGwe"
      },
      "source": [
        "### Data visualization\n",
        "\n",
        "From the previous exercise we know that the ratio of fraud to non-fraud observations is very low. You can do something about that, for example by **re-sampling** our data, which is explained in the next video.\n",
        "\n",
        "In this exercise, you'll look at the data and **visualize the fraud to non-fraud ratio**. It is always a good starting point in your fraud analysis, to look at your data first, before you make any changes to it.\n",
        "\n",
        "Moreover, when talking to your colleagues, a picture often makes it very clear that we're dealing with heavily imbalanced data. Let's create a plot to visualize the ratio fraud to non-fraud data points on the dataset `df`.\n",
        "\n",
        "The function `prep_data()` is already loaded in your workspace, as well as `matplotlib.pyplot as plt`.\n",
        "\n",
        "**Instructions**\n",
        "\n",
        "* Define the `plot_data(X, y)` function, that will nicely plot the given feature set `X` with labels `y` in a scatter plot. This has been done for you.\n",
        "* Use the function `prep_data()` on your dataset `df` to create feature set `X` and labels `y`.\n",
        "* Run the function `plot_data()` on your newly obtained `X` and `y` to visualize your results."
      ]
    },
    {
      "cell_type": "markdown",
      "metadata": {
        "id": "sOhvSo_bPGwe"
      },
      "source": [
        "#### def prep_data"
      ]
    },
    {
      "cell_type": "code",
      "execution_count": 11,
      "metadata": {
        "tags": [],
        "id": "5GeKvBaAPGwe"
      },
      "outputs": [],
      "source": [
        "def prep_data(df: pd.DataFrame) -> (np.ndarray, np.ndarray):\n",
        "    \"\"\"\n",
        "    Convert the DataFrame into two variable\n",
        "    X: data columns (V1 - V28)\n",
        "    y: lable column\n",
        "    \"\"\"\n",
        "    X = df.iloc[:, 2:30].values\n",
        "    y = df.Class.values\n",
        "    return X, y"
      ]
    },
    {
      "cell_type": "markdown",
      "metadata": {
        "id": "jKk7CzO-PGwe"
      },
      "source": [
        "#### def plot_data"
      ]
    },
    {
      "cell_type": "code",
      "execution_count": 12,
      "metadata": {
        "tags": [],
        "id": "wQAjBsVpPGwe"
      },
      "outputs": [],
      "source": [
        "# Define a function to create a scatter plot of our data and labels\n",
        "def plot_data(X: np.ndarray, y: np.ndarray):\n",
        "    plt.scatter(X[y == 0, 0], X[y == 0, 1], label=\"Class #0\", alpha=0.5, linewidth=0.15)\n",
        "    plt.scatter(X[y == 1, 0], X[y == 1, 1], label=\"Class #1\", alpha=0.5, linewidth=0.15, c='r')\n",
        "    plt.legend()\n",
        "    return plt.show()"
      ]
    },
    {
      "cell_type": "code",
      "execution_count": 13,
      "metadata": {
        "tags": [],
        "id": "vRPnrgkpPGwe"
      },
      "outputs": [],
      "source": [
        "# Create X and y from the prep_data function\n",
        "X, y = prep_data(df)"
      ]
    },
    {
      "cell_type": "code",
      "execution_count": 14,
      "metadata": {
        "tags": [],
        "colab": {
          "base_uri": "https://localhost:8080/",
          "height": 432
        },
        "id": "WUX9trwrPGwe",
        "outputId": "208a7168-0750-4581-fbc8-a9c48931bfe0"
      },
      "outputs": [
        {
          "output_type": "display_data",
          "data": {
            "text/plain": [
              "<Figure size 640x480 with 1 Axes>"
            ],
            "image/png": "[encoded data removed]"
          },
          "metadata": {}
        }
      ],
      "source": [
        "# Plot our data by running our plot data function on X and y\n",
        "plot_data(X, y)"
      ]
    },
    {
      "cell_type": "markdown",
      "metadata": {
        "id": "iHhMrqWVPGwe"
      },
      "source": [
        "**By visualizing the data, you can immediately see how our fraud cases are scattered over our data, and how few cases we have. A picture often makes the imbalance problem clear. In the next exercises we'll visually explore how to improve our fraud to non-fraud balance.**"
      ]
    },
    {
      "cell_type": "markdown",
      "metadata": {
        "id": "y1RFTotFPGwe"
      },
      "source": [
        "#### Reproduced using the DataFrame"
      ]
    },
    {
      "cell_type": "code",
      "execution_count": 15,
      "metadata": {
        "tags": [],
        "colab": {
          "base_uri": "https://localhost:8080/",
          "height": 432
        },
        "id": "gqAOISgMPGwe",
        "outputId": "cd1a3515-ec50-438b-a495-c038f9182cc6"
      },
      "outputs": [
        {
          "output_type": "display_data",
          "data": {
            "text/plain": [
              "<Figure size 640x480 with 1 Axes>"
            ],
            "image/png": "[encoded data removed]"
          },
          "metadata": {}
        }
      ],
      "source": [
        "plt.scatter(df.V2[df.Class == 0], df.V3[df.Class == 0], label=\"Class #0\", alpha=0.5, linewidth=0.15)\n",
        "plt.scatter(df.V2[df.Class == 1], df.V3[df.Class == 1], label=\"Class #1\", alpha=0.5, linewidth=0.15, c='r')\n",
        "plt.legend()\n",
        "plt.show()"
      ]
    },
    {
      "cell_type": "markdown",
      "metadata": {
        "id": "tyDcp5sfPGwe"
      },
      "source": [
        "## Increase successful detections with data resampling\n",
        "\n",
        "* resampling can help model performance in cases of imbalanced data sets"
      ]
    },
    {
      "cell_type": "markdown",
      "metadata": {
        "id": "wC994rCvPGwe"
      },
      "source": [
        "#### Undersampling\n",
        "\n",
        "* ![undersampling](https://raw.githubusercontent.com/trenton3983/DataCamp/master/Images/fraud_detection/undersampling.JPG)\n",
        "* Undersampling the majority class (non-fraud cases)\n",
        "    * Straightforward method to adjust imbalanced data\n",
        "    * Take random draws from the non-fraud observations, to match the occurences of fraud observations (as shown in the picture)"
      ]
    },
    {
      "cell_type": "markdown",
      "metadata": {
        "id": "WOqqcHngPGwe"
      },
      "source": [
        "#### Oversampling\n",
        "\n",
        "* ![oversampling](https://raw.githubusercontent.com/trenton3983/DataCamp/master/Images/fraud_detection/oversampling.JPG)\n",
        "* Oversampling the minority class (fraud cases)\n",
        "    * Take random draws from the fraud cases and copy those observations to increase the amount of fraud samples\n",
        "* Both methods lead to having a balance between fraud and non-fraud cases\n",
        "* Drawbacks\n",
        "    * with random undersampling, a lot of information is thrown away\n",
        "    * with oversampling, the model will be trained on a lot of duplicates"
      ]
    },
    {
      "cell_type": "markdown",
      "metadata": {
        "id": "uDXf9BC9PGwe"
      },
      "source": [
        "#### Implement resampling methods using Python imblean module\n",
        "\n",
        "* compatible with scikit-learn\n",
        "\n",
        "```python\n",
        "from imblearn.over_sampling import RandomOverSampler\n",
        "\n",
        "method = RandomOverSampler()\n",
        "X_resampled, y_resampled =  method.fit_sample(X, y)\n",
        "\n",
        "compare_plots(X_resampled, y_resampled, X, y)\n",
        "```\n",
        "\n",
        "![oversampling plot](https://raw.githubusercontent.com/trenton3983/DataCamp/master/Images/fraud_detection/oversampling_plot.JPG)\n",
        "* The darker blue points reflect there are more identical data"
      ]
    },
    {
      "cell_type": "markdown",
      "metadata": {
        "id": "HP4COr3-PGwe"
      },
      "source": [
        "#### SMOTE\n",
        "\n",
        "* ![smote](https://raw.githubusercontent.com/trenton3983/DataCamp/master/Images/fraud_detection/smote.JPG)\n",
        "* Synthetic minority Oversampling Technique (SMOTE)\n",
        "    * [Resampling strategies for Imbalanced Data Sets](https://www.kaggle.com/rafjaa/resampling-strategies-for-imbalanced-datasets)\n",
        "    * Another way of adjusting the imbalance by oversampling minority observations\n",
        "    * SMOTE uses characteristics of nearest neighbors of fraud cases to create new synthetic fraud cases\n",
        "        * avoids duplicating observations"
      ]
    },
    {
      "cell_type": "markdown",
      "metadata": {
        "id": "YpidNhAGPGwf"
      },
      "source": [
        "#### Determining the best resampling method is situational\n",
        "\n",
        "* Random Undersampling (RUS):\n",
        "    * If there is a lot of data and many minority cases, then undersampling may be computationally more convenient\n",
        "        * In most cases, throwing away data is not desirable\n",
        "* Random Oversampling (ROS):\n",
        "    * Straightforward\n",
        "    * Training the model on many duplicates\n",
        "* SMOTE:\n",
        "    * more sophisticated\n",
        "    * realistic data set\n",
        "    * training on synthetic data\n",
        "    * only works well if the minority case features are similar\n",
        "        * **if fraud is spread through the data and not distinct, using nearest neighbors to create more fraud cases, introduces noise into the data, as the nearest neighbors might not be fraud cases**"
      ]
    },
    {
      "cell_type": "markdown",
      "metadata": {
        "id": "M6Brboq_PGwf"
      },
      "source": [
        "#### When to use resmapling methods\n",
        "\n",
        "* Use resampling methods on the training set, not on the test set\n",
        "* The goal is to produce a better model by providing balanced data\n",
        "    * The goal is not to predict the synthetic samples\n",
        "* Test data should be free of duplicates and synthetic data\n",
        "* Only test the model on real data\n",
        "    * First, spit the data into train and test sets\n",
        "    \n",
        "```python\n",
        "# Define resampling method and split into train and test\n",
        "method = SMOTE(kind='borderline1')\n",
        "X_train, X_test, y_train, y_test = train_test_split(X, y, train_size=0.8, random_state=0)\n",
        "\n",
        "# Apply resampling to the training data only\n",
        "X_resampled, y_resampled = method.fit_sample(X_train, y_train)\n",
        "\n",
        "# Continue fitting the model and obtain predictions\n",
        "model = LogisticRegression()\n",
        "model.fit(X_resampled, y_resampled)\n",
        "\n",
        "# Get model performance metrics\n",
        "predicted = model.predict(X_test)\n",
        "print(classification_report(y_test, predicted))\n",
        "```"
      ]
    },
    {
      "cell_type": "markdown",
      "metadata": {
        "id": "jWNL_b76PGwf"
      },
      "source": [
        "### Resampling methods for imbalanced data\n",
        "\n",
        "Which of these methods takes a random subsample of your majority class to account for class \"imbalancedness\"?\n",
        "\n",
        "**Possible Answers**\n",
        "\n",
        "* ~~Random Over Sampling (ROS)~~\n",
        "* **Random Under Sampling (RUS)**\n",
        "* ~~Synthetic Minority Over-sampling Technique (SMOTE)~~\n",
        "* ~~None of the above~~\n",
        "\n",
        "**By using ROS and SMOTE you add more examples to the minority class. RUS adjusts the balance of your data by reducing the majority class.**"
      ]
    },
    {
      "cell_type": "markdown",
      "metadata": {
        "id": "nZqFvQN8PGwf"
      },
      "source": [
        "### Applying Synthetic Minority Oversampling Technique (SMOTE)\n",
        "\n",
        "In this exercise, you're going to re-balance our data using the **Synthetic Minority Over-sampling Technique** (SMOTE). Unlike ROS, SMOTE does not create exact copies of observations, but **creates new, synthetic, samples** that are quite similar to the existing observations in the minority class. SMOTE is therefore slightly more sophisticated than just copying observations, so let's apply SMOTE to our credit card data. The dataset `df` is available and the packages you need for SMOTE are imported. In the following exercise, you'll visualize the result and compare it to the original data, such that you can see the effect of applying SMOTE very clearly.\n",
        "\n",
        "**Instructions**\n",
        "\n",
        "* Use the `prep_data` function on `df` to create features `X` and labels `y`.\n",
        "* Define the resampling method as SMOTE of the regular kind, under the variable `method`.\n",
        "* Use `.fit_sample()` on the original `X` and `y` to obtain newly resampled data.\n",
        "* Plot the resampled data using the `plot_data()` function."
      ]
    },
    {
      "cell_type": "code",
      "execution_count": 16,
      "metadata": {
        "tags": [],
        "id": "C41cP5_JPGwf"
      },
      "outputs": [],
      "source": [
        "# Run the prep_data function\n",
        "X, y = prep_data(df)"
      ]
    },
    {
      "cell_type": "code",
      "execution_count": 17,
      "metadata": {
        "tags": [],
        "colab": {
          "base_uri": "https://localhost:8080/"
        },
        "id": "Fr9SqaLyPGwf",
        "outputId": "3deeeca3-0abc-4684-ae09-4b955c8df200"
      },
      "outputs": [
        {
          "output_type": "stream",
          "name": "stdout",
          "text": [
            "X shape: (5050, 28)\n",
            "y shape: (5050,)\n"
          ]
        }
      ],
      "source": [
        "print(f'X shape: {X.shape}\\ny shape: {y.shape}')"
      ]
    },
    {
      "cell_type": "code",
      "execution_count": 18,
      "metadata": {
        "tags": [],
        "id": "I7ZP8MgkPGwf"
      },
      "outputs": [],
      "source": [
        "# Define the resampling method\n",
        "method = SMOTE()"
      ]
    },
    {
      "cell_type": "code",
      "execution_count": 19,
      "metadata": {
        "tags": [],
        "id": "DDU56ui1PGwf"
      },
      "outputs": [],
      "source": [
        "# Create the resampled feature set\n",
        "X_resampled, y_resampled = method.fit_resample(X, y)"
      ]
    },
    {
      "cell_type": "code",
      "execution_count": 20,
      "metadata": {
        "tags": [],
        "colab": {
          "base_uri": "https://localhost:8080/",
          "height": 432
        },
        "id": "4xYprNFpPGwf",
        "outputId": "3e535fdd-4530-4356-9be4-e98aa3250308"
      },
      "outputs": [
        {
          "output_type": "display_data",
          "data": {
            "text/plain": [
              "<Figure size 640x480 with 1 Axes>"
            ],
            "image/png": "[encoded data removed]"
          },
          "metadata": {}
        }
      ],
      "source": [
        "# Plot the resampled data\n",
        "plot_data(X_resampled, y_resampled)"
      ]
    },
    {
      "cell_type": "markdown",
      "metadata": {
        "id": "yuZmq7FFPGwf"
      },
      "source": [
        "**The minority class is now much more prominently visible in our data. To see the results of SMOTE even better, we'll compare it to the original data in the next exercise.**"
      ]
    },
    {
      "cell_type": "markdown",
      "metadata": {
        "id": "W37Wml13PGwf"
      },
      "source": [
        "### Compare SMOTE to original data\n",
        "\n",
        "In the last exercise, you saw that using SMOTE suddenly gives us more observations of the minority class. Let's compare those results to our original data, to get a good feeling for what has actually happened. Let's have a look at the value counts again of our old and new data, and let's plot the two scatter plots of the data side by side. You'll use the function compare_plot() for that that, which takes the following arguments: `X`, `y`, `X_resampled`, `y_resampled`, `method=''`. The function plots your original data in a scatter plot, along with the resampled side by side.\n",
        "\n",
        "**Instructions**\n",
        "\n",
        "* Print the value counts of our original labels, `y`. Be mindful that `y` is currently a Numpy array, so in order to use value counts, we'll assign `y` back as a pandas Series object.\n",
        "* Repeat the step and print the value counts on `y_resampled`. This shows you how the balance between the two classes has changed with SMOTE.\n",
        "* Use the `compare_plot()` function called on our original data as well our resampled data to see the scatterplots side by side."
      ]
    },
    {
      "cell_type": "code",
      "execution_count": 21,
      "metadata": {
        "tags": [],
        "colab": {
          "base_uri": "https://localhost:8080/"
        },
        "id": "mlHmZh2tPGwf",
        "outputId": "96325537-8b8c-4af0-e2a6-d439ed1b3c1b"
      },
      "outputs": [
        {
          "output_type": "execute_result",
          "data": {
            "text/plain": [
              "0    5000\n",
              "1      50\n",
              "dtype: int64"
            ]
          },
          "metadata": {},
          "execution_count": 21
        }
      ],
      "source": [
        "pd.value_counts(pd.Series(y))"
      ]
    },
    {
      "cell_type": "code",
      "execution_count": 22,
      "metadata": {
        "tags": [],
        "colab": {
          "base_uri": "https://localhost:8080/"
        },
        "id": "G6yAzTcGPGwf",
        "outputId": "e02c8a62-c750-43fa-c1b2-d7b164730d95"
      },
      "outputs": [
        {
          "output_type": "execute_result",
          "data": {
            "text/plain": [
              "0    5000\n",
              "1    5000\n",
              "dtype: int64"
            ]
          },
          "metadata": {},
          "execution_count": 22
        }
      ],
      "source": [
        "pd.value_counts(pd.Series(y_resampled))"
      ]
    },
    {
      "cell_type": "markdown",
      "metadata": {
        "id": "hl--KzT0PGwf"
      },
      "source": [
        "#### def compare_plot"
      ]
    },
    {
      "cell_type": "code",
      "execution_count": 23,
      "metadata": {
        "tags": [],
        "id": "ft8hqcdYPGwf"
      },
      "outputs": [],
      "source": [
        "def compare_plot(X: np.ndarray, y: np.ndarray, X_resampled: np.ndarray, y_resampled: np.ndarray, method: str):\n",
        "    plt.subplot(1, 2, 1)\n",
        "    plt.scatter(X[y == 0, 0], X[y == 0, 1], label=\"Class #0\", alpha=0.5, linewidth=0.15)\n",
        "    plt.scatter(X[y == 1, 0], X[y == 1, 1], label=\"Class #1\", alpha=0.5, linewidth=0.15, c='r')\n",
        "    plt.title('Original Set')\n",
        "    plt.subplot(1, 2, 2)\n",
        "    plt.scatter(X_resampled[y_resampled == 0, 0], X_resampled[y_resampled == 0, 1], label=\"Class #0\", alpha=0.5, linewidth=0.15)\n",
        "    plt.scatter(X_resampled[y_resampled == 1, 0], X_resampled[y_resampled == 1, 1], label=\"Class #1\", alpha=0.5, linewidth=0.15, c='r')\n",
        "    plt.title(method)\n",
        "    plt.legend()\n",
        "    plt.show()"
      ]
    },
    {
      "cell_type": "code",
      "execution_count": 24,
      "metadata": {
        "colab": {
          "base_uri": "https://localhost:8080/",
          "height": 452
        },
        "id": "g9HvGmbnPGwf",
        "outputId": "30c5441f-f8cf-481a-9b73-348853e4b087"
      },
      "outputs": [
        {
          "output_type": "display_data",
          "data": {
            "text/plain": [
              "<Figure size 640x480 with 2 Axes>"
            ],
            "image/png": "[encoded data removed]"
          },
          "metadata": {}
        }
      ],
      "source": [
        "compare_plot(X, y, X_resampled, y_resampled, method='SMOTE')"
      ]
    },
    {
      "cell_type": "markdown",
      "metadata": {
        "id": "GQ5LMbZiPGwg"
      },
      "source": [
        "**It should by now be clear that SMOTE has balanced our data completely, and that the minority class is now equal in size to the majority class. Visualizing the data shows the effect on the data very clearly. The next exercise will demonstrate multiple ways to implement SMOTE and that each method will have a slightly different effect.**"
      ]
    },
    {
      "cell_type": "markdown",
      "metadata": {
        "id": "p4PwPg2fPGwg"
      },
      "source": [
        "## Fraud detection algorithms in action"
      ]
    },
    {
      "cell_type": "markdown",
      "metadata": {
        "id": "FEQ5SowkPGwg"
      },
      "source": [
        "#### Rules Based Systems\n",
        "\n",
        "* ![rules based](https://raw.githubusercontent.com/trenton3983/DataCamp/master/Images/fraud_detection/rules_based.JPG)\n",
        "* Might block transactions from risky zip codes\n",
        "* Block transactions from cards used too frequently (e.g. last 30 minutes)\n",
        "* Can catch fraud, but also generates false alarms (false positive)\n",
        "* Limitations:\n",
        "    * Fixed threshold per rule and it's difficult to determine the threshold; they don't adapt over time\n",
        "    * Limited to yes / no outcomes, whereas ML yields a probability\n",
        "        * probability allows for fine-tuning the outcomes (i.e. rate of occurences of false positives and false negatives)\n",
        "    * Fails to capture interaction between features\n",
        "        * Ex. Size of the transaction only matters in combination to the frequency"
      ]
    },
    {
      "cell_type": "markdown",
      "metadata": {
        "id": "cH30FmPsPGwg"
      },
      "source": [
        "#### ML Based Systems\n",
        "\n",
        "* Adapt to the data, thus can change over time\n",
        "* Uses all the data combined, rather than a threshold per feature\n",
        "* Produces a probability, rather than a binary score\n",
        "* Typically have better performance and can be combined with rules"
      ]
    },
    {
      "cell_type": "code",
      "execution_count": 25,
      "metadata": {
        "tags": [],
        "id": "jyQ_7ZfUPGwg"
      },
      "outputs": [],
      "source": [
        "# Step 1: split the features and labels into train and test data\n",
        "X_train, X_test, y_train, y_test = train_test_split(X, y, test_size=0.2)"
      ]
    },
    {
      "cell_type": "code",
      "execution_count": 26,
      "metadata": {
        "tags": [],
        "id": "68shylDaPGwg"
      },
      "outputs": [],
      "source": [
        "# Step 2: Define which model to use\n",
        "model = LinearRegression()"
      ]
    },
    {
      "cell_type": "code",
      "execution_count": 27,
      "metadata": {
        "tags": [],
        "colab": {
          "base_uri": "https://localhost:8080/",
          "height": 75
        },
        "id": "s8O72ScxPGwg",
        "outputId": "e8306099-fd8a-4d1b-f3db-66784896e422"
      },
      "outputs": [
        {
          "output_type": "execute_result",
          "data": {
            "text/plain": [
              "LinearRegression()"
            ],
            "text/html": [
              "<style>#sk-container-id-1 {color: black;background-color: white;}#sk-container-id-1 pre{padding: 0;}#sk-container-id-1 div.sk-toggleable {background-color: white;}#sk-container-id-1 label.sk-toggleable__label {cursor: pointer;display: block;width: 100%;margin-bottom: 0;padding: 0.3em;box-sizing: border-box;text-align: center;}#sk-container-id-1 label.sk-toggleable__label-arrow:before {content: \"▸\";float: left;margin-right: 0.25em;color: #696969;}#sk-container-id-1 label.sk-toggleable__label-arrow:hover:before {color: black;}#sk-container-id-1 div.sk-estimator:hover label.sk-toggleable__label-arrow:before {color: black;}#sk-container-id-1 div.sk-toggleable__content {max-height: 0;max-width: 0;overflow: hidden;text-align: left;background-color: #f0f8ff;}#sk-container-id-1 div.sk-toggleable__content pre {margin: 0.2em;color: black;border-radius: 0.25em;background-color: #f0f8ff;}#sk-container-id-1 input.sk-toggleable__control:checked~div.sk-toggleable__content {max-height: 200px;max-width: 100%;overflow: auto;}#sk-container-id-1 input.sk-toggleable__control:checked~label.sk-toggleable__label-arrow:before {content: \"▾\";}#sk-container-id-1 div.sk-estimator input.sk-toggleable__control:checked~label.sk-toggleable__label {background-color: #d4ebff;}#sk-container-id-1 div.sk-label input.sk-toggleable__control:checked~label.sk-toggleable__label {background-color: #d4ebff;}#sk-container-id-1 input.sk-hidden--visually {border: 0;clip: rect(1px 1px 1px 1px);clip: rect(1px, 1px, 1px, 1px);height: 1px;margin: -1px;overflow: hidden;padding: 0;position: absolute;width: 1px;}#sk-container-id-1 div.sk-estimator {font-family: monospace;background-color: #f0f8ff;border: 1px dotted black;border-radius: 0.25em;box-sizing: border-box;margin-bottom: 0.5em;}#sk-container-id-1 div.sk-estimator:hover {background-color: #d4ebff;}#sk-container-id-1 div.sk-parallel-item::after {content: \"\";width: 100%;border-bottom: 1px solid gray;flex-grow: 1;}#sk-container-id-1 div.sk-label:hover label.sk-toggleable__label {background-color: #d4ebff;}#sk-container-id-1 div.sk-serial::before {content: \"\";position: absolute;border-left: 1px solid gray;box-sizing: border-box;top: 0;bottom: 0;left: 50%;z-index: 0;}#sk-container-id-1 div.sk-serial {display: flex;flex-direction: column;align-items: center;background-color: white;padding-right: 0.2em;padding-left: 0.2em;position: relative;}#sk-container-id-1 div.sk-item {position: relative;z-index: 1;}#sk-container-id-1 div.sk-parallel {display: flex;align-items: stretch;justify-content: center;background-color: white;position: relative;}#sk-container-id-1 div.sk-item::before, #sk-container-id-1 div.sk-parallel-item::before {content: \"\";position: absolute;border-left: 1px solid gray;box-sizing: border-box;top: 0;bottom: 0;left: 50%;z-index: -1;}#sk-container-id-1 div.sk-parallel-item {display: flex;flex-direction: column;z-index: 1;position: relative;background-color: white;}#sk-container-id-1 div.sk-parallel-item:first-child::after {align-self: flex-end;width: 50%;}#sk-container-id-1 div.sk-parallel-item:last-child::after {align-self: flex-start;width: 50%;}#sk-container-id-1 div.sk-parallel-item:only-child::after {width: 0;}#sk-container-id-1 div.sk-dashed-wrapped {border: 1px dashed gray;margin: 0 0.4em 0.5em 0.4em;box-sizing: border-box;padding-bottom: 0.4em;background-color: white;}#sk-container-id-1 div.sk-label label {font-family: monospace;font-weight: bold;display: inline-block;line-height: 1.2em;}#sk-container-id-1 div.sk-label-container {text-align: center;}#sk-container-id-1 div.sk-container {/* jupyter's `normalize.less` sets `[hidden] { display: none; }` but bootstrap.min.css set `[hidden] { display: none !important; }` so we also need the `!important` here to be able to override the default hidden behavior on the sphinx rendered scikit-learn.org. See: https://github.com/scikit-learn/scikit-learn/issues/21755 */display: inline-block !important;position: relative;}#sk-container-id-1 div.sk-text-repr-fallback {display: none;}</style><div id=\"sk-container-id-1\" class=\"sk-top-container\"><div class=\"sk-text-repr-fallback\"><pre>LinearRegression()</pre><b>In a Jupyter environment, please rerun this cell to show the HTML representation or trust the notebook. <br />On GitHub, the HTML representation is unable to render, please try loading this page with nbviewer.org.</b></div><div class=\"sk-container\" hidden><div class=\"sk-item\"><div class=\"sk-estimator sk-toggleable\"><input class=\"sk-toggleable__control sk-hidden--visually\" id=\"sk-estimator-id-1\" type=\"checkbox\" checked><label for=\"sk-estimator-id-1\" class=\"sk-toggleable__label sk-toggleable__label-arrow\">LinearRegression</label><div class=\"sk-toggleable__content\"><pre>LinearRegression()</pre></div></div></div></div></div>"
            ]
          },
          "metadata": {},
          "execution_count": 27
        }
      ],
      "source": [
        "# Step 3: Fit the model to the training data\n",
        "model.fit(X_train, y_train)"
      ]
    },
    {
      "cell_type": "code",
      "execution_count": 28,
      "metadata": {
        "tags": [],
        "id": "CQT-PXEEPGwg"
      },
      "outputs": [],
      "source": [
        "# Step 4: Obtain model predictions from the test data\n",
        "y_predicted = model.predict(X_test)"
      ]
    },
    {
      "cell_type": "code",
      "execution_count": 29,
      "metadata": {
        "tags": [],
        "colab": {
          "base_uri": "https://localhost:8080/"
        },
        "id": "-7c_rRW8PGwg",
        "outputId": "6ff72622-b5ca-43d8-b0b9-97ce4fe58b87"
      },
      "outputs": [
        {
          "output_type": "execute_result",
          "data": {
            "text/plain": [
              "0.7047185460884418"
            ]
          },
          "metadata": {},
          "execution_count": 29
        }
      ],
      "source": [
        "# Step 5: Compare y_test to predictions and obtain performance metrics (r^2 score)\n",
        "r2_score(y_test, y_predicted)"
      ]
    },
    {
      "cell_type": "markdown",
      "metadata": {
        "id": "Ldrd1xuiPGwg"
      },
      "source": [
        "### Exploring the traditional method of fraud detection\n",
        "\n",
        "In this exercise you're going to try finding fraud cases in our credit card dataset the *\"old way\"*. First you'll define threshold values using common statistics, to split fraud and non-fraud. Then, use those thresholds on your features to detect fraud. This is common practice within fraud analytics teams.\n",
        "\n",
        "Statistical thresholds are often determined by looking at the **mean** values of observations. Let's start this exercise by checking whether feature **means differ between fraud and non-fraud cases**. Then, you'll use that information to create common sense thresholds. Finally, you'll check how well this performs in fraud detection.\n",
        "\n",
        "`pandas` has already been imported as `pd`.\n",
        "\n",
        "**Instructions**\n",
        "\n",
        "* Use `groupby()` to group `df` on `Class` and obtain the mean of the features.\n",
        "* Create the condition `V1` smaller than -3, and `V3` smaller than -5 as a condition to flag fraud cases.\n",
        "* As a measure of performance, use the `crosstab` function from `pandas` to compare our flagged fraud cases to actual fraud cases."
      ]
    },
    {
      "cell_type": "code",
      "execution_count": 30,
      "metadata": {
        "tags": [],
        "id": "IUnFkHP2PGwg"
      },
      "outputs": [],
      "source": [
        "df.drop(['Unnamed: 0'], axis=1, inplace=True)"
      ]
    },
    {
      "cell_type": "code",
      "execution_count": 31,
      "metadata": {
        "tags": [],
        "colab": {
          "base_uri": "https://localhost:8080/",
          "height": 163
        },
        "id": "7MpHLmgbPGwg",
        "outputId": "018c0475-0fe8-4e74-b942-b1e12e9caf95"
      },
      "outputs": [
        {
          "output_type": "execute_result",
          "data": {
            "text/plain": [
              "             V1        V2        V3        V4        V5        V6        V7  \\\n",
              "Class                                                                         \n",
              "0      0.035030  0.011553  0.037444 -0.045760 -0.013825 -0.030885  0.014315   \n",
              "1     -4.985211  3.321539 -7.293909  4.827952 -3.326587 -1.591882 -5.776541   \n",
              "\n",
              "             V8        V9       V10       V11       V12       V13       V14  \\\n",
              "Class                                                                         \n",
              "0     -0.022432 -0.002227  0.001667 -0.004511  0.017434  0.004204  0.006542   \n",
              "1      1.395058 -2.537728 -5.917934  4.020563 -7.032865 -0.104179 -7.100399   \n",
              "\n",
              "            V15       V16       V17       V18       V19       V20       V21  \\\n",
              "Class                                                                         \n",
              "0     -0.026640  0.001190  0.004481 -0.010892 -0.016554 -0.002896 -0.010583   \n",
              "1     -0.120265 -4.658854 -7.589219 -2.650436  0.894255  0.194580  0.703182   \n",
              "\n",
              "            V22       V23       V24       V25       V26       V27       V28  \\\n",
              "Class                                                                         \n",
              "0     -0.010206 -0.003305 -0.000918 -0.002613 -0.004651 -0.009584  0.002414   \n",
              "1      0.069065 -0.088374 -0.029425 -0.073336 -0.023377  0.380072  0.009304   \n",
              "\n",
              "           Amount  \n",
              "Class              \n",
              "0       85.843714  \n",
              "1      113.469000  "
            ],
            "text/html": [
              "\n",
              "  <div id=\"df-d2654b53-8bd4-4ed3-8ac6-c8ef2d3fbb85\" class=\"colab-df-container\">\n",
              "    <div>\n",
              "<style scoped>\n",
              "    .dataframe tbody tr th:only-of-type {\n",
              "        vertical-align: middle;\n",
              "    }\n",
              "\n",
              "    .dataframe tbody tr th {\n",
              "        vertical-align: top;\n",
              "    }\n",
              "\n",
              "    .dataframe thead th {\n",
              "        text-align: right;\n",
              "    }\n",
              "</style>\n",
              "<table border=\"1\" class=\"dataframe\">\n",
              "  <thead>\n",
              "    <tr style=\"text-align: right;\">\n",
              "      <th></th>\n",
              "      <th>V1</th>\n",
              "      <th>V2</th>\n",
              "      <th>V3</th>\n",
              "      <th>V4</th>\n",
              "      <th>V5</th>\n",
              "      <th>V6</th>\n",
              "      <th>V7</th>\n",
              "      <th>V8</th>\n",
              "      <th>V9</th>\n",
              "      <th>V10</th>\n",
              "      <th>V11</th>\n",
              "      <th>V12</th>\n",
              "      <th>V13</th>\n",
              "      <th>V14</th>\n",
              "      <th>V15</th>\n",
              "      <th>V16</th>\n",
              "      <th>V17</th>\n",
              "      <th>V18</th>\n",
              "      <th>V19</th>\n",
              "      <th>V20</th>\n",
              "      <th>V21</th>\n",
              "      <th>V22</th>\n",
              "      <th>V23</th>\n",
              "      <th>V24</th>\n",
              "      <th>V25</th>\n",
              "      <th>V26</th>\n",
              "      <th>V27</th>\n",
              "      <th>V28</th>\n",
              "      <th>Amount</th>\n",
              "    </tr>\n",
              "    <tr>\n",
              "      <th>Class</th>\n",
              "      <th></th>\n",
              "      <th></th>\n",
              "      <th></th>\n",
              "      <th></th>\n",
              "      <th></th>\n",
              "      <th></th>\n",
              "      <th></th>\n",
              "      <th></th>\n",
              "      <th></th>\n",
              "      <th></th>\n",
              "      <th></th>\n",
              "      <th></th>\n",
              "      <th></th>\n",
              "      <th></th>\n",
              "      <th></th>\n",
              "      <th></th>\n",
              "      <th></th>\n",
              "      <th></th>\n",
              "      <th></th>\n",
              "      <th></th>\n",
              "      <th></th>\n",
              "      <th></th>\n",
              "      <th></th>\n",
              "      <th></th>\n",
              "      <th></th>\n",
              "      <th></th>\n",
              "      <th></th>\n",
              "      <th></th>\n",
              "      <th></th>\n",
              "    </tr>\n",
              "  </thead>\n",
              "  <tbody>\n",
              "    <tr>\n",
              "      <th>0</th>\n",
              "      <td>0.035030</td>\n",
              "      <td>0.011553</td>\n",
              "      <td>0.037444</td>\n",
              "      <td>-0.045760</td>\n",
              "      <td>-0.013825</td>\n",
              "      <td>-0.030885</td>\n",
              "      <td>0.014315</td>\n",
              "      <td>-0.022432</td>\n",
              "      <td>-0.002227</td>\n",
              "      <td>0.001667</td>\n",
              "      <td>-0.004511</td>\n",
              "      <td>0.017434</td>\n",
              "      <td>0.004204</td>\n",
              "      <td>0.006542</td>\n",
              "      <td>-0.026640</td>\n",
              "      <td>0.001190</td>\n",
              "      <td>0.004481</td>\n",
              "      <td>-0.010892</td>\n",
              "      <td>-0.016554</td>\n",
              "      <td>-0.002896</td>\n",
              "      <td>-0.010583</td>\n",
              "      <td>-0.010206</td>\n",
              "      <td>-0.003305</td>\n",
              "      <td>-0.000918</td>\n",
              "      <td>-0.002613</td>\n",
              "      <td>-0.004651</td>\n",
              "      <td>-0.009584</td>\n",
              "      <td>0.002414</td>\n",
              "      <td>85.843714</td>\n",
              "    </tr>\n",
              "    <tr>\n",
              "      <th>1</th>\n",
              "      <td>-4.985211</td>\n",
              "      <td>3.321539</td>\n",
              "      <td>-7.293909</td>\n",
              "      <td>4.827952</td>\n",
              "      <td>-3.326587</td>\n",
              "      <td>-1.591882</td>\n",
              "      <td>-5.776541</td>\n",
              "      <td>1.395058</td>\n",
              "      <td>-2.537728</td>\n",
              "      <td>-5.917934</td>\n",
              "      <td>4.020563</td>\n",
              "      <td>-7.032865</td>\n",
              "      <td>-0.104179</td>\n",
              "      <td>-7.100399</td>\n",
              "      <td>-0.120265</td>\n",
              "      <td>-4.658854</td>\n",
              "      <td>-7.589219</td>\n",
              "      <td>-2.650436</td>\n",
              "      <td>0.894255</td>\n",
              "      <td>0.194580</td>\n",
              "      <td>0.703182</td>\n",
              "      <td>0.069065</td>\n",
              "      <td>-0.088374</td>\n",
              "      <td>-0.029425</td>\n",
              "      <td>-0.073336</td>\n",
              "      <td>-0.023377</td>\n",
              "      <td>0.380072</td>\n",
              "      <td>0.009304</td>\n",
              "      <td>113.469000</td>\n",
              "    </tr>\n",
              "  </tbody>\n",
              "</table>\n",
              "</div>\n",
              "    <div class=\"colab-df-buttons\">\n",
              "\n",
              "  <div class=\"colab-df-container\">\n",
              "    <button class=\"colab-df-convert\" onclick=\"convertToInteractive('df-d2654b53-8bd4-4ed3-8ac6-c8ef2d3fbb85')\"\n",
              "            title=\"Convert this dataframe to an interactive table.\"\n",
              "            style=\"display:none;\">\n",
              "\n",
              "  <svg xmlns=\"http://www.w3.org/2000/svg\" height=\"24px\" viewBox=\"0 -960 960 960\">\n",
              "    <path d=\"M120-120v-720h720v720H120Zm60-500h600v-160H180v160Zm220 220h160v-160H400v160Zm0 220h160v-160H400v160ZM180-400h160v-160H180v160Zm440 0h160v-160H620v160ZM180-180h160v-160H180v160Zm440 0h160v-160H620v160Z\"/>\n",
              "  </svg>\n",
              "    </button>\n",
              "\n",
              "  <style>\n",
              "    .colab-df-container {\n",
              "      display:flex;\n",
              "      gap: 12px;\n",
              "    }\n",
              "\n",
              "    .colab-df-convert {\n",
              "      background-color: #E8F0FE;\n",
              "      border: none;\n",
              "      border-radius: 50%;\n",
              "      cursor: pointer;\n",
              "      display: none;\n",
              "      fill: #1967D2;\n",
              "      height: 32px;\n",
              "      padding: 0 0 0 0;\n",
              "      width: 32px;\n",
              "    }\n",
              "\n",
              "    .colab-df-convert:hover {\n",
              "      background-color: #E2EBFA;\n",
              "      box-shadow: 0px 1px 2px rgba(60, 64, 67, 0.3), 0px 1px 3px 1px rgba(60, 64, 67, 0.15);\n",
              "      fill: #174EA6;\n",
              "    }\n",
              "\n",
              "    .colab-df-buttons div {\n",
              "      margin-bottom: 4px;\n",
              "    }\n",
              "\n",
              "    [theme=dark] .colab-df-convert {\n",
              "      background-color: #3B4455;\n",
              "      fill: #D2E3FC;\n",
              "    }\n",
              "\n",
              "    [theme=dark] .colab-df-convert:hover {\n",
              "      background-color: #434B5C;\n",
              "      box-shadow: 0px 1px 3px 1px rgba(0, 0, 0, 0.15);\n",
              "      filter: drop-shadow(0px 1px 2px rgba(0, 0, 0, 0.3));\n",
              "      fill: #FFFFFF;\n",
              "    }\n",
              "  </style>\n",
              "\n",
              "    <script>\n",
              "      const buttonEl =\n",
              "        document.querySelector('#df-d2654b53-8bd4-4ed3-8ac6-c8ef2d3fbb85 button.colab-df-convert');\n",
              "      buttonEl.style.display =\n",
              "        google.colab.kernel.accessAllowed ? 'block' : 'none';\n",
              "\n",
              "      async function convertToInteractive(key) {\n",
              "        const element = document.querySelector('#df-d2654b53-8bd4-4ed3-8ac6-c8ef2d3fbb85');\n",
              "        const dataTable =\n",
              "          await google.colab.kernel.invokeFunction('convertToInteractive',\n",
              "                                                    [key], {});\n",
              "        if (!dataTable) return;\n",
              "\n",
              "        const docLinkHtml = 'Like what you see? Visit the ' +\n",
              "          '<a target=\"_blank\" href=https://colab.research.google.com/notebooks/data_table.ipynb>data table notebook</a>'\n",
              "          + ' to learn more about interactive tables.';\n",
              "        element.innerHTML = '';\n",
              "        dataTable['output_type'] = 'display_data';\n",
              "        await google.colab.output.renderOutput(dataTable, element);\n",
              "        const docLink = document.createElement('div');\n",
              "        docLink.innerHTML = docLinkHtml;\n",
              "        element.appendChild(docLink);\n",
              "      }\n",
              "    </script>\n",
              "  </div>\n",
              "\n",
              "\n",
              "<div id=\"df-9f2fa5b1-e2db-4ec0-9eee-ccba0e19d5ca\">\n",
              "  <button class=\"colab-df-quickchart\" onclick=\"quickchart('df-9f2fa5b1-e2db-4ec0-9eee-ccba0e19d5ca')\"\n",
              "            title=\"Suggest charts\"\n",
              "            style=\"display:none;\">\n",
              "\n",
              "<svg xmlns=\"http://www.w3.org/2000/svg\" height=\"24px\"viewBox=\"0 0 24 24\"\n",
              "     width=\"24px\">\n",
              "    <g>\n",
              "        <path d=\"M19 3H5c-1.1 0-2 .9-2 2v14c0 1.1.9 2 2 2h14c1.1 0 2-.9 2-2V5c0-1.1-.9-2-2-2zM9 17H7v-7h2v7zm4 0h-2V7h2v10zm4 0h-2v-4h2v4z\"/>\n",
              "    </g>\n",
              "</svg>\n",
              "  </button>\n",
              "\n",
              "<style>\n",
              "  .colab-df-quickchart {\n",
              "      --bg-color: #E8F0FE;\n",
              "      --fill-color: #1967D2;\n",
              "      --hover-bg-color: #E2EBFA;\n",
              "      --hover-fill-color: #174EA6;\n",
              "      --disabled-fill-color: #AAA;\n",
              "      --disabled-bg-color: #DDD;\n",
              "  }\n",
              "\n",
              "  [theme=dark] .colab-df-quickchart {\n",
              "      --bg-color: #3B4455;\n",
              "      --fill-color: #D2E3FC;\n",
              "      --hover-bg-color: #434B5C;\n",
              "      --hover-fill-color: #FFFFFF;\n",
              "      --disabled-bg-color: #3B4455;\n",
              "      --disabled-fill-color: #666;\n",
              "  }\n",
              "\n",
              "  .colab-df-quickchart {\n",
              "    background-color: var(--bg-color);\n",
              "    border: none;\n",
              "    border-radius: 50%;\n",
              "    cursor: pointer;\n",
              "    display: none;\n",
              "    fill: var(--fill-color);\n",
              "    height: 32px;\n",
              "    padding: 0;\n",
              "    width: 32px;\n",
              "  }\n",
              "\n",
              "  .colab-df-quickchart:hover {\n",
              "    background-color: var(--hover-bg-color);\n",
              "    box-shadow: 0 1px 2px rgba(60, 64, 67, 0.3), 0 1px 3px 1px rgba(60, 64, 67, 0.15);\n",
              "    fill: var(--button-hover-fill-color);\n",
              "  }\n",
              "\n",
              "  .colab-df-quickchart-complete:disabled,\n",
              "  .colab-df-quickchart-complete:disabled:hover {\n",
              "    background-color: var(--disabled-bg-color);\n",
              "    fill: var(--disabled-fill-color);\n",
              "    box-shadow: none;\n",
              "  }\n",
              "\n",
              "  .colab-df-spinner {\n",
              "    border: 2px solid var(--fill-color);\n",
              "    border-color: transparent;\n",
              "    border-bottom-color: var(--fill-color);\n",
              "    animation:\n",
              "      spin 1s steps(1) infinite;\n",
              "  }\n",
              "\n",
              "  @keyframes spin {\n",
              "    0% {\n",
              "      border-color: transparent;\n",
              "      border-bottom-color: var(--fill-color);\n",
              "      border-left-color: var(--fill-color);\n",
              "    }\n",
              "    20% {\n",
              "      border-color: transparent;\n",
              "      border-left-color: var(--fill-color);\n",
              "      border-top-color: var(--fill-color);\n",
              "    }\n",
              "    30% {\n",
              "      border-color: transparent;\n",
              "      border-left-color: var(--fill-color);\n",
              "      border-top-color: var(--fill-color);\n",
              "      border-right-color: var(--fill-color);\n",
              "    }\n",
              "    40% {\n",
              "      border-color: transparent;\n",
              "      border-right-color: var(--fill-color);\n",
              "      border-top-color: var(--fill-color);\n",
              "    }\n",
              "    60% {\n",
              "      border-color: transparent;\n",
              "      border-right-color: var(--fill-color);\n",
              "    }\n",
              "    80% {\n",
              "      border-color: transparent;\n",
              "      border-right-color: var(--fill-color);\n",
              "      border-bottom-color: var(--fill-color);\n",
              "    }\n",
              "    90% {\n",
              "      border-color: transparent;\n",
              "      border-bottom-color: var(--fill-color);\n",
              "    }\n",
              "  }\n",
              "</style>\n",
              "\n",
              "  <script>\n",
              "    async function quickchart(key) {\n",
              "      const quickchartButtonEl =\n",
              "        document.querySelector('#' + key + ' button');\n",
              "      quickchartButtonEl.disabled = true;  // To prevent multiple clicks.\n",
              "      quickchartButtonEl.classList.add('colab-df-spinner');\n",
              "      try {\n",
              "        const charts = await google.colab.kernel.invokeFunction(\n",
              "            'suggestCharts', [key], {});\n",
              "      } catch (error) {\n",
              "        console.error('Error during call to suggestCharts:', error);\n",
              "      }\n",
              "      quickchartButtonEl.classList.remove('colab-df-spinner');\n",
              "      quickchartButtonEl.classList.add('colab-df-quickchart-complete');\n",
              "    }\n",
              "    (() => {\n",
              "      let quickchartButtonEl =\n",
              "        document.querySelector('#df-9f2fa5b1-e2db-4ec0-9eee-ccba0e19d5ca button');\n",
              "      quickchartButtonEl.style.display =\n",
              "        google.colab.kernel.accessAllowed ? 'block' : 'none';\n",
              "    })();\n",
              "  </script>\n",
              "</div>\n",
              "    </div>\n",
              "  </div>\n"
            ],
            "application/vnd.google.colaboratory.intrinsic+json": {
              "type": "dataframe"
            }
          },
          "metadata": {},
          "execution_count": 31
        }
      ],
      "source": [
        "df.groupby('Class').mean()"
      ]
    },
    {
      "cell_type": "code",
      "execution_count": 32,
      "metadata": {
        "tags": [],
        "id": "OF53R5nfPGwg"
      },
      "outputs": [],
      "source": [
        "df['flag_as_fraud'] = np.where(np.logical_and(df.V1 < -3, df.V3 < -5), 1, 0)"
      ]
    },
    {
      "cell_type": "code",
      "execution_count": 33,
      "metadata": {
        "tags": [],
        "colab": {
          "base_uri": "https://localhost:8080/",
          "height": 143
        },
        "id": "hy84Wv8wPGwg",
        "outputId": "3ee63311-133e-4639-91c3-9881e42e3a4c"
      },
      "outputs": [
        {
          "output_type": "execute_result",
          "data": {
            "text/plain": [
              "Flagged Fraud     0   1\n",
              "Actual Fraud           \n",
              "0              4984  16\n",
              "1                28  22"
            ],
            "text/html": [
              "\n",
              "  <div id=\"df-4c2531b5-e665-4b51-97a7-e61e4c2304b0\" class=\"colab-df-container\">\n",
              "    <div>\n",
              "<style scoped>\n",
              "    .dataframe tbody tr th:only-of-type {\n",
              "        vertical-align: middle;\n",
              "    }\n",
              "\n",
              "    .dataframe tbody tr th {\n",
              "        vertical-align: top;\n",
              "    }\n",
              "\n",
              "    .dataframe thead th {\n",
              "        text-align: right;\n",
              "    }\n",
              "</style>\n",
              "<table border=\"1\" class=\"dataframe\">\n",
              "  <thead>\n",
              "    <tr style=\"text-align: right;\">\n",
              "      <th>Flagged Fraud</th>\n",
              "      <th>0</th>\n",
              "      <th>1</th>\n",
              "    </tr>\n",
              "    <tr>\n",
              "      <th>Actual Fraud</th>\n",
              "      <th></th>\n",
              "      <th></th>\n",
              "    </tr>\n",
              "  </thead>\n",
              "  <tbody>\n",
              "    <tr>\n",
              "      <th>0</th>\n",
              "      <td>4984</td>\n",
              "      <td>16</td>\n",
              "    </tr>\n",
              "    <tr>\n",
              "      <th>1</th>\n",
              "      <td>28</td>\n",
              "      <td>22</td>\n",
              "    </tr>\n",
              "  </tbody>\n",
              "</table>\n",
              "</div>\n",
              "    <div class=\"colab-df-buttons\">\n",
              "\n",
              "  <div class=\"colab-df-container\">\n",
              "    <button class=\"colab-df-convert\" onclick=\"convertToInteractive('df-4c2531b5-e665-4b51-97a7-e61e4c2304b0')\"\n",
              "            title=\"Convert this dataframe to an interactive table.\"\n",
              "            style=\"display:none;\">\n",
              "\n",
              "  <svg xmlns=\"http://www.w3.org/2000/svg\" height=\"24px\" viewBox=\"0 -960 960 960\">\n",
              "    <path d=\"M120-120v-720h720v720H120Zm60-500h600v-160H180v160Zm220 220h160v-160H400v160Zm0 220h160v-160H400v160ZM180-400h160v-160H180v160Zm440 0h160v-160H620v160ZM180-180h160v-160H180v160Zm440 0h160v-160H620v160Z\"/>\n",
              "  </svg>\n",
              "    </button>\n",
              "\n",
              "  <style>\n",
              "    .colab-df-container {\n",
              "      display:flex;\n",
              "      gap: 12px;\n",
              "    }\n",
              "\n",
              "    .colab-df-convert {\n",
              "      background-color: #E8F0FE;\n",
              "      border: none;\n",
              "      border-radius: 50%;\n",
              "      cursor: pointer;\n",
              "      display: none;\n",
              "      fill: #1967D2;\n",
              "      height: 32px;\n",
              "      padding: 0 0 0 0;\n",
              "      width: 32px;\n",
              "    }\n",
              "\n",
              "    .colab-df-convert:hover {\n",
              "      background-color: #E2EBFA;\n",
              "      box-shadow: 0px 1px 2px rgba(60, 64, 67, 0.3), 0px 1px 3px 1px rgba(60, 64, 67, 0.15);\n",
              "      fill: #174EA6;\n",
              "    }\n",
              "\n",
              "    .colab-df-buttons div {\n",
              "      margin-bottom: 4px;\n",
              "    }\n",
              "\n",
              "    [theme=dark] .colab-df-convert {\n",
              "      background-color: #3B4455;\n",
              "      fill: #D2E3FC;\n",
              "    }\n",
              "\n",
              "    [theme=dark] .colab-df-convert:hover {\n",
              "      background-color: #434B5C;\n",
              "      box-shadow: 0px 1px 3px 1px rgba(0, 0, 0, 0.15);\n",
              "      filter: drop-shadow(0px 1px 2px rgba(0, 0, 0, 0.3));\n",
              "      fill: #FFFFFF;\n",
              "    }\n",
              "  </style>\n",
              "\n",
              "    <script>\n",
              "      const buttonEl =\n",
              "        document.querySelector('#df-4c2531b5-e665-4b51-97a7-e61e4c2304b0 button.colab-df-convert');\n",
              "      buttonEl.style.display =\n",
              "        google.colab.kernel.accessAllowed ? 'block' : 'none';\n",
              "\n",
              "      async function convertToInteractive(key) {\n",
              "        const element = document.querySelector('#df-4c2531b5-e665-4b51-97a7-e61e4c2304b0');\n",
              "        const dataTable =\n",
              "          await google.colab.kernel.invokeFunction('convertToInteractive',\n",
              "                                                    [key], {});\n",
              "        if (!dataTable) return;\n",
              "\n",
              "        const docLinkHtml = 'Like what you see? Visit the ' +\n",
              "          '<a target=\"_blank\" href=https://colab.research.google.com/notebooks/data_table.ipynb>data table notebook</a>'\n",
              "          + ' to learn more about interactive tables.';\n",
              "        element.innerHTML = '';\n",
              "        dataTable['output_type'] = 'display_data';\n",
              "        await google.colab.output.renderOutput(dataTable, element);\n",
              "        const docLink = document.createElement('div');\n",
              "        docLink.innerHTML = docLinkHtml;\n",
              "        element.appendChild(docLink);\n",
              "      }\n",
              "    </script>\n",
              "  </div>\n",
              "\n",
              "\n",
              "<div id=\"df-f8901ed8-acd2-457a-88b0-933b6332ec2d\">\n",
              "  <button class=\"colab-df-quickchart\" onclick=\"quickchart('df-f8901ed8-acd2-457a-88b0-933b6332ec2d')\"\n",
              "            title=\"Suggest charts\"\n",
              "            style=\"display:none;\">\n",
              "\n",
              "<svg xmlns=\"http://www.w3.org/2000/svg\" height=\"24px\"viewBox=\"0 0 24 24\"\n",
              "     width=\"24px\">\n",
              "    <g>\n",
              "        <path d=\"M19 3H5c-1.1 0-2 .9-2 2v14c0 1.1.9 2 2 2h14c1.1 0 2-.9 2-2V5c0-1.1-.9-2-2-2zM9 17H7v-7h2v7zm4 0h-2V7h2v10zm4 0h-2v-4h2v4z\"/>\n",
              "    </g>\n",
              "</svg>\n",
              "  </button>\n",
              "\n",
              "<style>\n",
              "  .colab-df-quickchart {\n",
              "      --bg-color: #E8F0FE;\n",
              "      --fill-color: #1967D2;\n",
              "      --hover-bg-color: #E2EBFA;\n",
              "      --hover-fill-color: #174EA6;\n",
              "      --disabled-fill-color: #AAA;\n",
              "      --disabled-bg-color: #DDD;\n",
              "  }\n",
              "\n",
              "  [theme=dark] .colab-df-quickchart {\n",
              "      --bg-color: #3B4455;\n",
              "      --fill-color: #D2E3FC;\n",
              "      --hover-bg-color: #434B5C;\n",
              "      --hover-fill-color: #FFFFFF;\n",
              "      --disabled-bg-color: #3B4455;\n",
              "      --disabled-fill-color: #666;\n",
              "  }\n",
              "\n",
              "  .colab-df-quickchart {\n",
              "    background-color: var(--bg-color);\n",
              "    border: none;\n",
              "    border-radius: 50%;\n",
              "    cursor: pointer;\n",
              "    display: none;\n",
              "    fill: var(--fill-color);\n",
              "    height: 32px;\n",
              "    padding: 0;\n",
              "    width: 32px;\n",
              "  }\n",
              "\n",
              "  .colab-df-quickchart:hover {\n",
              "    background-color: var(--hover-bg-color);\n",
              "    box-shadow: 0 1px 2px rgba(60, 64, 67, 0.3), 0 1px 3px 1px rgba(60, 64, 67, 0.15);\n",
              "    fill: var(--button-hover-fill-color);\n",
              "  }\n",
              "\n",
              "  .colab-df-quickchart-complete:disabled,\n",
              "  .colab-df-quickchart-complete:disabled:hover {\n",
              "    background-color: var(--disabled-bg-color);\n",
              "    fill: var(--disabled-fill-color);\n",
              "    box-shadow: none;\n",
              "  }\n",
              "\n",
              "  .colab-df-spinner {\n",
              "    border: 2px solid var(--fill-color);\n",
              "    border-color: transparent;\n",
              "    border-bottom-color: var(--fill-color);\n",
              "    animation:\n",
              "      spin 1s steps(1) infinite;\n",
              "  }\n",
              "\n",
              "  @keyframes spin {\n",
              "    0% {\n",
              "      border-color: transparent;\n",
              "      border-bottom-color: var(--fill-color);\n",
              "      border-left-color: var(--fill-color);\n",
              "    }\n",
              "    20% {\n",
              "      border-color: transparent;\n",
              "      border-left-color: var(--fill-color);\n",
              "      border-top-color: var(--fill-color);\n",
              "    }\n",
              "    30% {\n",
              "      border-color: transparent;\n",
              "      border-left-color: var(--fill-color);\n",
              "      border-top-color: var(--fill-color);\n",
              "      border-right-color: var(--fill-color);\n",
              "    }\n",
              "    40% {\n",
              "      border-color: transparent;\n",
              "      border-right-color: var(--fill-color);\n",
              "      border-top-color: var(--fill-color);\n",
              "    }\n",
              "    60% {\n",
              "      border-color: transparent;\n",
              "      border-right-color: var(--fill-color);\n",
              "    }\n",
              "    80% {\n",
              "      border-color: transparent;\n",
              "      border-right-color: var(--fill-color);\n",
              "      border-bottom-color: var(--fill-color);\n",
              "    }\n",
              "    90% {\n",
              "      border-color: transparent;\n",
              "      border-bottom-color: var(--fill-color);\n",
              "    }\n",
              "  }\n",
              "</style>\n",
              "\n",
              "  <script>\n",
              "    async function quickchart(key) {\n",
              "      const quickchartButtonEl =\n",
              "        document.querySelector('#' + key + ' button');\n",
              "      quickchartButtonEl.disabled = true;  // To prevent multiple clicks.\n",
              "      quickchartButtonEl.classList.add('colab-df-spinner');\n",
              "      try {\n",
              "        const charts = await google.colab.kernel.invokeFunction(\n",
              "            'suggestCharts', [key], {});\n",
              "      } catch (error) {\n",
              "        console.error('Error during call to suggestCharts:', error);\n",
              "      }\n",
              "      quickchartButtonEl.classList.remove('colab-df-spinner');\n",
              "      quickchartButtonEl.classList.add('colab-df-quickchart-complete');\n",
              "    }\n",
              "    (() => {\n",
              "      let quickchartButtonEl =\n",
              "        document.querySelector('#df-f8901ed8-acd2-457a-88b0-933b6332ec2d button');\n",
              "      quickchartButtonEl.style.display =\n",
              "        google.colab.kernel.accessAllowed ? 'block' : 'none';\n",
              "    })();\n",
              "  </script>\n",
              "</div>\n",
              "    </div>\n",
              "  </div>\n"
            ],
            "application/vnd.google.colaboratory.intrinsic+json": {
              "type": "dataframe",
              "summary": "{\n  \"name\": \"pd\",\n  \"rows\": 2,\n  \"fields\": [\n    {\n      \"column\": \"Actual Fraud\",\n      \"properties\": {\n        \"dtype\": \"number\",\n        \"std\": 0,\n        \"min\": 0,\n        \"max\": 1,\n        \"num_unique_values\": 2,\n        \"samples\": [\n          1,\n          0\n        ],\n        \"semantic_type\": \"\",\n        \"description\": \"\"\n      }\n    },\n    {\n      \"column\": 0,\n      \"properties\": {\n        \"dtype\": \"number\",\n        \"std\": 3504,\n        \"min\": 28,\n        \"max\": 4984,\n        \"num_unique_values\": 2,\n        \"samples\": [\n          28,\n          4984\n        ],\n        \"semantic_type\": \"\",\n        \"description\": \"\"\n      }\n    },\n    {\n      \"column\": 1,\n      \"properties\": {\n        \"dtype\": \"number\",\n        \"std\": 4,\n        \"min\": 16,\n        \"max\": 22,\n        \"num_unique_values\": 2,\n        \"samples\": [\n          22,\n          16\n        ],\n        \"semantic_type\": \"\",\n        \"description\": \"\"\n      }\n    }\n  ]\n}"
            }
          },
          "metadata": {},
          "execution_count": 33
        }
      ],
      "source": [
        "pd.crosstab(df.Class, df.flag_as_fraud, rownames=['Actual Fraud'], colnames=['Flagged Fraud'])"
      ]
    },
    {
      "cell_type": "markdown",
      "metadata": {
        "id": "a0PFOs6tPGwg"
      },
      "source": [
        "**With this rule, 22 out of 50 fraud cases are detected, 28 are not detected, and 16 false positives are identified.**"
      ]
    },
    {
      "cell_type": "markdown",
      "metadata": {
        "id": "xvsy-C5GPGwg"
      },
      "source": [
        "### Using ML classification to catch fraud\n",
        "\n",
        "In this exercise you'll see what happens when you use a simple machine learning model on our credit card data instead.\n",
        "\n",
        "Do you think you can beat those results? Remember, you've predicted *22 out of 50* fraud cases, and had *16 false positives*.\n",
        "\n",
        "So with that in mind, let's implement a **Logistic Regression** model. If you have taken the class on supervised learning in Python, you should be familiar with this model. If not, you might want to refresh that at this point. But don't worry, you'll be guided through the structure of the machine learning model.\n",
        "\n",
        "The `X` and `y` variables are available in your workspace.\n",
        "\n",
        "**Instructions**\n",
        "\n",
        "* Split `X` and `y` into training and test data, keeping 30% of the data for testing.\n",
        "* Fit your model to your training data.\n",
        "* Obtain the model predicted labels by running `model.predict` on `X_test`.\n",
        "* Obtain a classification comparing `y_test` with `predicted`, and use the given confusion matrix to check your results."
      ]
    },
    {
      "cell_type": "code",
      "execution_count": 34,
      "metadata": {
        "tags": [],
        "id": "kJuhiNYEPGwg"
      },
      "outputs": [],
      "source": [
        "# Create the training and testing sets\n",
        "X_train, X_test, y_train, y_test = train_test_split(X, y, test_size=0.3, random_state=0)"
      ]
    },
    {
      "cell_type": "code",
      "execution_count": 35,
      "metadata": {
        "tags": [],
        "colab": {
          "base_uri": "https://localhost:8080/",
          "height": 75
        },
        "id": "6hZuY8iYPGwg",
        "outputId": "1f324487-2af2-405d-9ed5-5d8d297d1d48"
      },
      "outputs": [
        {
          "output_type": "execute_result",
          "data": {
            "text/plain": [
              "LogisticRegression(solver='liblinear')"
            ],
            "text/html": [
              "<style>#sk-container-id-2 {color: black;background-color: white;}#sk-container-id-2 pre{padding: 0;}#sk-container-id-2 div.sk-toggleable {background-color: white;}#sk-container-id-2 label.sk-toggleable__label {cursor: pointer;display: block;width: 100%;margin-bottom: 0;padding: 0.3em;box-sizing: border-box;text-align: center;}#sk-container-id-2 label.sk-toggleable__label-arrow:before {content: \"▸\";float: left;margin-right: 0.25em;color: #696969;}#sk-container-id-2 label.sk-toggleable__label-arrow:hover:before {color: black;}#sk-container-id-2 div.sk-estimator:hover label.sk-toggleable__label-arrow:before {color: black;}#sk-container-id-2 div.sk-toggleable__content {max-height: 0;max-width: 0;overflow: hidden;text-align: left;background-color: #f0f8ff;}#sk-container-id-2 div.sk-toggleable__content pre {margin: 0.2em;color: black;border-radius: 0.25em;background-color: #f0f8ff;}#sk-container-id-2 input.sk-toggleable__control:checked~div.sk-toggleable__content {max-height: 200px;max-width: 100%;overflow: auto;}#sk-container-id-2 input.sk-toggleable__control:checked~label.sk-toggleable__label-arrow:before {content: \"▾\";}#sk-container-id-2 div.sk-estimator input.sk-toggleable__control:checked~label.sk-toggleable__label {background-color: #d4ebff;}#sk-container-id-2 div.sk-label input.sk-toggleable__control:checked~label.sk-toggleable__label {background-color: #d4ebff;}#sk-container-id-2 input.sk-hidden--visually {border: 0;clip: rect(1px 1px 1px 1px);clip: rect(1px, 1px, 1px, 1px);height: 1px;margin: -1px;overflow: hidden;padding: 0;position: absolute;width: 1px;}#sk-container-id-2 div.sk-estimator {font-family: monospace;background-color: #f0f8ff;border: 1px dotted black;border-radius: 0.25em;box-sizing: border-box;margin-bottom: 0.5em;}#sk-container-id-2 div.sk-estimator:hover {background-color: #d4ebff;}#sk-container-id-2 div.sk-parallel-item::after {content: \"\";width: 100%;border-bottom: 1px solid gray;flex-grow: 1;}#sk-container-id-2 div.sk-label:hover label.sk-toggleable__label {background-color: #d4ebff;}#sk-container-id-2 div.sk-serial::before {content: \"\";position: absolute;border-left: 1px solid gray;box-sizing: border-box;top: 0;bottom: 0;left: 50%;z-index: 0;}#sk-container-id-2 div.sk-serial {display: flex;flex-direction: column;align-items: center;background-color: white;padding-right: 0.2em;padding-left: 0.2em;position: relative;}#sk-container-id-2 div.sk-item {position: relative;z-index: 1;}#sk-container-id-2 div.sk-parallel {display: flex;align-items: stretch;justify-content: center;background-color: white;position: relative;}#sk-container-id-2 div.sk-item::before, #sk-container-id-2 div.sk-parallel-item::before {content: \"\";position: absolute;border-left: 1px solid gray;box-sizing: border-box;top: 0;bottom: 0;left: 50%;z-index: -1;}#sk-container-id-2 div.sk-parallel-item {display: flex;flex-direction: column;z-index: 1;position: relative;background-color: white;}#sk-container-id-2 div.sk-parallel-item:first-child::after {align-self: flex-end;width: 50%;}#sk-container-id-2 div.sk-parallel-item:last-child::after {align-self: flex-start;width: 50%;}#sk-container-id-2 div.sk-parallel-item:only-child::after {width: 0;}#sk-container-id-2 div.sk-dashed-wrapped {border: 1px dashed gray;margin: 0 0.4em 0.5em 0.4em;box-sizing: border-box;padding-bottom: 0.4em;background-color: white;}#sk-container-id-2 div.sk-label label {font-family: monospace;font-weight: bold;display: inline-block;line-height: 1.2em;}#sk-container-id-2 div.sk-label-container {text-align: center;}#sk-container-id-2 div.sk-container {/* jupyter's `normalize.less` sets `[hidden] { display: none; }` but bootstrap.min.css set `[hidden] { display: none !important; }` so we also need the `!important` here to be able to override the default hidden behavior on the sphinx rendered scikit-learn.org. See: https://github.com/scikit-learn/scikit-learn/issues/21755 */display: inline-block !important;position: relative;}#sk-container-id-2 div.sk-text-repr-fallback {display: none;}</style><div id=\"sk-container-id-2\" class=\"sk-top-container\"><div class=\"sk-text-repr-fallback\"><pre>LogisticRegression(solver=&#x27;liblinear&#x27;)</pre><b>In a Jupyter environment, please rerun this cell to show the HTML representation or trust the notebook. <br />On GitHub, the HTML representation is unable to render, please try loading this page with nbviewer.org.</b></div><div class=\"sk-container\" hidden><div class=\"sk-item\"><div class=\"sk-estimator sk-toggleable\"><input class=\"sk-toggleable__control sk-hidden--visually\" id=\"sk-estimator-id-2\" type=\"checkbox\" checked><label for=\"sk-estimator-id-2\" class=\"sk-toggleable__label sk-toggleable__label-arrow\">LogisticRegression</label><div class=\"sk-toggleable__content\"><pre>LogisticRegression(solver=&#x27;liblinear&#x27;)</pre></div></div></div></div></div>"
            ]
          },
          "metadata": {},
          "execution_count": 35
        }
      ],
      "source": [
        "# Fit a logistic regression model to our data\n",
        "model = LogisticRegression(solver='liblinear')\n",
        "model.fit(X_train, y_train)"
      ]
    },
    {
      "cell_type": "code",
      "execution_count": 36,
      "metadata": {
        "tags": [],
        "id": "2VxeJWynPGwh"
      },
      "outputs": [],
      "source": [
        "# Obtain model predictions\n",
        "predicted = model.predict(X_test)"
      ]
    },
    {
      "cell_type": "code",
      "execution_count": 37,
      "metadata": {
        "tags": [],
        "colab": {
          "base_uri": "https://localhost:8080/"
        },
        "id": "VrRZIfp4PGwh",
        "outputId": "c3f9823a-af54-40ec-acf5-d88ea9f2e364"
      },
      "outputs": [
        {
          "output_type": "stream",
          "name": "stdout",
          "text": [
            "Classification report:\n",
            "               precision    recall  f1-score   support\n",
            "\n",
            "           0       1.00      1.00      1.00      1505\n",
            "           1       0.89      0.80      0.84        10\n",
            "\n",
            "    accuracy                           1.00      1515\n",
            "   macro avg       0.94      0.90      0.92      1515\n",
            "weighted avg       1.00      1.00      1.00      1515\n",
            "\n",
            "Confusion matrix:\n",
            " [[1504    1]\n",
            " [   2    8]]\n"
          ]
        }
      ],
      "source": [
        "# Print the classifcation report and confusion matrix\n",
        "print('Classification report:\\n', classification_report(y_test, predicted))\n",
        "conf_mat = confusion_matrix(y_true=y_test, y_pred=predicted)\n",
        "print('Confusion matrix:\\n', conf_mat)"
      ]
    },
    {
      "cell_type": "markdown",
      "metadata": {
        "id": "lCrQh73tPGwh"
      },
      "source": [
        "**Do you think these results are better than the rules based model? We are getting far fewer false positives, so that's an improvement. Also, we're catching a higher percentage of fraud cases, so that is also better than before. Do you understand why we have fewer observations to look at in the confusion matrix? Remember we are using only our test data to calculate the model results on. We're comparing the crosstab on the full dataset from the last exercise, with a confusion matrix of only 30% of the total dataset, so that's where that difference comes from. In the next chapter, we'll dive deeper into understanding these model performance metrics. Let's now explore whether we can improve the prediction results even further with resampling methods.**"
      ]
    },
    {
      "cell_type": "markdown",
      "metadata": {
        "id": "diqDZ-uhPGwh"
      },
      "source": [
        "### Logistic regression with SMOTE\n",
        "\n",
        "In this exercise, you're going to take the Logistic Regression model from the previous exercise, and combine that with a **SMOTE resampling method**. We'll show you how to do that efficiently by using a pipeline that combines the resampling method with the model in one go. First, you need to define the pipeline that you're going to use.\n",
        "\n",
        "**Instructions**\n",
        "\n",
        "* Import the `Pipeline` module from `imblearn`, this has been done for you.\n",
        "* Then define what you want to put into the pipeline, assign the `SMOTE` method with `borderline2` to `resampling`, and assign `LogisticRegression()` to the `model`.\n",
        "* Combine two steps in the `Pipeline()` function. You need to state you want to combine `resampling` with the `model` in the respective place in the argument. I show you how to do this."
      ]
    },
    {
      "cell_type": "code",
      "execution_count": 38,
      "metadata": {
        "tags": [],
        "id": "obTSacDCPGwh"
      },
      "outputs": [],
      "source": [
        "# Define which resampling method and which ML model to use in the pipeline\n",
        "# resampling = SMOTE(kind='borderline2')  # has been changed to BorderlineSMOTE\n",
        "resampling = BorderlineSMOTE()\n",
        "model = LogisticRegression(solver='liblinear')"
      ]
    },
    {
      "cell_type": "code",
      "execution_count": 39,
      "metadata": {
        "tags": [],
        "id": "_gESsnquPGwh"
      },
      "outputs": [],
      "source": [
        "pipeline = Pipeline([('SMOTE', resampling), ('Logistic Regression', model)])"
      ]
    },
    {
      "cell_type": "markdown",
      "metadata": {
        "id": "V__7eH0sPGwh"
      },
      "source": [
        "### Pipelining\n",
        "\n",
        "Now that you have our pipeline defined, aka **combining a logistic regression with a SMOTE method**, let's run it on the data. You can treat the pipeline as if it were a **single machine learning model**. Our data X and y are already defined, and the pipeline is defined in the previous exercise. Are you curious to find out what the model results are? Let's give it a try!\n",
        "\n",
        "**Instructions**\n",
        "\n",
        "* Split the data 'X'and 'y' into the training and test set. Set aside 30% of the data for a test set, and set the `random_state` to zero.\n",
        "* Fit your pipeline onto your training data and obtain the predictions by running the `pipeline.predict()` function on our `X_test` dataset."
      ]
    },
    {
      "cell_type": "code",
      "execution_count": 40,
      "metadata": {
        "tags": [],
        "id": "YlZ9mjnCPGwh"
      },
      "outputs": [],
      "source": [
        "# Split your data X and y, into a training and a test set and fit the pipeline onto the training data\n",
        "X_train, X_test, y_train, y_test = train_test_split(X, y, test_size=0.3, random_state=0)"
      ]
    },
    {
      "cell_type": "code",
      "execution_count": 41,
      "metadata": {
        "tags": [],
        "id": "xB4fa6LIPGwh"
      },
      "outputs": [],
      "source": [
        "pipeline.fit(X_train, y_train)\n",
        "predicted = pipeline.predict(X_test)"
      ]
    },
    {
      "cell_type": "code",
      "execution_count": 42,
      "metadata": {
        "tags": [],
        "colab": {
          "base_uri": "https://localhost:8080/"
        },
        "id": "-v7ABec3PGwh",
        "outputId": "d0f04388-7f2a-412d-b1ab-aea9cbc150e0"
      },
      "outputs": [
        {
          "output_type": "stream",
          "name": "stdout",
          "text": [
            "Classifcation report:\n",
            "               precision    recall  f1-score   support\n",
            "\n",
            "           0       1.00      1.00      1.00      1505\n",
            "           1       0.71      1.00      0.83        10\n",
            "\n",
            "    accuracy                           1.00      1515\n",
            "   macro avg       0.86      1.00      0.92      1515\n",
            "weighted avg       1.00      1.00      1.00      1515\n",
            "\n",
            "Confusion matrix:\n",
            " [[1501    4]\n",
            " [   0   10]]\n"
          ]
        }
      ],
      "source": [
        "# Obtain the results from the classification report and confusion matrix\n",
        "print('Classifcation report:\\n', classification_report(y_test, predicted))\n",
        "conf_mat = confusion_matrix(y_true=y_test, y_pred=predicted)\n",
        "print('Confusion matrix:\\n', conf_mat)"
      ]
    },
    {
      "cell_type": "markdown",
      "metadata": {
        "id": "_zSzosLaPGwh"
      },
      "source": [
        "**As you can see, the SMOTE slightly improves our results. We now manage to find all cases of fraud, but we have a slightly higher number of false positives, albeit only 7 cases. Remember, resampling doesn't necessarily lead to better results. When the fraud cases are very spread and scattered over the data, using SMOTE can introduce a bit of bias. Nearest neighbors aren't necessarily also fraud cases, so the synthetic samples might 'confuse' the model slightly. In the next chapters, we'll learn how to also adjust our machine learning models to better detect the minority fraud cases.**"
      ]
    },
    {
      "cell_type": "markdown",
      "metadata": {
        "id": "OGLq4LbMPGwh"
      },
      "source": [
        "# Fraud detection using labeled data\n",
        "\n",
        "Learn how to flag fraudulent transactions with supervised learning. Use classifiers, adjust and compare them to find the most efficient fraud detection model."
      ]
    },
    {
      "cell_type": "markdown",
      "metadata": {
        "id": "ETEOYkTzPGwh"
      },
      "source": [
        "## Review classification methods\n",
        "\n",
        "* Classification:\n",
        "    * The problem of identifying to which class a new observation belongs, on the basis of a training set of data containing observations whose class is known\n",
        "    * Goal: use known fraud cases to train a model to recognize new cases\n",
        "    * Classes are sometimes called targets, labels or categories\n",
        "    * Spam detection in email service providers can be identified as a classification problem\n",
        "        * Binary classification since there are only 2 classes, spam and not spam\n",
        "    * Fraud detection is also a binary classification prpoblem\n",
        "    * Patient diagnosis\n",
        "    * Classification problems normall have categorical output like yes/no, 1/0 or True/False\n",
        "    * Variable to predict: $$y\\in0,1$$\n",
        "        * 0: negative calss ('majority' normal cases)\n",
        "        * 1: positive class ('minority' fraud cases)"
      ]
    },
    {
      "cell_type": "markdown",
      "metadata": {
        "id": "F9Kj1ZvYPGwh"
      },
      "source": [
        "#### Logistic Regression\n",
        "\n",
        "* Logistic Regression is one of the most used ML algorithms in binary classification\n",
        "* ![logistic regression](https://raw.githubusercontent.com/trenton3983/DataCamp/master/Images/fraud_detection/logistic_regression.JPG)\n",
        "* Can be adjusted reasonably well to work on imbalanced data...useful for fraud detection"
      ]
    },
    {
      "cell_type": "markdown",
      "metadata": {
        "id": "nyhxKbZvPGwh"
      },
      "source": [
        "#### Neural Network\n",
        "\n",
        "* ![neural network](https://raw.githubusercontent.com/trenton3983/DataCamp/master/Images/fraud_detection/neural_network.JPG)\n",
        "* Can be used as classifiers for fraud detection\n",
        "* Capable of fitting highly non-linear models to the data\n",
        "* More complex to implement than other classifiers - not demonstrated here"
      ]
    },
    {
      "cell_type": "markdown",
      "metadata": {
        "id": "HFY1T2r9PGwi"
      },
      "source": [
        "#### Decision Trees\n",
        "\n",
        "* ![decision tree](https://raw.githubusercontent.com/trenton3983/DataCamp/master/Images/fraud_detection/decision_tree.JPG)\n",
        "* Commonly used for fraud detection\n",
        "* Transparent results, easily interpreted by analysts\n",
        "* Decision trees are prone to overfit the data"
      ]
    },
    {
      "cell_type": "markdown",
      "metadata": {
        "id": "4-3aQmLAPGwi"
      },
      "source": [
        "#### Random Forests\n",
        "\n",
        "* ![random forest](https://raw.githubusercontent.com/trenton3983/DataCamp/master/Images/fraud_detection/random_forest.JPG)\n",
        "* **Random Forests are a more robust option than a single decision tree**\n",
        "    * Construct a multitude of decision trees when training the model and outputting the class that is the mode or mean predicted class of the individual trees\n",
        "    * A random forest consists of a collection of trees on a random subset of features\n",
        "    * Final predictions are the combined results of those trees\n",
        "    * Random forests can handle complex data and are not prone to overfit\n",
        "    * They are interpretable by looking at feature importance, and can be adjusted to work well on highly imbalanced data\n",
        "    * Their drawback is they're computationally complex\n",
        "    * Very popular for fraud detection\n",
        "    * A Random Forest model will be optimized in the exercises\n",
        "    \n",
        "**Implementation:**\n",
        "\n",
        "```python\n",
        "from sklearn.ensemble import RandomForestClassifier\n",
        "model = RandomForestClassifier()\n",
        "model.fit(X_train, y_train)\n",
        "predicted = model.predict(X_test)\n",
        "print(f'Accuracy Score:\\n{accuracy_score(y_test, predicted)}')\n",
        "```"
      ]
    },
    {
      "cell_type": "markdown",
      "metadata": {
        "id": "w196itlXPGwi"
      },
      "source": [
        "### Natural hit rate\n",
        "\n",
        "In this exercise, you'll again use credit card transaction data. The features and labels are similar to the data in the previous chapter, and the **data is heavily imbalanced**. We've given you features `X` and labels `y` to work with already, which are both numpy arrays.\n",
        "\n",
        "First you need to explore how prevalent fraud is in the dataset, to understand what the **\"natural accuracy\"** is, if we were to predict everything as non-fraud. It's is important to understand which level of \"accuracy\" you need to \"beat\" in order to get a **better prediction than by doing nothing**. In the following exercises, you'll create our first random forest classifier for fraud detection. That will serve as the **\"baseline\"** model that you're going to try to improve in the upcoming exercises.\n",
        "\n",
        "**Instructions**\n",
        "\n",
        "* Count the total number of observations by taking the length of your labels `y`.\n",
        "* Count the non-fraud cases in our data by using list comprehension on `y`; remember `y` is a NumPy array so `.value_counts()` cannot be used in this case.\n",
        "* Calculate the natural accuracy by dividing the non-fraud cases over the total observations.\n",
        "* Print the percentage."
      ]
    },
    {
      "cell_type": "code",
      "execution_count": 43,
      "metadata": {
        "tags": [],
        "colab": {
          "base_uri": "https://localhost:8080/",
          "height": 244
        },
        "id": "Q2nT0axnPGwj",
        "outputId": "320f4a96-f1f9-435d-c58f-4b6a5fa3dc30"
      },
      "outputs": [
        {
          "output_type": "execute_result",
          "data": {
            "text/plain": [
              "   Unnamed: 0        V1        V2        V3        V4        V5        V6  \\\n",
              "0      221547 -1.191668  0.428409  1.640028 -1.848859 -0.870903 -0.204849   \n",
              "1      184524  1.966614 -0.450087 -1.228586  0.142873 -0.150627 -0.543590   \n",
              "2       91201  1.528452 -1.296191 -0.890677 -2.504028  0.803202  3.350793   \n",
              "3       26115 -0.774614  1.100916  0.679080  1.034016  0.168633  0.874582   \n",
              "4      201292 -1.075860  1.361160  1.496972  2.242604  1.314751  0.272787   \n",
              "\n",
              "         V7        V8        V9       V10       V11       V12       V13  \\\n",
              "0 -0.385675  0.352793 -1.098301 -0.334597 -0.679089 -0.039671  1.372661   \n",
              "1 -0.076217 -0.108390  0.973310 -0.029903  0.279973  0.885685 -0.583912   \n",
              "2 -1.633016  0.815350 -1.884692  1.465259 -0.188235 -0.976779  0.560550   \n",
              "3  0.209454  0.770550 -0.558106 -0.165442  0.017562  0.285377 -0.818739   \n",
              "4  1.005246  0.132932 -1.558317  0.484216 -1.967998 -1.818338 -2.036184   \n",
              "\n",
              "        V14       V15       V16       V17       V18       V19       V20  \\\n",
              "0 -0.732001 -0.344528  1.024751  0.380209 -1.087349  0.364507  0.051924   \n",
              "1  0.322019 -1.065335 -0.340285 -0.385399  0.216554  0.675646 -0.190851   \n",
              "2 -0.250847  0.936115  0.136409 -0.078251  0.355086  0.127756 -0.163982   \n",
              "3  0.637991 -0.370124 -0.605148  0.275686  0.246362  1.331927  0.080978   \n",
              "4  0.346962 -1.161316  1.017093 -0.926787  0.183965 -2.102868 -0.354008   \n",
              "\n",
              "        V21       V22       V23       V24       V25       V26       V27  \\\n",
              "0  0.507173  1.292565 -0.467752  1.244887  0.697707  0.059375 -0.319964   \n",
              "1  0.124055  0.564916 -0.039331 -0.283904  0.186400  0.192932 -0.039155   \n",
              "2 -0.412088 -1.017485  0.129566  0.948048  0.287826 -0.396592  0.042997   \n",
              "3  0.011158  0.146017 -0.130401 -0.848815  0.005698 -0.183295  0.282940   \n",
              "4  0.254485  0.530692 -0.651119  0.626389  1.040212  0.249501 -0.146745   \n",
              "\n",
              "        V28  Amount  Class  \n",
              "0 -0.017444   27.44      0  \n",
              "1 -0.071314   35.95      0  \n",
              "2  0.025853   28.40      0  \n",
              "3  0.123856   43.20      0  \n",
              "4  0.029714   10.59      0  "
            ],
            "text/html": [
              "\n",
              "  <div id=\"df-36d78628-c2e5-4f7c-a3d1-fc3abb30ef6c\" class=\"colab-df-container\">\n",
              "    <div>\n",
              "<style scoped>\n",
              "    .dataframe tbody tr th:only-of-type {\n",
              "        vertical-align: middle;\n",
              "    }\n",
              "\n",
              "    .dataframe tbody tr th {\n",
              "        vertical-align: top;\n",
              "    }\n",
              "\n",
              "    .dataframe thead th {\n",
              "        text-align: right;\n",
              "    }\n",
              "</style>\n",
              "<table border=\"1\" class=\"dataframe\">\n",
              "  <thead>\n",
              "    <tr style=\"text-align: right;\">\n",
              "      <th></th>\n",
              "      <th>Unnamed: 0</th>\n",
              "      <th>V1</th>\n",
              "      <th>V2</th>\n",
              "      <th>V3</th>\n",
              "      <th>V4</th>\n",
              "      <th>V5</th>\n",
              "      <th>V6</th>\n",
              "      <th>V7</th>\n",
              "      <th>V8</th>\n",
              "      <th>V9</th>\n",
              "      <th>V10</th>\n",
              "      <th>V11</th>\n",
              "      <th>V12</th>\n",
              "      <th>V13</th>\n",
              "      <th>V14</th>\n",
              "      <th>V15</th>\n",
              "      <th>V16</th>\n",
              "      <th>V17</th>\n",
              "      <th>V18</th>\n",
              "      <th>V19</th>\n",
              "      <th>V20</th>\n",
              "      <th>V21</th>\n",
              "      <th>V22</th>\n",
              "      <th>V23</th>\n",
              "      <th>V24</th>\n",
              "      <th>V25</th>\n",
              "      <th>V26</th>\n",
              "      <th>V27</th>\n",
              "      <th>V28</th>\n",
              "      <th>Amount</th>\n",
              "      <th>Class</th>\n",
              "    </tr>\n",
              "  </thead>\n",
              "  <tbody>\n",
              "    <tr>\n",
              "      <th>0</th>\n",
              "      <td>221547</td>\n",
              "      <td>-1.191668</td>\n",
              "      <td>0.428409</td>\n",
              "      <td>1.640028</td>\n",
              "      <td>-1.848859</td>\n",
              "      <td>-0.870903</td>\n",
              "      <td>-0.204849</td>\n",
              "      <td>-0.385675</td>\n",
              "      <td>0.352793</td>\n",
              "      <td>-1.098301</td>\n",
              "      <td>-0.334597</td>\n",
              "      <td>-0.679089</td>\n",
              "      <td>-0.039671</td>\n",
              "      <td>1.372661</td>\n",
              "      <td>-0.732001</td>\n",
              "      <td>-0.344528</td>\n",
              "      <td>1.024751</td>\n",
              "      <td>0.380209</td>\n",
              "      <td>-1.087349</td>\n",
              "      <td>0.364507</td>\n",
              "      <td>0.051924</td>\n",
              "      <td>0.507173</td>\n",
              "      <td>1.292565</td>\n",
              "      <td>-0.467752</td>\n",
              "      <td>1.244887</td>\n",
              "      <td>0.697707</td>\n",
              "      <td>0.059375</td>\n",
              "      <td>-0.319964</td>\n",
              "      <td>-0.017444</td>\n",
              "      <td>27.44</td>\n",
              "      <td>0</td>\n",
              "    </tr>\n",
              "    <tr>\n",
              "      <th>1</th>\n",
              "      <td>184524</td>\n",
              "      <td>1.966614</td>\n",
              "      <td>-0.450087</td>\n",
              "      <td>-1.228586</td>\n",
              "      <td>0.142873</td>\n",
              "      <td>-0.150627</td>\n",
              "      <td>-0.543590</td>\n",
              "      <td>-0.076217</td>\n",
              "      <td>-0.108390</td>\n",
              "      <td>0.973310</td>\n",
              "      <td>-0.029903</td>\n",
              "      <td>0.279973</td>\n",
              "      <td>0.885685</td>\n",
              "      <td>-0.583912</td>\n",
              "      <td>0.322019</td>\n",
              "      <td>-1.065335</td>\n",
              "      <td>-0.340285</td>\n",
              "      <td>-0.385399</td>\n",
              "      <td>0.216554</td>\n",
              "      <td>0.675646</td>\n",
              "      <td>-0.190851</td>\n",
              "      <td>0.124055</td>\n",
              "      <td>0.564916</td>\n",
              "      <td>-0.039331</td>\n",
              "      <td>-0.283904</td>\n",
              "      <td>0.186400</td>\n",
              "      <td>0.192932</td>\n",
              "      <td>-0.039155</td>\n",
              "      <td>-0.071314</td>\n",
              "      <td>35.95</td>\n",
              "      <td>0</td>\n",
              "    </tr>\n",
              "    <tr>\n",
              "      <th>2</th>\n",
              "      <td>91201</td>\n",
              "      <td>1.528452</td>\n",
              "      <td>-1.296191</td>\n",
              "      <td>-0.890677</td>\n",
              "      <td>-2.504028</td>\n",
              "      <td>0.803202</td>\n",
              "      <td>3.350793</td>\n",
              "      <td>-1.633016</td>\n",
              "      <td>0.815350</td>\n",
              "      <td>-1.884692</td>\n",
              "      <td>1.465259</td>\n",
              "      <td>-0.188235</td>\n",
              "      <td>-0.976779</td>\n",
              "      <td>0.560550</td>\n",
              "      <td>-0.250847</td>\n",
              "      <td>0.936115</td>\n",
              "      <td>0.136409</td>\n",
              "      <td>-0.078251</td>\n",
              "      <td>0.355086</td>\n",
              "      <td>0.127756</td>\n",
              "      <td>-0.163982</td>\n",
              "      <td>-0.412088</td>\n",
              "      <td>-1.017485</td>\n",
              "      <td>0.129566</td>\n",
              "      <td>0.948048</td>\n",
              "      <td>0.287826</td>\n",
              "      <td>-0.396592</td>\n",
              "      <td>0.042997</td>\n",
              "      <td>0.025853</td>\n",
              "      <td>28.40</td>\n",
              "      <td>0</td>\n",
              "    </tr>\n",
              "    <tr>\n",
              "      <th>3</th>\n",
              "      <td>26115</td>\n",
              "      <td>-0.774614</td>\n",
              "      <td>1.100916</td>\n",
              "      <td>0.679080</td>\n",
              "      <td>1.034016</td>\n",
              "      <td>0.168633</td>\n",
              "      <td>0.874582</td>\n",
              "      <td>0.209454</td>\n",
              "      <td>0.770550</td>\n",
              "      <td>-0.558106</td>\n",
              "      <td>-0.165442</td>\n",
              "      <td>0.017562</td>\n",
              "      <td>0.285377</td>\n",
              "      <td>-0.818739</td>\n",
              "      <td>0.637991</td>\n",
              "      <td>-0.370124</td>\n",
              "      <td>-0.605148</td>\n",
              "      <td>0.275686</td>\n",
              "      <td>0.246362</td>\n",
              "      <td>1.331927</td>\n",
              "      <td>0.080978</td>\n",
              "      <td>0.011158</td>\n",
              "      <td>0.146017</td>\n",
              "      <td>-0.130401</td>\n",
              "      <td>-0.848815</td>\n",
              "      <td>0.005698</td>\n",
              "      <td>-0.183295</td>\n",
              "      <td>0.282940</td>\n",
              "      <td>0.123856</td>\n",
              "      <td>43.20</td>\n",
              "      <td>0</td>\n",
              "    </tr>\n",
              "    <tr>\n",
              "      <th>4</th>\n",
              "      <td>201292</td>\n",
              "      <td>-1.075860</td>\n",
              "      <td>1.361160</td>\n",
              "      <td>1.496972</td>\n",
              "      <td>2.242604</td>\n",
              "      <td>1.314751</td>\n",
              "      <td>0.272787</td>\n",
              "      <td>1.005246</td>\n",
              "      <td>0.132932</td>\n",
              "      <td>-1.558317</td>\n",
              "      <td>0.484216</td>\n",
              "      <td>-1.967998</td>\n",
              "      <td>-1.818338</td>\n",
              "      <td>-2.036184</td>\n",
              "      <td>0.346962</td>\n",
              "      <td>-1.161316</td>\n",
              "      <td>1.017093</td>\n",
              "      <td>-0.926787</td>\n",
              "      <td>0.183965</td>\n",
              "      <td>-2.102868</td>\n",
              "      <td>-0.354008</td>\n",
              "      <td>0.254485</td>\n",
              "      <td>0.530692</td>\n",
              "      <td>-0.651119</td>\n",
              "      <td>0.626389</td>\n",
              "      <td>1.040212</td>\n",
              "      <td>0.249501</td>\n",
              "      <td>-0.146745</td>\n",
              "      <td>0.029714</td>\n",
              "      <td>10.59</td>\n",
              "      <td>0</td>\n",
              "    </tr>\n",
              "  </tbody>\n",
              "</table>\n",
              "</div>\n",
              "    <div class=\"colab-df-buttons\">\n",
              "\n",
              "  <div class=\"colab-df-container\">\n",
              "    <button class=\"colab-df-convert\" onclick=\"convertToInteractive('df-36d78628-c2e5-4f7c-a3d1-fc3abb30ef6c')\"\n",
              "            title=\"Convert this dataframe to an interactive table.\"\n",
              "            style=\"display:none;\">\n",
              "\n",
              "  <svg xmlns=\"http://www.w3.org/2000/svg\" height=\"24px\" viewBox=\"0 -960 960 960\">\n",
              "    <path d=\"M120-120v-720h720v720H120Zm60-500h600v-160H180v160Zm220 220h160v-160H400v160Zm0 220h160v-160H400v160ZM180-400h160v-160H180v160Zm440 0h160v-160H620v160ZM180-180h160v-160H180v160Zm440 0h160v-160H620v160Z\"/>\n",
              "  </svg>\n",
              "    </button>\n",
              "\n",
              "  <style>\n",
              "    .colab-df-container {\n",
              "      display:flex;\n",
              "      gap: 12px;\n",
              "    }\n",
              "\n",
              "    .colab-df-convert {\n",
              "      background-color: #E8F0FE;\n",
              "      border: none;\n",
              "      border-radius: 50%;\n",
              "      cursor: pointer;\n",
              "      display: none;\n",
              "      fill: #1967D2;\n",
              "      height: 32px;\n",
              "      padding: 0 0 0 0;\n",
              "      width: 32px;\n",
              "    }\n",
              "\n",
              "    .colab-df-convert:hover {\n",
              "      background-color: #E2EBFA;\n",
              "      box-shadow: 0px 1px 2px rgba(60, 64, 67, 0.3), 0px 1px 3px 1px rgba(60, 64, 67, 0.15);\n",
              "      fill: #174EA6;\n",
              "    }\n",
              "\n",
              "    .colab-df-buttons div {\n",
              "      margin-bottom: 4px;\n",
              "    }\n",
              "\n",
              "    [theme=dark] .colab-df-convert {\n",
              "      background-color: #3B4455;\n",
              "      fill: #D2E3FC;\n",
              "    }\n",
              "\n",
              "    [theme=dark] .colab-df-convert:hover {\n",
              "      background-color: #434B5C;\n",
              "      box-shadow: 0px 1px 3px 1px rgba(0, 0, 0, 0.15);\n",
              "      filter: drop-shadow(0px 1px 2px rgba(0, 0, 0, 0.3));\n",
              "      fill: #FFFFFF;\n",
              "    }\n",
              "  </style>\n",
              "\n",
              "    <script>\n",
              "      const buttonEl =\n",
              "        document.querySelector('#df-36d78628-c2e5-4f7c-a3d1-fc3abb30ef6c button.colab-df-convert');\n",
              "      buttonEl.style.display =\n",
              "        google.colab.kernel.accessAllowed ? 'block' : 'none';\n",
              "\n",
              "      async function convertToInteractive(key) {\n",
              "        const element = document.querySelector('#df-36d78628-c2e5-4f7c-a3d1-fc3abb30ef6c');\n",
              "        const dataTable =\n",
              "          await google.colab.kernel.invokeFunction('convertToInteractive',\n",
              "                                                    [key], {});\n",
              "        if (!dataTable) return;\n",
              "\n",
              "        const docLinkHtml = 'Like what you see? Visit the ' +\n",
              "          '<a target=\"_blank\" href=https://colab.research.google.com/notebooks/data_table.ipynb>data table notebook</a>'\n",
              "          + ' to learn more about interactive tables.';\n",
              "        element.innerHTML = '';\n",
              "        dataTable['output_type'] = 'display_data';\n",
              "        await google.colab.output.renderOutput(dataTable, element);\n",
              "        const docLink = document.createElement('div');\n",
              "        docLink.innerHTML = docLinkHtml;\n",
              "        element.appendChild(docLink);\n",
              "      }\n",
              "    </script>\n",
              "  </div>\n",
              "\n",
              "\n",
              "<div id=\"df-6a8fa7cd-3daf-4070-af3a-992c105f9086\">\n",
              "  <button class=\"colab-df-quickchart\" onclick=\"quickchart('df-6a8fa7cd-3daf-4070-af3a-992c105f9086')\"\n",
              "            title=\"Suggest charts\"\n",
              "            style=\"display:none;\">\n",
              "\n",
              "<svg xmlns=\"http://www.w3.org/2000/svg\" height=\"24px\"viewBox=\"0 0 24 24\"\n",
              "     width=\"24px\">\n",
              "    <g>\n",
              "        <path d=\"M19 3H5c-1.1 0-2 .9-2 2v14c0 1.1.9 2 2 2h14c1.1 0 2-.9 2-2V5c0-1.1-.9-2-2-2zM9 17H7v-7h2v7zm4 0h-2V7h2v10zm4 0h-2v-4h2v4z\"/>\n",
              "    </g>\n",
              "</svg>\n",
              "  </button>\n",
              "\n",
              "<style>\n",
              "  .colab-df-quickchart {\n",
              "      --bg-color: #E8F0FE;\n",
              "      --fill-color: #1967D2;\n",
              "      --hover-bg-color: #E2EBFA;\n",
              "      --hover-fill-color: #174EA6;\n",
              "      --disabled-fill-color: #AAA;\n",
              "      --disabled-bg-color: #DDD;\n",
              "  }\n",
              "\n",
              "  [theme=dark] .colab-df-quickchart {\n",
              "      --bg-color: #3B4455;\n",
              "      --fill-color: #D2E3FC;\n",
              "      --hover-bg-color: #434B5C;\n",
              "      --hover-fill-color: #FFFFFF;\n",
              "      --disabled-bg-color: #3B4455;\n",
              "      --disabled-fill-color: #666;\n",
              "  }\n",
              "\n",
              "  .colab-df-quickchart {\n",
              "    background-color: var(--bg-color);\n",
              "    border: none;\n",
              "    border-radius: 50%;\n",
              "    cursor: pointer;\n",
              "    display: none;\n",
              "    fill: var(--fill-color);\n",
              "    height: 32px;\n",
              "    padding: 0;\n",
              "    width: 32px;\n",
              "  }\n",
              "\n",
              "  .colab-df-quickchart:hover {\n",
              "    background-color: var(--hover-bg-color);\n",
              "    box-shadow: 0 1px 2px rgba(60, 64, 67, 0.3), 0 1px 3px 1px rgba(60, 64, 67, 0.15);\n",
              "    fill: var(--button-hover-fill-color);\n",
              "  }\n",
              "\n",
              "  .colab-df-quickchart-complete:disabled,\n",
              "  .colab-df-quickchart-complete:disabled:hover {\n",
              "    background-color: var(--disabled-bg-color);\n",
              "    fill: var(--disabled-fill-color);\n",
              "    box-shadow: none;\n",
              "  }\n",
              "\n",
              "  .colab-df-spinner {\n",
              "    border: 2px solid var(--fill-color);\n",
              "    border-color: transparent;\n",
              "    border-bottom-color: var(--fill-color);\n",
              "    animation:\n",
              "      spin 1s steps(1) infinite;\n",
              "  }\n",
              "\n",
              "  @keyframes spin {\n",
              "    0% {\n",
              "      border-color: transparent;\n",
              "      border-bottom-color: var(--fill-color);\n",
              "      border-left-color: var(--fill-color);\n",
              "    }\n",
              "    20% {\n",
              "      border-color: transparent;\n",
              "      border-left-color: var(--fill-color);\n",
              "      border-top-color: var(--fill-color);\n",
              "    }\n",
              "    30% {\n",
              "      border-color: transparent;\n",
              "      border-left-color: var(--fill-color);\n",
              "      border-top-color: var(--fill-color);\n",
              "      border-right-color: var(--fill-color);\n",
              "    }\n",
              "    40% {\n",
              "      border-color: transparent;\n",
              "      border-right-color: var(--fill-color);\n",
              "      border-top-color: var(--fill-color);\n",
              "    }\n",
              "    60% {\n",
              "      border-color: transparent;\n",
              "      border-right-color: var(--fill-color);\n",
              "    }\n",
              "    80% {\n",
              "      border-color: transparent;\n",
              "      border-right-color: var(--fill-color);\n",
              "      border-bottom-color: var(--fill-color);\n",
              "    }\n",
              "    90% {\n",
              "      border-color: transparent;\n",
              "      border-bottom-color: var(--fill-color);\n",
              "    }\n",
              "  }\n",
              "</style>\n",
              "\n",
              "  <script>\n",
              "    async function quickchart(key) {\n",
              "      const quickchartButtonEl =\n",
              "        document.querySelector('#' + key + ' button');\n",
              "      quickchartButtonEl.disabled = true;  // To prevent multiple clicks.\n",
              "      quickchartButtonEl.classList.add('colab-df-spinner');\n",
              "      try {\n",
              "        const charts = await google.colab.kernel.invokeFunction(\n",
              "            'suggestCharts', [key], {});\n",
              "      } catch (error) {\n",
              "        console.error('Error during call to suggestCharts:', error);\n",
              "      }\n",
              "      quickchartButtonEl.classList.remove('colab-df-spinner');\n",
              "      quickchartButtonEl.classList.add('colab-df-quickchart-complete');\n",
              "    }\n",
              "    (() => {\n",
              "      let quickchartButtonEl =\n",
              "        document.querySelector('#df-6a8fa7cd-3daf-4070-af3a-992c105f9086 button');\n",
              "      quickchartButtonEl.style.display =\n",
              "        google.colab.kernel.accessAllowed ? 'block' : 'none';\n",
              "    })();\n",
              "  </script>\n",
              "</div>\n",
              "    </div>\n",
              "  </div>\n"
            ],
            "application/vnd.google.colaboratory.intrinsic+json": {
              "type": "dataframe",
              "variable_name": "df2"
            }
          },
          "metadata": {},
          "execution_count": 43
        }
      ],
      "source": [
        "df2 = pd.read_csv(cc2_file)\n",
        "df2.head()"
      ]
    },
    {
      "cell_type": "code",
      "execution_count": 44,
      "metadata": {
        "tags": [],
        "colab": {
          "base_uri": "https://localhost:8080/"
        },
        "id": "gOi5UBxLPGwj",
        "outputId": "6fb5054d-163e-401d-ea5d-27fe5339bf7f"
      },
      "outputs": [
        {
          "output_type": "stream",
          "name": "stdout",
          "text": [
            "X shape: (7300, 28)\n",
            "y shape: (7300,)\n"
          ]
        }
      ],
      "source": [
        "X, y = prep_data(df2)\n",
        "print(f'X shape: {X.shape}\\ny shape: {y.shape}')"
      ]
    },
    {
      "cell_type": "code",
      "execution_count": 45,
      "metadata": {
        "tags": [],
        "colab": {
          "base_uri": "https://localhost:8080/"
        },
        "id": "qOccDL0rPGwj",
        "outputId": "09701587-3a0b-4f86-bf31-1957e8633bb4"
      },
      "outputs": [
        {
          "output_type": "execute_result",
          "data": {
            "text/plain": [
              "array([ 4.28408570e-01,  1.64002800e+00, -1.84885886e+00, -8.70902974e-01,\n",
              "       -2.04848888e-01, -3.85675453e-01,  3.52792552e-01, -1.09830131e+00,\n",
              "       -3.34596757e-01, -6.79088729e-01, -3.96709268e-02,  1.37266082e+00,\n",
              "       -7.32000706e-01, -3.44528134e-01,  1.02475103e+00,  3.80208554e-01,\n",
              "       -1.08734881e+00,  3.64507163e-01,  5.19236276e-02,  5.07173439e-01,\n",
              "        1.29256539e+00, -4.67752261e-01,  1.24488683e+00,  6.97706854e-01,\n",
              "        5.93750372e-02, -3.19964326e-01, -1.74444289e-02,  2.74400000e+01])"
            ]
          },
          "metadata": {},
          "execution_count": 45
        }
      ],
      "source": [
        "X[0, :]"
      ]
    },
    {
      "cell_type": "code",
      "execution_count": 46,
      "metadata": {
        "tags": [],
        "colab": {
          "base_uri": "https://localhost:8080/"
        },
        "id": "sOoPpCi3PGwj",
        "outputId": "1b4c2eff-06cb-4ece-d64f-2a0ba3101774"
      },
      "outputs": [
        {
          "output_type": "execute_result",
          "data": {
            "text/plain": [
              "0    7000\n",
              "1     300\n",
              "Name: Class, dtype: int64"
            ]
          },
          "metadata": {},
          "execution_count": 46
        }
      ],
      "source": [
        "df2.Class.value_counts()"
      ]
    },
    {
      "cell_type": "code",
      "execution_count": 47,
      "metadata": {
        "tags": [],
        "colab": {
          "base_uri": "https://localhost:8080/"
        },
        "id": "H3VQQx2JPGwj",
        "outputId": "4cbc5f41-0763-4210-9c94-ae1682379535"
      },
      "outputs": [
        {
          "output_type": "execute_result",
          "data": {
            "text/plain": [
              "7300"
            ]
          },
          "metadata": {},
          "execution_count": 47
        }
      ],
      "source": [
        "# Count the total number of observations from the length of y\n",
        "total_obs = len(y)\n",
        "total_obs"
      ]
    },
    {
      "cell_type": "code",
      "execution_count": 48,
      "metadata": {
        "tags": [],
        "colab": {
          "base_uri": "https://localhost:8080/"
        },
        "id": "WHI_APtdPGwj",
        "outputId": "41a44cc0-7dd3-4da6-8541-f18e445f5e5e"
      },
      "outputs": [
        {
          "output_type": "execute_result",
          "data": {
            "text/plain": [
              "7000"
            ]
          },
          "metadata": {},
          "execution_count": 48
        }
      ],
      "source": [
        "# Count the total number of non-fraudulent observations\n",
        "non_fraud = [i for i in y if i == 0]\n",
        "count_non_fraud = non_fraud.count(0)\n",
        "count_non_fraud"
      ]
    },
    {
      "cell_type": "code",
      "execution_count": 49,
      "metadata": {
        "tags": [],
        "colab": {
          "base_uri": "https://localhost:8080/"
        },
        "id": "tknCjwhcPGwj",
        "outputId": "0271d5cf-4104-4925-9e06-10b2811f323d"
      },
      "outputs": [
        {
          "output_type": "stream",
          "name": "stdout",
          "text": [
            "95.89%\n"
          ]
        }
      ],
      "source": [
        "percentage = count_non_fraud/total_obs * 100\n",
        "print(f'{percentage:0.2f}%')"
      ]
    },
    {
      "cell_type": "markdown",
      "metadata": {
        "id": "vKegNM68PGwj"
      },
      "source": [
        "**This tells us that by doing nothing, we would be correct in 95.9% of the cases. So now you understand, that if we get an accuracy of less than this number, our model does not actually add any value in predicting how many cases are correct. Let's see how a random forest does in predicting fraud in our data.**"
      ]
    },
    {
      "cell_type": "markdown",
      "metadata": {
        "id": "cfGjGzk4PGwj"
      },
      "source": [
        "### Random Forest Classifier - part 1\n",
        "\n",
        "Let's now create a first **random forest classifier** for fraud detection. Hopefully you can do better than the baseline accuracy you've just calculated, which was roughly **96%**. This model will serve as the **\"baseline\" model** that you're going to try to improve in the upcoming exercises. Let's start first with **splitting the data into a test and training set**, and **defining the Random Forest model**. The data available are features `X` and labels `y`.\n",
        "\n",
        "**Instructions**\n",
        "\n",
        "* Import the random forest classifier from `sklearn`.\n",
        "* Split your features `X` and labels `y` into a training and test set. Set aside a test set of 30%.\n",
        "* Assign the random forest classifier to `model` and keep `random_state` at 5. We need to set a random state here in order to be able to compare results across different models."
      ]
    },
    {
      "cell_type": "markdown",
      "metadata": {
        "id": "9B16tiQtPGwk"
      },
      "source": [
        "#### X_train, X_test, y_train, y_test"
      ]
    },
    {
      "cell_type": "code",
      "execution_count": 50,
      "metadata": {
        "tags": [],
        "id": "n7T3lyLwPGwk"
      },
      "outputs": [],
      "source": [
        "# Split your data into training and test set\n",
        "X_train, X_test, y_train, y_test = train_test_split(X, y, test_size=0.3, random_state=0)"
      ]
    },
    {
      "cell_type": "code",
      "execution_count": 51,
      "metadata": {
        "tags": [],
        "id": "6xejmAL4PGwk"
      },
      "outputs": [],
      "source": [
        "# Define the model as the random forest\n",
        "model = RandomForestClassifier(random_state=5, n_estimators=20)"
      ]
    },
    {
      "cell_type": "markdown",
      "metadata": {
        "id": "NnBnWJM8PGwk"
      },
      "source": [
        "### Random Forest Classifier - part 2\n",
        "\n",
        "Let's see how our Random Forest model performs **without doing anything special to it**. The `model` from the previous exercise is available, and you've already split your data in `X_train, y_train, X_test, y_test`.\n",
        "\n",
        "**Instructions 1/3**\n",
        "\n",
        "* Fit the earlier defined `model` to our training data and obtain predictions by getting the model predictions on `X_test`."
      ]
    },
    {
      "cell_type": "code",
      "execution_count": 52,
      "metadata": {
        "tags": [],
        "colab": {
          "base_uri": "https://localhost:8080/",
          "height": 75
        },
        "id": "fmv0EtPwPGwk",
        "outputId": "51ff398b-97bd-4c4e-cfc9-2ee9dad0f840"
      },
      "outputs": [
        {
          "output_type": "execute_result",
          "data": {
            "text/plain": [
              "RandomForestClassifier(n_estimators=20, random_state=5)"
            ],
            "text/html": [
              "<style>#sk-container-id-3 {color: black;background-color: white;}#sk-container-id-3 pre{padding: 0;}#sk-container-id-3 div.sk-toggleable {background-color: white;}#sk-container-id-3 label.sk-toggleable__label {cursor: pointer;display: block;width: 100%;margin-bottom: 0;padding: 0.3em;box-sizing: border-box;text-align: center;}#sk-container-id-3 label.sk-toggleable__label-arrow:before {content: \"▸\";float: left;margin-right: 0.25em;color: #696969;}#sk-container-id-3 label.sk-toggleable__label-arrow:hover:before {color: black;}#sk-container-id-3 div.sk-estimator:hover label.sk-toggleable__label-arrow:before {color: black;}#sk-container-id-3 div.sk-toggleable__content {max-height: 0;max-width: 0;overflow: hidden;text-align: left;background-color: #f0f8ff;}#sk-container-id-3 div.sk-toggleable__content pre {margin: 0.2em;color: black;border-radius: 0.25em;background-color: #f0f8ff;}#sk-container-id-3 input.sk-toggleable__control:checked~div.sk-toggleable__content {max-height: 200px;max-width: 100%;overflow: auto;}#sk-container-id-3 input.sk-toggleable__control:checked~label.sk-toggleable__label-arrow:before {content: \"▾\";}#sk-container-id-3 div.sk-estimator input.sk-toggleable__control:checked~label.sk-toggleable__label {background-color: #d4ebff;}#sk-container-id-3 div.sk-label input.sk-toggleable__control:checked~label.sk-toggleable__label {background-color: #d4ebff;}#sk-container-id-3 input.sk-hidden--visually {border: 0;clip: rect(1px 1px 1px 1px);clip: rect(1px, 1px, 1px, 1px);height: 1px;margin: -1px;overflow: hidden;padding: 0;position: absolute;width: 1px;}#sk-container-id-3 div.sk-estimator {font-family: monospace;background-color: #f0f8ff;border: 1px dotted black;border-radius: 0.25em;box-sizing: border-box;margin-bottom: 0.5em;}#sk-container-id-3 div.sk-estimator:hover {background-color: #d4ebff;}#sk-container-id-3 div.sk-parallel-item::after {content: \"\";width: 100%;border-bottom: 1px solid gray;flex-grow: 1;}#sk-container-id-3 div.sk-label:hover label.sk-toggleable__label {background-color: #d4ebff;}#sk-container-id-3 div.sk-serial::before {content: \"\";position: absolute;border-left: 1px solid gray;box-sizing: border-box;top: 0;bottom: 0;left: 50%;z-index: 0;}#sk-container-id-3 div.sk-serial {display: flex;flex-direction: column;align-items: center;background-color: white;padding-right: 0.2em;padding-left: 0.2em;position: relative;}#sk-container-id-3 div.sk-item {position: relative;z-index: 1;}#sk-container-id-3 div.sk-parallel {display: flex;align-items: stretch;justify-content: center;background-color: white;position: relative;}#sk-container-id-3 div.sk-item::before, #sk-container-id-3 div.sk-parallel-item::before {content: \"\";position: absolute;border-left: 1px solid gray;box-sizing: border-box;top: 0;bottom: 0;left: 50%;z-index: -1;}#sk-container-id-3 div.sk-parallel-item {display: flex;flex-direction: column;z-index: 1;position: relative;background-color: white;}#sk-container-id-3 div.sk-parallel-item:first-child::after {align-self: flex-end;width: 50%;}#sk-container-id-3 div.sk-parallel-item:last-child::after {align-self: flex-start;width: 50%;}#sk-container-id-3 div.sk-parallel-item:only-child::after {width: 0;}#sk-container-id-3 div.sk-dashed-wrapped {border: 1px dashed gray;margin: 0 0.4em 0.5em 0.4em;box-sizing: border-box;padding-bottom: 0.4em;background-color: white;}#sk-container-id-3 div.sk-label label {font-family: monospace;font-weight: bold;display: inline-block;line-height: 1.2em;}#sk-container-id-3 div.sk-label-container {text-align: center;}#sk-container-id-3 div.sk-container {/* jupyter's `normalize.less` sets `[hidden] { display: none; }` but bootstrap.min.css set `[hidden] { display: none !important; }` so we also need the `!important` here to be able to override the default hidden behavior on the sphinx rendered scikit-learn.org. See: https://github.com/scikit-learn/scikit-learn/issues/21755 */display: inline-block !important;position: relative;}#sk-container-id-3 div.sk-text-repr-fallback {display: none;}</style><div id=\"sk-container-id-3\" class=\"sk-top-container\"><div class=\"sk-text-repr-fallback\"><pre>RandomForestClassifier(n_estimators=20, random_state=5)</pre><b>In a Jupyter environment, please rerun this cell to show the HTML representation or trust the notebook. <br />On GitHub, the HTML representation is unable to render, please try loading this page with nbviewer.org.</b></div><div class=\"sk-container\" hidden><div class=\"sk-item\"><div class=\"sk-estimator sk-toggleable\"><input class=\"sk-toggleable__control sk-hidden--visually\" id=\"sk-estimator-id-3\" type=\"checkbox\" checked><label for=\"sk-estimator-id-3\" class=\"sk-toggleable__label sk-toggleable__label-arrow\">RandomForestClassifier</label><div class=\"sk-toggleable__content\"><pre>RandomForestClassifier(n_estimators=20, random_state=5)</pre></div></div></div></div></div>"
            ]
          },
          "metadata": {},
          "execution_count": 52
        }
      ],
      "source": [
        "# Fit the model to our training set\n",
        "model.fit(X_train, y_train)"
      ]
    },
    {
      "cell_type": "code",
      "execution_count": 53,
      "metadata": {
        "tags": [],
        "id": "h4xwYkagPGwk"
      },
      "outputs": [],
      "source": [
        "# Obtain predictions from the test data\n",
        "predicted = model.predict(X_test)"
      ]
    },
    {
      "cell_type": "markdown",
      "metadata": {
        "id": "G8IfGGFNPGwk"
      },
      "source": [
        "**Instructions 2/3**\n",
        "\n",
        "* Obtain and print the accuracy score by comparing the actual labels `y_test` with our predicted labels `predicted`."
      ]
    },
    {
      "cell_type": "code",
      "execution_count": 54,
      "metadata": {
        "tags": [],
        "colab": {
          "base_uri": "https://localhost:8080/"
        },
        "id": "n7x6p7qOPGwk",
        "outputId": "c5c881ff-b536-4dd0-f434-966f4d471d4a"
      },
      "outputs": [
        {
          "output_type": "stream",
          "name": "stdout",
          "text": [
            "Accuracy Score:\n",
            "0.991\n"
          ]
        }
      ],
      "source": [
        "print(f'Accuracy Score:\\n{accuracy_score(y_test, predicted):0.3f}')"
      ]
    },
    {
      "cell_type": "markdown",
      "metadata": {
        "id": "9NOZh0E2PGwk"
      },
      "source": [
        "**Instructions 3/3**\n",
        "\n",
        "What is a benefit of using Random Forests versus Decision Trees?\n",
        "\n",
        "**Possible Answers**\n",
        "\n",
        "* ~~Random Forests always have a higher accuracy than Decision Trees.~~\n",
        "* **Random Forests do not tend to overfit, whereas Decision Trees do.**\n",
        "* ~~Random Forests are computationally more efficient than Decision Trees.~~\n",
        "* ~~You can obtain \"feature importance\" from Random Forest, which makes it more transparent.~~\n",
        "\n",
        "**Random Forest prevents overfitting most of the time, by creating random subsets of the features and building smaller trees using these subsets. Afterwards, it combines the subtrees of subsamples of features, so it does not tend to overfit to your entire feature set the way \"deep\" Decisions Trees do.**"
      ]
    },
    {
      "cell_type": "markdown",
      "metadata": {
        "id": "_LJ5shyIPGwk"
      },
      "source": [
        "## Perfomance evaluation\n",
        "\n",
        "* Performance metrics for fraud detection models\n",
        "* There are other performace metrics that are more informative and reliable than accuracy"
      ]
    },
    {
      "cell_type": "markdown",
      "metadata": {
        "id": "SKGveDjCPGwk"
      },
      "source": [
        "#### Accuracy\n",
        "\n",
        "![accuracy](https://raw.githubusercontent.com/trenton3983/DataCamp/master/Images/fraud_detection/accuracy.JPG)\n",
        "* Accuracy isn't a reliable performance metric when working with highly imbalanced data (such as fraud detection)\n",
        "* By doing nothing, aka predicting everything is the majority class (right image), a higher accuracy is obtained than by trying to build a predictive model (left image)"
      ]
    },
    {
      "cell_type": "markdown",
      "metadata": {
        "id": "k_LZRm4vPGwk"
      },
      "source": [
        "#### Confusion Matrix\n",
        "\n",
        "![advanced confusion matrix](https://raw.githubusercontent.com/trenton3983/DataCamp/master/Images/fraud_detection/confusion_matrix_advanced.JPG)\n",
        "![confusion matrix](https://raw.githubusercontent.com/trenton3983/DataCamp/master/Images/fraud_detection/confusion_matrix.JPG)\n",
        "* [Confusion Matrix](https://en.wikipedia.org/wiki/Confusion_matrix)\n",
        "* False Positives (FP) / False Negatives (FN)\n",
        "    * FN: predicts the person is not pregnant, but actually is\n",
        "        * Cases of fraud not caught by the model\n",
        "    * FP: predicts the person is pregnant, but actually is not\n",
        "        * Cases of 'false alarm'\n",
        "    * the business case determines whether FN or FP cases are more important\n",
        "        * a credit card company might want to catch as much fraud as possible and reduce false negatives, as fraudulent transactions can be incredibly costly\n",
        "            * a false alarm just means a transaction is blocked\n",
        "        * an insurance company can't handle many false alarms, as it means getting a team of investigators involved for each positive prediction\n",
        "        \n",
        "* True Positives / True Negatives are the cases predicted correctly (e.g. fraud / non-fraud)"
      ]
    },
    {
      "cell_type": "markdown",
      "metadata": {
        "id": "OtP682wiPGwk"
      },
      "source": [
        "#### Precision Recall\n",
        "\n",
        "* Credit card company wants to optimize for recall\n",
        "* Insurance company wants to optimize for precision\n",
        "* Precision:\n",
        "    * $$Precision=\\frac{\\#\\space True\\space Positives}{\\#\\space True\\space Positives+\\#\\space False\\space Positives}$$\n",
        "    * Fraction of actual fraud cases out of all predicted fraud cases\n",
        "        * true positives relative to the sum of true positives and false positives\n",
        "* Recall:\n",
        "    * $$Recall=\\frac{\\#\\space True\\space Positives}{\\#\\space True\\space Positives+\\#\\space False\\space Negatives}$$\n",
        "    * Fraction of predicted fraud cases out of all actual fraud cases\n",
        "        * true positives relative to the sum of true positives and false negative\n",
        "* Precision and recall are typically inversely related\n",
        "    * As precision increases, recall falls and vice-versa\n",
        "    * ![precision recall inverse relation](https://raw.githubusercontent.com/trenton3983/DataCamp/master/Images/fraud_detection/precision_recall_inverse.JPG)"
      ]
    },
    {
      "cell_type": "markdown",
      "metadata": {
        "id": "UbRgwE-sPGwk"
      },
      "source": [
        "#### F-Score\n",
        "\n",
        "* Weighs both precision and recall into on measure\n",
        "\n",
        "\\begin{align}\n",
        "F-measure = \\frac{2\\times{Precision}\\times{Recall}}{Precision\\times{Recall}} \\\\\n",
        "\\\\\n",
        "= \\frac{2\\times{TP}}{2\\times{TP}+FP+FN}\n",
        "\\end{align}\n",
        "\n",
        "* is a performance metric that takes into account a balance between Precision and Recall"
      ]
    },
    {
      "cell_type": "markdown",
      "metadata": {
        "id": "ha01hiq8PGwk"
      },
      "source": [
        "#### Obtaining performance metrics from sklean\n",
        "\n",
        "```python\n",
        "# import the methods\n",
        "from sklearn.metrics import precision_recall_curve, average_precision_score\n",
        "\n",
        "# Calculate average precision and the PR curve\n",
        "average_precision = average_precision_score(y_test, predicted)\n",
        "\n",
        "# Obtain precision and recall\n",
        "precision, recall = precision_recall_curve(y_test, predicted)\n",
        "```"
      ]
    },
    {
      "cell_type": "markdown",
      "metadata": {
        "id": "SVtZKDoFPGwk"
      },
      "source": [
        "#### Receiver Operating Characteristic (ROC) curve to compare algorithms\n",
        "\n",
        "* Created by plotting the true positive rate against the false positive rate at various threshold settings\n",
        "* ![roc curve](https://raw.githubusercontent.com/trenton3983/DataCamp/master/Images/fraud_detection/roc_curve.JPG)\n",
        "* Useful for comparing performance of different algorithms\n",
        "\n",
        "```python\n",
        "# Obtain model probabilities\n",
        "probs = model.predict_proba(X_test)\n",
        "\n",
        "# Print ROC_AUC score using probabilities\n",
        "print(metrics.roc_auc_score(y_test, probs[:, 1]))\n",
        "```"
      ]
    },
    {
      "cell_type": "markdown",
      "metadata": {
        "id": "F-KQpQ0JPGwk"
      },
      "source": [
        "#### Confusion matrix and classification report\n",
        "\n",
        "```python\n",
        "from sklearn.metrics import classification_report, confusion_matrix\n",
        "\n",
        "# Obtain predictions\n",
        "predicted = model.predict(X_test)\n",
        "\n",
        "# Print classification report using predictions\n",
        "print(classification_report(y_test, predicted))\n",
        "\n",
        "# Print confusion matrix using predictions\n",
        "print(confusion_matrix(y_test, predicted))\n",
        "```"
      ]
    },
    {
      "cell_type": "markdown",
      "metadata": {
        "id": "DZwvy-VsPGwk"
      },
      "source": [
        "### Performance metrics for the RF model\n",
        "\n",
        "In the previous exercises you obtained an accuracy score for your random forest model. This time, we know **accuracy can be misleading** in the case of fraud detection. With highly imbalanced fraud data, the AUROC curve is a more reliable performance metric, used to compare different classifiers. Moreover, the *classification report* tells you about the precision and recall of your model, whilst the *confusion matrix* actually shows how many fraud cases you can predict correctly. So let's get these performance metrics.\n",
        "\n",
        "You'll continue working on the same random forest model from the previous exercise. Your model, defined as `model = RandomForestClassifier(random_state=5)` has been fitted to your training data already, and `X_train, y_train, X_test, y_test` are available.\n",
        "\n",
        "**Instructions**\n",
        "\n",
        "* Import the classification report, confusion matrix and ROC score from `sklearn.metrics`.\n",
        "* Get the binary predictions from your trained random forest `model`.\n",
        "* Get the predicted probabilities by running the `predict_proba()` function.\n",
        "* Obtain classification report and confusion matrix by comparing `y_test` with `predicted`."
      ]
    },
    {
      "cell_type": "code",
      "execution_count": 55,
      "metadata": {
        "tags": [],
        "id": "z3-3bjhPPGwk"
      },
      "outputs": [],
      "source": [
        "# Obtain the predictions from our random forest model\n",
        "predicted = model.predict(X_test)"
      ]
    },
    {
      "cell_type": "code",
      "execution_count": 56,
      "metadata": {
        "tags": [],
        "id": "McAdsq5YPGwk"
      },
      "outputs": [],
      "source": [
        "# Predict probabilities\n",
        "probs = model.predict_proba(X_test)"
      ]
    },
    {
      "cell_type": "code",
      "execution_count": 57,
      "metadata": {
        "tags": [],
        "colab": {
          "base_uri": "https://localhost:8080/"
        },
        "id": "jIIEYrOmPGwl",
        "outputId": "62338123-0579-449f-a396-50a326678e1d"
      },
      "outputs": [
        {
          "output_type": "stream",
          "name": "stdout",
          "text": [
            "ROC Score:\n",
            "0.9419896444670147\n",
            "\n",
            "Classification Report:\n",
            "              precision    recall  f1-score   support\n",
            "\n",
            "           0       0.99      1.00      1.00      2099\n",
            "           1       0.97      0.80      0.88        91\n",
            "\n",
            "    accuracy                           0.99      2190\n",
            "   macro avg       0.98      0.90      0.94      2190\n",
            "weighted avg       0.99      0.99      0.99      2190\n",
            "\n",
            "\n",
            "Confusion Matrix:\n",
            "[[2097    2]\n",
            " [  18   73]]\n"
          ]
        }
      ],
      "source": [
        "# Print the ROC curve, classification report and confusion matrix\n",
        "print('ROC Score:')\n",
        "print(roc_auc_score(y_test, probs[:,1]))\n",
        "print('\\nClassification Report:')\n",
        "print(classification_report(y_test, predicted))\n",
        "print('\\nConfusion Matrix:')\n",
        "print(confusion_matrix(y_test, predicted))"
      ]
    },
    {
      "cell_type": "markdown",
      "metadata": {
        "id": "DCug06cZPGwl"
      },
      "source": [
        "**You have now obtained more meaningful performance metrics that tell us how well the model performs, given the highly imbalanced data that you're working with. The model predicts 76 cases of fraud, out of which 73 are actual fraud. You have only 3 false positives. This is really good, and as a result you have a very high precision score. You do however, miss 18 cases of actual fraud. Recall is therefore not as good as precision.**"
      ]
    },
    {
      "cell_type": "markdown",
      "metadata": {
        "id": "tbe9OQPzPGwl"
      },
      "source": [
        "### Plotting the Precision vs. Recall Curve\n",
        "\n",
        "You can also plot a **Precision-Recall curve**, to investigate the trade-off between the two in your model. In this curve **Precision and Recall are inversely related**; as Precision increases, Recall falls and vice-versa. A balance between these two needs to be achieved in your model, otherwise you might end up with many false positives, or not enough actual fraud cases caught. To achieve this and to compare performance, the precision-recall curves come in handy.\n",
        "\n",
        "Your Random Forest Classifier is available as `model`, and the predictions as `predicted`. You can simply obtain the average precision score and the PR curve from the sklearn package. The function `plot_pr_curve()` plots the results for you. Let's give it a try.\n",
        "\n",
        "**Instructions 1/3**\n",
        "\n",
        "* Calculate the average precision by running the function on the actual labels `y_test` and your predicted labels `predicted`."
      ]
    },
    {
      "cell_type": "code",
      "execution_count": 58,
      "metadata": {
        "tags": [],
        "colab": {
          "base_uri": "https://localhost:8080/"
        },
        "id": "e5c6CSgQPGwl",
        "outputId": "56dd0779-a960-4254-c540-118a240d1ad7"
      },
      "outputs": [
        {
          "output_type": "execute_result",
          "data": {
            "text/plain": [
              "0.7890250388880526"
            ]
          },
          "metadata": {},
          "execution_count": 58
        }
      ],
      "source": [
        "# Calculate average precision and the PR curve\n",
        "average_precision = average_precision_score(y_test, predicted)\n",
        "average_precision"
      ]
    },
    {
      "cell_type": "markdown",
      "metadata": {
        "id": "8WNqsuonPGwl"
      },
      "source": [
        "**Instructions 2/3**\n",
        "\n",
        "* Run the `precision_recall_curve()` function on the same arguments `y_test` and `predicted` and plot the curve (this last thing has been done for you)."
      ]
    },
    {
      "cell_type": "code",
      "execution_count": 59,
      "metadata": {
        "tags": [],
        "colab": {
          "base_uri": "https://localhost:8080/"
        },
        "id": "P2DZSnaOPGwl",
        "outputId": "2a83b3ce-7413-478f-bbb0-bbdcdcb6df30"
      },
      "outputs": [
        {
          "output_type": "stream",
          "name": "stdout",
          "text": [
            "Precision: [0.04155251 0.97333333 1.        ]\n",
            "Recall: [1.        0.8021978 0.       ]\n"
          ]
        }
      ],
      "source": [
        "# Obtain precision and recall\n",
        "precision, recall, _ = precision_recall_curve(y_test, predicted)\n",
        "print(f'Precision: {precision}\\nRecall: {recall}')"
      ]
    },
    {
      "cell_type": "markdown",
      "metadata": {
        "id": "CwqsuyStPGwl"
      },
      "source": [
        "#### def plot_pr_curve"
      ]
    },
    {
      "cell_type": "code",
      "execution_count": 60,
      "metadata": {
        "tags": [],
        "id": "7zElpUGAPGwl"
      },
      "outputs": [],
      "source": [
        "def plot_pr_curve(recall, precision, average_precision):\n",
        "    \"\"\"\n",
        "    https://scikit-learn.org/stable/auto_examples/model_selection/plot_precision_recall.html\n",
        "    \"\"\"\n",
        "    from inspect import signature\n",
        "    plt.figure()\n",
        "    step_kwargs = ({'step': 'post'}\n",
        "                   if 'step' in signature(plt.fill_between).parameters\n",
        "                   else {})\n",
        "\n",
        "    plt.step(recall, precision, color='b', alpha=0.2, where='post')\n",
        "    plt.fill_between(recall, precision, alpha=0.2, color='b', **step_kwargs)\n",
        "\n",
        "    plt.xlabel('Recall')\n",
        "    plt.ylabel('Precision')\n",
        "    plt.ylim([0.0, 1.0])\n",
        "    plt.xlim([0.0, 1.0])\n",
        "    plt.title(f'2-class Precision-Recall curve: AP={average_precision:0.2f}')\n",
        "    return plt.show()"
      ]
    },
    {
      "cell_type": "code",
      "execution_count": 61,
      "metadata": {
        "tags": [],
        "colab": {
          "base_uri": "https://localhost:8080/",
          "height": 472
        },
        "id": "z_soAmwEPGwl",
        "outputId": "5f546b3c-9d66-45ce-91dc-274cf7955a9a"
      },
      "outputs": [
        {
          "output_type": "display_data",
          "data": {
            "text/plain": [
              "<Figure size 640x480 with 1 Axes>"
            ],
            "image/png": "[encoded data removed]"
          },
          "metadata": {}
        }
      ],
      "source": [
        "# Plot the recall precision tradeoff\n",
        "plot_pr_curve(recall, precision, average_precision)"
      ]
    },
    {
      "cell_type": "markdown",
      "metadata": {
        "id": "ppvx21W7PGwl"
      },
      "source": [
        "**Instructions 3/3**\n",
        "\n",
        "What's the benefit of the performance metric ROC curve (AUROC) versus Precision and Recall?\n",
        "\n",
        "**Possible Answers**\n",
        "\n",
        "* **The AUROC answers the question: \"How well can this classifier be expected to perform in general, at a variety of different baseline probabilities?\" but precision and recall don't.**\n",
        "* ~~The AUROC answers the question: \"How meaningful is a positive result from my classifier given the baseline probabilities of my problem?\" but precision and recall don't.~~\n",
        "* ~~Precision and Recall are not informative when the data is imbalanced.~~\n",
        "* ~~The AUROC curve allows you to visualize classifier performance and with Precision and Recall you cannot.~~\n",
        "\n",
        "**The ROC curve plots the true positives vs. false positives , for a classifier, as its discrimination threshold is varied. Since, a random method describes a horizontal curve through the unit interval, it has an AUC of 0.5. Minimally, classifiers should perform better than this, and the extent to which they score higher than one another (meaning the area under the ROC curve is larger), they have better expected performance.**"
      ]
    },
    {
      "cell_type": "markdown",
      "metadata": {
        "id": "o8sWWNJqPGwl"
      },
      "source": [
        "## Adjusting the algorithm weights\n",
        "\n",
        "* Adjust model parameter to optimize for fraud detection.\n",
        "* When training a model, try different options and settings to get the best recall-precision trade-off\n",
        "* sklearn has two simple options to tweak the model for heavily imbalanced data\n",
        "    * `class_weight`:\n",
        "        * `balanced` mode: `model = RandomForestClassifier(class_weight='balanced')`\n",
        "            * uses the values of y to automatically adjust weights inversely proportional to class frequencies in the the input data\n",
        "            * this option is available for other classifiers\n",
        "                * `model = LogisticRegression(class_weight='balanced')`\n",
        "                * `model = SVC(kernel='linear', class_weight='balanced', probability=True)`\n",
        "        * `balanced_subsample` mode: `model = RandomForestClassifier(class_weight='balanced_subsample')`\n",
        "            * is the same as the `balanced` option, except weights are calculated again at each iteration of growing a tree in a the random forest\n",
        "            * this option is only applicable for the Random Forest model\n",
        "        * manual input\n",
        "            * adjust weights to any ratio, not just value counts relative to sample\n",
        "            * `class_weight={0:1,1:4}`\n",
        "            * this is a good option to slightly upsample the minority class"
      ]
    },
    {
      "cell_type": "markdown",
      "metadata": {
        "id": "K17NbMlYPGwl"
      },
      "source": [
        "#### Hyperparameter tuning\n",
        "\n",
        "* Random Forest takes many other options to optimize the model\n",
        "\n",
        "```python\n",
        "model = RandomForestClassifier(n_estimators=10,\n",
        "                               criterion=’gini’,\n",
        "                               max_depth=None,\n",
        "                               min_samples_split=2,\n",
        "                               min_samples_leaf=1,\n",
        "                               max_features=’auto’,\n",
        "                               n_jobs=-1, class_weight=None)\n",
        "```\n",
        "\n",
        "* the shape and size of the trees in a random forest are adjusted with **leaf size** and **tree depth**\n",
        "* `n_estimators`: one of the most important setting is the number of trees in the forest\n",
        "* `max_features`: the number of features considered for splitting at each leaf node\n",
        "* `criterion`: change the way the data is split at each node (default is `gini` coefficient)"
      ]
    },
    {
      "cell_type": "markdown",
      "metadata": {
        "id": "WXvwQTlHPGwl"
      },
      "source": [
        "#### GridSearchCV for hyperparameter tuning\n",
        "\n",
        "* [sklearn.model_selection.GridSearchCV](https://scikit-learn.org/stable/modules/generated/sklearn.model_selection.GridSearchCV.html)\n",
        "* `from sklearn.model_selection import GridSearchCV`\n",
        "* `GridSearchCV evaluates all combinations of parameters defined in the parameter grid\n",
        "* Random Forest Parameter Grid:\n",
        "\n",
        "```python\n",
        "# Create the parameter grid\n",
        "param_grid = {'max_depth': [80, 90, 100, 110],\n",
        "              'max_features': [2, 3],\n",
        "              'min_samples_leaf': [3, 4, 5],\n",
        "              'min_samples_split': [8, 10, 12],\n",
        "              'n_estimators': [100, 200, 300, 1000]}\n",
        "\n",
        "# Define which model to use\n",
        "model = RandomForestRegressor()\n",
        "\n",
        "# Instantiate the grid search model\n",
        "grid_search_model = GridSearchCV(estimator = model,\n",
        "                                 param_grid = param_grid,\n",
        "                                 cv = 5,\n",
        "                                 n_jobs = -1,\n",
        "                                 scoring='f1')\n",
        "```\n",
        "\n",
        "* define the ML model to be used\n",
        "* put the model into `GridSearchCV`\n",
        "* pass in `param_grid`\n",
        "* frequency of cross-validation\n",
        "* define a scoring metric to evaluate the models\n",
        "    * the default option is accuracy which isn't optimal for fraud detection\n",
        "    * use `precision`, `recall` or `f1`\n",
        "\n",
        "```python\n",
        "# Fit the grid search to the data\n",
        "grid_search_model.fit(X_train, y_train)\n",
        "\n",
        "# Get the optimal parameters\n",
        "grid_search_model.best_params_\n",
        "\n",
        "{'bootstrap': True,\n",
        " 'max_depth': 80,\n",
        " 'max_features': 3,\n",
        " 'min_samples_leaf': 5,\n",
        " 'min_samples_split': 12,\n",
        " 'n_estimators': 100}\n",
        "```\n",
        "\n",
        "* once `GridSearchCV` and `model` are fit to the data, obtain the parameters belonging to the optimal model by using the `best_params_` attribute\n",
        "* `GridSearchCV` is computationally heavy\n",
        "    * Can require many hours, depending on the amount of data and number of parameters in the grid\n",
        "    * __**Save the Results**__\n",
        "\n",
        "```python\n",
        "# Get the best_estimator results\n",
        "grid_search.best_estimator_\n",
        "grid_search.best_score_\n",
        "```\n",
        "\n",
        "* `best_score_`: mean cross-validated score of the `best_estimator_`, which depends on the `scoring` option"
      ]
    },
    {
      "cell_type": "markdown",
      "metadata": {
        "id": "zgrZN5lfPGwl"
      },
      "source": [
        "### Model adjustments\n",
        "\n",
        "A simple way to adjust the random forest model to deal with highly imbalanced fraud data, is to use the **`class_weights` option** when defining the `sklearn` model. However, as you will see, it is a bit of a blunt force mechanism and might not work for your very special case.\n",
        "\n",
        "In this exercise you'll explore the ``weight = \"balanced_subsample\"`` mode the Random Forest model from the earlier exercise. You already have split your data in a training and test set, i.e `X_train`, `X_test`, `y_train`, `y_test` are available. The metrics function have already been imported.\n",
        "\n",
        "**Instructions**\n",
        "\n",
        "* Set the `class_weight` argument of your classifier to `balanced_subsample`.\n",
        "* Fit your model to your training set.\n",
        "* Obtain predictions and probabilities from X_test.\n",
        "* Obtain the `roc_auc_score`, the classification report and confusion matrix."
      ]
    },
    {
      "cell_type": "code",
      "execution_count": 62,
      "metadata": {
        "tags": [],
        "colab": {
          "base_uri": "https://localhost:8080/"
        },
        "id": "-kISqZosPGwm",
        "outputId": "474cda2b-3681-4e6e-e899-16f9dbc0be05"
      },
      "outputs": [
        {
          "output_type": "stream",
          "name": "stdout",
          "text": [
            "ROC Score:\n",
            "0.9750299724096771\n",
            "\n",
            "Classification Report:\n",
            "              precision    recall  f1-score   support\n",
            "\n",
            "           0       0.99      1.00      1.00      2099\n",
            "           1       0.99      0.80      0.88        91\n",
            "\n",
            "    accuracy                           0.99      2190\n",
            "   macro avg       0.99      0.90      0.94      2190\n",
            "weighted avg       0.99      0.99      0.99      2190\n",
            "\n",
            "\n",
            "Confusion Matrix:\n",
            "[[2098    1]\n",
            " [  18   73]]\n"
          ]
        }
      ],
      "source": [
        "# Define the model with balanced subsample\n",
        "model = RandomForestClassifier(class_weight='balanced_subsample', random_state=5, n_estimators=100)\n",
        "\n",
        "# Fit your training model to your training set\n",
        "model.fit(X_train, y_train)\n",
        "\n",
        "# Obtain the predicted values and probabilities from the model\n",
        "predicted = model.predict(X_test)\n",
        "probs = model.predict_proba(X_test)\n",
        "\n",
        "# Print the ROC curve, classification report and confusion matrix\n",
        "print('ROC Score:')\n",
        "print(roc_auc_score(y_test, probs[:,1]))\n",
        "print('\\nClassification Report:')\n",
        "print(classification_report(y_test, predicted))\n",
        "print('\\nConfusion Matrix:')\n",
        "print(confusion_matrix(y_test, predicted))"
      ]
    },
    {
      "cell_type": "markdown",
      "metadata": {
        "id": "YcCXyNUBPGwm"
      },
      "source": [
        "**You can see that the model results don't improve drastically. We now have 3 less false positives, but now 19 in stead of 18 false negatives, i.e. cases of fraud we are not catching. If we mostly care about catching fraud, and not so much about the false positives, this does actually not improve our model at all, albeit a simple option to try. In the next exercises you'll see how to more smartly tweak your model to focus on reducing false negatives and catch more fraud.**"
      ]
    },
    {
      "cell_type": "markdown",
      "metadata": {
        "id": "r2N5zWAKPGwm"
      },
      "source": [
        "### Adjusting RF for fraud detection\n",
        "\n",
        "In this exercise you're going to dive into the options for the random forest classifier, as we'll **assign weights** and **tweak the shape** of the decision trees in the forest. You'll **define weights manually**, to be able to off-set that imbalance slightly. In our case we have 300 fraud to 7000 non-fraud cases, so by setting the weight ratio to 1:12, we get to a 1/3 fraud to 2/3 non-fraud ratio, which is good enough for training the model on.\n",
        "\n",
        "The data in this exercise has already been split into training and test set, so you just need to focus on defining your model. You can then use the function `get_model_results()` as a short cut. This function fits the model to your training data, predicts and obtains performance metrics similar to the steps you did in the previous exercises.\n",
        "\n",
        "**Instructions**\n",
        "\n",
        "* Change the `weight` option to set the ratio to 1 to 12 for the non-fraud and fraud cases, and set the split criterion to 'entropy'.\n",
        "* Set the maximum depth to 10.\n",
        "* Set the minimal samples in leaf nodes to 10.\n",
        "* Set the number of trees to use in the model to 20."
      ]
    },
    {
      "cell_type": "markdown",
      "metadata": {
        "id": "Tu-Oqp9RPGwm"
      },
      "source": [
        "#### def get_model_results"
      ]
    },
    {
      "cell_type": "code",
      "execution_count": 63,
      "metadata": {
        "tags": [],
        "id": "AC0VAgZUPGwm"
      },
      "outputs": [],
      "source": [
        "def get_model_results(X_train: np.ndarray, y_train: np.ndarray,\n",
        "                      X_test: np.ndarray, y_test: np.ndarray, model):\n",
        "    \"\"\"\n",
        "    model: sklearn model (e.g. RandomForestClassifier)\n",
        "    \"\"\"\n",
        "    # Fit your training model to your training set\n",
        "    model.fit(X_train, y_train)\n",
        "\n",
        "    # Obtain the predicted values and probabilities from the model\n",
        "    predicted = model.predict(X_test)\n",
        "\n",
        "    try:\n",
        "        probs = model.predict_proba(X_test)\n",
        "        print('ROC Score:')\n",
        "        print(roc_auc_score(y_test, probs[:,1]))\n",
        "    except AttributeError:\n",
        "        pass\n",
        "\n",
        "    # Print the ROC curve, classification report and confusion matrix\n",
        "    print('\\nClassification Report:')\n",
        "    print(classification_report(y_test, predicted))\n",
        "    print('\\nConfusion Matrix:')\n",
        "    print(confusion_matrix(y_test, predicted))"
      ]
    },
    {
      "cell_type": "code",
      "execution_count": 64,
      "metadata": {
        "tags": [],
        "colab": {
          "base_uri": "https://localhost:8080/"
        },
        "id": "A5MfetNyPGwm",
        "outputId": "ff02a299-34e6-4a55-88cb-eee5ae182d10"
      },
      "outputs": [
        {
          "output_type": "stream",
          "name": "stdout",
          "text": [
            "ROC Score:\n",
            "0.9609651901219315\n",
            "\n",
            "Classification Report:\n",
            "              precision    recall  f1-score   support\n",
            "\n",
            "           0       0.99      1.00      1.00      2099\n",
            "           1       0.97      0.85      0.91        91\n",
            "\n",
            "    accuracy                           0.99      2190\n",
            "   macro avg       0.98      0.92      0.95      2190\n",
            "weighted avg       0.99      0.99      0.99      2190\n",
            "\n",
            "\n",
            "Confusion Matrix:\n",
            "[[2097    2]\n",
            " [  14   77]]\n"
          ]
        }
      ],
      "source": [
        "# Change the model options\n",
        "model = RandomForestClassifier(bootstrap=True,\n",
        "                               class_weight={0:1, 1:12},\n",
        "                               criterion='entropy',\n",
        "                               # Change depth of model\n",
        "                               max_depth=10,\n",
        "                               # Change the number of samples in leaf nodes\n",
        "                               min_samples_leaf=10,\n",
        "                               # Change the number of trees to use\n",
        "                               n_estimators=20,\n",
        "                               n_jobs=-1,\n",
        "                               random_state=5)\n",
        "\n",
        "# Run the function get_model_results\n",
        "get_model_results(X_train, y_train, X_test, y_test, model)"
      ]
    },
    {
      "cell_type": "markdown",
      "metadata": {
        "id": "DoMxW4MQPGwm"
      },
      "source": [
        "**By smartly defining more options in the model, you can obtain better predictions. You have effectively reduced the number of false negatives, i.e. you are catching more cases of fraud, whilst keeping the number of false positives low. In this exercise you've manually changed the options of the model. There is a smarter way of doing it, by using `GridSearchCV`, which you'll see in the next exercise!**"
      ]
    },
    {
      "cell_type": "markdown",
      "metadata": {
        "id": "ZvmvqjrgPGwm"
      },
      "source": [
        "### Parameter optimization with GridSearchCV\n",
        "\n",
        "In this exercise you're going to **tweak our model in a less \"random\" way**, but use `GridSearchCV` to do the work for you.\n",
        "\n",
        "With `GridSearchCV` you can define **which performance metric to score** the options on. Since for fraud detection we are mostly interested in catching as many fraud cases as possible, you can optimize your model settings to get the best possible Recall score. If you also cared about reducing the number of false positives, you could optimize on F1-score, this gives you that nice Precision-Recall trade-off.\n",
        "\n",
        "`GridSearchCV` has already been imported from `sklearn.model_selection`, so let's give it a try!\n",
        "\n",
        "**Instructions**\n",
        "\n",
        "* Define in the parameter grid that you want to try 1 and 30 trees, and that you want to try the `gini` and `entropy` split criterion.\n",
        "* Define the model to be simple `RandomForestClassifier`, you want to keep the random_state at 5 to be able to compare models.\n",
        "* Set the `scoring` option such that it optimizes for recall.\n",
        "* Fit the model to the training data `X_train` and `y_train` and obtain the best parameters for the model."
      ]
    },
    {
      "cell_type": "code",
      "execution_count": 65,
      "metadata": {
        "tags": [],
        "colab": {
          "base_uri": "https://localhost:8080/"
        },
        "id": "vU3jXmbPPGwm",
        "outputId": "3017e55b-02e7-4d95-aa89-541649289c05"
      },
      "outputs": [
        {
          "output_type": "execute_result",
          "data": {
            "text/plain": [
              "{'criterion': 'gini',\n",
              " 'max_depth': 8,\n",
              " 'max_features': 'log2',\n",
              " 'n_estimators': 30}"
            ]
          },
          "metadata": {},
          "execution_count": 65
        }
      ],
      "source": [
        "# Define the parameter sets to test\n",
        "param_grid = {'n_estimators': [1, 30],\n",
        "              'max_features': ['auto', 'log2'],\n",
        "              'max_depth': [4, 8, 10, 12],\n",
        "              'criterion': ['gini', 'entropy']}\n",
        "\n",
        "# Define the model to use\n",
        "model = RandomForestClassifier(random_state=5)\n",
        "\n",
        "# Combine the parameter sets with the defined model\n",
        "CV_model = GridSearchCV(estimator=model, param_grid=param_grid, cv=5, scoring='recall', n_jobs=-1)\n",
        "\n",
        "# Fit the model to our training data and obtain best parameters\n",
        "CV_model.fit(X_train, y_train)\n",
        "CV_model.best_params_"
      ]
    },
    {
      "cell_type": "markdown",
      "metadata": {
        "id": "k6LTAMjQPGwm"
      },
      "source": [
        "### Model results with GridSearchCV\n",
        "\n",
        "You discovered that the **best parameters for your model** are that the split criterion should be set to `'gini'`, the number of estimators (trees) should be 30, the maximum depth of the model should be 8 and the maximum features should be set to `\"log2\"`.\n",
        "\n",
        "Let's give this a try and see how well our model performs. You can use the `get_model_results()` function again to save time.\n",
        "\n",
        "**Instructions**\n",
        "\n",
        "* Input the optimal settings into the model definition.\n",
        "* Fit the model, obtain predictions and get the performance parameters with `get_model_results()`."
      ]
    },
    {
      "cell_type": "code",
      "execution_count": 66,
      "metadata": {
        "tags": [],
        "colab": {
          "base_uri": "https://localhost:8080/"
        },
        "id": "gSvz-2JuPGwm",
        "outputId": "a8217198-1503-4562-cad0-bdef6697357a"
      },
      "outputs": [
        {
          "output_type": "stream",
          "name": "stdout",
          "text": [
            "ROC Score:\n",
            "0.9749697658225529\n",
            "\n",
            "Classification Report:\n",
            "              precision    recall  f1-score   support\n",
            "\n",
            "           0       0.99      1.00      1.00      2099\n",
            "           1       0.95      0.84      0.89        91\n",
            "\n",
            "    accuracy                           0.99      2190\n",
            "   macro avg       0.97      0.92      0.94      2190\n",
            "weighted avg       0.99      0.99      0.99      2190\n",
            "\n",
            "\n",
            "Confusion Matrix:\n",
            "[[2095    4]\n",
            " [  15   76]]\n"
          ]
        }
      ],
      "source": [
        "# Input the optimal parameters in the model\n",
        "model = RandomForestClassifier(class_weight={0:1,1:12},\n",
        "                               criterion='gini',\n",
        "                               max_depth=8,\n",
        "                               max_features='log2',\n",
        "                               min_samples_leaf=10,\n",
        "                               n_estimators=30,\n",
        "                               n_jobs=-1,\n",
        "                               random_state=5)\n",
        "\n",
        "# Get results from your model\n",
        "get_model_results(X_train, y_train, X_test, y_test, model)"
      ]
    },
    {
      "cell_type": "markdown",
      "metadata": {
        "id": "0iXkCZePPGwm"
      },
      "source": [
        "**The model has been improved even further. The number of false positives has now been slightly reduced even further, which means we are catching more cases of fraud. However, you see that the number of false positives actually went up. That is that Precision-Recall trade-off in action. To decide which final model is best, you need to take into account how bad it is not to catch fraudsters, versus how many false positives the fraud analytics team can deal with. Ultimately, this final decision should be made by you and the fraud team together.**"
      ]
    },
    {
      "cell_type": "markdown",
      "metadata": {
        "id": "AAY60WQ7PGwm"
      },
      "source": [
        "## Ensemble methods\n",
        "\n",
        "![ensemble](https://raw.githubusercontent.com/trenton3983/DataCamp/master/Images/fraud_detection/ensemble.JPG)\n",
        "* Ensemble methods are techniques that create multiple machine learning models and then combine them to produce a final result\n",
        "* Usually produce more accurate predictions than a single model\n",
        "* The goal of an ML problem is to find a single model that will best predict our wanted outcome\n",
        "    * Use ensemble methods rather than making one model and hoping it's best, most accurate predictor\n",
        "* Ensemble methods take a myriad of models into account and average them to produce one final model\n",
        "    * Ensures the predictions are robust\n",
        "    * Less likely to be the result of overfitting\n",
        "    * Can improve prediction performance\n",
        "        * Especially by combining models with different recall and precision scores\n",
        "    * Are a winning formula at Kaggle competitions\n",
        "* The Random Forest classifier is an ensemble of Decision Trees\n",
        "    * **Bootstrap Aggregation** or **Bagging Ensemble** method\n",
        "    * In a Random Forest, models are trained on random subsamples of data and the results are aggregated by taking the average prediction of all the trees"
      ]
    },
    {
      "cell_type": "markdown",
      "metadata": {
        "id": "a038sCabPGwm"
      },
      "source": [
        "#### Stacking Ensemble Methods\n",
        "\n",
        "![stacking ensemble](https://raw.githubusercontent.com/trenton3983/DataCamp/master/Images/fraud_detection/ensemble_stacking.JPG)\n",
        "* Multiple models are combined via a \"voting\" rule on the model outcome\n",
        "* The base level models are each trained based on the complete training set\n",
        "    * Unlike the Bagging method, models are not trained on a subsample of the data\n",
        "* Algorithms of different types can be combined"
      ]
    },
    {
      "cell_type": "markdown",
      "metadata": {
        "id": "kPUo-dBbPGwm"
      },
      "source": [
        "#### Voting Classifier\n",
        "\n",
        "* available in sklearn\n",
        "    * easy way of implementing an ensemble model\n",
        "\n",
        "```python\n",
        "from sklearn.ensemble import VotingClassifier\n",
        "\n",
        "# Define Models\n",
        "clf1 = LogisticRegression(random_state=1)\n",
        "clf2 = RandomForestClassifier(random_state=1)\n",
        "clf3 = GaussianNB()\n",
        "\n",
        "# Combine models into ensemble\n",
        "ensemble_model = VotingClassifier(estimators=[('lr', clf1), ('rf', clf2), ('gnb', clf3)], voting='hard')\n",
        "\n",
        "# Fit and predict as with other models\n",
        "ensemble_model.fit(X_train, y_train)\n",
        "ensemble_model.predict(X_test)\n",
        "```\n",
        "\n",
        "* the `voting='hard'` option uses the predicted class labels and takes the majority vote\n",
        "* the `voting='soft'` option takes the average probability by combining the predicted probabilities of the individual models\n",
        "* Weights can be assigned to the `VotingClassifer` with `weights=[2,1,1]`\n",
        "    * Useful when one model significantly outperforms the others"
      ]
    },
    {
      "cell_type": "markdown",
      "metadata": {
        "id": "8y_DpwmoPGwm"
      },
      "source": [
        "#### Reliable Labels\n",
        "\n",
        "* In real life it's unlikely the data will have truly unbiased, reliable labels for the model\n",
        "* In credit card fraud you often will have reliable labels, in which case, use the methods learned so far\n",
        "* Most cases you'll need to rely on unsupervised learning techniques to detect fraud"
      ]
    },
    {
      "cell_type": "markdown",
      "metadata": {
        "id": "Ns_fHLI1PGwm"
      },
      "source": [
        "### Logistic Regression\n",
        "\n",
        "In this last lesson you'll **combine three algorithms** into one model with the **VotingClassifier**. This allows us to benefit from the different aspects from all models, and hopefully improve overall performance and detect more fraud. The first model, the Logistic Regression, has a slightly higher recall score than our optimal Random Forest model, but gives a lot more false positives. You'll also add a Decision Tree with balanced weights to it. The data is already split into a training and test set, i.e. `X_train`, `y_train`, `X_test`, `y_test` are available.\n",
        "\n",
        "In order to understand how the Voting Classifier can potentially improve your original model, you should check the standalone results of the Logistic Regression model first.\n",
        "\n",
        "**Instructions**\n",
        "\n",
        "* Define a LogisticRegression model with class weights that are 1:15 for the fraud cases.\n",
        "* Fit the model to the training set, and obtain the model predictions.\n",
        "* Print the classification report and confusion matrix."
      ]
    },
    {
      "cell_type": "code",
      "execution_count": 67,
      "metadata": {
        "tags": [],
        "colab": {
          "base_uri": "https://localhost:8080/"
        },
        "id": "YPdLg8s4PGwm",
        "outputId": "4139ffe8-ad28-4ce8-c9b1-80bb9b4cae58"
      },
      "outputs": [
        {
          "output_type": "stream",
          "name": "stdout",
          "text": [
            "ROC Score:\n",
            "0.9722054981702433\n",
            "\n",
            "Classification Report:\n",
            "              precision    recall  f1-score   support\n",
            "\n",
            "           0       0.99      0.98      0.99      2099\n",
            "           1       0.63      0.88      0.73        91\n",
            "\n",
            "    accuracy                           0.97      2190\n",
            "   macro avg       0.81      0.93      0.86      2190\n",
            "weighted avg       0.98      0.97      0.98      2190\n",
            "\n",
            "\n",
            "Confusion Matrix:\n",
            "[[2052   47]\n",
            " [  11   80]]\n"
          ]
        }
      ],
      "source": [
        "# Define the Logistic Regression model with weights\n",
        "model = LogisticRegression(class_weight={0:1, 1:15}, random_state=5, solver='liblinear')\n",
        "\n",
        "# Get the model results\n",
        "get_model_results(X_train, y_train, X_test, y_test, model)"
      ]
    },
    {
      "cell_type": "markdown",
      "metadata": {
        "id": "wy-ivQPGPGwn"
      },
      "source": [
        "**As you can see the Logistic Regression has quite different performance from the Random Forest. More false positives, but also a better Recall. It will therefore will a useful addition to the Random Forest in an ensemble model.**"
      ]
    },
    {
      "cell_type": "markdown",
      "metadata": {
        "id": "tSBL00zjPGwn"
      },
      "source": [
        "### Voting Classifier\n",
        "\n",
        "Let's now **combine three machine learning models into one**, to improve our Random Forest fraud detection model from before. You'll combine our usual Random Forest model, with the Logistic Regression from the previous exercise, with a simple Decision Tree. You can use the short cut `get_model_results()` to see the immediate result of the ensemble model.\n",
        "\n",
        "**Instructions**\n",
        "\n",
        "* Import the Voting Classifier package.\n",
        "* Define the three models; use the Logistic Regression from before, the Random Forest from previous exercises and a Decision tree with balanced class weights.\n",
        "* Define the ensemble model by inputting the three classifiers with their respective labels."
      ]
    },
    {
      "cell_type": "code",
      "execution_count": 68,
      "metadata": {
        "tags": [],
        "colab": {
          "base_uri": "https://localhost:8080/"
        },
        "id": "OnV5Z44hPGwn",
        "outputId": "64ed5e35-8bc6-40e8-cba1-651163a7d85d"
      },
      "outputs": [
        {
          "output_type": "stream",
          "name": "stdout",
          "text": [
            "\n",
            "Classification Report:\n",
            "              precision    recall  f1-score   support\n",
            "\n",
            "           0       0.99      1.00      0.99      2099\n",
            "           1       0.90      0.86      0.88        91\n",
            "\n",
            "    accuracy                           0.99      2190\n",
            "   macro avg       0.95      0.93      0.94      2190\n",
            "weighted avg       0.99      0.99      0.99      2190\n",
            "\n",
            "\n",
            "Confusion Matrix:\n",
            "[[2090    9]\n",
            " [  13   78]]\n"
          ]
        }
      ],
      "source": [
        "# Define the three classifiers to use in the ensemble\n",
        "clf1 = LogisticRegression(class_weight={0:1, 1:15},\n",
        "                          random_state=5,\n",
        "                          solver='liblinear')\n",
        "\n",
        "clf2 = RandomForestClassifier(class_weight={0:1, 1:12},\n",
        "                              criterion='gini',\n",
        "                              max_depth=8,\n",
        "                              max_features='log2',\n",
        "                              min_samples_leaf=10,\n",
        "                              n_estimators=30,\n",
        "                              n_jobs=-1,\n",
        "                              random_state=5)\n",
        "\n",
        "clf3 = DecisionTreeClassifier(random_state=5,\n",
        "                              class_weight=\"balanced\")\n",
        "\n",
        "# Combine the classifiers in the ensemble model\n",
        "ensemble_model = VotingClassifier(estimators=[('lr', clf1), ('rf', clf2), ('dt', clf3)], voting='hard')\n",
        "\n",
        "# Get the results\n",
        "get_model_results(X_train, y_train, X_test, y_test, ensemble_model)"
      ]
    },
    {
      "cell_type": "markdown",
      "metadata": {
        "id": "10aE5LmOPGwn"
      },
      "source": [
        "**By combining the classifiers, you can take the best of multiple models. You've increased the cases of fraud you are catching from 76 to 78, and you only have 5 extra false positives in return. If you do care about catching as many fraud cases as you can, whilst keeping the false positives low, this is a pretty good trade-off. The Logistic Regression as a standalone was quite bad in terms of false positives, and the Random Forest was worse in terms of false negatives. By combining these together you indeed managed to improve performance.**"
      ]
    },
    {
      "cell_type": "markdown",
      "metadata": {
        "id": "OM1nXMNIPGwn"
      },
      "source": [
        "### Adjusting weights within the Voting Classifier\n",
        "\n",
        "You've just seen that the Voting Classifier allows you to improve your fraud detection performance, by combining good aspects from multiple models. Now let's try to **adjust the weights** we give to these models. By increasing or decreasing weights you can play with **how much emphasis you give to a particular model** relative to the rest. This comes in handy when a certain model has overall better performance than the rest, but you still want to combine aspects of the others to further improve your results.\n",
        "\n",
        "For this exercise the data is already split into a training and test set, and `clf1`, `clf2` and `clf3` are available and defined as before, i.e. they are the Logistic Regression, the Random Forest model and the Decision Tree respectively.\n",
        "\n",
        "**Instructions**\n",
        "\n",
        "* Define an ensemble method where you over weigh the second classifier (`clf2`) with 4 to 1 to the rest of the classifiers.\n",
        "* Fit the model to the training and test set, and obtain the predictions `predicted` from the ensemble model.\n",
        "* Print the performance metrics, this is ready for you to run."
      ]
    },
    {
      "cell_type": "code",
      "execution_count": 69,
      "metadata": {
        "tags": [],
        "colab": {
          "base_uri": "https://localhost:8080/"
        },
        "id": "cRoIJ71WPGwn",
        "outputId": "2b102926-8eca-4141-ebb2-6760dc38a5be"
      },
      "outputs": [
        {
          "output_type": "stream",
          "name": "stdout",
          "text": [
            "ROC Score:\n",
            "0.9739226947421326\n",
            "\n",
            "Classification Report:\n",
            "              precision    recall  f1-score   support\n",
            "\n",
            "           0       0.99      1.00      1.00      2099\n",
            "           1       0.94      0.85      0.89        91\n",
            "\n",
            "    accuracy                           0.99      2190\n",
            "   macro avg       0.97      0.92      0.94      2190\n",
            "weighted avg       0.99      0.99      0.99      2190\n",
            "\n",
            "\n",
            "Confusion Matrix:\n",
            "[[2094    5]\n",
            " [  14   77]]\n"
          ]
        }
      ],
      "source": [
        "# Define the ensemble model\n",
        "ensemble_model = VotingClassifier(estimators=[('lr', clf1), ('rf', clf2), ('gnb', clf3)], voting='soft', weights=[1, 4, 1], flatten_transform=True)\n",
        "\n",
        "# Get results\n",
        "get_model_results(X_train, y_train, X_test, y_test, ensemble_model)"
      ]
    },
    {
      "cell_type": "markdown",
      "metadata": {
        "id": "TzWFK2oKPGwn"
      },
      "source": [
        "**The weight option allows you to play with the individual models to get the best final mix for your fraud detection model. Now that you have finalized fraud detection with supervised learning, let's have a look at how fraud detetion can be done when you don't have any labels to train on.**"
      ]
    },
    {
      "cell_type": "markdown",
      "metadata": {
        "id": "530v_fDkPGwn"
      },
      "source": [
        "# Fraud detection using unlabeled data\n",
        "\n",
        "Use unsupervised learning techniques to detect fraud. Segment customers, use K-means clustering and other clustering algorithms to find suspicious occurrences in your data."
      ]
    },
    {
      "cell_type": "markdown",
      "metadata": {
        "id": "jsqQ-N8BPGwn"
      },
      "source": [
        "## Normal versus abnormal behavior\n",
        "\n",
        "* Explore fraud detection without reliable data labels\n",
        "* Unsupervised learning to detect suspicious behavior\n",
        "* Abnormal behavior isn't necessarily fraudulent\n",
        "* Challenging because it's difficult to validate"
      ]
    },
    {
      "cell_type": "markdown",
      "metadata": {
        "id": "eb-uIhVnPGwn"
      },
      "source": [
        "#### What's normal behavior?\n",
        "\n",
        "* thoroughly describe the data:\n",
        "    * plot histograms\n",
        "    * check for outliers\n",
        "    * investigate correlations\n",
        "* Are there any known historic cases of fraud? What typifies those cases?\n",
        "* Investigate whether the data is homogeneous, or whether different types of clients display different behavior\n",
        "* Check patterns within subgroups of data: is your data homogeneous?\n",
        "* Verify data points are the same type:\n",
        "    * individuals\n",
        "    * groups\n",
        "    * companies\n",
        "    * governmental organizations\n",
        "* Do the data points differ on:\n",
        "    * spending patterns\n",
        "    * age\n",
        "    * location\n",
        "    * frequency\n",
        "* For credit card fraud, location can be an indication of fraud\n",
        "* This goes for e-commerce sites\n",
        "    * where's the IP address located and where is the product ordered to ship?\n",
        "* Create a separate model for each segment\n",
        "* How to aggregate the many model results back into one final list"
      ]
    },
    {
      "cell_type": "markdown",
      "metadata": {
        "id": "2n2gfdPqPGwn"
      },
      "source": [
        "### Exploring the data\n",
        "\n",
        "In the next exercises, you will be looking at bank **payment transaction data**. The financial transactions are categorized by type of expense, as well as the amount spent. Moreover, you have some client characteristics available such as age group and gender. Some of the transactions are labeled as fraud; you'll treat these labels as given and will use those to validate the results.\n",
        "\n",
        "When using unsupervised learning techniques for fraud detection, you want to **distinguish normal from abnormal** (thus potentially fraudulent) behavior. As a fraud analyst to understand what is \"normal\", you need to have a good understanding of the data and its characteristics. Let's explore the data in this first exercise.\n",
        "\n",
        "**Instructions 1/3**\n",
        "\n",
        "* Obtain the shape of the dataframe `df` to inspect the size of our data and display the first rows to see which features are available."
      ]
    },
    {
      "cell_type": "code",
      "execution_count": 70,
      "metadata": {
        "tags": [],
        "id": "ZbfYjNc-PGwn"
      },
      "outputs": [],
      "source": [
        "banksim_df = pd.read_csv(banksim_file)\n",
        "banksim_df.drop(['Unnamed: 0'], axis=1, inplace=True)\n",
        "banksim_adj_df = pd.read_csv(banksim_adj_file)\n",
        "banksim_adj_df.drop(['Unnamed: 0'], axis=1, inplace=True)"
      ]
    },
    {
      "cell_type": "code",
      "execution_count": 71,
      "metadata": {
        "tags": [],
        "colab": {
          "base_uri": "https://localhost:8080/"
        },
        "id": "MdXrxGTLPGwn",
        "outputId": "01468637-3b24-4c5b-9dd2-df52e31cde1b"
      },
      "outputs": [
        {
          "output_type": "execute_result",
          "data": {
            "text/plain": [
              "(7200, 5)"
            ]
          },
          "metadata": {},
          "execution_count": 71
        }
      ],
      "source": [
        "banksim_df.shape"
      ]
    },
    {
      "cell_type": "code",
      "execution_count": 72,
      "metadata": {
        "tags": [],
        "colab": {
          "base_uri": "https://localhost:8080/",
          "height": 206
        },
        "id": "R__z_Su1PGwn",
        "outputId": "35e32ce9-4616-4c07-caf6-57bd0b31986b"
      },
      "outputs": [
        {
          "output_type": "execute_result",
          "data": {
            "text/plain": [
              "  age gender           category  amount  fraud\n",
              "0   3      F  es_transportation   49.71      0\n",
              "1   4      F          es_health   39.29      0\n",
              "2   3      F  es_transportation   18.76      0\n",
              "3   4      M  es_transportation   13.95      0\n",
              "4   2      M  es_transportation   49.87      0"
            ],
            "text/html": [
              "\n",
              "  <div id=\"df-e91a0aad-9b1c-4029-9c5a-ba2ee1c02cd5\" class=\"colab-df-container\">\n",
              "    <div>\n",
              "<style scoped>\n",
              "    .dataframe tbody tr th:only-of-type {\n",
              "        vertical-align: middle;\n",
              "    }\n",
              "\n",
              "    .dataframe tbody tr th {\n",
              "        vertical-align: top;\n",
              "    }\n",
              "\n",
              "    .dataframe thead th {\n",
              "        text-align: right;\n",
              "    }\n",
              "</style>\n",
              "<table border=\"1\" class=\"dataframe\">\n",
              "  <thead>\n",
              "    <tr style=\"text-align: right;\">\n",
              "      <th></th>\n",
              "      <th>age</th>\n",
              "      <th>gender</th>\n",
              "      <th>category</th>\n",
              "      <th>amount</th>\n",
              "      <th>fraud</th>\n",
              "    </tr>\n",
              "  </thead>\n",
              "  <tbody>\n",
              "    <tr>\n",
              "      <th>0</th>\n",
              "      <td>3</td>\n",
              "      <td>F</td>\n",
              "      <td>es_transportation</td>\n",
              "      <td>49.71</td>\n",
              "      <td>0</td>\n",
              "    </tr>\n",
              "    <tr>\n",
              "      <th>1</th>\n",
              "      <td>4</td>\n",
              "      <td>F</td>\n",
              "      <td>es_health</td>\n",
              "      <td>39.29</td>\n",
              "      <td>0</td>\n",
              "    </tr>\n",
              "    <tr>\n",
              "      <th>2</th>\n",
              "      <td>3</td>\n",
              "      <td>F</td>\n",
              "      <td>es_transportation</td>\n",
              "      <td>18.76</td>\n",
              "      <td>0</td>\n",
              "    </tr>\n",
              "    <tr>\n",
              "      <th>3</th>\n",
              "      <td>4</td>\n",
              "      <td>M</td>\n",
              "      <td>es_transportation</td>\n",
              "      <td>13.95</td>\n",
              "      <td>0</td>\n",
              "    </tr>\n",
              "    <tr>\n",
              "      <th>4</th>\n",
              "      <td>2</td>\n",
              "      <td>M</td>\n",
              "      <td>es_transportation</td>\n",
              "      <td>49.87</td>\n",
              "      <td>0</td>\n",
              "    </tr>\n",
              "  </tbody>\n",
              "</table>\n",
              "</div>\n",
              "    <div class=\"colab-df-buttons\">\n",
              "\n",
              "  <div class=\"colab-df-container\">\n",
              "    <button class=\"colab-df-convert\" onclick=\"convertToInteractive('df-e91a0aad-9b1c-4029-9c5a-ba2ee1c02cd5')\"\n",
              "            title=\"Convert this dataframe to an interactive table.\"\n",
              "            style=\"display:none;\">\n",
              "\n",
              "  <svg xmlns=\"http://www.w3.org/2000/svg\" height=\"24px\" viewBox=\"0 -960 960 960\">\n",
              "    <path d=\"M120-120v-720h720v720H120Zm60-500h600v-160H180v160Zm220 220h160v-160H400v160Zm0 220h160v-160H400v160ZM180-400h160v-160H180v160Zm440 0h160v-160H620v160ZM180-180h160v-160H180v160Zm440 0h160v-160H620v160Z\"/>\n",
              "  </svg>\n",
              "    </button>\n",
              "\n",
              "  <style>\n",
              "    .colab-df-container {\n",
              "      display:flex;\n",
              "      gap: 12px;\n",
              "    }\n",
              "\n",
              "    .colab-df-convert {\n",
              "      background-color: #E8F0FE;\n",
              "      border: none;\n",
              "      border-radius: 50%;\n",
              "      cursor: pointer;\n",
              "      display: none;\n",
              "      fill: #1967D2;\n",
              "      height: 32px;\n",
              "      padding: 0 0 0 0;\n",
              "      width: 32px;\n",
              "    }\n",
              "\n",
              "    .colab-df-convert:hover {\n",
              "      background-color: #E2EBFA;\n",
              "      box-shadow: 0px 1px 2px rgba(60, 64, 67, 0.3), 0px 1px 3px 1px rgba(60, 64, 67, 0.15);\n",
              "      fill: #174EA6;\n",
              "    }\n",
              "\n",
              "    .colab-df-buttons div {\n",
              "      margin-bottom: 4px;\n",
              "    }\n",
              "\n",
              "    [theme=dark] .colab-df-convert {\n",
              "      background-color: #3B4455;\n",
              "      fill: #D2E3FC;\n",
              "    }\n",
              "\n",
              "    [theme=dark] .colab-df-convert:hover {\n",
              "      background-color: #434B5C;\n",
              "      box-shadow: 0px 1px 3px 1px rgba(0, 0, 0, 0.15);\n",
              "      filter: drop-shadow(0px 1px 2px rgba(0, 0, 0, 0.3));\n",
              "      fill: #FFFFFF;\n",
              "    }\n",
              "  </style>\n",
              "\n",
              "    <script>\n",
              "      const buttonEl =\n",
              "        document.querySelector('#df-e91a0aad-9b1c-4029-9c5a-ba2ee1c02cd5 button.colab-df-convert');\n",
              "      buttonEl.style.display =\n",
              "        google.colab.kernel.accessAllowed ? 'block' : 'none';\n",
              "\n",
              "      async function convertToInteractive(key) {\n",
              "        const element = document.querySelector('#df-e91a0aad-9b1c-4029-9c5a-ba2ee1c02cd5');\n",
              "        const dataTable =\n",
              "          await google.colab.kernel.invokeFunction('convertToInteractive',\n",
              "                                                    [key], {});\n",
              "        if (!dataTable) return;\n",
              "\n",
              "        const docLinkHtml = 'Like what you see? Visit the ' +\n",
              "          '<a target=\"_blank\" href=https://colab.research.google.com/notebooks/data_table.ipynb>data table notebook</a>'\n",
              "          + ' to learn more about interactive tables.';\n",
              "        element.innerHTML = '';\n",
              "        dataTable['output_type'] = 'display_data';\n",
              "        await google.colab.output.renderOutput(dataTable, element);\n",
              "        const docLink = document.createElement('div');\n",
              "        docLink.innerHTML = docLinkHtml;\n",
              "        element.appendChild(docLink);\n",
              "      }\n",
              "    </script>\n",
              "  </div>\n",
              "\n",
              "\n",
              "<div id=\"df-6f4f3641-05e1-416e-94dd-67a73fa63621\">\n",
              "  <button class=\"colab-df-quickchart\" onclick=\"quickchart('df-6f4f3641-05e1-416e-94dd-67a73fa63621')\"\n",
              "            title=\"Suggest charts\"\n",
              "            style=\"display:none;\">\n",
              "\n",
              "<svg xmlns=\"http://www.w3.org/2000/svg\" height=\"24px\"viewBox=\"0 0 24 24\"\n",
              "     width=\"24px\">\n",
              "    <g>\n",
              "        <path d=\"M19 3H5c-1.1 0-2 .9-2 2v14c0 1.1.9 2 2 2h14c1.1 0 2-.9 2-2V5c0-1.1-.9-2-2-2zM9 17H7v-7h2v7zm4 0h-2V7h2v10zm4 0h-2v-4h2v4z\"/>\n",
              "    </g>\n",
              "</svg>\n",
              "  </button>\n",
              "\n",
              "<style>\n",
              "  .colab-df-quickchart {\n",
              "      --bg-color: #E8F0FE;\n",
              "      --fill-color: #1967D2;\n",
              "      --hover-bg-color: #E2EBFA;\n",
              "      --hover-fill-color: #174EA6;\n",
              "      --disabled-fill-color: #AAA;\n",
              "      --disabled-bg-color: #DDD;\n",
              "  }\n",
              "\n",
              "  [theme=dark] .colab-df-quickchart {\n",
              "      --bg-color: #3B4455;\n",
              "      --fill-color: #D2E3FC;\n",
              "      --hover-bg-color: #434B5C;\n",
              "      --hover-fill-color: #FFFFFF;\n",
              "      --disabled-bg-color: #3B4455;\n",
              "      --disabled-fill-color: #666;\n",
              "  }\n",
              "\n",
              "  .colab-df-quickchart {\n",
              "    background-color: var(--bg-color);\n",
              "    border: none;\n",
              "    border-radius: 50%;\n",
              "    cursor: pointer;\n",
              "    display: none;\n",
              "    fill: var(--fill-color);\n",
              "    height: 32px;\n",
              "    padding: 0;\n",
              "    width: 32px;\n",
              "  }\n",
              "\n",
              "  .colab-df-quickchart:hover {\n",
              "    background-color: var(--hover-bg-color);\n",
              "    box-shadow: 0 1px 2px rgba(60, 64, 67, 0.3), 0 1px 3px 1px rgba(60, 64, 67, 0.15);\n",
              "    fill: var(--button-hover-fill-color);\n",
              "  }\n",
              "\n",
              "  .colab-df-quickchart-complete:disabled,\n",
              "  .colab-df-quickchart-complete:disabled:hover {\n",
              "    background-color: var(--disabled-bg-color);\n",
              "    fill: var(--disabled-fill-color);\n",
              "    box-shadow: none;\n",
              "  }\n",
              "\n",
              "  .colab-df-spinner {\n",
              "    border: 2px solid var(--fill-color);\n",
              "    border-color: transparent;\n",
              "    border-bottom-color: var(--fill-color);\n",
              "    animation:\n",
              "      spin 1s steps(1) infinite;\n",
              "  }\n",
              "\n",
              "  @keyframes spin {\n",
              "    0% {\n",
              "      border-color: transparent;\n",
              "      border-bottom-color: var(--fill-color);\n",
              "      border-left-color: var(--fill-color);\n",
              "    }\n",
              "    20% {\n",
              "      border-color: transparent;\n",
              "      border-left-color: var(--fill-color);\n",
              "      border-top-color: var(--fill-color);\n",
              "    }\n",
              "    30% {\n",
              "      border-color: transparent;\n",
              "      border-left-color: var(--fill-color);\n",
              "      border-top-color: var(--fill-color);\n",
              "      border-right-color: var(--fill-color);\n",
              "    }\n",
              "    40% {\n",
              "      border-color: transparent;\n",
              "      border-right-color: var(--fill-color);\n",
              "      border-top-color: var(--fill-color);\n",
              "    }\n",
              "    60% {\n",
              "      border-color: transparent;\n",
              "      border-right-color: var(--fill-color);\n",
              "    }\n",
              "    80% {\n",
              "      border-color: transparent;\n",
              "      border-right-color: var(--fill-color);\n",
              "      border-bottom-color: var(--fill-color);\n",
              "    }\n",
              "    90% {\n",
              "      border-color: transparent;\n",
              "      border-bottom-color: var(--fill-color);\n",
              "    }\n",
              "  }\n",
              "</style>\n",
              "\n",
              "  <script>\n",
              "    async function quickchart(key) {\n",
              "      const quickchartButtonEl =\n",
              "        document.querySelector('#' + key + ' button');\n",
              "      quickchartButtonEl.disabled = true;  // To prevent multiple clicks.\n",
              "      quickchartButtonEl.classList.add('colab-df-spinner');\n",
              "      try {\n",
              "        const charts = await google.colab.kernel.invokeFunction(\n",
              "            'suggestCharts', [key], {});\n",
              "      } catch (error) {\n",
              "        console.error('Error during call to suggestCharts:', error);\n",
              "      }\n",
              "      quickchartButtonEl.classList.remove('colab-df-spinner');\n",
              "      quickchartButtonEl.classList.add('colab-df-quickchart-complete');\n",
              "    }\n",
              "    (() => {\n",
              "      let quickchartButtonEl =\n",
              "        document.querySelector('#df-6f4f3641-05e1-416e-94dd-67a73fa63621 button');\n",
              "      quickchartButtonEl.style.display =\n",
              "        google.colab.kernel.accessAllowed ? 'block' : 'none';\n",
              "    })();\n",
              "  </script>\n",
              "</div>\n",
              "    </div>\n",
              "  </div>\n"
            ],
            "application/vnd.google.colaboratory.intrinsic+json": {
              "type": "dataframe",
              "variable_name": "banksim_df",
              "summary": "{\n  \"name\": \"banksim_df\",\n  \"rows\": 7200,\n  \"fields\": [\n    {\n      \"column\": \"age\",\n      \"properties\": {\n        \"dtype\": \"category\",\n        \"num_unique_values\": 8,\n        \"samples\": [\n          \"4\",\n          \"1\",\n          \"3\"\n        ],\n        \"semantic_type\": \"\",\n        \"description\": \"\"\n      }\n    },\n    {\n      \"column\": \"gender\",\n      \"properties\": {\n        \"dtype\": \"category\",\n        \"num_unique_values\": 4,\n        \"samples\": [\n          \"M\",\n          \"U\",\n          \"F\"\n        ],\n        \"semantic_type\": \"\",\n        \"description\": \"\"\n      }\n    },\n    {\n      \"column\": \"category\",\n      \"properties\": {\n        \"dtype\": \"category\",\n        \"num_unique_values\": 15,\n        \"samples\": [\n          \"es_home\",\n          \"es_contents\",\n          \"es_transportation\"\n        ],\n        \"semantic_type\": \"\",\n        \"description\": \"\"\n      }\n    },\n    {\n      \"column\": \"amount\",\n      \"properties\": {\n        \"dtype\": \"number\",\n        \"std\": 40.56935475495678,\n        \"min\": 1.0998,\n        \"max\": 236.1473999999996,\n        \"num_unique_values\": 4387,\n        \"samples\": [\n          30.48,\n          14.66,\n          50.15\n        ],\n        \"semantic_type\": \"\",\n        \"description\": \"\"\n      }\n    },\n    {\n      \"column\": \"fraud\",\n      \"properties\": {\n        \"dtype\": \"number\",\n        \"std\": 0,\n        \"min\": 0,\n        \"max\": 1,\n        \"num_unique_values\": 2,\n        \"samples\": [\n          1,\n          0\n        ],\n        \"semantic_type\": \"\",\n        \"description\": \"\"\n      }\n    }\n  ]\n}"
            }
          },
          "metadata": {},
          "execution_count": 72
        }
      ],
      "source": [
        "banksim_df.head()"
      ]
    },
    {
      "cell_type": "code",
      "execution_count": 73,
      "metadata": {
        "tags": [],
        "colab": {
          "base_uri": "https://localhost:8080/"
        },
        "id": "H1xMLnbfPGwn",
        "outputId": "cb8a3df0-c5fb-4903-d9e2-68608a98e2e3"
      },
      "outputs": [
        {
          "output_type": "execute_result",
          "data": {
            "text/plain": [
              "(7189, 18)"
            ]
          },
          "metadata": {},
          "execution_count": 73
        }
      ],
      "source": [
        "banksim_adj_df.shape"
      ]
    },
    {
      "cell_type": "code",
      "execution_count": 74,
      "metadata": {
        "tags": [],
        "colab": {
          "base_uri": "https://localhost:8080/",
          "height": 226
        },
        "id": "XItZEumaPGwn",
        "outputId": "452516a3-4cf4-4c37-ccb4-d5ddbd96aa7c"
      },
      "outputs": [
        {
          "output_type": "execute_result",
          "data": {
            "text/plain": [
              "   age  amount  fraud  M  es_barsandrestaurants  es_contents  es_fashion  \\\n",
              "0    3   49.71      0  0                      0            0           0   \n",
              "1    4   39.29      0  0                      0            0           0   \n",
              "2    3   18.76      0  0                      0            0           0   \n",
              "3    4   13.95      0  1                      0            0           0   \n",
              "4    2   49.87      0  1                      0            0           0   \n",
              "\n",
              "   es_food  es_health  es_home  es_hotelservices  es_hyper  es_leisure  \\\n",
              "0        0          0        0                 0         0           0   \n",
              "1        0          1        0                 0         0           0   \n",
              "2        0          0        0                 0         0           0   \n",
              "3        0          0        0                 0         0           0   \n",
              "4        0          0        0                 0         0           0   \n",
              "\n",
              "   es_otherservices  es_sportsandtoys  es_tech  es_transportation  es_travel  \n",
              "0                 0                 0        0                  1          0  \n",
              "1                 0                 0        0                  0          0  \n",
              "2                 0                 0        0                  1          0  \n",
              "3                 0                 0        0                  1          0  \n",
              "4                 0                 0        0                  1          0  "
            ],
            "text/html": [
              "\n",
              "  <div id=\"df-d09b9cba-abc5-41ed-9856-22c5955bf70c\" class=\"colab-df-container\">\n",
              "    <div>\n",
              "<style scoped>\n",
              "    .dataframe tbody tr th:only-of-type {\n",
              "        vertical-align: middle;\n",
              "    }\n",
              "\n",
              "    .dataframe tbody tr th {\n",
              "        vertical-align: top;\n",
              "    }\n",
              "\n",
              "    .dataframe thead th {\n",
              "        text-align: right;\n",
              "    }\n",
              "</style>\n",
              "<table border=\"1\" class=\"dataframe\">\n",
              "  <thead>\n",
              "    <tr style=\"text-align: right;\">\n",
              "      <th></th>\n",
              "      <th>age</th>\n",
              "      <th>amount</th>\n",
              "      <th>fraud</th>\n",
              "      <th>M</th>\n",
              "      <th>es_barsandrestaurants</th>\n",
              "      <th>es_contents</th>\n",
              "      <th>es_fashion</th>\n",
              "      <th>es_food</th>\n",
              "      <th>es_health</th>\n",
              "      <th>es_home</th>\n",
              "      <th>es_hotelservices</th>\n",
              "      <th>es_hyper</th>\n",
              "      <th>es_leisure</th>\n",
              "      <th>es_otherservices</th>\n",
              "      <th>es_sportsandtoys</th>\n",
              "      <th>es_tech</th>\n",
              "      <th>es_transportation</th>\n",
              "      <th>es_travel</th>\n",
              "    </tr>\n",
              "  </thead>\n",
              "  <tbody>\n",
              "    <tr>\n",
              "      <th>0</th>\n",
              "      <td>3</td>\n",
              "      <td>49.71</td>\n",
              "      <td>0</td>\n",
              "      <td>0</td>\n",
              "      <td>0</td>\n",
              "      <td>0</td>\n",
              "      <td>0</td>\n",
              "      <td>0</td>\n",
              "      <td>0</td>\n",
              "      <td>0</td>\n",
              "      <td>0</td>\n",
              "      <td>0</td>\n",
              "      <td>0</td>\n",
              "      <td>0</td>\n",
              "      <td>0</td>\n",
              "      <td>0</td>\n",
              "      <td>1</td>\n",
              "      <td>0</td>\n",
              "    </tr>\n",
              "    <tr>\n",
              "      <th>1</th>\n",
              "      <td>4</td>\n",
              "      <td>39.29</td>\n",
              "      <td>0</td>\n",
              "      <td>0</td>\n",
              "      <td>0</td>\n",
              "      <td>0</td>\n",
              "      <td>0</td>\n",
              "      <td>0</td>\n",
              "      <td>1</td>\n",
              "      <td>0</td>\n",
              "      <td>0</td>\n",
              "      <td>0</td>\n",
              "      <td>0</td>\n",
              "      <td>0</td>\n",
              "      <td>0</td>\n",
              "      <td>0</td>\n",
              "      <td>0</td>\n",
              "      <td>0</td>\n",
              "    </tr>\n",
              "    <tr>\n",
              "      <th>2</th>\n",
              "      <td>3</td>\n",
              "      <td>18.76</td>\n",
              "      <td>0</td>\n",
              "      <td>0</td>\n",
              "      <td>0</td>\n",
              "      <td>0</td>\n",
              "      <td>0</td>\n",
              "      <td>0</td>\n",
              "      <td>0</td>\n",
              "      <td>0</td>\n",
              "      <td>0</td>\n",
              "      <td>0</td>\n",
              "      <td>0</td>\n",
              "      <td>0</td>\n",
              "      <td>0</td>\n",
              "      <td>0</td>\n",
              "      <td>1</td>\n",
              "      <td>0</td>\n",
              "    </tr>\n",
              "    <tr>\n",
              "      <th>3</th>\n",
              "      <td>4</td>\n",
              "      <td>13.95</td>\n",
              "      <td>0</td>\n",
              "      <td>1</td>\n",
              "      <td>0</td>\n",
              "      <td>0</td>\n",
              "      <td>0</td>\n",
              "      <td>0</td>\n",
              "      <td>0</td>\n",
              "      <td>0</td>\n",
              "      <td>0</td>\n",
              "      <td>0</td>\n",
              "      <td>0</td>\n",
              "      <td>0</td>\n",
              "      <td>0</td>\n",
              "      <td>0</td>\n",
              "      <td>1</td>\n",
              "      <td>0</td>\n",
              "    </tr>\n",
              "    <tr>\n",
              "      <th>4</th>\n",
              "      <td>2</td>\n",
              "      <td>49.87</td>\n",
              "      <td>0</td>\n",
              "      <td>1</td>\n",
              "      <td>0</td>\n",
              "      <td>0</td>\n",
              "      <td>0</td>\n",
              "      <td>0</td>\n",
              "      <td>0</td>\n",
              "      <td>0</td>\n",
              "      <td>0</td>\n",
              "      <td>0</td>\n",
              "      <td>0</td>\n",
              "      <td>0</td>\n",
              "      <td>0</td>\n",
              "      <td>0</td>\n",
              "      <td>1</td>\n",
              "      <td>0</td>\n",
              "    </tr>\n",
              "  </tbody>\n",
              "</table>\n",
              "</div>\n",
              "    <div class=\"colab-df-buttons\">\n",
              "\n",
              "  <div class=\"colab-df-container\">\n",
              "    <button class=\"colab-df-convert\" onclick=\"convertToInteractive('df-d09b9cba-abc5-41ed-9856-22c5955bf70c')\"\n",
              "            title=\"Convert this dataframe to an interactive table.\"\n",
              "            style=\"display:none;\">\n",
              "\n",
              "  <svg xmlns=\"http://www.w3.org/2000/svg\" height=\"24px\" viewBox=\"0 -960 960 960\">\n",
              "    <path d=\"M120-120v-720h720v720H120Zm60-500h600v-160H180v160Zm220 220h160v-160H400v160Zm0 220h160v-160H400v160ZM180-400h160v-160H180v160Zm440 0h160v-160H620v160ZM180-180h160v-160H180v160Zm440 0h160v-160H620v160Z\"/>\n",
              "  </svg>\n",
              "    </button>\n",
              "\n",
              "  <style>\n",
              "    .colab-df-container {\n",
              "      display:flex;\n",
              "      gap: 12px;\n",
              "    }\n",
              "\n",
              "    .colab-df-convert {\n",
              "      background-color: #E8F0FE;\n",
              "      border: none;\n",
              "      border-radius: 50%;\n",
              "      cursor: pointer;\n",
              "      display: none;\n",
              "      fill: #1967D2;\n",
              "      height: 32px;\n",
              "      padding: 0 0 0 0;\n",
              "      width: 32px;\n",
              "    }\n",
              "\n",
              "    .colab-df-convert:hover {\n",
              "      background-color: #E2EBFA;\n",
              "      box-shadow: 0px 1px 2px rgba(60, 64, 67, 0.3), 0px 1px 3px 1px rgba(60, 64, 67, 0.15);\n",
              "      fill: #174EA6;\n",
              "    }\n",
              "\n",
              "    .colab-df-buttons div {\n",
              "      margin-bottom: 4px;\n",
              "    }\n",
              "\n",
              "    [theme=dark] .colab-df-convert {\n",
              "      background-color: #3B4455;\n",
              "      fill: #D2E3FC;\n",
              "    }\n",
              "\n",
              "    [theme=dark] .colab-df-convert:hover {\n",
              "      background-color: #434B5C;\n",
              "      box-shadow: 0px 1px 3px 1px rgba(0, 0, 0, 0.15);\n",
              "      filter: drop-shadow(0px 1px 2px rgba(0, 0, 0, 0.3));\n",
              "      fill: #FFFFFF;\n",
              "    }\n",
              "  </style>\n",
              "\n",
              "    <script>\n",
              "      const buttonEl =\n",
              "        document.querySelector('#df-d09b9cba-abc5-41ed-9856-22c5955bf70c button.colab-df-convert');\n",
              "      buttonEl.style.display =\n",
              "        google.colab.kernel.accessAllowed ? 'block' : 'none';\n",
              "\n",
              "      async function convertToInteractive(key) {\n",
              "        const element = document.querySelector('#df-d09b9cba-abc5-41ed-9856-22c5955bf70c');\n",
              "        const dataTable =\n",
              "          await google.colab.kernel.invokeFunction('convertToInteractive',\n",
              "                                                    [key], {});\n",
              "        if (!dataTable) return;\n",
              "\n",
              "        const docLinkHtml = 'Like what you see? Visit the ' +\n",
              "          '<a target=\"_blank\" href=https://colab.research.google.com/notebooks/data_table.ipynb>data table notebook</a>'\n",
              "          + ' to learn more about interactive tables.';\n",
              "        element.innerHTML = '';\n",
              "        dataTable['output_type'] = 'display_data';\n",
              "        await google.colab.output.renderOutput(dataTable, element);\n",
              "        const docLink = document.createElement('div');\n",
              "        docLink.innerHTML = docLinkHtml;\n",
              "        element.appendChild(docLink);\n",
              "      }\n",
              "    </script>\n",
              "  </div>\n",
              "\n",
              "\n",
              "<div id=\"df-73761438-e264-4284-a0ac-d0824abe449c\">\n",
              "  <button class=\"colab-df-quickchart\" onclick=\"quickchart('df-73761438-e264-4284-a0ac-d0824abe449c')\"\n",
              "            title=\"Suggest charts\"\n",
              "            style=\"display:none;\">\n",
              "\n",
              "<svg xmlns=\"http://www.w3.org/2000/svg\" height=\"24px\"viewBox=\"0 0 24 24\"\n",
              "     width=\"24px\">\n",
              "    <g>\n",
              "        <path d=\"M19 3H5c-1.1 0-2 .9-2 2v14c0 1.1.9 2 2 2h14c1.1 0 2-.9 2-2V5c0-1.1-.9-2-2-2zM9 17H7v-7h2v7zm4 0h-2V7h2v10zm4 0h-2v-4h2v4z\"/>\n",
              "    </g>\n",
              "</svg>\n",
              "  </button>\n",
              "\n",
              "<style>\n",
              "  .colab-df-quickchart {\n",
              "      --bg-color: #E8F0FE;\n",
              "      --fill-color: #1967D2;\n",
              "      --hover-bg-color: #E2EBFA;\n",
              "      --hover-fill-color: #174EA6;\n",
              "      --disabled-fill-color: #AAA;\n",
              "      --disabled-bg-color: #DDD;\n",
              "  }\n",
              "\n",
              "  [theme=dark] .colab-df-quickchart {\n",
              "      --bg-color: #3B4455;\n",
              "      --fill-color: #D2E3FC;\n",
              "      --hover-bg-color: #434B5C;\n",
              "      --hover-fill-color: #FFFFFF;\n",
              "      --disabled-bg-color: #3B4455;\n",
              "      --disabled-fill-color: #666;\n",
              "  }\n",
              "\n",
              "  .colab-df-quickchart {\n",
              "    background-color: var(--bg-color);\n",
              "    border: none;\n",
              "    border-radius: 50%;\n",
              "    cursor: pointer;\n",
              "    display: none;\n",
              "    fill: var(--fill-color);\n",
              "    height: 32px;\n",
              "    padding: 0;\n",
              "    width: 32px;\n",
              "  }\n",
              "\n",
              "  .colab-df-quickchart:hover {\n",
              "    background-color: var(--hover-bg-color);\n",
              "    box-shadow: 0 1px 2px rgba(60, 64, 67, 0.3), 0 1px 3px 1px rgba(60, 64, 67, 0.15);\n",
              "    fill: var(--button-hover-fill-color);\n",
              "  }\n",
              "\n",
              "  .colab-df-quickchart-complete:disabled,\n",
              "  .colab-df-quickchart-complete:disabled:hover {\n",
              "    background-color: var(--disabled-bg-color);\n",
              "    fill: var(--disabled-fill-color);\n",
              "    box-shadow: none;\n",
              "  }\n",
              "\n",
              "  .colab-df-spinner {\n",
              "    border: 2px solid var(--fill-color);\n",
              "    border-color: transparent;\n",
              "    border-bottom-color: var(--fill-color);\n",
              "    animation:\n",
              "      spin 1s steps(1) infinite;\n",
              "  }\n",
              "\n",
              "  @keyframes spin {\n",
              "    0% {\n",
              "      border-color: transparent;\n",
              "      border-bottom-color: var(--fill-color);\n",
              "      border-left-color: var(--fill-color);\n",
              "    }\n",
              "    20% {\n",
              "      border-color: transparent;\n",
              "      border-left-color: var(--fill-color);\n",
              "      border-top-color: var(--fill-color);\n",
              "    }\n",
              "    30% {\n",
              "      border-color: transparent;\n",
              "      border-left-color: var(--fill-color);\n",
              "      border-top-color: var(--fill-color);\n",
              "      border-right-color: var(--fill-color);\n",
              "    }\n",
              "    40% {\n",
              "      border-color: transparent;\n",
              "      border-right-color: var(--fill-color);\n",
              "      border-top-color: var(--fill-color);\n",
              "    }\n",
              "    60% {\n",
              "      border-color: transparent;\n",
              "      border-right-color: var(--fill-color);\n",
              "    }\n",
              "    80% {\n",
              "      border-color: transparent;\n",
              "      border-right-color: var(--fill-color);\n",
              "      border-bottom-color: var(--fill-color);\n",
              "    }\n",
              "    90% {\n",
              "      border-color: transparent;\n",
              "      border-bottom-color: var(--fill-color);\n",
              "    }\n",
              "  }\n",
              "</style>\n",
              "\n",
              "  <script>\n",
              "    async function quickchart(key) {\n",
              "      const quickchartButtonEl =\n",
              "        document.querySelector('#' + key + ' button');\n",
              "      quickchartButtonEl.disabled = true;  // To prevent multiple clicks.\n",
              "      quickchartButtonEl.classList.add('colab-df-spinner');\n",
              "      try {\n",
              "        const charts = await google.colab.kernel.invokeFunction(\n",
              "            'suggestCharts', [key], {});\n",
              "      } catch (error) {\n",
              "        console.error('Error during call to suggestCharts:', error);\n",
              "      }\n",
              "      quickchartButtonEl.classList.remove('colab-df-spinner');\n",
              "      quickchartButtonEl.classList.add('colab-df-quickchart-complete');\n",
              "    }\n",
              "    (() => {\n",
              "      let quickchartButtonEl =\n",
              "        document.querySelector('#df-73761438-e264-4284-a0ac-d0824abe449c button');\n",
              "      quickchartButtonEl.style.display =\n",
              "        google.colab.kernel.accessAllowed ? 'block' : 'none';\n",
              "    })();\n",
              "  </script>\n",
              "</div>\n",
              "    </div>\n",
              "  </div>\n"
            ],
            "application/vnd.google.colaboratory.intrinsic+json": {
              "type": "dataframe",
              "variable_name": "banksim_adj_df",
              "summary": "{\n  \"name\": \"banksim_adj_df\",\n  \"rows\": 7189,\n  \"fields\": [\n    {\n      \"column\": \"age\",\n      \"properties\": {\n        \"dtype\": \"number\",\n        \"std\": 1,\n        \"min\": 0,\n        \"max\": 6,\n        \"num_unique_values\": 7,\n        \"samples\": [\n          3,\n          4,\n          1\n        ],\n        \"semantic_type\": \"\",\n        \"description\": \"\"\n      }\n    },\n    {\n      \"column\": \"amount\",\n      \"properties\": {\n        \"dtype\": \"number\",\n        \"std\": 40.52426796132767,\n        \"min\": 1.0998,\n        \"max\": 236.1473999999996,\n        \"num_unique_values\": 4385,\n        \"samples\": [\n          38.82,\n          17.65,\n          20.34\n        ],\n        \"semantic_type\": \"\",\n        \"description\": \"\"\n      }\n    },\n    {\n      \"column\": \"fraud\",\n      \"properties\": {\n        \"dtype\": \"number\",\n        \"std\": 0,\n        \"min\": 0,\n        \"max\": 1,\n        \"num_unique_values\": 2,\n        \"samples\": [\n          1,\n          0\n        ],\n        \"semantic_type\": \"\",\n        \"description\": \"\"\n      }\n    },\n    {\n      \"column\": \"M\",\n      \"properties\": {\n        \"dtype\": \"number\",\n        \"std\": 0,\n        \"min\": 0,\n        \"max\": 1,\n        \"num_unique_values\": 2,\n        \"samples\": [\n          1,\n          0\n        ],\n        \"semantic_type\": \"\",\n        \"description\": \"\"\n      }\n    },\n    {\n      \"column\": \"es_barsandrestaurants\",\n      \"properties\": {\n        \"dtype\": \"number\",\n        \"std\": 0,\n        \"min\": 0,\n        \"max\": 1,\n        \"num_unique_values\": 2,\n        \"samples\": [\n          1,\n          0\n        ],\n        \"semantic_type\": \"\",\n        \"description\": \"\"\n      }\n    },\n    {\n      \"column\": \"es_contents\",\n      \"properties\": {\n        \"dtype\": \"number\",\n        \"std\": 0,\n        \"min\": 0,\n        \"max\": 1,\n        \"num_unique_values\": 2,\n        \"samples\": [\n          1,\n          0\n        ],\n        \"semantic_type\": \"\",\n        \"description\": \"\"\n      }\n    },\n    {\n      \"column\": \"es_fashion\",\n      \"properties\": {\n        \"dtype\": \"number\",\n        \"std\": 0,\n        \"min\": 0,\n        \"max\": 1,\n        \"num_unique_values\": 2,\n        \"samples\": [\n          1,\n          0\n        ],\n        \"semantic_type\": \"\",\n        \"description\": \"\"\n      }\n    },\n    {\n      \"column\": \"es_food\",\n      \"properties\": {\n        \"dtype\": \"number\",\n        \"std\": 0,\n        \"min\": 0,\n        \"max\": 1,\n        \"num_unique_values\": 2,\n        \"samples\": [\n          1,\n          0\n        ],\n        \"semantic_type\": \"\",\n        \"description\": \"\"\n      }\n    },\n    {\n      \"column\": \"es_health\",\n      \"properties\": {\n        \"dtype\": \"number\",\n        \"std\": 0,\n        \"min\": 0,\n        \"max\": 1,\n        \"num_unique_values\": 2,\n        \"samples\": [\n          1,\n          0\n        ],\n        \"semantic_type\": \"\",\n        \"description\": \"\"\n      }\n    },\n    {\n      \"column\": \"es_home\",\n      \"properties\": {\n        \"dtype\": \"number\",\n        \"std\": 0,\n        \"min\": 0,\n        \"max\": 1,\n        \"num_unique_values\": 2,\n        \"samples\": [\n          1,\n          0\n        ],\n        \"semantic_type\": \"\",\n        \"description\": \"\"\n      }\n    },\n    {\n      \"column\": \"es_hotelservices\",\n      \"properties\": {\n        \"dtype\": \"number\",\n        \"std\": 0,\n        \"min\": 0,\n        \"max\": 1,\n        \"num_unique_values\": 2,\n        \"samples\": [\n          1,\n          0\n        ],\n        \"semantic_type\": \"\",\n        \"description\": \"\"\n      }\n    },\n    {\n      \"column\": \"es_hyper\",\n      \"properties\": {\n        \"dtype\": \"number\",\n        \"std\": 0,\n        \"min\": 0,\n        \"max\": 1,\n        \"num_unique_values\": 2,\n        \"samples\": [\n          1,\n          0\n        ],\n        \"semantic_type\": \"\",\n        \"description\": \"\"\n      }\n    },\n    {\n      \"column\": \"es_leisure\",\n      \"properties\": {\n        \"dtype\": \"number\",\n        \"std\": 0,\n        \"min\": 0,\n        \"max\": 1,\n        \"num_unique_values\": 2,\n        \"samples\": [\n          1,\n          0\n        ],\n        \"semantic_type\": \"\",\n        \"description\": \"\"\n      }\n    },\n    {\n      \"column\": \"es_otherservices\",\n      \"properties\": {\n        \"dtype\": \"number\",\n        \"std\": 0,\n        \"min\": 0,\n        \"max\": 1,\n        \"num_unique_values\": 2,\n        \"samples\": [\n          1,\n          0\n        ],\n        \"semantic_type\": \"\",\n        \"description\": \"\"\n      }\n    },\n    {\n      \"column\": \"es_sportsandtoys\",\n      \"properties\": {\n        \"dtype\": \"number\",\n        \"std\": 0,\n        \"min\": 0,\n        \"max\": 1,\n        \"num_unique_values\": 2,\n        \"samples\": [\n          1,\n          0\n        ],\n        \"semantic_type\": \"\",\n        \"description\": \"\"\n      }\n    },\n    {\n      \"column\": \"es_tech\",\n      \"properties\": {\n        \"dtype\": \"number\",\n        \"std\": 0,\n        \"min\": 0,\n        \"max\": 1,\n        \"num_unique_values\": 2,\n        \"samples\": [\n          1,\n          0\n        ],\n        \"semantic_type\": \"\",\n        \"description\": \"\"\n      }\n    },\n    {\n      \"column\": \"es_transportation\",\n      \"properties\": {\n        \"dtype\": \"number\",\n        \"std\": 0,\n        \"min\": 0,\n        \"max\": 1,\n        \"num_unique_values\": 2,\n        \"samples\": [\n          0,\n          1\n        ],\n        \"semantic_type\": \"\",\n        \"description\": \"\"\n      }\n    },\n    {\n      \"column\": \"es_travel\",\n      \"properties\": {\n        \"dtype\": \"number\",\n        \"std\": 0,\n        \"min\": 0,\n        \"max\": 1,\n        \"num_unique_values\": 2,\n        \"samples\": [\n          1,\n          0\n        ],\n        \"semantic_type\": \"\",\n        \"description\": \"\"\n      }\n    }\n  ]\n}"
            }
          },
          "metadata": {},
          "execution_count": 74
        }
      ],
      "source": [
        "banksim_adj_df.head()"
      ]
    },
    {
      "cell_type": "markdown",
      "metadata": {
        "id": "UY5ShEL5PGwn"
      },
      "source": [
        "**Instructions 2/3**\n",
        "\n",
        "* Group the data by transaction category and take the mean of the data."
      ]
    },
    {
      "cell_type": "code",
      "execution_count": 75,
      "metadata": {
        "tags": [],
        "colab": {
          "base_uri": "https://localhost:8080/",
          "height": 551
        },
        "id": "1v8inLPBPGwn",
        "outputId": "b479a9a1-ff73-4556-c7ab-59e9a6931c76"
      },
      "outputs": [
        {
          "output_type": "execute_result",
          "data": {
            "text/plain": [
              "                           amount     fraud\n",
              "category                                   \n",
              "es_barsandrestaurants   43.841793  0.022472\n",
              "es_contents             55.170000  0.000000\n",
              "es_fashion              59.780769  0.020619\n",
              "es_food                 35.216050  0.000000\n",
              "es_health              126.604704  0.242798\n",
              "es_home                120.688317  0.208333\n",
              "es_hotelservices       172.756245  0.548387\n",
              "es_hyper                46.788180  0.125000\n",
              "es_leisure             229.757600  1.000000\n",
              "es_otherservices       149.648960  0.600000\n",
              "es_sportsandtoys       157.251737  0.657895\n",
              "es_tech                132.852862  0.179487\n",
              "es_transportation       27.422014  0.000000\n",
              "es_travel              231.818656  0.944444\n",
              "es_wellnessandbeauty    66.167078  0.060606"
            ],
            "text/html": [
              "\n",
              "  <div id=\"df-d14b86ac-0fb1-401e-968f-5e11838db355\" class=\"colab-df-container\">\n",
              "    <div>\n",
              "<style scoped>\n",
              "    .dataframe tbody tr th:only-of-type {\n",
              "        vertical-align: middle;\n",
              "    }\n",
              "\n",
              "    .dataframe tbody tr th {\n",
              "        vertical-align: top;\n",
              "    }\n",
              "\n",
              "    .dataframe thead th {\n",
              "        text-align: right;\n",
              "    }\n",
              "</style>\n",
              "<table border=\"1\" class=\"dataframe\">\n",
              "  <thead>\n",
              "    <tr style=\"text-align: right;\">\n",
              "      <th></th>\n",
              "      <th>amount</th>\n",
              "      <th>fraud</th>\n",
              "    </tr>\n",
              "    <tr>\n",
              "      <th>category</th>\n",
              "      <th></th>\n",
              "      <th></th>\n",
              "    </tr>\n",
              "  </thead>\n",
              "  <tbody>\n",
              "    <tr>\n",
              "      <th>es_barsandrestaurants</th>\n",
              "      <td>43.841793</td>\n",
              "      <td>0.022472</td>\n",
              "    </tr>\n",
              "    <tr>\n",
              "      <th>es_contents</th>\n",
              "      <td>55.170000</td>\n",
              "      <td>0.000000</td>\n",
              "    </tr>\n",
              "    <tr>\n",
              "      <th>es_fashion</th>\n",
              "      <td>59.780769</td>\n",
              "      <td>0.020619</td>\n",
              "    </tr>\n",
              "    <tr>\n",
              "      <th>es_food</th>\n",
              "      <td>35.216050</td>\n",
              "      <td>0.000000</td>\n",
              "    </tr>\n",
              "    <tr>\n",
              "      <th>es_health</th>\n",
              "      <td>126.604704</td>\n",
              "      <td>0.242798</td>\n",
              "    </tr>\n",
              "    <tr>\n",
              "      <th>es_home</th>\n",
              "      <td>120.688317</td>\n",
              "      <td>0.208333</td>\n",
              "    </tr>\n",
              "    <tr>\n",
              "      <th>es_hotelservices</th>\n",
              "      <td>172.756245</td>\n",
              "      <td>0.548387</td>\n",
              "    </tr>\n",
              "    <tr>\n",
              "      <th>es_hyper</th>\n",
              "      <td>46.788180</td>\n",
              "      <td>0.125000</td>\n",
              "    </tr>\n",
              "    <tr>\n",
              "      <th>es_leisure</th>\n",
              "      <td>229.757600</td>\n",
              "      <td>1.000000</td>\n",
              "    </tr>\n",
              "    <tr>\n",
              "      <th>es_otherservices</th>\n",
              "      <td>149.648960</td>\n",
              "      <td>0.600000</td>\n",
              "    </tr>\n",
              "    <tr>\n",
              "      <th>es_sportsandtoys</th>\n",
              "      <td>157.251737</td>\n",
              "      <td>0.657895</td>\n",
              "    </tr>\n",
              "    <tr>\n",
              "      <th>es_tech</th>\n",
              "      <td>132.852862</td>\n",
              "      <td>0.179487</td>\n",
              "    </tr>\n",
              "    <tr>\n",
              "      <th>es_transportation</th>\n",
              "      <td>27.422014</td>\n",
              "      <td>0.000000</td>\n",
              "    </tr>\n",
              "    <tr>\n",
              "      <th>es_travel</th>\n",
              "      <td>231.818656</td>\n",
              "      <td>0.944444</td>\n",
              "    </tr>\n",
              "    <tr>\n",
              "      <th>es_wellnessandbeauty</th>\n",
              "      <td>66.167078</td>\n",
              "      <td>0.060606</td>\n",
              "    </tr>\n",
              "  </tbody>\n",
              "</table>\n",
              "</div>\n",
              "    <div class=\"colab-df-buttons\">\n",
              "\n",
              "  <div class=\"colab-df-container\">\n",
              "    <button class=\"colab-df-convert\" onclick=\"convertToInteractive('df-d14b86ac-0fb1-401e-968f-5e11838db355')\"\n",
              "            title=\"Convert this dataframe to an interactive table.\"\n",
              "            style=\"display:none;\">\n",
              "\n",
              "  <svg xmlns=\"http://www.w3.org/2000/svg\" height=\"24px\" viewBox=\"0 -960 960 960\">\n",
              "    <path d=\"M120-120v-720h720v720H120Zm60-500h600v-160H180v160Zm220 220h160v-160H400v160Zm0 220h160v-160H400v160ZM180-400h160v-160H180v160Zm440 0h160v-160H620v160ZM180-180h160v-160H180v160Zm440 0h160v-160H620v160Z\"/>\n",
              "  </svg>\n",
              "    </button>\n",
              "\n",
              "  <style>\n",
              "    .colab-df-container {\n",
              "      display:flex;\n",
              "      gap: 12px;\n",
              "    }\n",
              "\n",
              "    .colab-df-convert {\n",
              "      background-color: #E8F0FE;\n",
              "      border: none;\n",
              "      border-radius: 50%;\n",
              "      cursor: pointer;\n",
              "      display: none;\n",
              "      fill: #1967D2;\n",
              "      height: 32px;\n",
              "      padding: 0 0 0 0;\n",
              "      width: 32px;\n",
              "    }\n",
              "\n",
              "    .colab-df-convert:hover {\n",
              "      background-color: #E2EBFA;\n",
              "      box-shadow: 0px 1px 2px rgba(60, 64, 67, 0.3), 0px 1px 3px 1px rgba(60, 64, 67, 0.15);\n",
              "      fill: #174EA6;\n",
              "    }\n",
              "\n",
              "    .colab-df-buttons div {\n",
              "      margin-bottom: 4px;\n",
              "    }\n",
              "\n",
              "    [theme=dark] .colab-df-convert {\n",
              "      background-color: #3B4455;\n",
              "      fill: #D2E3FC;\n",
              "    }\n",
              "\n",
              "    [theme=dark] .colab-df-convert:hover {\n",
              "      background-color: #434B5C;\n",
              "      box-shadow: 0px 1px 3px 1px rgba(0, 0, 0, 0.15);\n",
              "      filter: drop-shadow(0px 1px 2px rgba(0, 0, 0, 0.3));\n",
              "      fill: #FFFFFF;\n",
              "    }\n",
              "  </style>\n",
              "\n",
              "    <script>\n",
              "      const buttonEl =\n",
              "        document.querySelector('#df-d14b86ac-0fb1-401e-968f-5e11838db355 button.colab-df-convert');\n",
              "      buttonEl.style.display =\n",
              "        google.colab.kernel.accessAllowed ? 'block' : 'none';\n",
              "\n",
              "      async function convertToInteractive(key) {\n",
              "        const element = document.querySelector('#df-d14b86ac-0fb1-401e-968f-5e11838db355');\n",
              "        const dataTable =\n",
              "          await google.colab.kernel.invokeFunction('convertToInteractive',\n",
              "                                                    [key], {});\n",
              "        if (!dataTable) return;\n",
              "\n",
              "        const docLinkHtml = 'Like what you see? Visit the ' +\n",
              "          '<a target=\"_blank\" href=https://colab.research.google.com/notebooks/data_table.ipynb>data table notebook</a>'\n",
              "          + ' to learn more about interactive tables.';\n",
              "        element.innerHTML = '';\n",
              "        dataTable['output_type'] = 'display_data';\n",
              "        await google.colab.output.renderOutput(dataTable, element);\n",
              "        const docLink = document.createElement('div');\n",
              "        docLink.innerHTML = docLinkHtml;\n",
              "        element.appendChild(docLink);\n",
              "      }\n",
              "    </script>\n",
              "  </div>\n",
              "\n",
              "\n",
              "<div id=\"df-0e8cc2ec-6716-46b1-9f92-28833953addb\">\n",
              "  <button class=\"colab-df-quickchart\" onclick=\"quickchart('df-0e8cc2ec-6716-46b1-9f92-28833953addb')\"\n",
              "            title=\"Suggest charts\"\n",
              "            style=\"display:none;\">\n",
              "\n",
              "<svg xmlns=\"http://www.w3.org/2000/svg\" height=\"24px\"viewBox=\"0 0 24 24\"\n",
              "     width=\"24px\">\n",
              "    <g>\n",
              "        <path d=\"M19 3H5c-1.1 0-2 .9-2 2v14c0 1.1.9 2 2 2h14c1.1 0 2-.9 2-2V5c0-1.1-.9-2-2-2zM9 17H7v-7h2v7zm4 0h-2V7h2v10zm4 0h-2v-4h2v4z\"/>\n",
              "    </g>\n",
              "</svg>\n",
              "  </button>\n",
              "\n",
              "<style>\n",
              "  .colab-df-quickchart {\n",
              "      --bg-color: #E8F0FE;\n",
              "      --fill-color: #1967D2;\n",
              "      --hover-bg-color: #E2EBFA;\n",
              "      --hover-fill-color: #174EA6;\n",
              "      --disabled-fill-color: #AAA;\n",
              "      --disabled-bg-color: #DDD;\n",
              "  }\n",
              "\n",
              "  [theme=dark] .colab-df-quickchart {\n",
              "      --bg-color: #3B4455;\n",
              "      --fill-color: #D2E3FC;\n",
              "      --hover-bg-color: #434B5C;\n",
              "      --hover-fill-color: #FFFFFF;\n",
              "      --disabled-bg-color: #3B4455;\n",
              "      --disabled-fill-color: #666;\n",
              "  }\n",
              "\n",
              "  .colab-df-quickchart {\n",
              "    background-color: var(--bg-color);\n",
              "    border: none;\n",
              "    border-radius: 50%;\n",
              "    cursor: pointer;\n",
              "    display: none;\n",
              "    fill: var(--fill-color);\n",
              "    height: 32px;\n",
              "    padding: 0;\n",
              "    width: 32px;\n",
              "  }\n",
              "\n",
              "  .colab-df-quickchart:hover {\n",
              "    background-color: var(--hover-bg-color);\n",
              "    box-shadow: 0 1px 2px rgba(60, 64, 67, 0.3), 0 1px 3px 1px rgba(60, 64, 67, 0.15);\n",
              "    fill: var(--button-hover-fill-color);\n",
              "  }\n",
              "\n",
              "  .colab-df-quickchart-complete:disabled,\n",
              "  .colab-df-quickchart-complete:disabled:hover {\n",
              "    background-color: var(--disabled-bg-color);\n",
              "    fill: var(--disabled-fill-color);\n",
              "    box-shadow: none;\n",
              "  }\n",
              "\n",
              "  .colab-df-spinner {\n",
              "    border: 2px solid var(--fill-color);\n",
              "    border-color: transparent;\n",
              "    border-bottom-color: var(--fill-color);\n",
              "    animation:\n",
              "      spin 1s steps(1) infinite;\n",
              "  }\n",
              "\n",
              "  @keyframes spin {\n",
              "    0% {\n",
              "      border-color: transparent;\n",
              "      border-bottom-color: var(--fill-color);\n",
              "      border-left-color: var(--fill-color);\n",
              "    }\n",
              "    20% {\n",
              "      border-color: transparent;\n",
              "      border-left-color: var(--fill-color);\n",
              "      border-top-color: var(--fill-color);\n",
              "    }\n",
              "    30% {\n",
              "      border-color: transparent;\n",
              "      border-left-color: var(--fill-color);\n",
              "      border-top-color: var(--fill-color);\n",
              "      border-right-color: var(--fill-color);\n",
              "    }\n",
              "    40% {\n",
              "      border-color: transparent;\n",
              "      border-right-color: var(--fill-color);\n",
              "      border-top-color: var(--fill-color);\n",
              "    }\n",
              "    60% {\n",
              "      border-color: transparent;\n",
              "      border-right-color: var(--fill-color);\n",
              "    }\n",
              "    80% {\n",
              "      border-color: transparent;\n",
              "      border-right-color: var(--fill-color);\n",
              "      border-bottom-color: var(--fill-color);\n",
              "    }\n",
              "    90% {\n",
              "      border-color: transparent;\n",
              "      border-bottom-color: var(--fill-color);\n",
              "    }\n",
              "  }\n",
              "</style>\n",
              "\n",
              "  <script>\n",
              "    async function quickchart(key) {\n",
              "      const quickchartButtonEl =\n",
              "        document.querySelector('#' + key + ' button');\n",
              "      quickchartButtonEl.disabled = true;  // To prevent multiple clicks.\n",
              "      quickchartButtonEl.classList.add('colab-df-spinner');\n",
              "      try {\n",
              "        const charts = await google.colab.kernel.invokeFunction(\n",
              "            'suggestCharts', [key], {});\n",
              "      } catch (error) {\n",
              "        console.error('Error during call to suggestCharts:', error);\n",
              "      }\n",
              "      quickchartButtonEl.classList.remove('colab-df-spinner');\n",
              "      quickchartButtonEl.classList.add('colab-df-quickchart-complete');\n",
              "    }\n",
              "    (() => {\n",
              "      let quickchartButtonEl =\n",
              "        document.querySelector('#df-0e8cc2ec-6716-46b1-9f92-28833953addb button');\n",
              "      quickchartButtonEl.style.display =\n",
              "        google.colab.kernel.accessAllowed ? 'block' : 'none';\n",
              "    })();\n",
              "  </script>\n",
              "</div>\n",
              "    </div>\n",
              "  </div>\n"
            ],
            "application/vnd.google.colaboratory.intrinsic+json": {
              "type": "dataframe",
              "summary": "{\n  \"name\": \"banksim_df\",\n  \"rows\": 15,\n  \"fields\": [\n    {\n      \"column\": \"category\",\n      \"properties\": {\n        \"dtype\": \"string\",\n        \"num_unique_values\": 15,\n        \"samples\": [\n          \"es_otherservices\",\n          \"es_tech\",\n          \"es_barsandrestaurants\"\n        ],\n        \"semantic_type\": \"\",\n        \"description\": \"\"\n      }\n    },\n    {\n      \"column\": \"amount\",\n      \"properties\": {\n        \"dtype\": \"number\",\n        \"std\": 68.69643633531187,\n        \"min\": 27.42201409205021,\n        \"max\": 231.81865555555518,\n        \"num_unique_values\": 15,\n        \"samples\": [\n          149.64895999999985,\n          132.85286153846147,\n          43.84179325842697\n        ],\n        \"semantic_type\": \"\",\n        \"description\": \"\"\n      }\n    },\n    {\n      \"column\": \"fraud\",\n      \"properties\": {\n        \"dtype\": \"number\",\n        \"std\": 0.3508657244445407,\n        \"min\": 0.0,\n        \"max\": 1.0,\n        \"num_unique_values\": 13,\n        \"samples\": [\n          0.9444444444444444,\n          0.6578947368421053,\n          0.02247191011235955\n        ],\n        \"semantic_type\": \"\",\n        \"description\": \"\"\n      }\n    }\n  ]\n}"
            }
          },
          "metadata": {},
          "execution_count": 75
        }
      ],
      "source": [
        "banksim_df.groupby(['category']).mean()"
      ]
    },
    {
      "cell_type": "markdown",
      "metadata": {
        "id": "FssNfsUePGwn"
      },
      "source": [
        "**Instructions 3/3**\n",
        "\n",
        "Based on these results, can you already say something about fraud in our data?\n",
        "\n",
        "**Possible Answers**\n",
        "\n",
        "* ~~No, I don't have enough information.~~\n",
        "* **Yes, the majority of fraud is observed in travel, leisure and sports related transactions.**"
      ]
    },
    {
      "cell_type": "markdown",
      "metadata": {
        "id": "ztdyJOJNPGwo"
      },
      "source": [
        "### Customer segmentation\n",
        "\n",
        "In this exercise you're going to check whether there are any **obvious patterns** for the clients in this data, thus whether you need to segment your data into groups, or whether the data is rather homogenous.\n",
        "\n",
        "You unfortunately don't have a lot client information available; you can't for example distinguish between the wealth levels of different clients. However, there is data on **age ** available, so let's see whether there is any significant difference between behavior of age groups.\n",
        "\n",
        "**Instructions 1/3**\n",
        "\n",
        "* Group the dataframe `df` by the category `age` and get the means for each age group."
      ]
    },
    {
      "cell_type": "code",
      "execution_count": 76,
      "metadata": {
        "tags": [],
        "colab": {
          "base_uri": "https://localhost:8080/",
          "height": 332
        },
        "id": "9BW0PlWGPGwo",
        "outputId": "fec81c7b-51a8-4e11-c8c5-cb3d969b1e4f"
      },
      "outputs": [
        {
          "output_type": "execute_result",
          "data": {
            "text/plain": [
              "        amount     fraud\n",
              "age                     \n",
              "0    49.468935  0.050000\n",
              "1    35.622829  0.026648\n",
              "2    37.228665  0.028718\n",
              "3    37.279338  0.023283\n",
              "4    36.197985  0.035966\n",
              "5    37.547521  0.023990\n",
              "6    36.700852  0.022293\n",
              "U    39.117000  0.000000"
            ],
            "text/html": [
              "\n",
              "  <div id=\"df-c17796c1-e33b-4e99-a272-c1c280cc8117\" class=\"colab-df-container\">\n",
              "    <div>\n",
              "<style scoped>\n",
              "    .dataframe tbody tr th:only-of-type {\n",
              "        vertical-align: middle;\n",
              "    }\n",
              "\n",
              "    .dataframe tbody tr th {\n",
              "        vertical-align: top;\n",
              "    }\n",
              "\n",
              "    .dataframe thead th {\n",
              "        text-align: right;\n",
              "    }\n",
              "</style>\n",
              "<table border=\"1\" class=\"dataframe\">\n",
              "  <thead>\n",
              "    <tr style=\"text-align: right;\">\n",
              "      <th></th>\n",
              "      <th>amount</th>\n",
              "      <th>fraud</th>\n",
              "    </tr>\n",
              "    <tr>\n",
              "      <th>age</th>\n",
              "      <th></th>\n",
              "      <th></th>\n",
              "    </tr>\n",
              "  </thead>\n",
              "  <tbody>\n",
              "    <tr>\n",
              "      <th>0</th>\n",
              "      <td>49.468935</td>\n",
              "      <td>0.050000</td>\n",
              "    </tr>\n",
              "    <tr>\n",
              "      <th>1</th>\n",
              "      <td>35.622829</td>\n",
              "      <td>0.026648</td>\n",
              "    </tr>\n",
              "    <tr>\n",
              "      <th>2</th>\n",
              "      <td>37.228665</td>\n",
              "      <td>0.028718</td>\n",
              "    </tr>\n",
              "    <tr>\n",
              "      <th>3</th>\n",
              "      <td>37.279338</td>\n",
              "      <td>0.023283</td>\n",
              "    </tr>\n",
              "    <tr>\n",
              "      <th>4</th>\n",
              "      <td>36.197985</td>\n",
              "      <td>0.035966</td>\n",
              "    </tr>\n",
              "    <tr>\n",
              "      <th>5</th>\n",
              "      <td>37.547521</td>\n",
              "      <td>0.023990</td>\n",
              "    </tr>\n",
              "    <tr>\n",
              "      <th>6</th>\n",
              "      <td>36.700852</td>\n",
              "      <td>0.022293</td>\n",
              "    </tr>\n",
              "    <tr>\n",
              "      <th>U</th>\n",
              "      <td>39.117000</td>\n",
              "      <td>0.000000</td>\n",
              "    </tr>\n",
              "  </tbody>\n",
              "</table>\n",
              "</div>\n",
              "    <div class=\"colab-df-buttons\">\n",
              "\n",
              "  <div class=\"colab-df-container\">\n",
              "    <button class=\"colab-df-convert\" onclick=\"convertToInteractive('df-c17796c1-e33b-4e99-a272-c1c280cc8117')\"\n",
              "            title=\"Convert this dataframe to an interactive table.\"\n",
              "            style=\"display:none;\">\n",
              "\n",
              "  <svg xmlns=\"http://www.w3.org/2000/svg\" height=\"24px\" viewBox=\"0 -960 960 960\">\n",
              "    <path d=\"M120-120v-720h720v720H120Zm60-500h600v-160H180v160Zm220 220h160v-160H400v160Zm0 220h160v-160H400v160ZM180-400h160v-160H180v160Zm440 0h160v-160H620v160ZM180-180h160v-160H180v160Zm440 0h160v-160H620v160Z\"/>\n",
              "  </svg>\n",
              "    </button>\n",
              "\n",
              "  <style>\n",
              "    .colab-df-container {\n",
              "      display:flex;\n",
              "      gap: 12px;\n",
              "    }\n",
              "\n",
              "    .colab-df-convert {\n",
              "      background-color: #E8F0FE;\n",
              "      border: none;\n",
              "      border-radius: 50%;\n",
              "      cursor: pointer;\n",
              "      display: none;\n",
              "      fill: #1967D2;\n",
              "      height: 32px;\n",
              "      padding: 0 0 0 0;\n",
              "      width: 32px;\n",
              "    }\n",
              "\n",
              "    .colab-df-convert:hover {\n",
              "      background-color: #E2EBFA;\n",
              "      box-shadow: 0px 1px 2px rgba(60, 64, 67, 0.3), 0px 1px 3px 1px rgba(60, 64, 67, 0.15);\n",
              "      fill: #174EA6;\n",
              "    }\n",
              "\n",
              "    .colab-df-buttons div {\n",
              "      margin-bottom: 4px;\n",
              "    }\n",
              "\n",
              "    [theme=dark] .colab-df-convert {\n",
              "      background-color: #3B4455;\n",
              "      fill: #D2E3FC;\n",
              "    }\n",
              "\n",
              "    [theme=dark] .colab-df-convert:hover {\n",
              "      background-color: #434B5C;\n",
              "      box-shadow: 0px 1px 3px 1px rgba(0, 0, 0, 0.15);\n",
              "      filter: drop-shadow(0px 1px 2px rgba(0, 0, 0, 0.3));\n",
              "      fill: #FFFFFF;\n",
              "    }\n",
              "  </style>\n",
              "\n",
              "    <script>\n",
              "      const buttonEl =\n",
              "        document.querySelector('#df-c17796c1-e33b-4e99-a272-c1c280cc8117 button.colab-df-convert');\n",
              "      buttonEl.style.display =\n",
              "        google.colab.kernel.accessAllowed ? 'block' : 'none';\n",
              "\n",
              "      async function convertToInteractive(key) {\n",
              "        const element = document.querySelector('#df-c17796c1-e33b-4e99-a272-c1c280cc8117');\n",
              "        const dataTable =\n",
              "          await google.colab.kernel.invokeFunction('convertToInteractive',\n",
              "                                                    [key], {});\n",
              "        if (!dataTable) return;\n",
              "\n",
              "        const docLinkHtml = 'Like what you see? Visit the ' +\n",
              "          '<a target=\"_blank\" href=https://colab.research.google.com/notebooks/data_table.ipynb>data table notebook</a>'\n",
              "          + ' to learn more about interactive tables.';\n",
              "        element.innerHTML = '';\n",
              "        dataTable['output_type'] = 'display_data';\n",
              "        await google.colab.output.renderOutput(dataTable, element);\n",
              "        const docLink = document.createElement('div');\n",
              "        docLink.innerHTML = docLinkHtml;\n",
              "        element.appendChild(docLink);\n",
              "      }\n",
              "    </script>\n",
              "  </div>\n",
              "\n",
              "\n",
              "<div id=\"df-9a8555a0-f170-434a-8986-f4873d25045a\">\n",
              "  <button class=\"colab-df-quickchart\" onclick=\"quickchart('df-9a8555a0-f170-434a-8986-f4873d25045a')\"\n",
              "            title=\"Suggest charts\"\n",
              "            style=\"display:none;\">\n",
              "\n",
              "<svg xmlns=\"http://www.w3.org/2000/svg\" height=\"24px\"viewBox=\"0 0 24 24\"\n",
              "     width=\"24px\">\n",
              "    <g>\n",
              "        <path d=\"M19 3H5c-1.1 0-2 .9-2 2v14c0 1.1.9 2 2 2h14c1.1 0 2-.9 2-2V5c0-1.1-.9-2-2-2zM9 17H7v-7h2v7zm4 0h-2V7h2v10zm4 0h-2v-4h2v4z\"/>\n",
              "    </g>\n",
              "</svg>\n",
              "  </button>\n",
              "\n",
              "<style>\n",
              "  .colab-df-quickchart {\n",
              "      --bg-color: #E8F0FE;\n",
              "      --fill-color: #1967D2;\n",
              "      --hover-bg-color: #E2EBFA;\n",
              "      --hover-fill-color: #174EA6;\n",
              "      --disabled-fill-color: #AAA;\n",
              "      --disabled-bg-color: #DDD;\n",
              "  }\n",
              "\n",
              "  [theme=dark] .colab-df-quickchart {\n",
              "      --bg-color: #3B4455;\n",
              "      --fill-color: #D2E3FC;\n",
              "      --hover-bg-color: #434B5C;\n",
              "      --hover-fill-color: #FFFFFF;\n",
              "      --disabled-bg-color: #3B4455;\n",
              "      --disabled-fill-color: #666;\n",
              "  }\n",
              "\n",
              "  .colab-df-quickchart {\n",
              "    background-color: var(--bg-color);\n",
              "    border: none;\n",
              "    border-radius: 50%;\n",
              "    cursor: pointer;\n",
              "    display: none;\n",
              "    fill: var(--fill-color);\n",
              "    height: 32px;\n",
              "    padding: 0;\n",
              "    width: 32px;\n",
              "  }\n",
              "\n",
              "  .colab-df-quickchart:hover {\n",
              "    background-color: var(--hover-bg-color);\n",
              "    box-shadow: 0 1px 2px rgba(60, 64, 67, 0.3), 0 1px 3px 1px rgba(60, 64, 67, 0.15);\n",
              "    fill: var(--button-hover-fill-color);\n",
              "  }\n",
              "\n",
              "  .colab-df-quickchart-complete:disabled,\n",
              "  .colab-df-quickchart-complete:disabled:hover {\n",
              "    background-color: var(--disabled-bg-color);\n",
              "    fill: var(--disabled-fill-color);\n",
              "    box-shadow: none;\n",
              "  }\n",
              "\n",
              "  .colab-df-spinner {\n",
              "    border: 2px solid var(--fill-color);\n",
              "    border-color: transparent;\n",
              "    border-bottom-color: var(--fill-color);\n",
              "    animation:\n",
              "      spin 1s steps(1) infinite;\n",
              "  }\n",
              "\n",
              "  @keyframes spin {\n",
              "    0% {\n",
              "      border-color: transparent;\n",
              "      border-bottom-color: var(--fill-color);\n",
              "      border-left-color: var(--fill-color);\n",
              "    }\n",
              "    20% {\n",
              "      border-color: transparent;\n",
              "      border-left-color: var(--fill-color);\n",
              "      border-top-color: var(--fill-color);\n",
              "    }\n",
              "    30% {\n",
              "      border-color: transparent;\n",
              "      border-left-color: var(--fill-color);\n",
              "      border-top-color: var(--fill-color);\n",
              "      border-right-color: var(--fill-color);\n",
              "    }\n",
              "    40% {\n",
              "      border-color: transparent;\n",
              "      border-right-color: var(--fill-color);\n",
              "      border-top-color: var(--fill-color);\n",
              "    }\n",
              "    60% {\n",
              "      border-color: transparent;\n",
              "      border-right-color: var(--fill-color);\n",
              "    }\n",
              "    80% {\n",
              "      border-color: transparent;\n",
              "      border-right-color: var(--fill-color);\n",
              "      border-bottom-color: var(--fill-color);\n",
              "    }\n",
              "    90% {\n",
              "      border-color: transparent;\n",
              "      border-bottom-color: var(--fill-color);\n",
              "    }\n",
              "  }\n",
              "</style>\n",
              "\n",
              "  <script>\n",
              "    async function quickchart(key) {\n",
              "      const quickchartButtonEl =\n",
              "        document.querySelector('#' + key + ' button');\n",
              "      quickchartButtonEl.disabled = true;  // To prevent multiple clicks.\n",
              "      quickchartButtonEl.classList.add('colab-df-spinner');\n",
              "      try {\n",
              "        const charts = await google.colab.kernel.invokeFunction(\n",
              "            'suggestCharts', [key], {});\n",
              "      } catch (error) {\n",
              "        console.error('Error during call to suggestCharts:', error);\n",
              "      }\n",
              "      quickchartButtonEl.classList.remove('colab-df-spinner');\n",
              "      quickchartButtonEl.classList.add('colab-df-quickchart-complete');\n",
              "    }\n",
              "    (() => {\n",
              "      let quickchartButtonEl =\n",
              "        document.querySelector('#df-9a8555a0-f170-434a-8986-f4873d25045a button');\n",
              "      quickchartButtonEl.style.display =\n",
              "        google.colab.kernel.accessAllowed ? 'block' : 'none';\n",
              "    })();\n",
              "  </script>\n",
              "</div>\n",
              "    </div>\n",
              "  </div>\n"
            ],
            "application/vnd.google.colaboratory.intrinsic+json": {
              "type": "dataframe",
              "summary": "{\n  \"name\": \"banksim_df\",\n  \"rows\": 8,\n  \"fields\": [\n    {\n      \"column\": \"age\",\n      \"properties\": {\n        \"dtype\": \"string\",\n        \"num_unique_values\": 8,\n        \"samples\": [\n          \"1\",\n          \"5\",\n          \"0\"\n        ],\n        \"semantic_type\": \"\",\n        \"description\": \"\"\n      }\n    },\n    {\n      \"column\": \"amount\",\n      \"properties\": {\n        \"dtype\": \"number\",\n        \"std\": 4.493756919754342,\n        \"min\": 35.62282945301542,\n        \"max\": 49.468934999999995,\n        \"num_unique_values\": 8,\n        \"samples\": [\n          35.62282945301542,\n          37.54752146464646,\n          49.468934999999995\n        ],\n        \"semantic_type\": \"\",\n        \"description\": \"\"\n      }\n    },\n    {\n      \"column\": \"fraud\",\n      \"properties\": {\n        \"dtype\": \"number\",\n        \"std\": 0.014057220512340318,\n        \"min\": 0.0,\n        \"max\": 0.05,\n        \"num_unique_values\": 8,\n        \"samples\": [\n          0.02664796633941094,\n          0.023989898989898988,\n          0.05\n        ],\n        \"semantic_type\": \"\",\n        \"description\": \"\"\n      }\n    }\n  ]\n}"
            }
          },
          "metadata": {},
          "execution_count": 76
        }
      ],
      "source": [
        "banksim_df.groupby(['age']).mean()"
      ]
    },
    {
      "cell_type": "markdown",
      "metadata": {
        "id": "xuRNyDP0PGwp"
      },
      "source": [
        "**Instructions 2/3**\n",
        "\n",
        "* Count the values of each age group."
      ]
    },
    {
      "cell_type": "code",
      "execution_count": 77,
      "metadata": {
        "tags": [],
        "colab": {
          "base_uri": "https://localhost:8080/"
        },
        "id": "ysZnRzCNPGwp",
        "outputId": "f975b116-81bf-40e2-eaa7-ecb2f0e1eb2a"
      },
      "outputs": [
        {
          "output_type": "execute_result",
          "data": {
            "text/plain": [
              "2    2333\n",
              "3    1718\n",
              "4    1279\n",
              "5     792\n",
              "1     713\n",
              "6     314\n",
              "0      40\n",
              "U      11\n",
              "Name: age, dtype: int64"
            ]
          },
          "metadata": {},
          "execution_count": 77
        }
      ],
      "source": [
        "banksim_df.age.value_counts()"
      ]
    },
    {
      "cell_type": "markdown",
      "metadata": {
        "id": "fo-38-S5PGwp"
      },
      "source": [
        "**Instructions 3/3**\n",
        "\n",
        "Based on the results you see, does it make sense to divide your data into age segments before running a fraud detection algorithm?\n",
        "\n",
        "**Possible Answers**\n",
        "\n",
        "* **No, the age groups who are the largest are relatively similar.**\n",
        "* ~~Yes, the age group \"0\" is very different and I would split that one out.~~\n",
        "\n",
        "**The average amount spent as well as fraud occurrence is rather similar across groups. Age group '0' stands out but since there are only 40 cases, it does not make sense to split these out in a separate group and run a separate model on them.**"
      ]
    },
    {
      "cell_type": "markdown",
      "metadata": {
        "id": "FWTm3yEXPGwp"
      },
      "source": [
        "### Using statistics to define normal behavior\n",
        "\n",
        "In the previous exercises we saw that fraud is **more prevalent in certain transaction categories**, but that there is no obvious way to segment our data into for example age groups. This time, let's investigate the **average amounts spent** in normal transactions versus fraud transactions. This gives you an idea of how fraudulent transactions **differ structurally** from normal transactions.\n",
        "\n",
        "**Instructions**\n",
        "\n",
        "* Create two new dataframes from fraud and non-fraud observations. Locate the data in `df` with `.loc` and assign the condition \"where fraud is 1\" and \"where fraud is 0\" for creation of the new dataframes.\n",
        "* Plot the `amount` column of the newly created dataframes in the histogram plot functions and assign the labels `fraud` and `nonfraud` respectively to the plots."
      ]
    },
    {
      "cell_type": "code",
      "execution_count": 78,
      "metadata": {
        "tags": [],
        "id": "AxOB7xS2PGwp"
      },
      "outputs": [],
      "source": [
        "# Create two dataframes with fraud and non-fraud data\n",
        "df_fraud = banksim_df[banksim_df.fraud == 1]\n",
        "df_non_fraud = banksim_df[banksim_df.fraud == 0]"
      ]
    },
    {
      "cell_type": "code",
      "execution_count": 79,
      "metadata": {
        "tags": [],
        "colab": {
          "base_uri": "https://localhost:8080/",
          "height": 449
        },
        "id": "mumRpoCzPGwp",
        "outputId": "0a642cae-e80b-44f4-e7a4-57d7c4f6f6d3"
      },
      "outputs": [
        {
          "output_type": "display_data",
          "data": {
            "text/plain": [
              "<Figure size 640x480 with 1 Axes>"
            ],
            "image/png": "[encoded data removed]"
          },
          "metadata": {}
        }
      ],
      "source": [
        "# Plot histograms of the amounts in fraud and non-fraud data\n",
        "plt.hist(df_fraud.amount, alpha=0.5, label='fraud')\n",
        "plt.hist(df_non_fraud.amount, alpha=0.5, label='nonfraud')\n",
        "plt.xlabel('amount')\n",
        "plt.legend()\n",
        "plt.show()"
      ]
    },
    {
      "cell_type": "markdown",
      "metadata": {
        "id": "_FuPMLIrPGwp"
      },
      "source": [
        "**As the number fraud observations is much smaller, it is difficult to see the full distribution. Nonetheless, you can see that the fraudulent transactions tend to be on the larger side relative to normal observations. This is good news, as it helps us later in detecting fraud from non-fraud. In the next chapter you're going to implement a clustering model to distinguish between normal and abnormal transactions, when the fraud labels are no longer available.**"
      ]
    },
    {
      "cell_type": "markdown",
      "metadata": {
        "id": "ZsApJ9JWPGwp"
      },
      "source": [
        "## Clustering methods to detect fraud"
      ]
    },
    {
      "cell_type": "markdown",
      "metadata": {
        "id": "JKhEPG8YPGwp"
      },
      "source": [
        "#### K-means clustering\n",
        "\n",
        "![k-means](https://raw.githubusercontent.com/trenton3983/DataCamp/master/Images/fraud_detection/k-means.JPG)\n",
        "\n",
        "* The objective of any clustering model is to detect patterns in the data\n",
        "* More specifically, to group the data into distinct clusters made of data points that are very similar to each other, but distinct from the points in the other clusters.\n",
        "* **The objective of k-means is to minimize the sum of all distances between the data samples and their associated cluster centroids**\n",
        "    * The score is the inverse of that minimization, so the score should be close to 0.\n",
        "* **Using the distance to cluster centroids**\n",
        "    * Training samples are shown as dots and cluster centroids are shown as crosses\n",
        "    * Attempt to cluster the data in image A\n",
        "        * Start by putting in an initial guess for two cluster centroids, as in B\n",
        "        * Predefine the number of clusters at the start\n",
        "        * Then calculate the distances of each sample in the data to the closest centroid\n",
        "        * Figure C shows the data split into the two clusters\n",
        "        * Based on the initial clusters, the location of the centroids can be redefined (fig D) to minimize the sum of all distances in the two clusters.\n",
        "        * Repeat the step of reassigning points that are nearest to the centroid (fig E) until it converges to the point where no sample gets reassigned to another cluster (fig F)\n",
        "        * ![clustering](https://raw.githubusercontent.com/trenton3983/DataCamp/master/Images/fraud_detection/clustering.JPG)"
      ]
    },
    {
      "cell_type": "markdown",
      "metadata": {
        "id": "-F8NOU3EPGwp"
      },
      "source": [
        "#### K-means clustering in Python\n",
        "\n",
        "* It's of utmost importance to scale the data before doing K-means clustering, or any algorithm that uses distances\n",
        "* Without scaling, features on a larger scale will weight more heavily in the algorithm.  All features should weigh equally at the initial stage\n",
        "* fix `random_state` so models can be compared\n",
        "\n",
        "```python\n",
        "# Import the packages\n",
        "from sklearn.preprocessing import MinMaxScaler\n",
        "from sklearn.cluster import KMeans\n",
        "\n",
        "# Transform and scale your data\n",
        "X = np.array(df).astype(np.float)\n",
        "scaler = MinMaxScaler()\n",
        "X_scaled = scaler.fit_transform(X)\n",
        "\n",
        "# Define the k-means model and fit to the data\n",
        "kmeans = KMeans(n_clusters=6, random_state=42).fit(X_scaled)\n",
        "```"
      ]
    },
    {
      "cell_type": "markdown",
      "metadata": {
        "id": "-Vc5q1AfPGwp"
      },
      "source": [
        "#### The right amount of clusters\n",
        "\n",
        "* The drawback of K-means clustering is the need to assign the number of clusters beforehand\n",
        "* There are multiple ways to check what the right number of clusters should be\n",
        "    * Silhouette method\n",
        "    * Elbow curve\n",
        "* By running a k-means model on clusters varying from 1 to 10 and generate an **elbow curve** by saving the scores for each model under \"score\".\n",
        "* Plot the scores against the number of clusters\n",
        "\n",
        "    \n",
        "```python\n",
        "clust = range(1, 10)\n",
        "kmeans = [KMeans(n_clusters=i) for i in clust]\n",
        "\n",
        "score = [kmeans[i].fit(X_scaled).score(X_scaled) for i in range(len(kmeans))]\n",
        "\n",
        "plt.plot(clust,score)\n",
        "plt.xlabel('Number of Clusters')\n",
        "plt.ylabel('Score')\n",
        "plt.title('Elbow Curve')\n",
        "plt.show()\n",
        "```\n",
        "\n",
        "![elbow curve](https://raw.githubusercontent.com/trenton3983/DataCamp/master/Images/fraud_detection/elbow.JPG)\n",
        "\n",
        "* The slight elbow at 3 means that 3 clusters could be optimal, but it's not very pronounced"
      ]
    },
    {
      "cell_type": "markdown",
      "metadata": {
        "id": "uRrAJDE6PGwp"
      },
      "source": [
        "### Scaling the data\n",
        "\n",
        "For ML algorithms using distance based metrics, it is **crucial to always scale your data**, as features using different scales will distort your results. K-means uses the Euclidean distance to assess distance to cluster centroids, therefore you first need to scale your data before continuing to implement the algorithm. Let's do that first.\n",
        "\n",
        "Available is the dataframe `df` from the previous exercise, with some minor data preparation done so it is ready for you to use with `sklearn`. The fraud labels are separately stored under labels, you can use those to check the results later.\n",
        "\n",
        "**Instructions**\n",
        "\n",
        "* Import the ``MinMaxScaler``.\n",
        "* Transform your dataframe `df` into a numpy array `X` by taking only the values of `df` and make sure you have all `float` values.\n",
        "* Apply the defined scaler onto `X` to obtain scaled values of `X_scaled` to force all your features to a 0-1 scale."
      ]
    },
    {
      "cell_type": "code",
      "execution_count": 80,
      "metadata": {
        "tags": [],
        "id": "Pl3hQnBPPGwq"
      },
      "outputs": [],
      "source": [
        "labels = banksim_adj_df.fraud"
      ]
    },
    {
      "cell_type": "code",
      "execution_count": 81,
      "metadata": {
        "tags": [],
        "id": "rjxDrFv3PGwq"
      },
      "outputs": [],
      "source": [
        "cols = ['age', 'amount', 'M', 'es_barsandrestaurants', 'es_contents',\n",
        "        'es_fashion', 'es_food', 'es_health', 'es_home', 'es_hotelservices',\n",
        "        'es_hyper', 'es_leisure', 'es_otherservices', 'es_sportsandtoys',\n",
        "        'es_tech', 'es_transportation', 'es_travel']"
      ]
    },
    {
      "cell_type": "code",
      "execution_count": 82,
      "metadata": {
        "tags": [],
        "id": "mV3l_7lRPGwq"
      },
      "outputs": [],
      "source": [
        "# Take the float values of df for X\n",
        "X = banksim_adj_df[cols].values.astype(float)\n",
        "# Исправил np.float на float"
      ]
    },
    {
      "cell_type": "code",
      "execution_count": 83,
      "metadata": {
        "tags": [],
        "colab": {
          "base_uri": "https://localhost:8080/"
        },
        "id": "tiThM2elPGwq",
        "outputId": "33bd1eb1-7287-4285-c2e7-a77936562d8a"
      },
      "outputs": [
        {
          "output_type": "execute_result",
          "data": {
            "text/plain": [
              "(7189, 17)"
            ]
          },
          "metadata": {},
          "execution_count": 83
        }
      ],
      "source": [
        "X.shape"
      ]
    },
    {
      "cell_type": "code",
      "execution_count": 84,
      "metadata": {
        "tags": [],
        "id": "G3Wfn993PGwq"
      },
      "outputs": [],
      "source": [
        "# Define the scaler and apply to the data\n",
        "scaler = MinMaxScaler()\n",
        "X_scaled = scaler.fit_transform(X)"
      ]
    },
    {
      "cell_type": "markdown",
      "metadata": {
        "id": "6CvXJtcbPGwq"
      },
      "source": [
        "### K-mean clustering\n",
        "\n",
        "A very commonly used clustering algorithm is **K-means clustering**. For fraud detection, K-means clustering is straightforward to implement and relatively powerful in predicting suspicious cases. It is a good algorithm to start with when working on fraud detection problems. However, fraud data is oftentimes very large, especially when you are working with transaction data. **MiniBatch K-means** is an **efficient way** to implement K-means on a large dataset, which you will use in this exercise.\n",
        "\n",
        "The scaled data from the previous exercise, `X_scaled` is available. Let's give it a try.\n",
        "\n",
        "**Instructions**\n",
        "\n",
        "* Import `MiniBatchKMeans` from `sklearn`.\n",
        "* Initialize the minibatch kmeans model with 8 clusters.\n",
        "* Fit the model to your scaled data."
      ]
    },
    {
      "cell_type": "code",
      "execution_count": 85,
      "metadata": {
        "tags": [],
        "colab": {
          "base_uri": "https://localhost:8080/",
          "height": 75
        },
        "id": "6YHetmbEPGwq",
        "outputId": "52cd2030-f2dd-4f9e-8c2d-56204d9aecda"
      },
      "outputs": [
        {
          "output_type": "execute_result",
          "data": {
            "text/plain": [
              "MiniBatchKMeans(random_state=0)"
            ],
            "text/html": [
              "<style>#sk-container-id-4 {color: black;background-color: white;}#sk-container-id-4 pre{padding: 0;}#sk-container-id-4 div.sk-toggleable {background-color: white;}#sk-container-id-4 label.sk-toggleable__label {cursor: pointer;display: block;width: 100%;margin-bottom: 0;padding: 0.3em;box-sizing: border-box;text-align: center;}#sk-container-id-4 label.sk-toggleable__label-arrow:before {content: \"▸\";float: left;margin-right: 0.25em;color: #696969;}#sk-container-id-4 label.sk-toggleable__label-arrow:hover:before {color: black;}#sk-container-id-4 div.sk-estimator:hover label.sk-toggleable__label-arrow:before {color: black;}#sk-container-id-4 div.sk-toggleable__content {max-height: 0;max-width: 0;overflow: hidden;text-align: left;background-color: #f0f8ff;}#sk-container-id-4 div.sk-toggleable__content pre {margin: 0.2em;color: black;border-radius: 0.25em;background-color: #f0f8ff;}#sk-container-id-4 input.sk-toggleable__control:checked~div.sk-toggleable__content {max-height: 200px;max-width: 100%;overflow: auto;}#sk-container-id-4 input.sk-toggleable__control:checked~label.sk-toggleable__label-arrow:before {content: \"▾\";}#sk-container-id-4 div.sk-estimator input.sk-toggleable__control:checked~label.sk-toggleable__label {background-color: #d4ebff;}#sk-container-id-4 div.sk-label input.sk-toggleable__control:checked~label.sk-toggleable__label {background-color: #d4ebff;}#sk-container-id-4 input.sk-hidden--visually {border: 0;clip: rect(1px 1px 1px 1px);clip: rect(1px, 1px, 1px, 1px);height: 1px;margin: -1px;overflow: hidden;padding: 0;position: absolute;width: 1px;}#sk-container-id-4 div.sk-estimator {font-family: monospace;background-color: #f0f8ff;border: 1px dotted black;border-radius: 0.25em;box-sizing: border-box;margin-bottom: 0.5em;}#sk-container-id-4 div.sk-estimator:hover {background-color: #d4ebff;}#sk-container-id-4 div.sk-parallel-item::after {content: \"\";width: 100%;border-bottom: 1px solid gray;flex-grow: 1;}#sk-container-id-4 div.sk-label:hover label.sk-toggleable__label {background-color: #d4ebff;}#sk-container-id-4 div.sk-serial::before {content: \"\";position: absolute;border-left: 1px solid gray;box-sizing: border-box;top: 0;bottom: 0;left: 50%;z-index: 0;}#sk-container-id-4 div.sk-serial {display: flex;flex-direction: column;align-items: center;background-color: white;padding-right: 0.2em;padding-left: 0.2em;position: relative;}#sk-container-id-4 div.sk-item {position: relative;z-index: 1;}#sk-container-id-4 div.sk-parallel {display: flex;align-items: stretch;justify-content: center;background-color: white;position: relative;}#sk-container-id-4 div.sk-item::before, #sk-container-id-4 div.sk-parallel-item::before {content: \"\";position: absolute;border-left: 1px solid gray;box-sizing: border-box;top: 0;bottom: 0;left: 50%;z-index: -1;}#sk-container-id-4 div.sk-parallel-item {display: flex;flex-direction: column;z-index: 1;position: relative;background-color: white;}#sk-container-id-4 div.sk-parallel-item:first-child::after {align-self: flex-end;width: 50%;}#sk-container-id-4 div.sk-parallel-item:last-child::after {align-self: flex-start;width: 50%;}#sk-container-id-4 div.sk-parallel-item:only-child::after {width: 0;}#sk-container-id-4 div.sk-dashed-wrapped {border: 1px dashed gray;margin: 0 0.4em 0.5em 0.4em;box-sizing: border-box;padding-bottom: 0.4em;background-color: white;}#sk-container-id-4 div.sk-label label {font-family: monospace;font-weight: bold;display: inline-block;line-height: 1.2em;}#sk-container-id-4 div.sk-label-container {text-align: center;}#sk-container-id-4 div.sk-container {/* jupyter's `normalize.less` sets `[hidden] { display: none; }` but bootstrap.min.css set `[hidden] { display: none !important; }` so we also need the `!important` here to be able to override the default hidden behavior on the sphinx rendered scikit-learn.org. See: https://github.com/scikit-learn/scikit-learn/issues/21755 */display: inline-block !important;position: relative;}#sk-container-id-4 div.sk-text-repr-fallback {display: none;}</style><div id=\"sk-container-id-4\" class=\"sk-top-container\"><div class=\"sk-text-repr-fallback\"><pre>MiniBatchKMeans(random_state=0)</pre><b>In a Jupyter environment, please rerun this cell to show the HTML representation or trust the notebook. <br />On GitHub, the HTML representation is unable to render, please try loading this page with nbviewer.org.</b></div><div class=\"sk-container\" hidden><div class=\"sk-item\"><div class=\"sk-estimator sk-toggleable\"><input class=\"sk-toggleable__control sk-hidden--visually\" id=\"sk-estimator-id-4\" type=\"checkbox\" checked><label for=\"sk-estimator-id-4\" class=\"sk-toggleable__label sk-toggleable__label-arrow\">MiniBatchKMeans</label><div class=\"sk-toggleable__content\"><pre>MiniBatchKMeans(random_state=0)</pre></div></div></div></div></div>"
            ]
          },
          "metadata": {},
          "execution_count": 85
        }
      ],
      "source": [
        "# Define the model\n",
        "kmeans = MiniBatchKMeans(n_clusters=8, random_state=0)\n",
        "\n",
        "# Fit the model to the scaled data\n",
        "kmeans.fit(X_scaled)"
      ]
    },
    {
      "cell_type": "markdown",
      "metadata": {
        "id": "WyIl5LCEPGwq"
      },
      "source": [
        "**You have now fitted your MiniBatch K-means model to the data. In the upcoming exercises you're going to explore whether this model is any good at flagging fraud. But before doing that, you still need to figure our what the right number of clusters to use is. Let's do that in the next exercise.**"
      ]
    },
    {
      "cell_type": "markdown",
      "metadata": {
        "id": "B8nGBALEPGwq"
      },
      "source": [
        "### Elbow method\n",
        "\n",
        "In the previous exercise you've implemented MiniBatch K-means with 8 clusters, without actually checking what the right amount of clusters should be. For our first fraud detection approach, it is important to **get the number of clusters right**, especially when you want to use the outliers of those clusters as fraud predictions. To decide which amount of clusters you're going to use, let's apply the **Elbow method** and see what the optimal number of clusters should be based on this method.\n",
        "\n",
        "`X_scaled` is again available for you to use and `MiniBatchKMeans` has been imported from `sklearn`.\n",
        "\n",
        "**Instructions**\n",
        "\n",
        "* Define the range to be between 1 and 10 clusters.\n",
        "* Run MiniBatch K-means on all the clusters in the range using list comprehension.\n",
        "* Fit each model on the scaled data and obtain the scores from the scaled data.\n",
        "* Plot the cluster numbers and their respective scores."
      ]
    },
    {
      "cell_type": "code",
      "execution_count": 86,
      "metadata": {
        "tags": [],
        "id": "7Z6VApJwPGwq"
      },
      "outputs": [],
      "source": [
        "# Define the range of clusters to try\n",
        "clustno = range(1, 10)\n",
        "\n",
        "# Run MiniBatch Kmeans over the number of clusters\n",
        "kmeans = [MiniBatchKMeans(n_clusters=i) for i in clustno]\n",
        "\n",
        "# Obtain the score for each model\n",
        "score = [kmeans[i].fit(X_scaled).score(X_scaled) for i in range(len(kmeans))]"
      ]
    },
    {
      "cell_type": "code",
      "execution_count": 87,
      "metadata": {
        "tags": [],
        "colab": {
          "base_uri": "https://localhost:8080/",
          "height": 472
        },
        "id": "2BQPRTLwPGwq",
        "outputId": "1a73a669-731f-45c3-8069-c59fac561e77"
      },
      "outputs": [
        {
          "output_type": "display_data",
          "data": {
            "text/plain": [
              "<Figure size 640x480 with 1 Axes>"
            ],
            "image/png": "[encoded data removed]"
          },
          "metadata": {}
        }
      ],
      "source": [
        "# Plot the models and their respective score\n",
        "plt.plot(clustno, score)\n",
        "plt.xlabel('Number of Clusters')\n",
        "plt.ylabel('Score')\n",
        "plt.title('Elbow Curve')\n",
        "plt.show()"
      ]
    },
    {
      "cell_type": "markdown",
      "metadata": {
        "id": "jO2DOSTzPGwq"
      },
      "source": [
        "**Now you can see that the optimal number of clusters should probably be at around 3 clusters, as that is where the elbow is in the curve. We'll use this in the next exercise as our baseline model, and see how well this does in detecting fraud**"
      ]
    },
    {
      "cell_type": "markdown",
      "metadata": {
        "id": "vqD0zFaUPGwq"
      },
      "source": [
        "## Assigning fraud vs. non-fraud\n",
        "\n",
        "* ![clusters](https://raw.githubusercontent.com/trenton3983/DataCamp/master/Images/fraud_detection/clusters_1.JPG)\n",
        "* Take the outliers of each cluster, and flag those as fraud.\n",
        "* ![clusters](https://raw.githubusercontent.com/trenton3983/DataCamp/master/Images/fraud_detection/clusters_2.JPG)\n",
        "1. Collect and store the cluster centroids in memory\n",
        "    * Starting point to decide what's normal and not\n",
        "1. Calculate the distance of each point in the dataset, to their own cluster centroid\n",
        "* ![clusters](https://raw.githubusercontent.com/trenton3983/DataCamp/master/Images/fraud_detection/clusters_3.JPG)\n",
        "    * Euclidean distance is depicted by the circles in this case\n",
        "    * Define a cut-off point for the distances to define what's an outlier\n",
        "        * Done based on the distributions of the distances collected\n",
        "        * i.e. everything with a distance larger than the top 95th percentile, should be considered an outlier\n",
        "        * the tail of the distribution of distances\n",
        "        * anything outside the yellow circles is an outlier\n",
        "        * ![clusters](https://raw.githubusercontent.com/trenton3983/DataCamp/master/Images/fraud_detection/clusters_4.JPG)\n",
        "        * these are definitely outliers and can be described as abnormal or suspicious\n",
        "            * doesn't necessarily mean they are fraudulent"
      ]
    },
    {
      "cell_type": "markdown",
      "metadata": {
        "id": "D9_P2yAiPGwq"
      },
      "source": [
        "#### Flagging Fraud Based on Distance to Centroid\n",
        "\n",
        "```python\n",
        "# Run the kmeans model on scaled data\n",
        "kmeans = KMeans(n_clusters=6, random_state=42,n_jobs=-1).fit(X_scaled)\n",
        "\n",
        "# Get the cluster number for each datapoint\n",
        "X_clusters = kmeans.predict(X_scaled)\n",
        "\n",
        "# Save the cluster centroids\n",
        "X_clusters_centers = kmeans.cluster_centers_\n",
        "\n",
        "# Calculate the distance to the cluster centroid for each point\n",
        "dist = [np.linalg.norm(x-y) for x,y in zip(X_scaled, X_clusters_centers[X_clusters])]\n",
        "\n",
        "# Create predictions based on distance\n",
        "km_y_pred = np.array(dist)\n",
        "km_y_pred[dist>=np.percentile(dist, 93)] = 1\n",
        "km_y_pred[dist<np.percentile(dist, 93)] = 0\n",
        "```\n",
        "\n",
        "* `np.linalg.norm`: returns the vector norm, the vector of distance for each datapoint to their assigned cluster\n",
        "* use the percentiles of the distances to determine which samples are outliers"
      ]
    },
    {
      "cell_type": "markdown",
      "metadata": {
        "id": "Rgj5RZ2JPGwq"
      },
      "source": [
        "#### Validating the Model Results\n",
        "\n",
        "* without fraud labels, the usual performance metrics can't be run\n",
        "    * check with the fraud analyst\n",
        "    * investigate and describe cases that are flagged in more detail\n",
        "        * is it fraudulent or just a rare case of legit data\n",
        "        * avoid rare, legit cases by deleting certain features or removing the cases from the data\n",
        "    * if there are past cases of fraud, see if the model can predict them using historic data"
      ]
    },
    {
      "cell_type": "markdown",
      "metadata": {
        "id": "_2uUq2b_PGwq"
      },
      "source": [
        "### Detecting outliers\n",
        "\n",
        "In the next exercises, you're going to use the K-means algorithm to predict fraud, and compare those predictions to the actual labels that are saved, to sense check our results.\n",
        "\n",
        "The fraudulent transactions are typically flagged as the observations that are furthest aways from the cluster centroid. You'll learn how to do this and how to determine the cut-off in this exercise. In the next one, you'll check the results.\n",
        "\n",
        "Available are the scaled observations X_scaled, as well as the labels stored under the variable y.\n",
        "\n",
        "**Instructions**\n",
        "\n",
        "* Split the scaled data and labels y into a train and test set.\n",
        "* Define the MiniBatch K-means model with 3 clusters, and fit to the training data.\n",
        "* Get the cluster predictions from your test data and obtain the cluster centroids.\n",
        "* Define the boundary between fraud and non fraud to be at 95% of distance distribution and higher."
      ]
    },
    {
      "cell_type": "code",
      "execution_count": 88,
      "metadata": {
        "tags": [],
        "id": "bgwIojYhPGwq"
      },
      "outputs": [],
      "source": [
        "# Split the data into training and test set\n",
        "X_train, X_test, y_train, y_test = train_test_split(X_scaled, labels, test_size=0.3, random_state=0)\n",
        "\n",
        "# Define K-means model\n",
        "kmeans = MiniBatchKMeans(n_clusters=3, random_state=42).fit(X_train)\n",
        "\n",
        "# Obtain predictions and calculate distance from cluster centroid\n",
        "X_test_clusters = kmeans.predict(X_test)\n",
        "X_test_clusters_centers = kmeans.cluster_centers_\n",
        "dist = [np.linalg.norm(x-y) for x, y in zip(X_test, X_test_clusters_centers[X_test_clusters])]\n",
        "\n",
        "# Create fraud predictions based on outliers on clusters\n",
        "km_y_pred = np.array(dist)\n",
        "km_y_pred[dist >= np.percentile(dist, 95)] = 1\n",
        "km_y_pred[dist < np.percentile(dist, 95)] = 0"
      ]
    },
    {
      "cell_type": "markdown",
      "metadata": {
        "id": "KvS4c-hHPGwr"
      },
      "source": [
        "### Checking model results\n",
        "\n",
        "In the previous exercise you've flagged all observations to be fraud, if they are in the top 5th percentile in distance from the cluster centroid. I.e. these are the very outliers of the three clusters. For this exercise you have the scaled data and labels already split into training and test set, so y_test is available. The predictions from the previous exercise, km_y_pred, are also available. Let's create some performance metrics and see how well you did.\n",
        "\n",
        "**Instructions 1/3**\n",
        "\n",
        "* Obtain the area under the ROC curve from your test labels and predicted labels."
      ]
    },
    {
      "cell_type": "code",
      "execution_count": 89,
      "metadata": {
        "tags": [],
        "id": "0CriMy3oPGwr"
      },
      "outputs": [],
      "source": [
        "def plot_confusion_matrix(cm, classes=['Not Fraud', 'Fraud'],\n",
        "                          normalize=False,\n",
        "                          title='Fraud Confusion matrix',\n",
        "                          cmap=plt.cm.Blues):\n",
        "    \"\"\"\n",
        "    This function prints and plots the confusion matrix.\n",
        "    Normalization can be applied by setting `normalize=True`.\n",
        "    From:\n",
        "        http://scikit-learn.org/stable/auto_examples/model_selection/plot_confusion_matrix.html#sphx-glr-auto-\n",
        "        examples-model-selection-plot-confusion-matrix-py\n",
        "    \"\"\"\n",
        "    if normalize:\n",
        "        cm = cm.astype('float') / cm.sum(axis=1)[:, np.newaxis]\n",
        "        print(\"Normalized confusion matrix\")\n",
        "    else:\n",
        "        print('Confusion matrix, without normalization')\n",
        "\n",
        "    # print(cm)\n",
        "\n",
        "    plt.imshow(cm, interpolation='nearest', cmap=cmap)\n",
        "    plt.title(title)\n",
        "    plt.colorbar()\n",
        "    tick_marks = np.arange(len(classes))\n",
        "    plt.xticks(tick_marks, classes, rotation=45)\n",
        "    plt.yticks(tick_marks, classes)\n",
        "\n",
        "    fmt = '.2f' if normalize else 'd'\n",
        "    thresh = cm.max() / 2.\n",
        "    for i, j in product(range(cm.shape[0]), range(cm.shape[1])):\n",
        "        plt.text(j, i, format(cm[i, j], fmt),\n",
        "                 horizontalalignment=\"center\",\n",
        "                 color=\"white\" if cm[i, j] > thresh else \"black\")\n",
        "\n",
        "    plt.tight_layout()\n",
        "    plt.ylabel('True label')\n",
        "    plt.xlabel('Predicted label')\n",
        "    plt.show()"
      ]
    },
    {
      "cell_type": "code",
      "execution_count": 90,
      "metadata": {
        "tags": [],
        "colab": {
          "base_uri": "https://localhost:8080/"
        },
        "id": "bgNlE5B0PGwr",
        "outputId": "4fdde3ea-c470-4a79-e9df-383866b49d51"
      },
      "outputs": [
        {
          "output_type": "execute_result",
          "data": {
            "text/plain": [
              "0.8197704982668266"
            ]
          },
          "metadata": {},
          "execution_count": 90
        }
      ],
      "source": [
        "# Obtain the ROC score\n",
        "roc_auc_score(y_test, km_y_pred)"
      ]
    },
    {
      "cell_type": "markdown",
      "metadata": {
        "id": "QDTZkmUnPGwr"
      },
      "source": [
        "**Instructions 2/3**\n",
        "\n",
        "* Obtain the confusion matrix from the test labels and predicted labels and plot the results."
      ]
    },
    {
      "cell_type": "code",
      "execution_count": 91,
      "metadata": {
        "tags": [],
        "colab": {
          "base_uri": "https://localhost:8080/",
          "height": 523
        },
        "id": "XPhE3429PGwr",
        "outputId": "f494583c-a611-4441-c3e1-254d9233fb47"
      },
      "outputs": [
        {
          "output_type": "stream",
          "name": "stdout",
          "text": [
            "Confusion matrix, without normalization\n"
          ]
        },
        {
          "output_type": "display_data",
          "data": {
            "text/plain": [
              "<Figure size 640x480 with 2 Axes>"
            ],
            "image/png": "[encoded data removed]"
          },
          "metadata": {}
        }
      ],
      "source": [
        "# Create a confusion matrix\n",
        "km_cm = confusion_matrix(y_test, km_y_pred)\n",
        "\n",
        "# Plot the confusion matrix in a figure to visualize results\n",
        "plot_confusion_matrix(km_cm)"
      ]
    },
    {
      "cell_type": "markdown",
      "metadata": {
        "id": "L4qLk0tzPGwt"
      },
      "source": [
        "**Instructions 3/3**\n",
        "\n",
        "If you were to decrease the percentile used as a cutoff point in the previous exercise to 93% instead of 95%, what would that do to your prediction results?\n",
        "\n",
        "**Possible Answers**\n",
        "\n",
        "* **The number of fraud cases caught increases, but false positives also increase.**\n",
        "* ~~The number of fraud cases caught decreases, and false positives decrease.~~\n",
        "* ~~The number of fraud cases caught increases, but false positives would decrease.~~\n",
        "* ~~Nothing would happen to the amount of fraud cases caught.~~"
      ]
    },
    {
      "cell_type": "markdown",
      "metadata": {
        "id": "CZsRIBeBPGwt"
      },
      "source": [
        "## Alternate clustering methods for fraud detection\n",
        "\n",
        "* In addition to K-means, there are many different clustering methods, which can be used for fraud detection\n",
        "* ![clustering methods](https://raw.githubusercontent.com/trenton3983/DataCamp/master/Images/fraud_detection/clustering_methods.JPG)\n",
        "* K-means works well when the data is clustered in normal, round shapes\n",
        "* There are methods to flag fraud other the cluster outliers\n",
        "* ![clustering outlier](https://raw.githubusercontent.com/trenton3983/DataCamp/master/Images/fraud_detection/cluster_outlier.JPG)\n",
        "    * Small clusters can be an indication of fraud\n",
        "    * This approach can be used when fraudulent behavior has commonalities, which cause clustering\n",
        "    * The fraudulent data would cluster in tiny groups, rather than be the outliers of larger clusters\n",
        "* ![typical data](https://raw.githubusercontent.com/trenton3983/DataCamp/master/Images/fraud_detection/typical_data.JPG)\n",
        "    * In this case there are 3 obvious clusters\n",
        "    * The smallest dots are outliers and outside of what can be described as normal behavior\n",
        "    * There are also small to medium clusters closely connected to the red cluster\n",
        "    * Visualizing the data with something like [PCA](https://en.wikipedia.org/wiki/Principal_component_analysis) can be quite helpful"
      ]
    },
    {
      "cell_type": "markdown",
      "metadata": {
        "id": "Cqmi6TJvPGwt"
      },
      "source": [
        "#### DBSCAN: Density-Based Spatial Clustering of Applications with Noise\n",
        "\n",
        "* [DBscan](https://en.wikipedia.org/wiki/DBSCAN)\n",
        "* DBSCAN vs. K-means\n",
        "    * The number of clusters does not need to be predefined\n",
        "        * The algorithm finds core samples of high density and expands clusters from them\n",
        "        * Works well on data containing clusters of similar density\n",
        "    * This type of algorithm can be used to identify fraud as very small clusters\n",
        "    * Maximum allowed distance between points in a cluster must be assigned\n",
        "    * Minimal number of data points in clusters must be assigned\n",
        "    * Better performance on weirdly shaped data\n",
        "    * Computationally heavier then MiniBatch K-means"
      ]
    },
    {
      "cell_type": "markdown",
      "metadata": {
        "id": "mYnFZLfuPGwt"
      },
      "source": [
        "#### Implementation of DBSCAN\n",
        "\n",
        "```python\n",
        "from sklearn.cluster import DBSCAN\n",
        "db = DBSCAN(eps=0.5, min_samples=10, n_jobs=-1).fit(X_scaled)\n",
        "\n",
        "# Get the cluster labels (aka numbers)\n",
        "pred_labels = db.labels_\n",
        "\n",
        "# Count the total number of clusters\n",
        "n_clusters_ = len(set(pred_labels)) - (1 if -1 in pred_labels else 0)\n",
        "\n",
        "# Print model results\n",
        "print(f'Estimated number of clusters: {n_clusters_}')\n",
        ">>> Estimated number of clusters: 31\n",
        "    \n",
        "# Print model results\n",
        "print(f'Silhouette Coefficient: {metrics.silhouette_score(X_scaled, pred_labels):0.3f}')\n",
        ">>> Silhouette Coefficient: 0.359\n",
        "    \n",
        "# Get sample counts in each cluster\n",
        "counts = np.bincount(pred_labels[pred_labels>=0])\n",
        "print(counts)\n",
        ">>> [ 763, 496, 840, 355 1086, 676, 63, 306, 560, 134, 28, 18, 262, 128,\n",
        "     332, 22, 22, 13, 31, 38, 36, 28, 14, 12, 30, 10, 11, 10, 21, 10, 5]\n",
        "```\n",
        "\n",
        "* start by defining the epsilon `eps`\n",
        "    * Distance between data points allowed from which the cluster expands\n",
        "* define minimum samples in the clusters\n",
        "* conventional DBSCAN can't produce the optimal value of epsilon, so it requires sophisticated DBSCAN modifications to automatically determine the optimal epsilon value\n",
        "* Fit DBSCAN to **scaled data**\n",
        "* Use `labels_` method to get the assigned cluster label for each data point\n",
        "* The cluster count can also be determine by counting the unique cluster labels from the cluster `label_` predictions\n",
        "* Can have performance metrics such as **average silhouette score**\n",
        "* The size of each cluster can be calculated with `np.bincount`\n",
        "    * counts the number of occurrences of non-negative values in a `numpy` array\n",
        "* sort `counts` and decide how many of the smaller clusters to flag as fraud\n",
        "    * selecting the clusters to flag, is a trial-and-error step and depends on the number of cases the fraud team can manage"
      ]
    },
    {
      "cell_type": "markdown",
      "metadata": {
        "id": "cnvezwBgPGwu"
      },
      "source": [
        "### DB scan\n",
        "\n",
        "In this exercise you're going to explore using a **density based clustering** method (DBSCAN) to detect fraud. The advantage of DBSCAN is that you **do not need to define the number of clusters** beforehand. Also, DBSCAN can handle weirdly shaped data (i.e. non-convex) much better than K-means can. This time, you are not going to take the outliers of the clusters and use that for fraud, but take the **smallest clusters** in the data and label those as fraud. You again have the scaled dataset, i.e. X_scaled available. Let's give it a try!\n",
        "\n",
        "**Instructions**\n",
        "\n",
        "* Import `DBSCAN`.\n",
        "* Initialize a DBSCAN model setting the maximum distance between two samples to 0.9 and the minimum observations in the clusters to 10, and fit the model to the scaled data.\n",
        "* Obtain the predicted labels, these are the cluster numbers assigned to an observation.\n",
        "* Print the number of clusters and the rest of the performance metrics."
      ]
    },
    {
      "cell_type": "code",
      "execution_count": 92,
      "metadata": {
        "tags": [],
        "id": "cz5_HjNOPGwu"
      },
      "outputs": [],
      "source": [
        "# Initialize and fit the DBscan model\n",
        "db = DBSCAN(eps=0.9, min_samples=10, n_jobs=-1).fit(X_scaled)\n",
        "\n",
        "# Obtain the predicted labels and calculate number of clusters\n",
        "pred_labels = db.labels_\n",
        "n_clusters = len(set(pred_labels)) - (1 if -1 in labels else 0)"
      ]
    },
    {
      "cell_type": "code",
      "execution_count": 93,
      "metadata": {
        "tags": [],
        "colab": {
          "base_uri": "https://localhost:8080/"
        },
        "id": "wBfnG8osPGwu",
        "outputId": "daf2bec7-f657-4bb5-eec5-b268153a2f72"
      },
      "outputs": [
        {
          "output_type": "stream",
          "name": "stdout",
          "text": [
            "Estimated number of clusters: 23\n",
            "Homogeneity: 0.612\n",
            "Silhouette Coefficient: 0.713\n"
          ]
        }
      ],
      "source": [
        "# Print performance metrics for DBscan\n",
        "print(f'Estimated number of clusters: {n_clusters}')\n",
        "print(f'Homogeneity: {homogeneity_score(labels, pred_labels):0.3f}')\n",
        "print(f'Silhouette Coefficient: {silhouette_score(X_scaled, pred_labels):0.3f}')"
      ]
    },
    {
      "cell_type": "markdown",
      "metadata": {
        "id": "LvaJm0EgPGwu"
      },
      "source": [
        "**The number of clusters is much higher than with K-means. For fraud detection this is for now OK, as we are only interested in the smallest clusters, since those are considered as abnormal. Now have a look at those clusters and decide which one to flag as fraud.**"
      ]
    },
    {
      "cell_type": "markdown",
      "metadata": {
        "id": "Ga8fzEXrPGwu"
      },
      "source": [
        "### Assessing smallest clusters\n",
        "\n",
        "In this exercise you're going to have a look at the clusters that came out of DBscan, and flag certain clusters as fraud:\n",
        "\n",
        "* you first need to figure out how big the clusters are, and **filter out the smallest**\n",
        "* then, you're going to take the smallest ones and **flag those as fraud**\n",
        "* last, you'll **check with the original labels** whether this does actually do a good job in detecting fraud.\n",
        "\n",
        "Available are the DBscan model predictions, so `n_clusters` is available as well as the cluster labels, which are saved under `pred_labels`. Let's give it a try!\n",
        "\n",
        "**Instructions 1/3**\n",
        "\n",
        "* Count the samples within each cluster by running a bincount on the predicted cluster numbers under `pred_labels` and print the results."
      ]
    },
    {
      "cell_type": "code",
      "execution_count": 94,
      "metadata": {
        "tags": [],
        "colab": {
          "base_uri": "https://localhost:8080/"
        },
        "id": "VjoCP70uPGwu",
        "outputId": "deab5519-7098-4ea4-9bf4-e1989921c0c7"
      },
      "outputs": [
        {
          "output_type": "stream",
          "name": "stdout",
          "text": [
            "[3252  145 2714   55  174  119  122   98   54   15   76   15   43   25\n",
            "   51   47   42   15   25   20   19   10]\n"
          ]
        }
      ],
      "source": [
        "# Count observations in each cluster number\n",
        "counts = np.bincount(pred_labels[pred_labels >= 0])\n",
        "\n",
        "# Print the result\n",
        "print(counts)"
      ]
    },
    {
      "cell_type": "markdown",
      "metadata": {
        "id": "vdQGeOh6PGwu"
      },
      "source": [
        "**Instructions 2/3**\n",
        "\n",
        "* Sort the sample `counts` and take the top 3 smallest clusters, and print the results."
      ]
    },
    {
      "cell_type": "code",
      "execution_count": 95,
      "metadata": {
        "tags": [],
        "id": "mEXN0OSJPGwu"
      },
      "outputs": [],
      "source": [
        "# Sort the sample counts of the clusters and take the top 3 smallest clusters\n",
        "smallest_clusters = np.argsort(counts)[:3]"
      ]
    },
    {
      "cell_type": "code",
      "execution_count": 96,
      "metadata": {
        "tags": [],
        "colab": {
          "base_uri": "https://localhost:8080/"
        },
        "id": "JLHSyZjOPGwu",
        "outputId": "7249f992-41e7-406d-97be-77668ff44045"
      },
      "outputs": [
        {
          "output_type": "stream",
          "name": "stdout",
          "text": [
            "The smallest clusters are clusters: [21 17  9]\n"
          ]
        }
      ],
      "source": [
        "# Print the results\n",
        "print(f'The smallest clusters are clusters: {smallest_clusters}')"
      ]
    },
    {
      "cell_type": "markdown",
      "metadata": {
        "id": "RBXCXemWPGwu"
      },
      "source": [
        "**Instructions 3/3**\n",
        "\n",
        "* Within `counts`, select the smallest clusters only, to print the number of samples in the three smallest clusters."
      ]
    },
    {
      "cell_type": "code",
      "execution_count": 97,
      "metadata": {
        "tags": [],
        "colab": {
          "base_uri": "https://localhost:8080/"
        },
        "id": "wvMOD00XPGwu",
        "outputId": "0d6bc78b-553e-4941-e438-ef088b874c70"
      },
      "outputs": [
        {
          "output_type": "stream",
          "name": "stdout",
          "text": [
            "Their counts are: [10 15 15]\n"
          ]
        }
      ],
      "source": [
        "# Print the counts of the smallest clusters only\n",
        "print(f'Their counts are: {counts[smallest_clusters]}')"
      ]
    },
    {
      "cell_type": "markdown",
      "metadata": {
        "id": "bRgFbvMYPGwu"
      },
      "source": [
        "**So now we know which smallest clusters you could flag as fraud. If you were to take more of the smallest clusters, you cast your net wider and catch more fraud, but most likely also more false positives. It is up to the fraud analyst to find the right amount of cases to flag and to investigate. In the next exercise you'll check the results with the actual labels.**"
      ]
    },
    {
      "cell_type": "markdown",
      "metadata": {
        "id": "Jp4RKPdzPGwu"
      },
      "source": [
        "### Results verification\n",
        "\n",
        "In this exercise you're going to **check the results** of your DBscan fraud detection model. In reality, you often don't have reliable labels and this where a fraud analyst can help you validate the results. He/She can check your results and see whether the cases you flagged are indeed suspicious. You can also **check historically known cases** of fraud and see whether your model flags them.\n",
        "\n",
        "In this case, you'll **use the fraud labels** to check your model results. The predicted cluster numbers are available under `pred_labels` as well as the original fraud `labels`.\n",
        "\n",
        "**Instructions**\n",
        "\n",
        "* Create a dataframe combining the cluster numbers with the actual labels.\n",
        "* Create a condition that flags fraud for the three smallest clusters: clusters 21, 17 and 9.\n",
        "* Create a crosstab from the actual fraud labels with the newly created predicted fraud labels."
      ]
    },
    {
      "cell_type": "code",
      "execution_count": 98,
      "metadata": {
        "tags": [],
        "id": "ObP_goAaPGwu"
      },
      "outputs": [],
      "source": [
        "# Create a dataframe of the predicted cluster numbers and fraud labels\n",
        "df = pd.DataFrame({'clusternr':pred_labels,'fraud':labels})\n",
        "\n",
        "# Create a condition flagging fraud for the smallest clusters\n",
        "df['predicted_fraud'] = np.where((df['clusternr'].isin([21, 17, 9])), 1 , 0)"
      ]
    },
    {
      "cell_type": "code",
      "execution_count": 99,
      "metadata": {
        "tags": [],
        "colab": {
          "base_uri": "https://localhost:8080/"
        },
        "id": "RbklEjb9PGwu",
        "outputId": "e96a21a4-bceb-4d36-c3ab-63da1900c022"
      },
      "outputs": [
        {
          "output_type": "stream",
          "name": "stdout",
          "text": [
            "Flagged Fraud     0   1\n",
            "Actual Fraud           \n",
            "0              6973  16\n",
            "1               176  24\n"
          ]
        }
      ],
      "source": [
        "# Run a crosstab on the results\n",
        "print(pd.crosstab(df['fraud'], df['predicted_fraud'], rownames=['Actual Fraud'], colnames=['Flagged Fraud']))"
      ]
    },
    {
      "cell_type": "markdown",
      "metadata": {
        "id": "R7ndLRChPGwu"
      },
      "source": [
        "**How does this compare to the K-means model? The good thing is: our of all flagged cases, roughly 2/3 are actually fraud! Since you only take the three smallest clusters, by definition you flag less cases of fraud, so you catch less but also have less false positives. However, you are missing quite a lot of fraud cases. Increasing the amount of smallest clusters you flag could improve that, at the cost of more false positives of course. In the next chapter you'll learn how to further improve fraud detection models by including text analysis.**"
      ]
    },
    {
      "cell_type": "markdown",
      "metadata": {
        "id": "xIJ55A75PGwu"
      },
      "source": [
        "# Fraud detection using text\n",
        "\n",
        "Use text data, text mining and topic modeling to detect fraudulent behavior."
      ]
    },
    {
      "cell_type": "markdown",
      "metadata": {
        "id": "RHSVjzxfPGwu"
      },
      "source": [
        "## Using text data\n",
        "\n",
        "* Types of useful text data:\n",
        "    1. Emails from employees and/or clients\n",
        "    1. Transaction descriptions\n",
        "    1. Employee notes\n",
        "    1. Insurance claim form description box\n",
        "    1. Recorded telephone conversations\n",
        "* Text mining techniques for fraud detection\n",
        "    1. Word search\n",
        "    1. Sentiment analysis\n",
        "    1. Word frequencies and topic analysis\n",
        "    1. Style\n",
        "* Word search for fraud detection\n",
        "    * Flagging suspicious words:\n",
        "        1. Simple, straightforward and easy to explain\n",
        "        1. Match results can be used as a filter on top of machine learning model\n",
        "        1. Match results can be used as a feature in a machine learning model"
      ]
    },
    {
      "cell_type": "markdown",
      "metadata": {
        "id": "7LTOCaMSPGwv"
      },
      "source": [
        "#### Word counts to flag fraud with pandas\n",
        "\n",
        "```python\n",
        "# Using a string operator to find words\n",
        "df['email_body'].str.contains('money laundering')\n",
        "\n",
        " # Select data that matches\n",
        "df.loc[df['email_body'].str.contains('money laundering', na=False)]\n",
        "\n",
        " # Create a list of words to search for\n",
        "list_of_words = ['police', 'money laundering']\n",
        "df.loc[df['email_body'].str.contains('|'.join(list_of_words), na=False)]\n",
        "\n",
        " # Create a fraud flag\n",
        "df['flag'] = np.where((df['email_body'].str.contains('|'.join(list_of_words)) == True), 1, 0)\n",
        "```"
      ]
    },
    {
      "cell_type": "markdown",
      "metadata": {
        "id": "bYNReQEPPGwv"
      },
      "source": [
        "### Word search with dataframes\n",
        "\n",
        "In this exercise you're going to work with text data, containing emails from Enron employees. The **Enron scandal** is a famous fraud case. Enron employees covered up the bad financial position of the company, thereby keeping the stock price artificially high. Enron employees sold their own stock options, and when the truth came out, Enron investors were left with nothing. The goal is to find all emails that mention specific words, such as \"sell enron stock\".\n",
        "\n",
        "By using string operations on dataframes, you can easily sift through messy email data and create flags based on word-hits. The Enron email data has been put into a dataframe called `df` so let's search for suspicious terms. Feel free to explore `df` in the Console before getting started.\n",
        "\n",
        "**Instructions 1/2**\n",
        "\n",
        "* Check the head of `df` in the console and look for any emails mentioning 'sell enron stock'."
      ]
    },
    {
      "cell_type": "code",
      "execution_count": 100,
      "metadata": {
        "tags": [],
        "id": "dc9-YZ_OPGwv"
      },
      "outputs": [],
      "source": [
        "df = pd.read_csv(enron_emails_clean_file)"
      ]
    },
    {
      "cell_type": "code",
      "execution_count": 101,
      "metadata": {
        "tags": [],
        "id": "8GHXevCpPGwv"
      },
      "outputs": [],
      "source": [
        "mask = df['clean_content'].str.contains('sell enron stock', na=False)"
      ]
    },
    {
      "cell_type": "markdown",
      "metadata": {
        "id": "5lXAr-WyPGwv"
      },
      "source": [
        "**Instructions 2/2**\n",
        "\n",
        "* Locate the data in `df` that meets the condition we created earlier."
      ]
    },
    {
      "cell_type": "code",
      "execution_count": 102,
      "metadata": {
        "tags": [],
        "colab": {
          "base_uri": "https://localhost:8080/",
          "height": 98
        },
        "id": "1pQdB3YNPGwv",
        "outputId": "b83a31df-ac69-4916-feb1-e8b8414c36d1"
      },
      "outputs": [
        {
          "output_type": "execute_result",
          "data": {
            "text/plain": [
              "                                       Message-ID                        From  \\\n",
              "154  <6336501.1075841154311.JavaMail.evans@thyme>  ('sarah.palmer@enron.com')   \n",
              "\n",
              "                             To                 Date  \\\n",
              "154  ('sarah.palmer@enron.com')  2002-02-01 14:53:35   \n",
              "\n",
              "                                               content  \\\n",
              "154  \\nJoint Venture: A 1997 Enron Meeting Belies O...   \n",
              "\n",
              "                                         clean_content  \n",
              "154  joint venture enron meeting belies officers cl...  "
            ],
            "text/html": [
              "\n",
              "  <div id=\"df-9b1a2095-686a-48e7-a618-07ee422502d4\" class=\"colab-df-container\">\n",
              "    <div>\n",
              "<style scoped>\n",
              "    .dataframe tbody tr th:only-of-type {\n",
              "        vertical-align: middle;\n",
              "    }\n",
              "\n",
              "    .dataframe tbody tr th {\n",
              "        vertical-align: top;\n",
              "    }\n",
              "\n",
              "    .dataframe thead th {\n",
              "        text-align: right;\n",
              "    }\n",
              "</style>\n",
              "<table border=\"1\" class=\"dataframe\">\n",
              "  <thead>\n",
              "    <tr style=\"text-align: right;\">\n",
              "      <th></th>\n",
              "      <th>Message-ID</th>\n",
              "      <th>From</th>\n",
              "      <th>To</th>\n",
              "      <th>Date</th>\n",
              "      <th>content</th>\n",
              "      <th>clean_content</th>\n",
              "    </tr>\n",
              "  </thead>\n",
              "  <tbody>\n",
              "    <tr>\n",
              "      <th>154</th>\n",
              "      <td>&lt;6336501.1075841154311.JavaMail.evans@thyme&gt;</td>\n",
              "      <td>('sarah.palmer@enron.com')</td>\n",
              "      <td>('sarah.palmer@enron.com')</td>\n",
              "      <td>2002-02-01 14:53:35</td>\n",
              "      <td>\\nJoint Venture: A 1997 Enron Meeting Belies O...</td>\n",
              "      <td>joint venture enron meeting belies officers cl...</td>\n",
              "    </tr>\n",
              "  </tbody>\n",
              "</table>\n",
              "</div>\n",
              "    <div class=\"colab-df-buttons\">\n",
              "\n",
              "  <div class=\"colab-df-container\">\n",
              "    <button class=\"colab-df-convert\" onclick=\"convertToInteractive('df-9b1a2095-686a-48e7-a618-07ee422502d4')\"\n",
              "            title=\"Convert this dataframe to an interactive table.\"\n",
              "            style=\"display:none;\">\n",
              "\n",
              "  <svg xmlns=\"http://www.w3.org/2000/svg\" height=\"24px\" viewBox=\"0 -960 960 960\">\n",
              "    <path d=\"M120-120v-720h720v720H120Zm60-500h600v-160H180v160Zm220 220h160v-160H400v160Zm0 220h160v-160H400v160ZM180-400h160v-160H180v160Zm440 0h160v-160H620v160ZM180-180h160v-160H180v160Zm440 0h160v-160H620v160Z\"/>\n",
              "  </svg>\n",
              "    </button>\n",
              "\n",
              "  <style>\n",
              "    .colab-df-container {\n",
              "      display:flex;\n",
              "      gap: 12px;\n",
              "    }\n",
              "\n",
              "    .colab-df-convert {\n",
              "      background-color: #E8F0FE;\n",
              "      border: none;\n",
              "      border-radius: 50%;\n",
              "      cursor: pointer;\n",
              "      display: none;\n",
              "      fill: #1967D2;\n",
              "      height: 32px;\n",
              "      padding: 0 0 0 0;\n",
              "      width: 32px;\n",
              "    }\n",
              "\n",
              "    .colab-df-convert:hover {\n",
              "      background-color: #E2EBFA;\n",
              "      box-shadow: 0px 1px 2px rgba(60, 64, 67, 0.3), 0px 1px 3px 1px rgba(60, 64, 67, 0.15);\n",
              "      fill: #174EA6;\n",
              "    }\n",
              "\n",
              "    .colab-df-buttons div {\n",
              "      margin-bottom: 4px;\n",
              "    }\n",
              "\n",
              "    [theme=dark] .colab-df-convert {\n",
              "      background-color: #3B4455;\n",
              "      fill: #D2E3FC;\n",
              "    }\n",
              "\n",
              "    [theme=dark] .colab-df-convert:hover {\n",
              "      background-color: #434B5C;\n",
              "      box-shadow: 0px 1px 3px 1px rgba(0, 0, 0, 0.15);\n",
              "      filter: drop-shadow(0px 1px 2px rgba(0, 0, 0, 0.3));\n",
              "      fill: #FFFFFF;\n",
              "    }\n",
              "  </style>\n",
              "\n",
              "    <script>\n",
              "      const buttonEl =\n",
              "        document.querySelector('#df-9b1a2095-686a-48e7-a618-07ee422502d4 button.colab-df-convert');\n",
              "      buttonEl.style.display =\n",
              "        google.colab.kernel.accessAllowed ? 'block' : 'none';\n",
              "\n",
              "      async function convertToInteractive(key) {\n",
              "        const element = document.querySelector('#df-9b1a2095-686a-48e7-a618-07ee422502d4');\n",
              "        const dataTable =\n",
              "          await google.colab.kernel.invokeFunction('convertToInteractive',\n",
              "                                                    [key], {});\n",
              "        if (!dataTable) return;\n",
              "\n",
              "        const docLinkHtml = 'Like what you see? Visit the ' +\n",
              "          '<a target=\"_blank\" href=https://colab.research.google.com/notebooks/data_table.ipynb>data table notebook</a>'\n",
              "          + ' to learn more about interactive tables.';\n",
              "        element.innerHTML = '';\n",
              "        dataTable['output_type'] = 'display_data';\n",
              "        await google.colab.output.renderOutput(dataTable, element);\n",
              "        const docLink = document.createElement('div');\n",
              "        docLink.innerHTML = docLinkHtml;\n",
              "        element.appendChild(docLink);\n",
              "      }\n",
              "    </script>\n",
              "  </div>\n",
              "\n",
              "    </div>\n",
              "  </div>\n"
            ],
            "application/vnd.google.colaboratory.intrinsic+json": {
              "type": "dataframe",
              "repr_error": "0"
            }
          },
          "metadata": {},
          "execution_count": 102
        }
      ],
      "source": [
        "# Select the data from df using the mask\n",
        "df[mask]"
      ]
    },
    {
      "cell_type": "markdown",
      "metadata": {
        "id": "ecrt-USvPGwv"
      },
      "source": [
        "**You see that searching for particular string values in a dataframe can be relatively easy, and allows you to include textual data into your model or analysis. You can use this word search as an additional flag, or as a feature in your fraud detection model. Let's look at how to filter the data using multiple search terms.**"
      ]
    },
    {
      "cell_type": "markdown",
      "metadata": {
        "id": "p2TmLYZTPGwv"
      },
      "source": [
        "### Using list of terms\n",
        "\n",
        "Oftentimes you don't want to search on just one term. You probably can create a full **\"fraud dictionary\"** of terms that could potentially **flag fraudulent clients** and/or transactions. Fraud analysts often will have an idea what should be in such a dictionary. In this exercise you're going to **flag a multitude of terms**, and in the next exercise you'll create a new flag variable out of it. The 'flag' can be used either directly in a machine learning model as a feature, or as an additional filter on top of your machine learning model results. Let's first use a list of terms to filter our data on. The dataframe containing the cleaned emails is again available as `df`.\n",
        "\n",
        "**Instructions**\n",
        "\n",
        "* Create a list to search for including 'enron stock', 'sell stock', 'stock bonus', and 'sell enron stock'.\n",
        "* Join the string terms in the search conditions.\n",
        "* Filter data using the emails that match with the list defined under `searchfor`."
      ]
    },
    {
      "cell_type": "code",
      "execution_count": 103,
      "metadata": {
        "tags": [],
        "colab": {
          "base_uri": "https://localhost:8080/",
          "height": 293
        },
        "id": "BBNKCdaXPGwv",
        "outputId": "b51bff7e-27ae-410c-9b98-ece5997cc3f4"
      },
      "outputs": [
        {
          "output_type": "execute_result",
          "data": {
            "text/plain": [
              "                                      Message-ID  \\\n",
              "0   <8345058.1075840404046.JavaMail.evans@thyme>   \n",
              "1   <1512159.1075863666797.JavaMail.evans@thyme>   \n",
              "2  <26118676.1075862176383.JavaMail.evans@thyme>   \n",
              "3  <10369289.1075860831062.JavaMail.evans@thyme>   \n",
              "4  <26728895.1075860815046.JavaMail.evans@thyme>   \n",
              "\n",
              "                              From                               To  \\\n",
              "0  ('advdfeedback@investools.com')  ('advdfeedback@investools.com')   \n",
              "1    ('richard.sanders@enron.com')    ('richard.sanders@enron.com')   \n",
              "2            ('m..love@enron.com')            ('m..love@enron.com')   \n",
              "3     ('leslie.milosevich@kp.org')     ('leslie.milosevich@kp.org')   \n",
              "4     ('rtwait@graphicaljazz.com')     ('rtwait@graphicaljazz.com')   \n",
              "\n",
              "                  Date                                            content  \\\n",
              "0  2002-01-29 23:20:55  INVESTools Advisory\\nA Free Digest of Trusted ...   \n",
              "1  2000-09-20 19:07:00  ----- Forwarded by Richard B Sanders/HOU/ECT o...   \n",
              "2  2001-10-30 16:15:17  hey you are not wearing your target purple shi...   \n",
              "3  2002-01-30 17:54:18  Leslie Milosevich\\n1042 Santa Clara Avenue\\nAl...   \n",
              "4  2002-01-30 19:36:01  Rini Twait\\n1010 E 5th Ave\\nLongmont, CO 80501...   \n",
              "\n",
              "                                       clean_content  \n",
              "0  investools advisory free digest trusted invest...  \n",
              "1  forwarded richard b sanders hou ect pm justin ...  \n",
              "2  hey wearing target purple shirt today mine wan...  \n",
              "3  leslie milosevich santa clara avenue alameda c...  \n",
              "4  rini twait e th ave longmont co rtwait graphic...  "
            ],
            "text/html": [
              "\n",
              "  <div id=\"df-a5daa557-63aa-43af-8981-6f10f9188e7a\" class=\"colab-df-container\">\n",
              "    <div>\n",
              "<style scoped>\n",
              "    .dataframe tbody tr th:only-of-type {\n",
              "        vertical-align: middle;\n",
              "    }\n",
              "\n",
              "    .dataframe tbody tr th {\n",
              "        vertical-align: top;\n",
              "    }\n",
              "\n",
              "    .dataframe thead th {\n",
              "        text-align: right;\n",
              "    }\n",
              "</style>\n",
              "<table border=\"1\" class=\"dataframe\">\n",
              "  <thead>\n",
              "    <tr style=\"text-align: right;\">\n",
              "      <th></th>\n",
              "      <th>Message-ID</th>\n",
              "      <th>From</th>\n",
              "      <th>To</th>\n",
              "      <th>Date</th>\n",
              "      <th>content</th>\n",
              "      <th>clean_content</th>\n",
              "    </tr>\n",
              "  </thead>\n",
              "  <tbody>\n",
              "    <tr>\n",
              "      <th>0</th>\n",
              "      <td>&lt;8345058.1075840404046.JavaMail.evans@thyme&gt;</td>\n",
              "      <td>('advdfeedback@investools.com')</td>\n",
              "      <td>('advdfeedback@investools.com')</td>\n",
              "      <td>2002-01-29 23:20:55</td>\n",
              "      <td>INVESTools Advisory\\nA Free Digest of Trusted ...</td>\n",
              "      <td>investools advisory free digest trusted invest...</td>\n",
              "    </tr>\n",
              "    <tr>\n",
              "      <th>1</th>\n",
              "      <td>&lt;1512159.1075863666797.JavaMail.evans@thyme&gt;</td>\n",
              "      <td>('richard.sanders@enron.com')</td>\n",
              "      <td>('richard.sanders@enron.com')</td>\n",
              "      <td>2000-09-20 19:07:00</td>\n",
              "      <td>----- Forwarded by Richard B Sanders/HOU/ECT o...</td>\n",
              "      <td>forwarded richard b sanders hou ect pm justin ...</td>\n",
              "    </tr>\n",
              "    <tr>\n",
              "      <th>2</th>\n",
              "      <td>&lt;26118676.1075862176383.JavaMail.evans@thyme&gt;</td>\n",
              "      <td>('m..love@enron.com')</td>\n",
              "      <td>('m..love@enron.com')</td>\n",
              "      <td>2001-10-30 16:15:17</td>\n",
              "      <td>hey you are not wearing your target purple shi...</td>\n",
              "      <td>hey wearing target purple shirt today mine wan...</td>\n",
              "    </tr>\n",
              "    <tr>\n",
              "      <th>3</th>\n",
              "      <td>&lt;10369289.1075860831062.JavaMail.evans@thyme&gt;</td>\n",
              "      <td>('leslie.milosevich@kp.org')</td>\n",
              "      <td>('leslie.milosevich@kp.org')</td>\n",
              "      <td>2002-01-30 17:54:18</td>\n",
              "      <td>Leslie Milosevich\\n1042 Santa Clara Avenue\\nAl...</td>\n",
              "      <td>leslie milosevich santa clara avenue alameda c...</td>\n",
              "    </tr>\n",
              "    <tr>\n",
              "      <th>4</th>\n",
              "      <td>&lt;26728895.1075860815046.JavaMail.evans@thyme&gt;</td>\n",
              "      <td>('rtwait@graphicaljazz.com')</td>\n",
              "      <td>('rtwait@graphicaljazz.com')</td>\n",
              "      <td>2002-01-30 19:36:01</td>\n",
              "      <td>Rini Twait\\n1010 E 5th Ave\\nLongmont, CO 80501...</td>\n",
              "      <td>rini twait e th ave longmont co rtwait graphic...</td>\n",
              "    </tr>\n",
              "  </tbody>\n",
              "</table>\n",
              "</div>\n",
              "    <div class=\"colab-df-buttons\">\n",
              "\n",
              "  <div class=\"colab-df-container\">\n",
              "    <button class=\"colab-df-convert\" onclick=\"convertToInteractive('df-a5daa557-63aa-43af-8981-6f10f9188e7a')\"\n",
              "            title=\"Convert this dataframe to an interactive table.\"\n",
              "            style=\"display:none;\">\n",
              "\n",
              "  <svg xmlns=\"http://www.w3.org/2000/svg\" height=\"24px\" viewBox=\"0 -960 960 960\">\n",
              "    <path d=\"M120-120v-720h720v720H120Zm60-500h600v-160H180v160Zm220 220h160v-160H400v160Zm0 220h160v-160H400v160ZM180-400h160v-160H180v160Zm440 0h160v-160H620v160ZM180-180h160v-160H180v160Zm440 0h160v-160H620v160Z\"/>\n",
              "  </svg>\n",
              "    </button>\n",
              "\n",
              "  <style>\n",
              "    .colab-df-container {\n",
              "      display:flex;\n",
              "      gap: 12px;\n",
              "    }\n",
              "\n",
              "    .colab-df-convert {\n",
              "      background-color: #E8F0FE;\n",
              "      border: none;\n",
              "      border-radius: 50%;\n",
              "      cursor: pointer;\n",
              "      display: none;\n",
              "      fill: #1967D2;\n",
              "      height: 32px;\n",
              "      padding: 0 0 0 0;\n",
              "      width: 32px;\n",
              "    }\n",
              "\n",
              "    .colab-df-convert:hover {\n",
              "      background-color: #E2EBFA;\n",
              "      box-shadow: 0px 1px 2px rgba(60, 64, 67, 0.3), 0px 1px 3px 1px rgba(60, 64, 67, 0.15);\n",
              "      fill: #174EA6;\n",
              "    }\n",
              "\n",
              "    .colab-df-buttons div {\n",
              "      margin-bottom: 4px;\n",
              "    }\n",
              "\n",
              "    [theme=dark] .colab-df-convert {\n",
              "      background-color: #3B4455;\n",
              "      fill: #D2E3FC;\n",
              "    }\n",
              "\n",
              "    [theme=dark] .colab-df-convert:hover {\n",
              "      background-color: #434B5C;\n",
              "      box-shadow: 0px 1px 3px 1px rgba(0, 0, 0, 0.15);\n",
              "      filter: drop-shadow(0px 1px 2px rgba(0, 0, 0, 0.3));\n",
              "      fill: #FFFFFF;\n",
              "    }\n",
              "  </style>\n",
              "\n",
              "    <script>\n",
              "      const buttonEl =\n",
              "        document.querySelector('#df-a5daa557-63aa-43af-8981-6f10f9188e7a button.colab-df-convert');\n",
              "      buttonEl.style.display =\n",
              "        google.colab.kernel.accessAllowed ? 'block' : 'none';\n",
              "\n",
              "      async function convertToInteractive(key) {\n",
              "        const element = document.querySelector('#df-a5daa557-63aa-43af-8981-6f10f9188e7a');\n",
              "        const dataTable =\n",
              "          await google.colab.kernel.invokeFunction('convertToInteractive',\n",
              "                                                    [key], {});\n",
              "        if (!dataTable) return;\n",
              "\n",
              "        const docLinkHtml = 'Like what you see? Visit the ' +\n",
              "          '<a target=\"_blank\" href=https://colab.research.google.com/notebooks/data_table.ipynb>data table notebook</a>'\n",
              "          + ' to learn more about interactive tables.';\n",
              "        element.innerHTML = '';\n",
              "        dataTable['output_type'] = 'display_data';\n",
              "        await google.colab.output.renderOutput(dataTable, element);\n",
              "        const docLink = document.createElement('div');\n",
              "        docLink.innerHTML = docLinkHtml;\n",
              "        element.appendChild(docLink);\n",
              "      }\n",
              "    </script>\n",
              "  </div>\n",
              "\n",
              "\n",
              "<div id=\"df-d9d3bc23-b411-4211-96b1-1ca3118f43fd\">\n",
              "  <button class=\"colab-df-quickchart\" onclick=\"quickchart('df-d9d3bc23-b411-4211-96b1-1ca3118f43fd')\"\n",
              "            title=\"Suggest charts\"\n",
              "            style=\"display:none;\">\n",
              "\n",
              "<svg xmlns=\"http://www.w3.org/2000/svg\" height=\"24px\"viewBox=\"0 0 24 24\"\n",
              "     width=\"24px\">\n",
              "    <g>\n",
              "        <path d=\"M19 3H5c-1.1 0-2 .9-2 2v14c0 1.1.9 2 2 2h14c1.1 0 2-.9 2-2V5c0-1.1-.9-2-2-2zM9 17H7v-7h2v7zm4 0h-2V7h2v10zm4 0h-2v-4h2v4z\"/>\n",
              "    </g>\n",
              "</svg>\n",
              "  </button>\n",
              "\n",
              "<style>\n",
              "  .colab-df-quickchart {\n",
              "      --bg-color: #E8F0FE;\n",
              "      --fill-color: #1967D2;\n",
              "      --hover-bg-color: #E2EBFA;\n",
              "      --hover-fill-color: #174EA6;\n",
              "      --disabled-fill-color: #AAA;\n",
              "      --disabled-bg-color: #DDD;\n",
              "  }\n",
              "\n",
              "  [theme=dark] .colab-df-quickchart {\n",
              "      --bg-color: #3B4455;\n",
              "      --fill-color: #D2E3FC;\n",
              "      --hover-bg-color: #434B5C;\n",
              "      --hover-fill-color: #FFFFFF;\n",
              "      --disabled-bg-color: #3B4455;\n",
              "      --disabled-fill-color: #666;\n",
              "  }\n",
              "\n",
              "  .colab-df-quickchart {\n",
              "    background-color: var(--bg-color);\n",
              "    border: none;\n",
              "    border-radius: 50%;\n",
              "    cursor: pointer;\n",
              "    display: none;\n",
              "    fill: var(--fill-color);\n",
              "    height: 32px;\n",
              "    padding: 0;\n",
              "    width: 32px;\n",
              "  }\n",
              "\n",
              "  .colab-df-quickchart:hover {\n",
              "    background-color: var(--hover-bg-color);\n",
              "    box-shadow: 0 1px 2px rgba(60, 64, 67, 0.3), 0 1px 3px 1px rgba(60, 64, 67, 0.15);\n",
              "    fill: var(--button-hover-fill-color);\n",
              "  }\n",
              "\n",
              "  .colab-df-quickchart-complete:disabled,\n",
              "  .colab-df-quickchart-complete:disabled:hover {\n",
              "    background-color: var(--disabled-bg-color);\n",
              "    fill: var(--disabled-fill-color);\n",
              "    box-shadow: none;\n",
              "  }\n",
              "\n",
              "  .colab-df-spinner {\n",
              "    border: 2px solid var(--fill-color);\n",
              "    border-color: transparent;\n",
              "    border-bottom-color: var(--fill-color);\n",
              "    animation:\n",
              "      spin 1s steps(1) infinite;\n",
              "  }\n",
              "\n",
              "  @keyframes spin {\n",
              "    0% {\n",
              "      border-color: transparent;\n",
              "      border-bottom-color: var(--fill-color);\n",
              "      border-left-color: var(--fill-color);\n",
              "    }\n",
              "    20% {\n",
              "      border-color: transparent;\n",
              "      border-left-color: var(--fill-color);\n",
              "      border-top-color: var(--fill-color);\n",
              "    }\n",
              "    30% {\n",
              "      border-color: transparent;\n",
              "      border-left-color: var(--fill-color);\n",
              "      border-top-color: var(--fill-color);\n",
              "      border-right-color: var(--fill-color);\n",
              "    }\n",
              "    40% {\n",
              "      border-color: transparent;\n",
              "      border-right-color: var(--fill-color);\n",
              "      border-top-color: var(--fill-color);\n",
              "    }\n",
              "    60% {\n",
              "      border-color: transparent;\n",
              "      border-right-color: var(--fill-color);\n",
              "    }\n",
              "    80% {\n",
              "      border-color: transparent;\n",
              "      border-right-color: var(--fill-color);\n",
              "      border-bottom-color: var(--fill-color);\n",
              "    }\n",
              "    90% {\n",
              "      border-color: transparent;\n",
              "      border-bottom-color: var(--fill-color);\n",
              "    }\n",
              "  }\n",
              "</style>\n",
              "\n",
              "  <script>\n",
              "    async function quickchart(key) {\n",
              "      const quickchartButtonEl =\n",
              "        document.querySelector('#' + key + ' button');\n",
              "      quickchartButtonEl.disabled = true;  // To prevent multiple clicks.\n",
              "      quickchartButtonEl.classList.add('colab-df-spinner');\n",
              "      try {\n",
              "        const charts = await google.colab.kernel.invokeFunction(\n",
              "            'suggestCharts', [key], {});\n",
              "      } catch (error) {\n",
              "        console.error('Error during call to suggestCharts:', error);\n",
              "      }\n",
              "      quickchartButtonEl.classList.remove('colab-df-spinner');\n",
              "      quickchartButtonEl.classList.add('colab-df-quickchart-complete');\n",
              "    }\n",
              "    (() => {\n",
              "      let quickchartButtonEl =\n",
              "        document.querySelector('#df-d9d3bc23-b411-4211-96b1-1ca3118f43fd button');\n",
              "      quickchartButtonEl.style.display =\n",
              "        google.colab.kernel.accessAllowed ? 'block' : 'none';\n",
              "    })();\n",
              "  </script>\n",
              "</div>\n",
              "    </div>\n",
              "  </div>\n"
            ],
            "application/vnd.google.colaboratory.intrinsic+json": {
              "type": "dataframe",
              "variable_name": "filtered_emails",
              "summary": "{\n  \"name\": \"filtered_emails\",\n  \"rows\": 314,\n  \"fields\": [\n    {\n      \"column\": \"Message-ID\",\n      \"properties\": {\n        \"dtype\": \"string\",\n        \"num_unique_values\": 313,\n        \"samples\": [\n          \"<33512600.1075840025938.JavaMail.evans@thyme>\",\n          \"<6656919.1075860824395.JavaMail.evans@thyme>\",\n          \"<22746396.1075852815145.JavaMail.evans@thyme>\"\n        ],\n        \"semantic_type\": \"\",\n        \"description\": \"\"\n      }\n    },\n    {\n      \"column\": \"From\",\n      \"properties\": {\n        \"dtype\": \"string\",\n        \"num_unique_values\": 226,\n        \"samples\": [\n          \"('jbaldwin@aces.k12.ct.us')\",\n          \"('marl552@aol.com')\",\n          \"('tung@unc.edu')\"\n        ],\n        \"semantic_type\": \"\",\n        \"description\": \"\"\n      }\n    },\n    {\n      \"column\": \"To\",\n      \"properties\": {\n        \"dtype\": \"string\",\n        \"num_unique_values\": 226,\n        \"samples\": [\n          \"('jbaldwin@aces.k12.ct.us')\",\n          \"('marl552@aol.com')\",\n          \"('tung@unc.edu')\"\n        ],\n        \"semantic_type\": \"\",\n        \"description\": \"\"\n      }\n    },\n    {\n      \"column\": \"Date\",\n      \"properties\": {\n        \"dtype\": \"object\",\n        \"num_unique_values\": 230,\n        \"samples\": [\n          \"2001-10-24 21:38:14\",\n          \"2002-01-30 19:33:13\",\n          \"2002-01-30 17:48:01\"\n        ],\n        \"semantic_type\": \"\",\n        \"description\": \"\"\n      }\n    },\n    {\n      \"column\": \"content\",\n      \"properties\": {\n        \"dtype\": \"string\",\n        \"num_unique_values\": 256,\n        \"samples\": [\n          \"Jon Press\\n1463 Beacon Street\\nNewton, MA 02468\\njepress@aol.com\\n\\nTo Mr. Ken Lay,\\n\\nI'm writing to urge you to donate the millions of dollars you made from selling Enron stock before the company declared bankruptcy to funds, such as Enron Employee Transition Fund and REACH, that benefit the company's employees, who lost their retirement savings, and provide relief to low-income consumers in California, who can't afford to pay their energy bills.  Enron and you made millions out of the pocketbooks of California consumers and from the efforts of your employees.\\n\\nIndeed, while you netted well over a $100 million, many of Enron's employees were financially devastated when the company declared bankruptcy and their retirement plans were wiped out.  And Enron made an astronomical profit during the California energy crisis last year.  As a result, there are thousands of consumers who are unable to pay their basic energy bills and the largest utility in the state is bankrupt.\\n\\nThe New York Times reported that you sold $101 million worth of Enron stock while aggressively urging the company's employees to keep buying it.  Please donate this money to the funds set up to help repair the lives of those Americans hurt by Enron's underhanded dealings.\\n\\nSincerely,\\n\\nJon Press\",\n          \"Dear Mr. Whalley,\\n\\nI hope that you will take the time to read the content of my message below\\nsent to Dynegy this afternoon before too much more time elapses.\\n\\nI understand that you are a military academy graduate and an ex-Armored\\nCorps Officer. I share a similar background to your own though my academy\\nwas RMA Sandhurst in England and I am ex-Artillery. What we should have in\\ncommon, I trust, is the knowledge that men need to be led. Many men and\\nwomen employed by Enron are presently feeling that they are without\\nLeadership and that they have been deserted. This is not an exagerration. I\\ntrust that you have retained your leadership skills and will exercise them\\nwithout further delay. The people need a champion.\\n\\nSincerely,\\n\\nJulian Langham\\n\\n -----Original Message-----\\nFrom: \\tJulian Langham [mailto:jlangham@kern-search.com]\\nSent:\\tTuesday, November 13, 2001 3:57 PM\\nTo:\\t'ir@dynegy.com'\\nSubject:\\tThis should be cause for Senior Management's concern!\\n\\nThis is directed to the Head of Investor Relations\\n\\nI am sending this email as a Shareholder of a significant quantity of both\\nDynegy and Enron stock and only hope it reaches someone in the upper\\nechelon's of Dynegy management. I will also be sending this directly to Greg\\nWhalley at Enron Corp. I am an Executive Recruiter working for a\\nHouston-based Search Firm that recruits professionals for Enron. I do not\\nrecruit personnel out of Enron for placement elsewhere. However, in the past\\nten days, our Firm has been deluged with telephone calls and resumes from\\npower, gas and other commodity traders, marketers, originators, risk,\\nmid-office and back office personnel from Enron and, to a lesser extent,\\nDynegy, from lower level specialists to Directors wanting us to find them\\nemployment elsewhere. We have asked all of them what their motivation is\\nand, almost to the last, it's not that they want to \\\"jump ship\\\" because they\\ndon't want to go to work for Dynegy, it's because they don't know what's\\nhappening. No one from the top of their respective companies is talking to\\nthem. They say there is this huge vacuum of any information at all and they\\nare wondering \\\"where are the Leaders to reassure us\\\"?\\n\\nThe Houston Chronicle today reports in an article that the two companies\\nwant to make certain that key executives and traders in particular are kept\\n\\\"on board\\\" the new company. We just want you to know that apparently you're\\nnot doing a very good job of it and that you are risking losing some of the\\nbest and brightest that your two firms employ and that you need to do\\nsomething about it...and do it now! Please!\\n\\nSincerely yours,\\n\\nJulian Langham\",\n          \"Jeffrey,\\n\\nCongratulations on the Business Week cover; very nice.\\n\\nThings going along at a dizzying clip here; I will be proposing to Sukran o=\\nn=20\\nWednesday evening (our two year meeting anniversary)?at a great little, new=\\nly=20\\nfound (by me at least) restaurant in my neighborhood. I have hired a fasil=\\n=20\\n(classic Ottoman music) band to serenade us at our table, etc. If all goes=\\n=20\\nwell (and there are lots of little hurdles to be leapt) looking at an early=\\n=20\\nJune wedding. Yikes!=20\\n\\nAt the same time think I have found a fantastic place here on the Asian sid=\\ne=20\\nover looking the Bosphorus. Not a sure thing, as have to make sure to=20\\nminimize the many risks. But if it works out it=01,s a house for a lifetime=\\n.=20\\nReally special; it even has a 2d class historical rating, which means among=\\n=20\\nother things it would be tax-free for five years. Would be the house that (=\\nmy=20\\n) Enron (stock) bought.\\n\\nHope all goes well. Still haven't broken all of the above news to mom and=\\n=20\\ndad, though will need to do that soon as well.\\n\\nSay hey to Rebecca and the kids.\\n\\nWith love.\\n\\nMark=20\\n\\n\\n\\nGet Your Private, Free E-mail from MSN Hotmail at http://www.hotmail.com.\"\n        ],\n        \"semantic_type\": \"\",\n        \"description\": \"\"\n      }\n    },\n    {\n      \"column\": \"clean_content\",\n      \"properties\": {\n        \"dtype\": \"string\",\n        \"num_unique_values\": 254,\n        \"samples\": [\n          \"wanda kriner hunter huntertown meemaw home com mr ken lay writing urge donate millions dollars made selling enron stock company declared bankruptcy funds enron employee transition fund reach benefit company employees lost retirement savings provide relief low income consumers california afford pay energy bills enron made millions pocketbooks california consumers efforts employees indeed netted well million many enron employees financially devastated company declared bankruptcy retirement plans wiped enron made astronomical profit california energy crisis last year result thousands consumers unable pay basic energy bills largest utility state bankrupt new york times reported sold million worth enron stock aggressively urging company employees keep buying please donate money funds set help repair lives americans hurt enron underhanded dealings sincerely wanda kriner\",\n          \"dear mr whalley hope take time read content message sent dynegy afternoon much time elapses understand military academy graduate ex armored corps officer share similar background though academy rma sandhurst england ex artillery common trust knowledge men need led many men women employed enron presently feeling without leadership deserted exagerration trust retained leadership skills exercise without delay people need champion sincerely julian langham original message julian langham mailto jlangham kern search com sent tuesday november pm ir dynegy com subject cause senior management concern directed head investor relations sending email shareholder significant quantity dynegy enron stock hope reaches someone upper echelon dynegy management also sending directly greg whalley enron corp executive recruiter working houston based search firm recruits professionals enron recruit personnel enron placement elsewhere however past ten days firm deluged telephone calls resumes power gas commodity traders marketers originators risk mid office back office personnel enron lesser extent dynegy lower level specialists directors wanting us find employment elsewhere asked motivation almost last want jump ship want go work dynegy know happening one top respective companies talking say huge vacuum information wondering leaders reassure us houston chronicle today reports article two companies want make certain key executives traders particular kept board new company want know apparently good job risking losing best brightest two firms employ need something please sincerely julian langham\",\n          \"long enron stock desks colleagues feel free share info hunter chris clayton vernon enron pm john arnold hou ect ect cc subject turf john name clayton vernon manager models forecasts east power trading reporting lloyd helping research toim barkley data visualization tool eol trades wanted know like make product helpful like also let colleagues chris gaskill hunter shively avail themsevles tool need find desks colleagues things shape competitors since trades enron desks chris hunter see synopses eol gas trades fact clayton vernon\"\n        ],\n        \"semantic_type\": \"\",\n        \"description\": \"\"\n      }\n    }\n  ]\n}"
            }
          },
          "metadata": {},
          "execution_count": 103
        }
      ],
      "source": [
        "# Create a list of terms to search for\n",
        "searchfor = ['enron stock', 'sell stock', 'stock bonus', 'sell enron stock']\n",
        "\n",
        "# Filter cleaned emails on searchfor list and select from df\n",
        "filtered_emails = df[df.clean_content.str.contains('|'.join(searchfor), na=False)]\n",
        "filtered_emails.head()"
      ]
    },
    {
      "cell_type": "markdown",
      "metadata": {
        "id": "s61eMhjSPGwv"
      },
      "source": [
        "**By joining the search terms with the 'or' sign, i.e. |, you can search on a multitude of terms in your dataset very easily. Let's now create a flag from this which you can use as a feature in a machine learning model.**"
      ]
    },
    {
      "cell_type": "markdown",
      "metadata": {
        "id": "bfk_DfZYPGwv"
      },
      "source": [
        "### Creating a flag\n",
        "\n",
        "This time you are going to **create an actual flag** variable that gives a **1 when the emails get a hit** on the search terms of interest, and 0 otherwise. This is the last step you need to make in order to actually use the text data content as a feature in a machine learning model, or as an actual flag on top of model results. You can continue working with the dataframe `df` containing the emails, and the `searchfor` list is the one defined in the last exercise.\n",
        "\n",
        "**Instructions**\n",
        "\n",
        "* Use a numpy where condition to flag '1' where the cleaned email contains words on the `searchfor` list and 0 otherwise.\n",
        "* Join the words on the `searchfor` list with an \"or\" indicator.\n",
        "* Count the values of the newly created flag variable."
      ]
    },
    {
      "cell_type": "code",
      "execution_count": 104,
      "metadata": {
        "tags": [],
        "colab": {
          "base_uri": "https://localhost:8080/"
        },
        "id": "KFD_xTYBPGwv",
        "outputId": "7903832e-b861-4a1b-accd-3f03b2d3449e"
      },
      "outputs": [
        {
          "output_type": "stream",
          "name": "stdout",
          "text": [
            "0    1776\n",
            "1     314\n",
            "Name: flag, dtype: int64\n"
          ]
        }
      ],
      "source": [
        "# Create flag variable where the emails match the searchfor terms\n",
        "df['flag'] = np.where((df['clean_content'].str.contains('|'.join(searchfor)) == True), 1, 0)\n",
        "\n",
        "# Count the values of the flag variable\n",
        "count = df['flag'].value_counts()\n",
        "print(count)"
      ]
    },
    {
      "cell_type": "markdown",
      "metadata": {
        "id": "9x89qOiDPGwv"
      },
      "source": [
        "**You have now managed to search for a list of strings in several lines of text data. These skills come in handy when you want to flag certain words based on what you discovered in your topic model, or when you know beforehand what you want to search for. In the next exercises you're going to learn how to clean text data and to create your own topic model to further look for indications of fraud in your text data.**"
      ]
    },
    {
      "cell_type": "markdown",
      "metadata": {
        "id": "96zi_gGlPGwv"
      },
      "source": [
        "## Text mining to detect fraud"
      ]
    },
    {
      "cell_type": "markdown",
      "metadata": {
        "id": "hbqYdKYaPGwv"
      },
      "source": [
        "#### Cleaning your text data\n",
        "\n",
        "**Must dos when working with textual data:**\n",
        "\n",
        "1. Tokenization\n",
        "    * Split the text into sentences and the sentences in words\n",
        "    * transform everything to lowercase\n",
        "    * remove punctuation\n",
        "1. Remove all stopwords\n",
        "1. Lemmatize\n",
        "    * change from third person into first person\n",
        "    * change past and future tense verbs to present tense\n",
        "    * this makes it possible to combine all words that point to the same thing\n",
        "1. Stem the words\n",
        "    * reduce words to their root form\n",
        "    * e.g. walking and walked to walk\n",
        "\n",
        "* **Unprocessed Text**\n",
        "    * ![](https://raw.githubusercontent.com/trenton3983/DataCamp/master/Images/fraud_detection/text_df.JPG)\n",
        "* **Processed Text**\n",
        "    * ![](https://raw.githubusercontent.com/trenton3983/DataCamp/master/Images/fraud_detection/text_processed.JPG)"
      ]
    },
    {
      "cell_type": "markdown",
      "metadata": {
        "id": "0sG8Xwa6PGwv"
      },
      "source": [
        "#### Data Preprocessing I\n",
        "\n",
        "* Tokenizers divide strings into list of substrings\n",
        "* nltk word tokenizer can be used to find the words and punctuation in a string\n",
        "    * it splits the words on whitespace, and separated the punctuation out\n",
        "\n",
        "```python\n",
        "from nltk import word_tokenize\n",
        "from nltk.corpus import stopwords\n",
        "import string\n",
        "\n",
        "# 1. Tokenization\n",
        "text = df.apply(lambda row: word_tokenize(row[\"email_body\"]), axis=1)\n",
        "text = text.rstrip()  # remove whitespace\n",
        "# replace with lowercase\n",
        "# text = re.sub(r'[^a-zA-Z]', ' ', text)\n",
        "text = text.lower()\n",
        "\n",
        " # 2. Remove all stopwords and punctuation\n",
        "exclude = set(string.punctuation)\n",
        "stop = set(stopwords.words('english'))\n",
        "stop_free = \" \".join([word for word in text if((word not in stop) and (not word.isdigit()))])\n",
        "punc_free = ''.join(word for word in stop_free if word not in exclude)\n",
        "```"
      ]
    },
    {
      "cell_type": "markdown",
      "metadata": {
        "id": "wX7c4k3RPGwv"
      },
      "source": [
        "#### Data Preprocessing II\n",
        "\n",
        "```python\n",
        "from nltk.stem.wordnet import WordNetLemmatizer\n",
        "from nltk.stem.porter import PorterStemmer\n",
        "\n",
        "# Lemmatize words\n",
        "lemma = WordNetLemmatizer()\n",
        "normalized = \" \".join(lemma.lemmatize(word) for word in punc_free.split())\n",
        "\n",
        "# Stem words\n",
        "porter= PorterStemmer()\n",
        "cleaned_text = \" \".join(porter.stem(token) for token in normalized.split())\n",
        "print (cleaned_text)\n",
        "\n",
        "['philip','going','street','curious','hear','perspective','may','wish',\n",
        "'offer','trading','floor','enron','stock','lower','joined','company',\n",
        "'business','school','imagine','quite','happy','people','day','relate',\n",
        "'somewhat','stock','around','fact','broke','day','ago','knowing',\n",
        "'imagine','letting','event','get','much','taken','similar',\n",
        "'problem','hope','everything','else','going','well','family','knee',\n",
        "'surgery','yet','give','call','chance','later']\n",
        "```"
      ]
    },
    {
      "cell_type": "markdown",
      "metadata": {
        "id": "GffBLaCwPGwv"
      },
      "source": [
        "### Removing stopwords\n",
        "\n",
        "In the following exercises you're going to **clean the Enron emails**, in order to be able to use the data in a topic model. Text cleaning can be challenging, so you'll learn some steps to do this well. The dataframe containing the emails `df` is available. In a first step you need to **define the list of stopwords and punctuations** that are to be removed in the next exercise from the text data. Let's give it a try.\n",
        "\n",
        "**Instructions**\n",
        "\n",
        "* Import the stopwords from `ntlk`.\n",
        "* Define 'english' words to use as stopwords under the variable `stop`.\n",
        "* Get the punctuation set from the `string` package and assign it to `exclude`."
      ]
    },
    {
      "cell_type": "code",
      "source": [
        "# Доработка кода х2\n",
        "import nltk\n",
        "nltk.download('stopwords')\n",
        "nltk.download('wordnet')"
      ],
      "metadata": {
        "colab": {
          "base_uri": "https://localhost:8080/"
        },
        "id": "nj2f-gMhQ3q_",
        "outputId": "8fd8c2b7-8f10-44a1-f7c0-3416189e91e6"
      },
      "execution_count": 105,
      "outputs": [
        {
          "output_type": "stream",
          "name": "stderr",
          "text": [
            "[nltk_data] Downloading package stopwords to /root/nltk_data...\n",
            "[nltk_data]   Unzipping corpora/stopwords.zip.\n",
            "[nltk_data] Downloading package wordnet to /root/nltk_data...\n"
          ]
        },
        {
          "output_type": "execute_result",
          "data": {
            "text/plain": [
              "True"
            ]
          },
          "metadata": {},
          "execution_count": 105
        }
      ]
    },
    {
      "cell_type": "code",
      "execution_count": 106,
      "metadata": {
        "tags": [],
        "id": "-_5AanrRPGwv"
      },
      "outputs": [],
      "source": [
        "# Define stopwords to exclude\n",
        "stop = set(stopwords.words('english'))\n",
        "stop.update((\"to\", \"cc\", \"subject\", \"http\", \"from\", \"sent\", \"ect\", \"u\", \"fwd\", \"www\", \"com\", 'html'))\n",
        "\n",
        "# Define punctuations to exclude and lemmatizer\n",
        "exclude = set(string.punctuation)"
      ]
    },
    {
      "cell_type": "markdown",
      "metadata": {
        "id": "F9IZArSvPGww"
      },
      "source": [
        "### Cleaning text data\n",
        "\n",
        "Now that you've defined the **stopwords and punctuations**, let's use these to clean our enron emails in the dataframe `df` further. The lists containing stopwords and punctuations are available under `stop` and `exclude` There are a few more steps to take before you have cleaned data, such as **\"lemmatization\"** of words, and **stemming the verbs**. The verbs in the email data are already stemmed, and the lemmatization is already done for you in this exercise.\n",
        "\n",
        "**Instructions 1/2**\n",
        "\n",
        "* Use the previously defined variables `stop` and `exclude` to finish of the function: Strip the words from whitespaces using `rstrip`, and exclude stopwords and punctuations. Finally lemmatize the words and assign that to `normalized`."
      ]
    },
    {
      "cell_type": "code",
      "execution_count": 107,
      "metadata": {
        "tags": [],
        "id": "j_ftAst8PGww"
      },
      "outputs": [],
      "source": [
        "# Import the lemmatizer from nltk\n",
        "lemma = WordNetLemmatizer()\n",
        "\n",
        "def clean(text, stop):\n",
        "    text = str(text).rstrip()\n",
        "    stop_free = \" \".join([i for i in text.lower().split() if((i not in stop) and (not i.isdigit()))])\n",
        "    punc_free = ''.join(i for i in stop_free if i not in exclude)\n",
        "    normalized = \" \".join(lemma.lemmatize(i) for i in punc_free.split())\n",
        "    return normalized"
      ]
    },
    {
      "cell_type": "markdown",
      "metadata": {
        "id": "SA5Yp4ANPGww"
      },
      "source": [
        "**Instructions 2/2**\n",
        "\n",
        "* Apply the function `clean(text,stop)` on each line of text data in our dataframe, and take the column `df['clean_content']` for this."
      ]
    },
    {
      "cell_type": "code",
      "execution_count": 108,
      "metadata": {
        "tags": [],
        "id": "U_095pURPGww"
      },
      "outputs": [],
      "source": [
        "# Clean the emails in df and print results\n",
        "text_clean=[]\n",
        "for text in df['clean_content']:\n",
        "    text_clean.append(clean(text, stop).split())"
      ]
    },
    {
      "cell_type": "code",
      "execution_count": 109,
      "metadata": {
        "tags": [],
        "colab": {
          "base_uri": "https://localhost:8080/"
        },
        "id": "yKUSlknTPGww",
        "outputId": "d93f0f8f-1041-41ce-eb04-e07f5157bbf9"
      },
      "outputs": [
        {
          "output_type": "execute_result",
          "data": {
            "text/plain": [
              "['investools',\n",
              " 'advisory',\n",
              " 'free',\n",
              " 'digest',\n",
              " 'trusted',\n",
              " 'investment',\n",
              " 'advice',\n",
              " 'unsubscribe',\n",
              " 'free',\n",
              " 'newsletter']"
            ]
          },
          "metadata": {},
          "execution_count": 109
        }
      ],
      "source": [
        "text_clean[0][:10]"
      ]
    },
    {
      "cell_type": "markdown",
      "metadata": {
        "id": "APNOsRFtPGww"
      },
      "source": [
        "**Now that you have cleaned your data entirely with the necessary steps, including splitting the text into words, removing stopwords and punctuations, and lemmatizing your words. You are now ready to run a topic model on this data. In the following exercises you're going to explore how to do that.**"
      ]
    },
    {
      "cell_type": "markdown",
      "metadata": {
        "id": "KJPRSBVPPGww"
      },
      "source": [
        "## Topic modeling on fraud\n",
        "\n",
        "1. Discovering topics in text data\n",
        "1. \"What is the text about\"\n",
        "1. Conceptually similar to clustering data\n",
        "1. Compare topics of fraud cases to non-fraud cases and use as a feature or flag\n",
        "1. Or.. is there a particular topic in the data that seems to point to fraud?"
      ]
    },
    {
      "cell_type": "markdown",
      "metadata": {
        "id": "oyeXvXkbPGww"
      },
      "source": [
        "#### Latent Dirichlet Allocation (LDA)\n",
        "\n",
        "* With LDA you obtain:\n",
        "    * \"topics per text item\" model (i.e. probabilities)\n",
        "    * \"words per topic\" model\n",
        "* Creating your own topic model:\n",
        "    * Clean your data\n",
        "    * Create a bag of words with dictionary and corpus\n",
        "        * Dictionary contain words and word frequency from the entire text\n",
        "        * Corpus: word count for each line of text\n",
        "    * Feed dictionary and corpus into the LDA model\n",
        "* LDA:\n",
        "    * ![lda](https://raw.githubusercontent.com/trenton3983/DataCamp/master/Images/fraud_detection/lda.JPG)\n",
        "    1. [LDA2vec: Word Embeddings in Topic Models](https://www.datacamp.com/community/tutorials/lda2vec-topic-model)\n",
        "    1. see how each word in the dataset is associated with each topic\n",
        "    1. see how each text item in the data associates with topics (in the form of probabilities)\n",
        "        1. image on the right"
      ]
    },
    {
      "cell_type": "markdown",
      "metadata": {
        "id": "V83ONYFxPGww"
      },
      "source": [
        "#### Bag of words: dictionary and corpus\n",
        "\n",
        "* use the `Dictionary` function in `corpora` to create a `dict` from the text data\n",
        "    * contains word counts\n",
        "* filter out words that appear in less than 5 emails and keep only the 50000 most frequent words\n",
        "    * this is a way of cleaning the outlier noise\n",
        "* create the corpus, which for each email, counts the number of words and the count for each word (`doc2bow`)\n",
        "* `doc2bow`\n",
        "    * Document to Bag of Words\n",
        "    * converts text data into bag-of-words format\n",
        "    * each row is now a list of words with the associated word count\n",
        "    \n",
        "```python\n",
        "from gensim import corpora\n",
        "\n",
        " # Create dictionary number of times a word appears\n",
        "dictionary = corpora.Dictionary(cleaned_emails)\n",
        "\n",
        "# Filter out (non)frequent words\n",
        "dictionary.filter_extremes(no_below=5, keep_n=50000)\n",
        "\n",
        "# Create corpus\n",
        "corpus = [dictionary.doc2bow(text) for text in cleaned_emails]\n",
        "```"
      ]
    },
    {
      "cell_type": "markdown",
      "metadata": {
        "id": "rBex9HDdPGww"
      },
      "source": [
        "#### Latent Dirichlet Allocation (LDA) with gensim\n",
        "\n",
        "* Run the LDA model after cleaning the text date, and creating the dictionary and corpus\n",
        "* Pass the corpus and dictionary into the model\n",
        "* As with K-means, beforehand, pick the number of topics to obtain, even if there is uncertainty about what topics exist\n",
        "* The calculated LDA model, will contain the associated words for each topic, and topic scores per email\n",
        "* Use `print_topics` to obtain the top words from the topics\n",
        "\n",
        "```python\n",
        "import gensim\n",
        "\n",
        "# Define the LDA model\n",
        "ldamodel = gensim.models.ldamodel.LdaModel(corpus, num_topics = 3,\n",
        "id2word=dictionary, passes=15)\n",
        "\n",
        "# Print the three topics from the model with top words\n",
        "topics = ldamodel.print_topics(num_words=4)\n",
        "for topic in topics:\n",
        "    print(topic)\n",
        "\n",
        ">>> (0, '0.029*\"email\" + 0.016*\"send\" + 0.016*\"results\" + 0.016*\"invoice\"')\n",
        ">>> (1, '0.026*\"price\" + 0.026*\"work\" + 0.026*\"management\" + 0.026*\"sell\"')\n",
        ">>> (2, '0.029*\"distribute\" + 0.029*\"contact\" + 0.016*\"supply\" + 0.016*\"fast\"')\n",
        "```"
      ]
    },
    {
      "cell_type": "markdown",
      "metadata": {
        "id": "p9cXebo0PGww"
      },
      "source": [
        "### Create dictionary and corpus\n",
        "\n",
        "In order to run an LDA topic model, you first need to **define your dictionary and corpus** first, as those need to go into the model. You're going to continue working on the cleaned text data that you've done in the previous exercises. That means that `text_clean` is available for you already to continue working with, and you'll use that to create your dictionary and corpus.\n",
        "\n",
        "This exercise will take a little longer to execute than usual.\n",
        "\n",
        "**Instructions**\n",
        "\n",
        "* Import the gensim package and corpora from gensim separately.\n",
        "* Define your dictionary by running the correct function on your clean data `text_clean`.\n",
        "* Define the corpus by running `doc2bow` on each piece of text in `text_clean`.\n",
        "* Print your results so you can see `dictionary` and `corpus` look like."
      ]
    },
    {
      "cell_type": "code",
      "execution_count": 110,
      "metadata": {
        "tags": [],
        "id": "LyV02JyfPGww"
      },
      "outputs": [],
      "source": [
        "# Define the dictionary\n",
        "dictionary = corpora.Dictionary(text_clean)\n",
        "\n",
        "# Define the corpus\n",
        "corpus = [dictionary.doc2bow(text) for text in text_clean]"
      ]
    },
    {
      "cell_type": "code",
      "execution_count": 111,
      "metadata": {
        "tags": [],
        "colab": {
          "base_uri": "https://localhost:8080/"
        },
        "id": "P3lJciO4PGww",
        "outputId": "59c71200-55c4-4855-aa08-0409a177c966"
      },
      "outputs": [
        {
          "output_type": "stream",
          "name": "stdout",
          "text": [
            "Dictionary<33980 unique tokens: ['account', 'accurate', 'acquiring', 'acre', 'address']...>\n"
          ]
        }
      ],
      "source": [
        "print(dictionary)"
      ]
    },
    {
      "cell_type": "code",
      "execution_count": 112,
      "metadata": {
        "tags": [],
        "colab": {
          "base_uri": "https://localhost:8080/"
        },
        "id": "JCFDNJHuPGww",
        "outputId": "3b289ff1-29ff-425e-c719-f9e268ba7db6"
      },
      "outputs": [
        {
          "output_type": "execute_result",
          "data": {
            "text/plain": [
              "[(0, 2),\n",
              " (1, 1),\n",
              " (2, 1),\n",
              " (3, 1),\n",
              " (4, 1),\n",
              " (5, 6),\n",
              " (6, 1),\n",
              " (7, 2),\n",
              " (8, 4),\n",
              " (9, 1)]"
            ]
          },
          "metadata": {},
          "execution_count": 112
        }
      ],
      "source": [
        "corpus[0][:10]"
      ]
    },
    {
      "cell_type": "markdown",
      "metadata": {
        "id": "ig4rG2isPGwx"
      },
      "source": [
        "**These are the two ingredients you need to run your topic model on the enron emails. You are now ready for the final step and create your first fraud detection topic model.**"
      ]
    },
    {
      "cell_type": "markdown",
      "metadata": {
        "id": "nWeHTFIBPGwx"
      },
      "source": [
        "### LDA model\n",
        "\n",
        "Now it's time to **build the LDA model**. Using the `dictionary` and `corpus`, you are ready to discover which topics are present in the Enron emails. With a quick print of words assigned to the topics, you can do a first exploration about whether there are any obvious topics that jump out. Be mindful that the topic model is **heavy to calculate** so it will take a while to run. Let's give it a try!\n",
        "\n",
        "**Instructions**\n",
        "\n",
        "* Build the LDA model from gensim models, by inserting the `corpus` and `dictionary`.\n",
        "* Save the 5 topics by running `print_topics` on the model results, and select the top 5 words."
      ]
    },
    {
      "cell_type": "code",
      "execution_count": 113,
      "metadata": {
        "tags": [],
        "colab": {
          "base_uri": "https://localhost:8080/"
        },
        "id": "Vj0UtboRPGwx",
        "outputId": "7e93fb85-f916-418f-d4e0-69b546b8c57d"
      },
      "outputs": [
        {
          "output_type": "stream",
          "name": "stderr",
          "text": [
            "WARNING:gensim.models.ldamodel:too few updates, training might not converge; consider increasing the number of passes or iterations to improve accuracy\n"
          ]
        },
        {
          "output_type": "stream",
          "name": "stdout",
          "text": [
            "(0, '0.054*\"td\" + 0.039*\"net\" + 0.037*\"money\" + 0.035*\"tr\" + 0.032*\"width\"')\n",
            "(1, '0.013*\"enron\" + 0.010*\"pm\" + 0.008*\"message\" + 0.007*\"original\" + 0.007*\"please\"')\n",
            "(2, '0.025*\"enron\" + 0.006*\"company\" + 0.006*\"development\" + 0.004*\"said\" + 0.004*\"bakernet\"')\n",
            "(3, '0.047*\"image\" + 0.012*\"click\" + 0.012*\"se\" + 0.011*\"ne\" + 0.011*\"sp\"')\n",
            "(4, '0.046*\"enron\" + 0.010*\"e\" + 0.009*\"hou\" + 0.009*\"mail\" + 0.009*\"corp\"')\n"
          ]
        }
      ],
      "source": [
        "# Define the LDA model\n",
        "ldamodel = gensim.models.ldamodel.LdaModel(corpus, num_topics=5, id2word=dictionary, passes=5)\n",
        "\n",
        "# Save the topics and top 5 words\n",
        "topics = ldamodel.print_topics(num_words=5)\n",
        "\n",
        "# Print the results\n",
        "for topic in topics:\n",
        "    print(topic)"
      ]
    },
    {
      "cell_type": "markdown",
      "metadata": {
        "id": "7x_viAhyPGwx"
      },
      "source": [
        "**You have now successfully created your first topic model on the Enron email data. However, the print of words doesn't really give you enough information to find a topic that might lead you to signs of fraud. You'll therefore need to closely inspect the model results in order to be able to detect anything that can be related to fraud in your data. You'll learn more about this in the next video.**"
      ]
    },
    {
      "cell_type": "markdown",
      "metadata": {
        "id": "Ml3nYARqPGwx"
      },
      "source": [
        "## Flagging fraud based on topic"
      ]
    },
    {
      "cell_type": "markdown",
      "metadata": {
        "id": "NkDzXtNkPGwx"
      },
      "source": [
        "#### Using your LDA model results for fraud detection\n",
        "\n",
        "1. Are there any suspicious topics? (no labels)\n",
        "    1. if you don't have labels, first check for the frequency of suspicious words within topics and check whether topics seem to describe the fraudulent behavior\n",
        "    1. for the Enron email data, a suspicious topic would be one where employees are discussing stock bonuses, selling stock, stock price, and perhaps mentions of accounting or weak financials\n",
        "    1. Defining suspicious topics does require some pre-knowledge about the fraudulent behavior\n",
        "    1. If the fraudulent topic is noticeable, flag all instances that have a high probability for this topic\n",
        "1. Are the topics in fraud and non-fraud cases similar? (with labels)\n",
        "    1. If there a previous cases of fraud, ran a topic model on the fraud text only, and on the non-fraud text\n",
        "    1. Check whether the results are similar\n",
        "        1. Whether the frequency of the topics are the same in fraud vs non-fraud\n",
        "1. Are fraud cases associated more with certain topics? (with labels)\n",
        "    1. Check whether fraud cases have a higher probability score for certain topics\n",
        "        1. If so, run a topic model on new data and create a flag directly on the instances that score high on those topics"
      ]
    },
    {
      "cell_type": "markdown",
      "metadata": {
        "id": "MaX2mIx1PGwx"
      },
      "source": [
        "#### To understand topics, you need to visualize\n",
        "\n",
        "```python\n",
        "import pyLDAvis.gensim\n",
        "lda_display = pyLDAvis.gensim.prepare(ldamodel, corpus, dictionary, sort_topics=False)\n",
        "```\n",
        "\n",
        "![topics](https://raw.githubusercontent.com/trenton3983/DataCamp/master/Images/fraud_detection/topics2.jpg)\n",
        "\n",
        "* Each bubble on the left-hand side, represents a topic\n",
        "* The larger the bubble, the more prevalent that topic is\n",
        "* Click on each topic to get the details per topic in the right panel\n",
        "* The words are the most important keywords that form the selected topic.\n",
        "* A good topic model will have fairly big, non-overlapping bubbles, scattered throughout the chart\n",
        "* A model with too many topics, will typically have many overlaps, or small sized bubbles, clustered in one region\n",
        "* In the case of the model above, there is a slight overlap between topic 2 and 3, which may point to 1 topic too many"
      ]
    },
    {
      "cell_type": "code",
      "source": [
        "# Доработка кода\n",
        "!pip install pyLDAvis"
      ],
      "metadata": {
        "colab": {
          "base_uri": "https://localhost:8080/"
        },
        "id": "ANUteP3QRWO2",
        "outputId": "a9081455-47aa-437a-ea95-83467811c913"
      },
      "execution_count": 114,
      "outputs": [
        {
          "output_type": "stream",
          "name": "stdout",
          "text": [
            "Collecting pyLDAvis\n",
            "  Downloading pyLDAvis-3.4.1-py3-none-any.whl (2.6 MB)\n",
            "\u001b[2K     \u001b[90m━━━━━━━━━━━━━━━━━━━━━━━━━━━━━━━━━━━━━━━━\u001b[0m \u001b[32m2.6/2.6 MB\u001b[0m \u001b[31m13.3 MB/s\u001b[0m eta \u001b[36m0:00:00\u001b[0m\n",
            "\u001b[?25hRequirement already satisfied: numpy>=1.24.2 in /usr/local/lib/python3.10/dist-packages (from pyLDAvis) (1.25.2)\n",
            "Requirement already satisfied: scipy in /usr/local/lib/python3.10/dist-packages (from pyLDAvis) (1.11.4)\n",
            "Collecting pandas>=2.0.0 (from pyLDAvis)\n",
            "  Downloading pandas-2.2.1-cp310-cp310-manylinux_2_17_x86_64.manylinux2014_x86_64.whl (13.0 MB)\n",
            "\u001b[2K     \u001b[90m━━━━━━━━━━━━━━━━━━━━━━━━━━━━━━━━━━━━━━━━\u001b[0m \u001b[32m13.0/13.0 MB\u001b[0m \u001b[31m46.3 MB/s\u001b[0m eta \u001b[36m0:00:00\u001b[0m\n",
            "\u001b[?25hRequirement already satisfied: joblib>=1.2.0 in /usr/local/lib/python3.10/dist-packages (from pyLDAvis) (1.3.2)\n",
            "Requirement already satisfied: jinja2 in /usr/local/lib/python3.10/dist-packages (from pyLDAvis) (3.1.3)\n",
            "Requirement already satisfied: numexpr in /usr/local/lib/python3.10/dist-packages (from pyLDAvis) (2.9.0)\n",
            "Collecting funcy (from pyLDAvis)\n",
            "  Downloading funcy-2.0-py2.py3-none-any.whl (30 kB)\n",
            "Requirement already satisfied: scikit-learn>=1.0.0 in /usr/local/lib/python3.10/dist-packages (from pyLDAvis) (1.2.2)\n",
            "Requirement already satisfied: gensim in /usr/local/lib/python3.10/dist-packages (from pyLDAvis) (4.3.2)\n",
            "Requirement already satisfied: setuptools in /usr/local/lib/python3.10/dist-packages (from pyLDAvis) (67.7.2)\n",
            "Requirement already satisfied: python-dateutil>=2.8.2 in /usr/local/lib/python3.10/dist-packages (from pandas>=2.0.0->pyLDAvis) (2.8.2)\n",
            "Requirement already satisfied: pytz>=2020.1 in /usr/local/lib/python3.10/dist-packages (from pandas>=2.0.0->pyLDAvis) (2023.4)\n",
            "Collecting tzdata>=2022.7 (from pandas>=2.0.0->pyLDAvis)\n",
            "  Downloading tzdata-2024.1-py2.py3-none-any.whl (345 kB)\n",
            "\u001b[2K     \u001b[90m━━━━━━━━━━━━━━━━━━━━━━━━━━━━━━━━━━━━━━━━\u001b[0m \u001b[32m345.4/345.4 kB\u001b[0m \u001b[31m29.7 MB/s\u001b[0m eta \u001b[36m0:00:00\u001b[0m\n",
            "\u001b[?25hRequirement already satisfied: threadpoolctl>=2.0.0 in /usr/local/lib/python3.10/dist-packages (from scikit-learn>=1.0.0->pyLDAvis) (3.4.0)\n",
            "Requirement already satisfied: smart-open>=1.8.1 in /usr/local/lib/python3.10/dist-packages (from gensim->pyLDAvis) (6.4.0)\n",
            "Requirement already satisfied: MarkupSafe>=2.0 in /usr/local/lib/python3.10/dist-packages (from jinja2->pyLDAvis) (2.1.5)\n",
            "Requirement already satisfied: six>=1.5 in /usr/local/lib/python3.10/dist-packages (from python-dateutil>=2.8.2->pandas>=2.0.0->pyLDAvis) (1.16.0)\n",
            "Installing collected packages: funcy, tzdata, pandas, pyLDAvis\n",
            "  Attempting uninstall: pandas\n",
            "    Found existing installation: pandas 1.5.3\n",
            "    Uninstalling pandas-1.5.3:\n",
            "      Successfully uninstalled pandas-1.5.3\n",
            "\u001b[31mERROR: pip's dependency resolver does not currently take into account all the packages that are installed. This behaviour is the source of the following dependency conflicts.\n",
            "google-colab 1.0.0 requires pandas==1.5.3, but you have pandas 2.2.1 which is incompatible.\u001b[0m\u001b[31m\n",
            "\u001b[0mSuccessfully installed funcy-2.0 pandas-2.2.1 pyLDAvis-3.4.1 tzdata-2024.1\n"
          ]
        }
      ]
    },
    {
      "cell_type": "code",
      "execution_count": 115,
      "metadata": {
        "tags": [],
        "id": "XC83K6c5PGwx"
      },
      "outputs": [],
      "source": [
        "# if ipython is > 7.16.1 results in DeprecationWarning: `should_run_async` will not call `transform_cell` automatically in the future\n",
        "import pyLDAvis.gensim"
      ]
    },
    {
      "cell_type": "code",
      "execution_count": 117,
      "metadata": {
        "tags": [],
        "id": "KSNIPpEWPGwx",
        "colab": {
          "base_uri": "https://localhost:8080/"
        },
        "outputId": "6c06fcd3-00df-4c3e-da72-70d0e40e2481"
      },
      "outputs": [
        {
          "output_type": "stream",
          "name": "stderr",
          "text": [
            "/usr/local/lib/python3.10/dist-packages/ipykernel/ipkernel.py:283: DeprecationWarning: `should_run_async` will not call `transform_cell` automatically in the future. Please pass the result to `transformed_cell` argument and any exception that happen during thetransform in `preprocessing_exc_tuple` in IPython 7.17 and above.\n",
            "  and should_run_async(code)\n",
            "/usr/local/lib/python3.10/dist-packages/pandas/core/dtypes/cast.py:1641: DeprecationWarning: np.find_common_type is deprecated.  Please use `np.result_type` or `np.promote_types`.\n",
            "See https://numpy.org/devdocs/release/1.25.0-notes.html and the docs for more information.  (Deprecated NumPy 1.25)\n",
            "  \n"
          ]
        }
      ],
      "source": [
        "lda_display = pyLDAvis.gensim.prepare(ldamodel, corpus, dictionary, sort_topics=False, n_jobs=1)"
      ]
    },
    {
      "cell_type": "code",
      "execution_count": 118,
      "metadata": {
        "tags": [],
        "colab": {
          "base_uri": "https://localhost:8080/",
          "height": 916
        },
        "id": "_sDHc5jMPGwx",
        "outputId": "ad10fb46-0531-44a7-bb3f-9554b6b5433b"
      },
      "outputs": [
        {
          "output_type": "stream",
          "name": "stderr",
          "text": [
            "/usr/local/lib/python3.10/dist-packages/ipykernel/ipkernel.py:283: DeprecationWarning: `should_run_async` will not call `transform_cell` automatically in the future. Please pass the result to `transformed_cell` argument and any exception that happen during thetransform in `preprocessing_exc_tuple` in IPython 7.17 and above.\n",
            "  and should_run_async(code)\n"
          ]
        },
        {
          "output_type": "execute_result",
          "data": {
            "text/plain": [
              "<IPython.core.display.HTML object>"
            ],
            "text/html": [
              "\n",
              "<link rel=\"stylesheet\" type=\"text/css\" href=\"https://cdn.jsdelivr.net/gh/bmabey/pyLDAvis@3.4.0/pyLDAvis/js/ldavis.v1.0.0.css\">\n",
              "\n",
              "\n",
              "<div id=\"ldavis_el31141319314079904805991202035\" style=\"background-color:white;\"></div>\n",
              "<script type=\"text/javascript\">\n",
              "\n",
              "var ldavis_el31141319314079904805991202035_data = {\"mdsDat\": {\"x\": [0.33008027699588144, -0.14177638757504452, -0.0954982904559682, 0.001402937105863781, -0.09420853607073264], \"y\": [-0.07186135454196461, -0.10590031635418755, -0.028998155531011795, 0.2658166113199771, -0.05905678489281334], \"topics\": [1, 2, 3, 4, 5], \"cluster\": [1, 1, 1, 1, 1], \"Freq\": [2.8098629853596164, 11.135272525021241, 63.647248427436985, 3.5162947566816123, 18.891321305500554]}, \"tinfo\": {\"Term\": [\"enron\", \"image\", \"td\", \"net\", \"money\", \"tr\", \"e\", \"width\", \"right\", \"pm\", \"class\", \"see\", \"day\", \"hou\", \"please\", \"message\", \"employee\", \"mail\", \"price\", \"corp\", \"table\", \"height\", \"original\", \"wj\", \"market\", \"end\", \"p\", \"br\", \"f\", \"gas\", \"td\", \"align\", \"nbsp\", \"width\", \"bodydefault\", \"scoop\", \"script\", \"height\", \"img\", \"src\", \"href\", \"tr\", \"cellpadding\", \"cellspacing\", \"stocklookup\", \"coords\", \"rect\", \"valign\", \"bgcolor\", \"linkbarseperator\", \"colspan\", \"font\", \"br\", \"ffffff\", \"underscore\", \"tab\", \"fname\", \"dye\", \"athoc\", \"mainheadline\", \"gif\", \"table\", \"class\", \"money\", \"net\", \"border\", \"clear\", \"center\", \"image\", \"wrap\", \"right\", \"start\", \"f\", \"end\", \"outage\", \"devon\", \"hourahead\", \"ancillary\", \"tycholiz\", \"sfs\", \"pager\", \"euci\", \"exotica\", \"tyrell\", \"laurel\", \"variance\", \"savita\", \"rfp\", \"hanagriff\", \"backout\", \"fri\", \"brochure\", \"neumin\", \"simulation\", \"darrell\", \"eei\", \"caiso\", \"schoolcraft\", \"congestion\", \"barbo\", \"kern\", \"detected\", \"krishna\", \"commoditylogic\", \"thru\", \"eol\", \"pseg\", \"pt\", \"barry\", \"reliantenergy\", \"server\", \"lynn\", \"schedule\", \"kimberly\", \"revised\", \"conference\", \"scheduled\", \"sat\", \"log\", \"desk\", \"greg\", \"file\", \"pm\", \"system\", \"thanks\", \"original\", \"final\", \"january\", \"message\", \"watson\", \"team\", \"please\", \"operation\", \"attached\", \"data\", \"know\", \"market\", \"doc\", \"enron\", \"gas\", \"hou\", \"john\", \"time\", \"let\", \"service\", \"mark\", \"would\", \"power\", \"e\", \"report\", \"bakernet\", \"alert\", \"union\", \"permit\", \"worker\", \"government\", \"labour\", \"aggies\", \"asarco\", \"barton\", \"marten\", \"employment\", \"arnold\", \"employer\", \"circuit\", \"louis\", \"pension\", \"discrimination\", \"bin\", \"erichardson\", \"insurance\", \"appeal\", \"basically\", \"legislation\", \"touch\", \"cogen\", \"flo\", \"lubbock\", \"ld\", \"contracted\", \"div\", \"federal\", \"official\", \"house\", \"month\", \"bush\", \"court\", \"former\", \"citygate\", \"strike\", \"france\", \"claim\", \"development\", \"said\", \"project\", \"partnership\", \"copyright\", \"sept\", \"national\", \"yesterday\", \"et\", \"already\", \"reserved\", \"people\", \"say\", \"earnings\", \"andersen\", \"executive\", \"price\", \"want\", \"law\", \"news\", \"since\", \"business\", \"one\", \"june\", \"would\", \"year\", \"enron\", \"company\", \"power\", \"new\", \"mailto\", \"two\", \"gas\", \"mr\", \"u\", \"see\", \"share\", \"week\", \"energy\", \"work\", \"market\", \"houston\", \"date\", \"time\", \"also\", \"stock\", \"state\", \"e\", \"may\", \"service\", \"day\", \"please\", \"ctr\", \"syncrasy\", \"sp\", \"rk\", \"hp\", \"deviation\", \"ecar\", \"npcc\", \"std\", \"wscc\", \"sw\", \"nc\", \"frcc\", \"matrix\", \"serc\", \"mapp\", \"enlarge\", \"temp\", \"classmate\", \"min\", \"raquel\", \"maac\", \"delta\", \"arctic\", \"temperature\", \"spp\", \"lover\", \"mage\", \"vegetarian\", \"veggie\", \"nw\", \"ne\", \"max\", \"adult\", \"image\", \"volatility\", \"se\", \"amazon\", \"click\", \"range\", \"reg\", \"gift\", \"choice\", \"forecast\", \"day\", \"email\", \"ct\", \"see\", \"e\", \"visit\", \"available\", \"standard\", \"p\", \"wj\", \"aaaaaaaaaaaaaaaaaaaaaaaaaaaaaaaaaaaaaaaaaaaaaaaaaaaaaaaaaaaaaaaaaaaaaaaaaaaa\", \"donate\", \"enform\", \"underhanded\", \"beth\", \"astronomical\", \"pocketbook\", \"netted\", \"pep\", \"hereto\", \"estoppel\", \"wiped\", \"repair\", \"auth\", \"financially\", \"cherry\", \"srrs\", \"hannon\", \"itcapps\", \"emaillink\", \"paypal\", \"russanboy\", \"stoller\", \"enemy\", \"devastated\", \"edgar\", \"dine\", \"heintzelman\", \"privileged\", \"declared\", \"brad\", \"sample\", \"recipient\", \"intended\", \"matt\", \"sender\", \"aggressively\", \"binding\", \"scientech\", \"contain\", \"acceptance\", \"tonight\", \"feedback\", \"mail\", \"fund\", \"affiliate\", \"ee\", \"jason\", \"employee\", \"consumer\", \"hou\", \"enron\", \"saving\", \"corp\", \"wolfe\", \"thank\", \"retirement\", \"e\", \"million\", \"made\", \"request\", \"bankruptcy\", \"option\", \"bill\", \"california\", \"stock\", \"company\", \"please\", \"message\", \"may\", \"pm\", \"use\", \"energy\", \"original\", \"plan\", \"time\"], \"Freq\": [11444.0, 924.0, 674.0, 740.0, 677.0, 443.0, 2037.0, 396.0, 560.0, 1271.0, 361.0, 824.0, 826.0, 1232.0, 1410.0, 1425.0, 1078.0, 1019.0, 855.0, 1363.0, 263.0, 250.0, 997.0, 511.0, 1068.0, 401.0, 554.0, 230.0, 423.0, 1008.0, 671.4714696861935, 201.373680777916, 147.3152971396859, 392.4862849274329, 103.65256382177112, 124.01938824013865, 201.17125461035354, 247.1397946670115, 195.78412820009, 208.09437729731619, 176.7568187743157, 435.95485719730937, 86.19431692252385, 86.29329634621023, 42.25843929670507, 42.25685784227098, 42.25685784227098, 54.310412066400225, 48.39711729637687, 34.58416904153996, 44.444557639099514, 86.6981313661406, 221.8401483690937, 27.482795084449716, 23.072767987590925, 24.30212659842625, 19.39672621528591, 19.45698020639757, 15.544870286483919, 15.39849628949294, 187.93937542541144, 238.7538150850603, 284.10609582479935, 457.02453999219045, 482.9884202393486, 144.76070568588193, 145.28169680247615, 107.18404392077969, 186.19657800866435, 54.16432954185056, 98.77280724173525, 74.66914451718898, 75.37855958069937, 72.30661897288478, 200.73211406838286, 101.79810839646935, 64.67800542415947, 61.272220219859406, 63.612612870521765, 62.190368277583346, 60.25126405370698, 54.98067734319672, 54.42733538666926, 46.67035524522798, 49.02813418287386, 43.4963357366126, 47.8236770654158, 62.941904184727136, 46.66654404303277, 40.475330420857645, 121.53766549103692, 40.63615286067614, 38.90871760312954, 65.1190984698214, 70.46534883741636, 47.345589912324186, 42.00731933867283, 62.69254920479273, 36.05803843019148, 46.96065563149211, 40.230632941580396, 31.897477939837536, 31.875302632841283, 31.475769703540553, 131.66757216894644, 74.757054139092, 47.47288349382073, 81.27100768249511, 96.69714734525171, 48.749273121428196, 63.08615232662695, 92.80213301114983, 191.25983847773767, 89.53908633527693, 73.91048692019713, 199.90271870273958, 155.60599333662051, 106.85836706625341, 80.33387509170578, 146.03353430642548, 204.10379001372658, 170.57411970270903, 494.6920092466469, 200.6986052238759, 312.9678043795437, 364.6673997404554, 152.4676899103926, 163.204964408806, 412.1856402572504, 93.21189585902104, 214.27176868595816, 362.2400785139918, 128.10060713527469, 129.9875096114541, 128.78340988354924, 237.17754561953234, 261.465762527169, 123.65702556907597, 638.2861682917588, 222.14319068056335, 232.35071665119258, 164.46677254264335, 223.16529049328597, 164.24866770523977, 174.18070065357261, 148.19231588173946, 177.00778353865095, 164.89568575233264, 175.66944257633554, 149.57817535904684, 1108.6062126288803, 353.1040373055177, 225.82454765601736, 216.55799512823813, 256.96151205432824, 285.0036879426509, 93.40641543108056, 112.3186024180126, 74.86530269564054, 76.08714390793887, 75.86399111450423, 101.45893831999696, 95.46420939640427, 121.41266298426106, 75.81884577639634, 105.9595077176042, 112.49731258810446, 56.01205795240828, 84.4095664643741, 66.43673752526477, 78.84827364212668, 65.82039130744076, 54.95583680492601, 62.27374903237957, 68.91812958522212, 51.13741142335344, 48.37315624268122, 77.04040100012746, 56.775026423084405, 47.328509461068606, 280.9942262837402, 193.89539492656448, 161.38790794541933, 265.1014493915846, 478.23250071678734, 246.78898043006944, 268.24809171435703, 187.62062599797025, 97.1524979618046, 99.21170552776046, 127.406550284356, 117.7193249164305, 1587.1335267029406, 1197.5577432931882, 330.39768902416444, 247.16782539948736, 217.7402228384284, 207.7557899803675, 179.12647139248284, 164.09844221651863, 234.1932268204216, 207.03202645670342, 161.4800126062613, 357.77578311724653, 515.5434189882037, 214.38536449653105, 186.9656958368801, 365.1682770774747, 765.2329771778274, 353.6325768621096, 299.5854442161535, 489.56104715627714, 270.59792086230084, 793.0438128285916, 841.6061750217809, 393.6592098832426, 1072.0203325730274, 910.3276915526045, 6959.539038732736, 1748.2259512607295, 776.5193607314101, 1077.3816213335795, 719.0832472219388, 422.80598801351573, 776.7243573363785, 530.142269206923, 737.3744876606659, 641.91248446178, 433.3026182243286, 543.8608956424143, 971.3220911573729, 504.77181485557975, 759.5209847228698, 581.466790693142, 534.3214609949155, 823.5938633181943, 610.2240360526858, 727.4584305834713, 522.4481635326246, 936.6309262147248, 686.4074028568344, 575.4990100636815, 536.9328797997255, 524.7566632470571, 95.5945318321296, 95.5945318321296, 168.26404937630238, 106.79542153925313, 109.3985804023988, 53.616518605746, 53.13875493862134, 53.13875493862134, 53.13875493862134, 155.5361563066201, 109.58217703494387, 104.95180625696452, 47.83178011837869, 103.49783273632177, 48.02318099819803, 53.38708240325534, 53.61206213136541, 49.622257180216685, 49.04686638835087, 53.975774001558534, 21.51683700039374, 47.95237939347231, 61.86984776471146, 21.746276814289896, 22.67564312713483, 49.50425811707932, 16.46594513808519, 16.32587677596905, 15.999192646314194, 15.999192646314194, 108.81096861433856, 169.31600846007407, 49.60097877904128, 33.29098677014114, 723.6756215250307, 93.11088159961812, 178.81394712893177, 95.92228132640544, 184.14989986686476, 104.31817071727845, 59.15480394793113, 65.54991330078697, 56.934963275409885, 58.66280773175142, 104.98971156903804, 89.99354526774363, 65.28326156467232, 87.55218459357634, 99.62179066966499, 63.70251326553981, 68.5989868459986, 62.397329651283144, 65.90797693278621, 510.84474965068046, 241.7172272054047, 168.10533020053296, 106.80129475385965, 82.3897808922834, 186.8200752321212, 82.90948131936138, 82.85398102735053, 85.48790206959784, 125.55649359032209, 77.95312383124573, 77.41020369626216, 84.29855050514446, 84.8289319008475, 54.646610015326445, 85.23182075370721, 106.21719807815941, 48.13132586671737, 48.03318416000041, 45.403395808610746, 45.4029835096402, 44.309086432731085, 42.50517657451873, 42.505069861844, 42.461734814752155, 83.36837492414884, 37.649735322662984, 42.35426545014874, 42.35426545014874, 116.99350962750825, 167.78131171544953, 79.90165846717137, 90.83391603890692, 368.70781302909285, 375.78057389163365, 101.71837603351652, 112.27571317432334, 84.90696796953046, 78.74951567216523, 86.2551273962837, 113.68098328436061, 84.16416044305282, 131.22258737690188, 174.7271038973684, 712.0582886570378, 399.5532086707652, 165.96296654269216, 244.15664014507948, 188.59476521976256, 666.0440937511642, 262.8433682489755, 714.8912579411098, 3832.4062027375844, 172.71906239355351, 710.6455680620741, 136.23009904082127, 237.9077593383529, 174.0458113772954, 814.3857321321409, 416.06297880790396, 340.9492076189093, 266.75766676721923, 192.74831355474666, 251.60619376093283, 302.87234026391883, 274.85265744443694, 410.4203618097643, 601.0505257826812, 440.6365407166309, 437.89751739092867, 376.0057182330054, 348.6042704439845, 244.24034168667527, 316.5657106850253, 261.5846631471011, 233.82064449396316, 245.54153783539593], \"Total\": [11444.0, 924.0, 674.0, 740.0, 677.0, 443.0, 2037.0, 396.0, 560.0, 1271.0, 361.0, 824.0, 826.0, 1232.0, 1410.0, 1425.0, 1078.0, 1019.0, 855.0, 1363.0, 263.0, 250.0, 997.0, 511.0, 1068.0, 401.0, 554.0, 230.0, 423.0, 1008.0, 674.7159491674272, 202.6689732476331, 148.64115033186224, 396.14973900671896, 104.74987769126957, 125.54455628518664, 203.67761407841468, 250.81924969669421, 198.82022975530654, 211.32634482004843, 179.6106325429433, 443.5317691526563, 87.75702074240644, 87.86307035312589, 43.28060619024923, 43.28646716482661, 43.28646716482661, 55.77439669035749, 49.75086636851302, 35.59694253983438, 45.76878478706459, 89.87842418538945, 230.07501919331918, 28.61960020037119, 24.07145145558348, 25.535420894456422, 20.384252669803324, 20.556585349236894, 16.54008440934022, 16.387786374129796, 203.84163856374704, 263.7152099885639, 361.6550829568484, 677.3288842152039, 740.328618377927, 198.67613604110963, 235.20340682965167, 281.54141328698825, 924.0729773787778, 84.68054403565331, 560.9791769358837, 240.45932500852635, 423.1614791442227, 401.96307187070573, 202.00864342916654, 102.88649382563686, 65.62107894473388, 62.20034012349162, 64.67951432732028, 63.23407186426251, 61.26292885457194, 55.9387536002066, 55.397349218392876, 47.65342145242179, 50.06828315630118, 44.42711456135552, 48.84841988590623, 64.2920484638015, 47.678608478150664, 41.400297195928495, 124.35421385171827, 41.57981634643379, 39.83677400089096, 66.7144739193529, 72.25604443892335, 48.59607552983193, 43.12529324984422, 64.37550200739526, 37.03415134281206, 48.25747276518074, 41.36148927065134, 32.821087956326785, 32.80224778096195, 32.39497481018245, 136.46984057776118, 77.05662414938347, 48.89543822087091, 84.2606260847765, 100.96009351091887, 50.54675195560879, 66.59547675237708, 102.71395882707844, 229.3852277761808, 101.87357451002211, 83.32617025212704, 280.19591623889113, 211.25557660220417, 134.25643271667954, 95.844470473342, 210.33615182558134, 327.32135708809756, 276.72713355560666, 1271.7313674903849, 371.42019699106345, 763.7347732945788, 997.3641982621432, 269.0928303018831, 300.34284804230623, 1425.1475740393896, 125.77654936760183, 529.6453288547835, 1410.4503987146604, 225.81867511398087, 235.469036367488, 234.20950900026537, 856.4849702888653, 1068.6282016049838, 237.67565164175397, 11444.434663773998, 1008.0920037123459, 1232.566402643612, 515.7007875610689, 1331.7467283789395, 596.5744026429693, 818.3338589772674, 499.8704241585408, 1355.4389594581191, 960.4403384972271, 2037.6111596797211, 595.2791671836817, 1109.6813805679944, 354.2698472453444, 226.71550763742064, 217.4151316033245, 257.9920534447636, 286.5175635738357, 93.98293199479563, 113.04007500842008, 75.39007139553462, 76.63004427767052, 76.42472290575776, 102.25154419525265, 96.21267559185286, 122.39861411091248, 76.44546583012024, 106.8781597530253, 113.58897694357124, 56.569102929374985, 85.26224385060632, 67.11284731831903, 79.67546271227368, 66.51142196381757, 55.534630470506706, 62.943280429432114, 69.66407970143231, 51.70382632917042, 48.91856409903567, 77.91331199203704, 57.424083157556744, 47.870894525011586, 284.7342931533214, 196.3781041641526, 163.32635234980742, 269.7305825777264, 489.9986444033604, 251.2309979977778, 273.4151458936934, 190.560519928251, 98.27755961748417, 100.40799768303945, 129.27760554831815, 119.40864383586475, 1654.5206149662852, 1244.7630872110842, 339.57842817181813, 253.50406468920872, 222.81554607962101, 212.58370336943918, 182.87206474688395, 167.55026489491098, 240.9405284677015, 212.99471034082566, 164.9344971268371, 375.7656739742806, 551.6574250580863, 221.87426930236475, 192.4096397453543, 389.386538301001, 855.8600395154554, 376.8066231849129, 316.4484912480796, 537.3032125658783, 284.8535017316915, 911.5416343699213, 985.6176817267672, 429.00137903346837, 1355.4389594581191, 1125.9610902713034, 11444.434663773998, 2421.8456017709686, 960.4403384972271, 1435.611292378079, 902.5760507309285, 481.966289791496, 1008.0920037123459, 642.9728635582932, 979.7025701457312, 824.7976892721103, 504.02606095968594, 676.891237689761, 1445.5036833603315, 615.1975773988976, 1068.6282016049838, 760.4737735226244, 684.7053242872374, 1331.7467283789395, 845.5365882313422, 1149.1936919535658, 675.9469566725031, 2037.6111596797211, 1134.5016788274534, 818.3338589772674, 826.8300568807337, 1410.4503987146604, 96.62812337774598, 96.62812337774598, 170.42626340097868, 108.25607072671845, 111.24220016383772, 54.58950238110935, 54.135429327911645, 54.135429327911645, 54.135429327911645, 158.46682414225774, 111.68149209617728, 107.04676909233864, 48.82383988390603, 105.82413191236957, 49.16371295012591, 54.748500428617255, 55.01982301825814, 51.01697475180345, 50.56296210094301, 55.70073771531445, 22.479351267162233, 50.14738957258164, 64.93574842462183, 22.826395425057665, 23.808823001238412, 52.16890395991463, 17.419968224374376, 17.283179476550405, 16.951688904954747, 16.951688904954747, 115.40809957900949, 181.48694082880746, 52.9759697165077, 35.763420393733284, 924.0729773787778, 106.83649034043478, 216.86518627434225, 115.39971852895299, 279.14936369815115, 148.13837379089836, 69.65447897466024, 89.60164628793002, 75.22559541473785, 84.28982526411785, 826.8300568807337, 523.0783806946438, 157.13813979245452, 824.7976892721103, 2037.6111596797211, 173.1159641939785, 354.46435621189255, 190.3836089021812, 554.5831279831768, 511.5828374979803, 242.7726472899223, 169.0466833808611, 107.55285958351342, 83.18113537994687, 188.6252912375815, 83.71174431840727, 83.68769288744178, 86.38400065916491, 126.90464869983632, 78.83788266831891, 78.29907140746715, 85.39404096887978, 85.95752353282812, 55.39863819043346, 86.4872511605373, 107.8049605914076, 48.869829473470325, 48.79851581057078, 46.14235138886983, 46.142047352043484, 45.04657313698262, 43.240852364883104, 43.240748253066705, 43.24374634715551, 85.21648563045785, 38.504737410959194, 43.354968441804516, 43.354968441804516, 119.83807193056712, 172.25899018791873, 81.96221966052984, 93.34438869205465, 389.9457406741718, 402.49126592164043, 106.0300393812266, 118.46908276023812, 88.60173253462897, 82.02275546167891, 90.27728956581501, 121.24876206081889, 88.40269107945026, 144.77700064565488, 199.3064501092275, 1019.3682805525411, 534.3088281456837, 196.4819086580217, 313.8710613891, 230.7503309147617, 1078.9233734041347, 352.35198826356367, 1232.566402643612, 11444.434663773998, 216.44380423177748, 1363.3582094624346, 161.15896623229762, 344.1600343431672, 225.79854311560305, 2037.6111596797211, 794.3121864908638, 616.5958421588151, 436.216873436881, 281.1830923507522, 434.00768352271496, 613.7260941128752, 533.9312436497187, 1149.1936919535658, 2421.8456017709686, 1410.4503987146604, 1425.1475740393896, 1134.5016788274534, 1271.7313674903849, 488.08236919390527, 1445.5036833603315, 997.3641982621432, 638.2665486617045, 1331.7467283789395], \"Category\": [\"Default\", \"Default\", \"Default\", \"Default\", \"Default\", \"Default\", \"Default\", \"Default\", \"Default\", \"Default\", \"Default\", \"Default\", \"Default\", \"Default\", \"Default\", \"Default\", \"Default\", \"Default\", \"Default\", \"Default\", \"Default\", \"Default\", \"Default\", \"Default\", \"Default\", \"Default\", \"Default\", \"Default\", \"Default\", \"Default\", \"Topic1\", \"Topic1\", \"Topic1\", \"Topic1\", \"Topic1\", \"Topic1\", \"Topic1\", \"Topic1\", \"Topic1\", \"Topic1\", \"Topic1\", \"Topic1\", \"Topic1\", \"Topic1\", \"Topic1\", \"Topic1\", \"Topic1\", \"Topic1\", \"Topic1\", \"Topic1\", \"Topic1\", \"Topic1\", \"Topic1\", \"Topic1\", \"Topic1\", \"Topic1\", \"Topic1\", \"Topic1\", \"Topic1\", \"Topic1\", \"Topic1\", \"Topic1\", \"Topic1\", \"Topic1\", \"Topic1\", \"Topic1\", \"Topic1\", \"Topic1\", \"Topic1\", \"Topic1\", \"Topic1\", \"Topic1\", \"Topic1\", \"Topic1\", \"Topic2\", \"Topic2\", \"Topic2\", \"Topic2\", \"Topic2\", \"Topic2\", \"Topic2\", \"Topic2\", \"Topic2\", \"Topic2\", \"Topic2\", \"Topic2\", \"Topic2\", \"Topic2\", \"Topic2\", \"Topic2\", \"Topic2\", \"Topic2\", \"Topic2\", \"Topic2\", \"Topic2\", \"Topic2\", \"Topic2\", \"Topic2\", \"Topic2\", \"Topic2\", \"Topic2\", \"Topic2\", \"Topic2\", \"Topic2\", \"Topic2\", \"Topic2\", \"Topic2\", \"Topic2\", \"Topic2\", \"Topic2\", \"Topic2\", \"Topic2\", \"Topic2\", \"Topic2\", \"Topic2\", \"Topic2\", \"Topic2\", \"Topic2\", \"Topic2\", \"Topic2\", \"Topic2\", \"Topic2\", \"Topic2\", \"Topic2\", \"Topic2\", \"Topic2\", \"Topic2\", \"Topic2\", \"Topic2\", \"Topic2\", \"Topic2\", \"Topic2\", \"Topic2\", \"Topic2\", \"Topic2\", \"Topic2\", \"Topic2\", \"Topic2\", \"Topic2\", \"Topic2\", \"Topic2\", \"Topic2\", \"Topic2\", \"Topic2\", \"Topic2\", \"Topic2\", \"Topic2\", \"Topic2\", \"Topic2\", \"Topic2\", \"Topic3\", \"Topic3\", \"Topic3\", \"Topic3\", \"Topic3\", \"Topic3\", \"Topic3\", \"Topic3\", \"Topic3\", \"Topic3\", \"Topic3\", \"Topic3\", \"Topic3\", \"Topic3\", \"Topic3\", \"Topic3\", \"Topic3\", \"Topic3\", \"Topic3\", \"Topic3\", \"Topic3\", \"Topic3\", \"Topic3\", \"Topic3\", \"Topic3\", \"Topic3\", \"Topic3\", \"Topic3\", \"Topic3\", \"Topic3\", \"Topic3\", \"Topic3\", \"Topic3\", \"Topic3\", \"Topic3\", \"Topic3\", \"Topic3\", \"Topic3\", \"Topic3\", \"Topic3\", \"Topic3\", \"Topic3\", \"Topic3\", \"Topic3\", \"Topic3\", \"Topic3\", \"Topic3\", \"Topic3\", \"Topic3\", \"Topic3\", \"Topic3\", \"Topic3\", \"Topic3\", \"Topic3\", \"Topic3\", \"Topic3\", \"Topic3\", \"Topic3\", \"Topic3\", \"Topic3\", \"Topic3\", \"Topic3\", \"Topic3\", \"Topic3\", \"Topic3\", \"Topic3\", \"Topic3\", \"Topic3\", \"Topic3\", \"Topic3\", \"Topic3\", \"Topic3\", \"Topic3\", \"Topic3\", \"Topic3\", \"Topic3\", \"Topic3\", \"Topic3\", \"Topic3\", \"Topic3\", \"Topic3\", \"Topic3\", \"Topic3\", \"Topic3\", \"Topic3\", \"Topic3\", \"Topic3\", \"Topic3\", \"Topic3\", \"Topic3\", \"Topic3\", \"Topic3\", \"Topic3\", \"Topic3\", \"Topic4\", \"Topic4\", \"Topic4\", \"Topic4\", \"Topic4\", \"Topic4\", \"Topic4\", \"Topic4\", \"Topic4\", \"Topic4\", \"Topic4\", \"Topic4\", \"Topic4\", \"Topic4\", \"Topic4\", \"Topic4\", \"Topic4\", \"Topic4\", \"Topic4\", \"Topic4\", \"Topic4\", \"Topic4\", \"Topic4\", \"Topic4\", \"Topic4\", \"Topic4\", \"Topic4\", \"Topic4\", \"Topic4\", \"Topic4\", \"Topic4\", \"Topic4\", \"Topic4\", \"Topic4\", \"Topic4\", \"Topic4\", \"Topic4\", \"Topic4\", \"Topic4\", \"Topic4\", \"Topic4\", \"Topic4\", \"Topic4\", \"Topic4\", \"Topic4\", \"Topic4\", \"Topic4\", \"Topic4\", \"Topic4\", \"Topic4\", \"Topic4\", \"Topic4\", \"Topic4\", \"Topic5\", \"Topic5\", \"Topic5\", \"Topic5\", \"Topic5\", \"Topic5\", \"Topic5\", \"Topic5\", \"Topic5\", \"Topic5\", \"Topic5\", \"Topic5\", \"Topic5\", \"Topic5\", \"Topic5\", \"Topic5\", \"Topic5\", \"Topic5\", \"Topic5\", \"Topic5\", \"Topic5\", \"Topic5\", \"Topic5\", \"Topic5\", \"Topic5\", \"Topic5\", \"Topic5\", \"Topic5\", \"Topic5\", \"Topic5\", \"Topic5\", \"Topic5\", \"Topic5\", \"Topic5\", \"Topic5\", \"Topic5\", \"Topic5\", \"Topic5\", \"Topic5\", \"Topic5\", \"Topic5\", \"Topic5\", \"Topic5\", \"Topic5\", \"Topic5\", \"Topic5\", \"Topic5\", \"Topic5\", \"Topic5\", \"Topic5\", \"Topic5\", \"Topic5\", \"Topic5\", \"Topic5\", \"Topic5\", \"Topic5\", \"Topic5\", \"Topic5\", \"Topic5\", \"Topic5\", \"Topic5\", \"Topic5\", \"Topic5\", \"Topic5\", \"Topic5\", \"Topic5\", \"Topic5\", \"Topic5\", \"Topic5\", \"Topic5\", \"Topic5\", \"Topic5\", \"Topic5\", \"Topic5\", \"Topic5\", \"Topic5\", \"Topic5\"], \"logprob\": [30.0, 29.0, 28.0, 27.0, 26.0, 25.0, 24.0, 23.0, 22.0, 21.0, 20.0, 19.0, 18.0, 17.0, 16.0, 15.0, 14.0, 13.0, 12.0, 11.0, 10.0, 9.0, 8.0, 7.0, 6.0, 5.0, 4.0, 3.0, 2.0, 1.0, -2.9156, -4.1199, -4.4324, -3.4525, -4.784, -4.6046, -4.1209, -3.9151, -4.148, -4.087, -4.2502, -3.3475, -4.9684, -4.9673, -5.6812, -5.6813, -5.6813, -5.4303, -5.5456, -5.8816, -5.6308, -4.9626, -4.0231, -6.1115, -6.2864, -6.2345, -6.4599, -6.4568, -6.6813, -6.6908, -4.1889, -3.9496, -3.7757, -3.3003, -3.245, -4.4499, -4.4463, -4.7505, -4.1982, -5.433, -4.8322, -5.112, -5.1025, -5.1441, -5.5, -6.179, -6.6326, -6.6867, -6.6492, -6.6718, -6.7035, -6.795, -6.8051, -6.9589, -6.9096, -7.0293, -6.9345, -6.6598, -6.959, -7.1013, -6.0018, -7.0973, -7.1408, -6.6258, -6.5469, -6.9445, -7.0642, -6.6638, -7.2169, -6.9527, -7.1074, -7.3395, -7.3402, -7.3528, -5.9217, -6.4878, -6.9418, -6.4042, -6.2304, -6.9153, -6.6575, -6.2715, -5.5484, -6.3073, -6.4992, -5.5042, -5.7547, -6.1305, -6.4158, -5.8182, -5.4834, -5.6628, -4.5981, -5.5002, -5.0559, -4.903, -5.7751, -5.707, -4.7805, -6.2671, -5.4348, -4.9097, -5.9492, -5.9346, -5.9439, -5.3332, -5.2357, -5.9845, -4.3432, -5.3987, -5.3538, -5.6993, -5.3941, -5.7006, -5.6419, -5.8035, -5.6258, -5.6967, -5.6334, -5.7942, -5.5344, -6.6785, -7.1255, -7.1674, -6.9963, -6.8927, -8.0083, -7.8239, -8.2296, -8.2134, -8.2163, -7.9256, -7.9865, -7.746, -8.2169, -7.8822, -7.8223, -8.5197, -8.1096, -8.349, -8.1777, -8.3583, -8.5387, -8.4137, -8.3123, -8.6107, -8.6663, -8.2009, -8.5061, -8.6881, -6.9069, -7.2779, -7.4614, -6.9651, -6.3751, -7.0367, -6.9533, -7.3108, -7.969, -7.948, -7.6979, -7.7769, -5.1756, -5.4572, -6.7449, -7.0352, -7.1619, -7.2089, -7.3572, -7.4448, -7.0891, -7.2124, -7.4609, -6.6653, -6.3, -7.1775, -7.3143, -6.6449, -5.9051, -6.677, -6.8428, -6.3517, -6.9446, -5.8694, -5.8099, -6.5698, -5.5679, -5.7314, -3.6974, -5.0789, -5.8904, -5.563, -5.9673, -6.4983, -5.8902, -6.2721, -5.9421, -6.0808, -6.4738, -6.2466, -5.6666, -6.3211, -5.9126, -6.1797, -6.2642, -5.8316, -6.1314, -5.9557, -6.2867, -5.703, -6.0138, -6.19, -6.2594, -6.2823, -5.0892, -5.0892, -4.5238, -4.9784, -4.9543, -5.6674, -5.6764, -5.6764, -5.6764, -4.6024, -4.9526, -4.9958, -5.7816, -5.0097, -5.7776, -5.6717, -5.6675, -5.7449, -5.7565, -5.6608, -6.5805, -5.7791, -5.5243, -6.5699, -6.528, -5.7472, -6.848, -6.8565, -6.8768, -6.8768, -4.9597, -4.5175, -5.7453, -6.144, -3.065, -5.1155, -4.463, -5.0858, -4.4335, -5.0019, -5.5691, -5.4665, -5.6074, -5.5775, -4.9954, -5.1496, -5.4706, -5.1771, -5.0479, -5.4951, -5.421, -5.5158, -5.461, -5.0945, -5.8428, -6.206, -6.6596, -6.9191, -6.1004, -6.9128, -6.9135, -6.8822, -6.4978, -6.9745, -6.9815, -6.8962, -6.89, -7.3297, -6.8852, -6.6651, -7.4567, -7.4587, -7.515, -7.515, -7.5394, -7.581, -7.581, -7.582, -6.9073, -7.7023, -7.5845, -7.5845, -6.5685, -6.2079, -6.9498, -6.8216, -5.4206, -5.4016, -6.7084, -6.6096, -6.889, -6.9643, -6.8733, -6.5972, -6.8978, -6.4537, -6.1674, -4.7624, -5.3402, -6.2188, -5.8328, -6.091, -4.8292, -5.759, -4.7585, -3.0793, -6.1789, -4.7644, -6.4162, -5.8587, -6.1713, -4.6282, -5.2998, -5.4989, -5.7443, -6.0692, -5.8027, -5.6173, -5.7144, -5.3134, -4.9319, -5.2424, -5.2486, -5.401, -5.4767, -5.8324, -5.5731, -5.7638, -5.876, -5.8271], \"loglift\": [30.0, 29.0, 28.0, 27.0, 26.0, 25.0, 24.0, 23.0, 22.0, 21.0, 20.0, 19.0, 18.0, 17.0, 16.0, 15.0, 14.0, 13.0, 12.0, 11.0, 10.0, 9.0, 8.0, 7.0, 6.0, 5.0, 4.0, 3.0, 2.0, 1.0, 3.5672, 3.5656, 3.5631, 3.5627, 3.5615, 3.5598, 3.5597, 3.5573, 3.5566, 3.5566, 3.556, 3.5548, 3.5541, 3.554, 3.5481, 3.548, 3.548, 3.5454, 3.5444, 3.5432, 3.5427, 3.536, 3.5356, 3.5315, 3.5297, 3.5225, 3.5224, 3.5171, 3.51, 3.5098, 3.4908, 3.4726, 3.3307, 3.1786, 3.1449, 3.2554, 3.0903, 2.6063, 1.97, 3.1252, 1.8352, 2.4026, 1.8468, 1.8566, 2.1887, 2.1844, 2.1806, 2.18, 2.1784, 2.1784, 2.1784, 2.1778, 2.1774, 2.1742, 2.1741, 2.1739, 2.1739, 2.1738, 2.1736, 2.1725, 2.1721, 2.1721, 2.1715, 2.1708, 2.17, 2.169, 2.1688, 2.1686, 2.1683, 2.1678, 2.1673, 2.1665, 2.1664, 2.1663, 2.1592, 2.1648, 2.1655, 2.1589, 2.1519, 2.1588, 2.1409, 2.0936, 2.0133, 2.066, 2.0751, 1.8574, 1.8893, 1.9668, 2.0185, 1.8302, 1.7227, 1.7112, 1.2509, 1.5795, 1.3029, 1.1889, 1.6269, 1.5851, 0.9545, 1.8954, 1.2901, 0.8357, 1.6281, 1.6009, 1.597, 0.911, 0.7872, 1.5417, -0.6914, 0.6826, 0.5264, 1.0522, 0.4087, 0.9052, 0.6479, 0.9792, 0.1594, 0.433, -0.2559, 0.8138, 0.4508, 0.4485, 0.4479, 0.4479, 0.4478, 0.4465, 0.4457, 0.4454, 0.4448, 0.4447, 0.4445, 0.444, 0.444, 0.4437, 0.4436, 0.4432, 0.4422, 0.4419, 0.4418, 0.4417, 0.4414, 0.4414, 0.4413, 0.4411, 0.441, 0.4408, 0.4406, 0.4405, 0.4404, 0.4404, 0.4386, 0.4391, 0.4399, 0.4345, 0.4275, 0.434, 0.4327, 0.4363, 0.4403, 0.4398, 0.4372, 0.4376, 0.4102, 0.4132, 0.4244, 0.4265, 0.4288, 0.4288, 0.4311, 0.431, 0.4234, 0.4234, 0.4306, 0.4028, 0.3841, 0.4175, 0.4231, 0.3876, 0.3399, 0.3883, 0.3971, 0.3588, 0.4005, 0.3126, 0.2939, 0.3658, 0.2172, 0.2392, -0.0456, 0.1259, 0.2392, 0.1648, 0.2245, 0.3209, 0.1911, 0.2589, 0.1677, 0.2011, 0.3006, 0.233, 0.0543, 0.254, 0.1104, 0.1834, 0.2038, -0.0288, 0.1257, -0.0054, 0.1942, -0.3254, -0.0507, 0.0998, 0.0201, -0.5369, 3.337, 3.337, 3.335, 3.3342, 3.3311, 3.3298, 3.3292, 3.3292, 3.3292, 3.3291, 3.3288, 3.328, 3.3272, 3.3255, 3.3243, 3.3226, 3.3218, 3.32, 3.3173, 3.3163, 3.304, 3.303, 3.2994, 3.2993, 3.299, 3.2953, 3.2914, 3.2908, 3.2899, 3.2899, 3.2889, 3.2783, 3.2819, 3.2761, 3.1033, 3.2103, 3.1548, 3.1629, 2.9318, 2.9971, 3.1844, 3.0352, 3.0692, 2.9853, 1.284, 1.5878, 2.4694, 1.1049, 0.3296, 2.348, 1.7054, 2.2322, 1.2178, 1.665, 1.6621, 1.6609, 1.6595, 1.6569, 1.6569, 1.6568, 1.6565, 1.656, 1.6558, 1.6552, 1.6551, 1.6536, 1.6533, 1.6528, 1.6518, 1.6516, 1.6512, 1.6507, 1.6503, 1.6503, 1.65, 1.6493, 1.6493, 1.6482, 1.6445, 1.644, 1.6431, 1.6431, 1.6424, 1.6401, 1.641, 1.6392, 1.6105, 1.5978, 1.625, 1.6128, 1.6239, 1.6257, 1.6209, 1.602, 1.6173, 1.5682, 1.5348, 1.3077, 1.3758, 1.4977, 1.4153, 1.4647, 1.1841, 1.3734, 1.1217, 0.5725, 1.4408, 1.0149, 1.4984, 1.2972, 1.4061, 0.7494, 1.0198, 1.074, 1.1747, 1.2888, 1.1213, 0.9602, 1.0024, 0.6368, 0.2729, 0.503, 0.4864, 0.5621, 0.3723, 0.9741, 0.1478, 0.3281, 0.6623, -0.0243]}, \"token.table\": {\"Topic\": [3, 5, 3, 5, 3, 4, 1, 3, 5, 3, 3, 5, 3, 1, 3, 5, 2, 3, 5, 1, 2, 3, 4, 5, 1, 3, 4, 2, 3, 3, 5, 3, 3, 4, 3, 3, 3, 5, 1, 3, 2, 3, 5, 3, 5, 2, 3, 4, 5, 2, 3, 3, 2, 3, 5, 2, 3, 2, 3, 3, 3, 3, 5, 1, 3, 5, 1, 2, 3, 5, 3, 3, 5, 1, 3, 1, 2, 3, 5, 1, 3, 5, 3, 5, 2, 3, 3, 5, 2, 3, 4, 5, 2, 3, 2, 3, 5, 1, 3, 5, 1, 3, 5, 1, 2, 3, 5, 3, 5, 3, 4, 5, 3, 1, 3, 3, 5, 1, 3, 4, 5, 3, 4, 1, 2, 3, 5, 1, 2, 3, 4, 5, 3, 1, 3, 5, 2, 3, 1, 2, 3, 4, 5, 2, 3, 5, 2, 3, 1, 2, 3, 5, 3, 5, 3, 1, 3, 3, 5, 2, 3, 5, 3, 5, 2, 3, 4, 5, 3, 4, 2, 3, 1, 2, 3, 4, 5, 2, 3, 4, 5, 1, 2, 3, 4, 5, 3, 5, 3, 4, 5, 2, 3, 5, 2, 3, 3, 5, 2, 3, 5, 3, 4, 2, 3, 3, 5, 3, 3, 5, 2, 3, 5, 3, 5, 1, 3, 1, 2, 3, 4, 5, 3, 5, 3, 4, 3, 5, 2, 3, 5, 2, 3, 5, 1, 2, 3, 4, 5, 3, 5, 2, 3, 5, 3, 5, 3, 1, 2, 3, 4, 5, 3, 5, 2, 3, 4, 5, 3, 5, 3, 4, 5, 1, 2, 3, 4, 5, 2, 3, 3, 3, 5, 2, 3, 5, 2, 3, 2, 3, 5, 2, 3, 1, 2, 3, 4, 5, 3, 5, 3, 5, 1, 3, 2, 3, 5, 2, 3, 5, 3, 5, 3, 1, 3, 1, 3, 5, 3, 4, 5, 3, 5, 3, 4, 3, 4, 2, 3, 5, 3, 5, 1, 2, 3, 5, 1, 3, 5, 3, 4, 5, 3, 5, 2, 3, 5, 2, 3, 3, 5, 1, 3, 5, 3, 5, 3, 5, 2, 3, 5, 2, 3, 3, 5, 2, 3, 4, 5, 3, 4, 5, 1, 3, 5, 1, 3, 4, 5, 1, 3, 5, 3, 3, 5, 3, 5, 2, 3, 4, 5, 2, 3, 5, 2, 3, 5, 2, 3, 5, 2, 3, 2, 3, 5, 2, 3, 4, 5, 2, 3, 3, 2, 3, 3, 5, 3, 3, 2, 3, 4, 5, 1, 3, 2, 3, 4, 3, 5, 3, 4, 3, 5, 2, 3, 5, 3, 4, 5, 2, 3, 4, 5, 3, 4, 1, 2, 3, 4, 5, 1, 2, 3, 4, 5, 1, 3, 3, 4, 5, 2, 3, 4, 5, 1, 2, 3, 4, 5, 3, 3, 4, 5, 2, 3, 5, 3, 4, 5, 2, 3, 4, 5, 1, 2, 3, 4, 5, 1, 2, 3, 5, 2, 3, 4, 1, 2, 3, 5, 2, 3, 5, 3, 5, 3, 4, 5, 1, 3, 5, 3, 4, 5, 2, 3, 4, 5, 1, 2, 3, 4, 5, 3, 5, 2, 3, 1, 2, 3, 4, 5, 2, 3, 4, 5, 3, 4, 3, 4, 5, 3, 5, 2, 3, 4, 5, 2, 3, 5, 1, 2, 3, 4, 5, 2, 3, 4, 5, 2, 3, 1, 2, 3, 4, 5, 2, 3, 3, 5, 3, 5, 3, 5, 2, 3, 4, 5, 3, 5, 3, 2, 3, 5, 1, 2, 3, 4, 5, 2, 3, 5, 3, 5, 1, 2, 3, 5, 1, 2, 3, 5, 3, 5, 2, 3, 5, 2, 3, 5, 1, 2, 3, 2, 3, 4, 5, 3, 4, 3, 5, 1, 3, 2, 3, 4, 2, 3, 5, 3, 5, 1, 2, 3, 5, 1, 2, 3, 4, 5, 3, 5, 3, 5, 2, 3, 5, 2, 3, 1, 2, 3, 4, 5, 3, 4, 5, 3, 5, 2, 3, 4, 5, 3, 5, 2, 3, 5, 1, 3, 5, 2, 3, 2, 3, 4, 5, 2, 3, 5, 2, 3, 5, 2, 3, 3, 5, 1, 3, 5, 1, 3, 5, 1, 2, 3, 4, 5, 2, 3, 4, 5, 3, 5, 3, 4, 5, 3, 4, 2, 3, 5, 1, 2, 3, 4, 5, 2, 3, 3, 4, 5, 2, 3, 4, 1, 2, 3, 5, 2, 3, 4, 5, 2, 3, 4, 5, 1, 3, 5, 3, 5, 2, 3, 4, 5, 1, 2, 3, 4, 5, 2, 3, 4, 5, 3, 4, 1, 2, 3, 4, 5, 1, 3, 3, 5, 3, 5, 3, 4, 5, 3, 4, 2, 3, 4, 5, 1, 3, 1, 3, 5, 1, 3, 5, 2, 3, 5, 3, 4, 3, 4, 2, 3, 4, 5, 2, 3, 4, 5, 1, 2, 3, 1, 2, 3, 4, 5, 3, 5, 3, 1, 3, 5, 1, 2, 3, 4, 5, 2, 3, 2, 3, 1, 2, 3, 4, 5, 3, 5, 1, 3, 3, 1, 2, 3, 4, 5, 1, 3, 5, 2, 3, 3, 4, 3, 4, 2, 3, 4, 5, 2, 3, 4, 5, 2, 3, 4, 5, 2, 3, 5, 1, 2, 3, 4, 5, 1, 3, 5, 3, 5, 3, 5, 2, 3, 5, 2, 3, 4, 5, 3, 5, 1, 2, 3, 4, 5, 1, 3, 4, 5, 2, 3, 4, 5, 2, 3, 4, 5, 2, 3, 5], \"Freq\": [0.004119080181243758, 0.9968174038609894, 0.04524749135074491, 0.9501973183656431, 0.055923062670774466, 0.9227305340677786, 0.04071621684988852, 0.11196959633719343, 0.8448614996351868, 0.9907990594632691, 0.03385938304115537, 0.9593491861660688, 0.9964155932117333, 0.991765028356887, 0.004934154369934761, 0.004934154369934761, 0.004694952275574543, 0.9718551210439303, 0.023474761377872713, 0.004730723727008705, 0.17267141603581773, 0.7214353683688275, 0.0011826809317521763, 0.10052787919893498, 0.034662129604730606, 0.12998298601773975, 0.8318911105135345, 0.9807020328006489, 0.01607708250492867, 0.9718847779533618, 0.025986224009448177, 0.9923107648473403, 0.04380893178176746, 0.963796499198884, 0.9873958853717238, 0.9948259580033012, 0.011945755140358618, 0.9914976766497653, 0.9673469375382853, 0.06045918359614283, 0.5520895740920845, 0.32276005869998786, 0.12315844345131115, 0.018050985234736066, 0.9928041879104837, 0.24544075723087072, 0.3864986636853941, 0.1946599109072423, 0.17209064587451856, 0.9661766390395331, 0.024154415975988327, 0.9993859673777299, 0.04267681922009383, 0.2702865217272609, 0.6863855091231758, 0.973942423978571, 0.020722179233586616, 0.9607756552791764, 0.03961961465068769, 0.9917781036979759, 0.9903730255162022, 0.005301516002647057, 0.9913834924949996, 0.9648073190214607, 0.02010015247961376, 0.02010015247961376, 0.013035130943167387, 0.1531627885822168, 0.3389134045223521, 0.4937055844724648, 0.9851957467502499, 0.036575216025284615, 0.963147355332495, 0.9928412547317745, 0.009546550526267062, 0.7298309846835199, 0.03019990281449048, 0.2264992711086786, 0.020133268542993653, 0.9649026686094322, 0.02173204208579802, 0.013039225251478813, 0.024401486542013826, 0.9760594616805531, 0.9860553413318883, 0.02405013027638752, 0.9831589332865078, 0.015921602158485957, 0.044978746394113034, 0.8699547778178448, 0.0010970425949783666, 0.08337523721835587, 0.9739064209181166, 0.023188248117098017, 0.07117021236713691, 0.4139109719246647, 0.5150475894990171, 0.9799785734800202, 0.01139509969162814, 0.01139509969162814, 0.9787957517801492, 0.011381345950931968, 0.011381345950931968, 0.38005066022358114, 0.14562688849688624, 0.4439844161490434, 0.028415002633538775, 0.009276010997212897, 0.9832571657045671, 0.22598691185193914, 0.7577208220917959, 0.01329334775599642, 0.9941727632203828, 0.010175262836116394, 0.9870004951032902, 0.9882031669516235, 0.00837460310975952, 0.7852786076668693, 0.18525938983690227, 0.01659039311972259, 0.01106026207981506, 0.019777322341274578, 0.9690887947224543, 0.6164876689265715, 0.04676803005649852, 0.2891114585310818, 0.04676803005649852, 0.08955778966787442, 0.03582311586714977, 0.07881085490772949, 0.6591453319555557, 0.13254552870845415, 0.9863873454028425, 0.9613539053900226, 0.02184895239522779, 0.02184895239522779, 0.956938543142686, 0.03086898526266729, 0.0004129082379441334, 0.028903576656089336, 0.7217635999263451, 0.0008258164758882668, 0.24815785100442417, 0.7137862774184146, 0.2783766481931817, 0.007137862774184146, 0.9720757380602761, 0.02700210383500767, 0.034056853373064695, 0.04824720894517499, 0.17028426686532347, 0.7464127030930012, 0.05773254820110056, 0.9402157849893521, 0.9818074315583019, 0.9702801533807786, 0.023101908413828063, 0.9783877464371349, 0.01795206874196578, 0.10268761285795998, 0.3755432698805394, 0.5215063767286396, 0.9801944187254393, 0.01828720930457909, 0.5218338470106891, 0.0318191370128469, 0.4136487811670097, 0.0318191370128469, 0.010348953959198031, 0.9934995800830109, 0.9687770835444729, 0.0138396726220639, 0.02134840733556354, 0.5507889092575393, 0.380001650573031, 0.025618088802676246, 0.025618088802676246, 0.13290388839130018, 0.7798975428676296, 0.008762893740085726, 0.07740556137075724, 0.014513260494267377, 0.1439231665681515, 0.6494684071184651, 0.12699102932483955, 0.0653096722242032, 0.023220848999732133, 0.9752756579887496, 0.015399837905322853, 0.9547899501300168, 0.030799675810645705, 0.6941269902145434, 0.1711546003268737, 0.13312024469867956, 0.9749829147217983, 0.030468216085056198, 0.023469637185849462, 0.9739899432127527, 0.00604404678282221, 0.9591902244338847, 0.034451066662086596, 0.018318540312359563, 0.9892011768674165, 0.9913837687273199, 0.00971944871301294, 0.023065407171090496, 0.9687471011858008, 0.9899396861554355, 0.986884989819928, 0.010536138681351545, 0.5217194068616835, 0.26927453257377215, 0.2061633140017943, 0.005915525699767834, 0.9938083175609962, 0.9242780197784805, 0.04864621156728845, 0.005398478481894955, 0.08637565571031929, 0.4598522125032339, 0.049077077108135955, 0.39948740766022667, 0.9645102186606691, 0.03154939967581628, 0.018472191177107942, 0.9790261323867209, 0.025970830272832368, 0.9868915503676299, 0.012744086639581199, 0.2070914078931945, 0.7773892850144531, 0.9671562875719844, 0.02057779335259541, 0.02057779335259541, 0.04588222508475345, 0.0879409314124441, 0.31544029745768, 0.17205834406782544, 0.378528356949216, 0.021672206964949793, 0.9752493134227407, 0.008341648926933433, 0.3735205019504637, 0.617282020593074, 0.9885732847461401, 0.008170027146662314, 0.9877601438188279, 0.17912093184311048, 0.1890720947232833, 0.5995575635304115, 0.004975581440086402, 0.024877907200432012, 0.023124730960452, 0.971238700338984, 0.09616025306616284, 0.671738170699598, 0.013144207253648158, 0.21930072102139297, 0.009297753717310628, 0.9948596477522372, 0.018175267478925797, 0.9814644438619929, 0.018175267478925797, 0.0011359233008817779, 0.05574762045865956, 0.6081558595490134, 8.737871545244446e-05, 0.33483523761376716, 0.9733102225527496, 0.025954939268073324, 0.9834182669520674, 0.012771543544827187, 0.9834088529516933, 0.004150401787360783, 0.9711940182424232, 0.0249024107241647, 0.983218188826375, 0.017876694342297727, 0.023113279774050328, 0.9373719019475967, 0.03852213295675055, 0.9747758829960599, 0.018051405240667773, 0.17723730466127413, 0.04490011718085611, 0.5269855858595217, 0.02835796874580386, 0.21977425777997991, 0.9878901765842247, 0.010184434810146647, 0.12041757799031134, 0.8780448395126869, 0.9434094051268339, 0.03494108907877163, 0.617937235871518, 0.20959274666987163, 0.17345606620954893, 0.5648608319644862, 0.1783771048308904, 0.25270089851042804, 0.01156239777055469, 0.9828038104971487, 0.9812225866406047, 0.9320920569310879, 0.04905747668058357, 0.9679742473070932, 0.01112614077364475, 0.0222522815472895, 0.2728680469787507, 0.6999658596411432, 0.023727656259021804, 0.9865632192375677, 0.015743030094216508, 0.9823820565158373, 0.00773529178358927, 0.020481797465701453, 0.9831262783536696, 0.9810684834972664, 0.008041544946698904, 0.01608308989339781, 0.2507912894964629, 0.7486307149148146, 0.0009919729511963721, 0.22021799516559465, 0.7707629830795812, 0.007935783609570977, 0.922284579954488, 0.004905769042311106, 0.07358653563466659, 0.2566917121822823, 0.7365936088708971, 0.011160509225316624, 0.9947034186843328, 0.003490187433980115, 0.6232407253068244, 0.31467546424805354, 0.061102031892825925, 0.9857670242523616, 0.020973766473454503, 0.020492426529566277, 0.9836364734191813, 0.984772900400138, 0.003986934819433757, 0.011960804458301272, 0.023065407171090496, 0.9687471011858008, 0.012684257442670401, 0.9893720805282913, 0.18822515322696265, 0.23122486495553599, 0.5800904506779236, 0.9905353743839391, 0.01523900575975291, 0.982461823451691, 0.014829612429459486, 0.04076406192997758, 0.7639974187521603, 0.009204788177736872, 0.18541073329441413, 0.008989394299350409, 0.9798439786291946, 0.008989394299350409, 0.9854650445467412, 0.005567599121733002, 0.011135198243466003, 0.20128280401360396, 0.003246496838929096, 0.7834879037948885, 0.011903821742740019, 0.9858151770633327, 0.0050296692707312895, 0.010059338541462579, 0.9915223245742176, 0.06459767503392694, 0.9341817620290972, 0.021672064164489326, 0.9752428874020196, 0.5427131062466314, 0.4028729193609963, 0.019977169555090726, 0.033295282591817875, 0.14301171256907136, 0.03900319433701946, 0.8190670810774087, 0.3180138637670381, 0.6282712918324411, 0.052355940986036756, 0.07459183481436672, 0.9184119661518902, 0.006992984513846881, 0.9670831661369262, 0.024177079153423153, 0.8834479445024871, 0.10797697099474843, 0.009816088272249857, 0.27671238634820106, 0.41214967249331214, 0.03502688434787355, 0.2755448235366053, 0.9755429022328291, 0.03048571569477591, 0.9895413776317378, 0.978663475378889, 0.019972723987324265, 0.9480215842293751, 0.05056115115890001, 0.9926148902300596, 0.9850138025378316, 0.27490284409361215, 0.4425265295165464, 0.02011484225075211, 0.26149294925977745, 0.983230510902267, 0.028092300311493342, 0.8346856068473042, 0.010433570085591303, 0.14606998119827824, 0.9917835434755374, 0.009356448523354127, 0.05740538599839577, 0.9184861759743324, 0.9882778440720068, 0.012834777195740348, 0.9054270817909751, 0.06815042551114867, 0.02920732521906371, 0.01994121744966672, 0.9571784375840027, 0.01994121744966672, 0.07298135492196436, 0.3730158140455956, 0.0016218078871547636, 0.5530364895197744, 0.05785972432657933, 0.9257555892252692, 0.007847997777274037, 0.04512598721932572, 0.19914294359832868, 0.04904998610796273, 0.6984718021773894, 0.008863519028143281, 0.009971458906661191, 0.7966087726543774, 0.006647639271107461, 0.17837832044138352, 0.915315812493102, 0.061021054166206797, 0.018265340459942464, 0.9680630443769505, 0.018265340459942464, 0.296076728782537, 0.46612079598872375, 0.04601192406755642, 0.19204977002110507, 0.016844024865678833, 0.24423836055234308, 0.7111921609953284, 0.0009357791592043796, 0.027137595616927006, 0.9944425980283697, 0.009449640473574364, 0.9733129687781595, 0.009449640473574364, 0.009431289527343676, 0.028293868582031027, 0.9619915317890549, 0.018876483155501216, 0.9438241577750607, 0.03775296631100243, 0.060819654380162645, 0.6046707667361098, 0.0026443327991375063, 0.3314230441585675, 0.005613453754354065, 0.28909286834923437, 0.36697953919089704, 0.03087399564894736, 0.30733659305088507, 0.005035803388175775, 0.0012589508470439437, 0.469588665947391, 0.5237235523702806, 0.017953083585911977, 0.017953083585911977, 0.9694665136392466, 0.6747091562904617, 0.011811101204209395, 0.14616237740209126, 0.16535541685893151, 0.014285753807591542, 0.975512902861251, 0.00816328789005231, 0.8242960629269996, 0.17419086612796975, 0.9788263737698629, 0.010936607528154892, 0.010936607528154892, 0.9889589771863435, 0.006727612089703017, 0.006727612089703017, 0.009341711183617313, 0.9808796742798179, 0.009341711183617313, 0.0055100383280099335, 0.011020076656019867, 0.9311964774336787, 0.0495903449520894, 0.6524129798713731, 0.09860486031182245, 0.07969433915613047, 0.004052254533362567, 0.16614243586786523, 0.011576217729780555, 0.9839785070313471, 0.9789949356624046, 0.025102434247753963, 0.0034828369117364203, 0.06826360347003384, 0.750203070788025, 0.039704340793795194, 0.13792034170476225, 0.05025095582634275, 0.9119617909225166, 0.029778344193388297, 0.009305732560433842, 0.018472191177107942, 0.9790261323867209, 0.008664903101670004, 0.9444744380820305, 0.05198941861002002, 0.98575641764885, 0.006122710668626397, 0.05377338595138217, 0.8542866220955431, 0.027393989069572047, 0.06493390001676337, 0.5668264590401685, 0.4118348491463724, 0.017713326845005265, 0.025345173409641458, 0.11520533368018844, 0.2649722674644334, 0.01612874671522638, 0.5806348817481497, 0.3659646101554418, 0.3549355397124011, 0.017044927048335646, 0.2626924050978788, 0.9950069293469602, 0.004950283230581892, 0.05770099807466684, 0.025244186657666742, 0.6545456969095019, 0.11900830852900035, 0.14244933899683376, 0.9793851048556637, 0.016323085080927727, 0.9743433514678252, 0.023668259549825713, 0.022199246920716675, 0.9767668645115337, 0.9860111695137407, 0.008803671156372685, 0.002661232968470785, 0.952721402712541, 0.01596739781082471, 0.029273562653178636, 0.007879931982359995, 0.9928714297773594, 0.9980906039047829, 0.015667435526689685, 0.6172969597515736, 0.36661799132453865, 0.017015841196451244, 0.2566556047131396, 0.3722215261723709, 0.04183060960794264, 0.31266608198479157, 0.3892331451860194, 0.33654906290831577, 0.27442902559579957, 0.011949188291580452, 0.9917826282011775, 0.004164756351507146, 0.1717961994996698, 0.8090039212802631, 0.01457664723027501, 0.05141027500817841, 0.03738929091503884, 0.8938377359376474, 0.016357814775329493, 0.025033780598023702, 0.9763174433229244, 0.002944827813073053, 0.9717931783141075, 0.023558622504584424, 0.9612348658721737, 0.020451805656854758, 0.020451805656854758, 0.011867939350389796, 0.9613030873815736, 0.011867939350389796, 0.047253117614755945, 0.24301603344731632, 0.7020463188478027, 0.006750445373536564, 0.04448526953092267, 0.9786759296802987, 0.05385364631421128, 0.946285499521141, 0.9702801533807786, 0.023101908413828063, 0.12920920711034434, 0.014356578567816039, 0.8470381355011463, 0.9693995777024965, 0.019783664851071355, 0.019783664851071355, 0.011633652982313863, 0.9888605034966784, 0.020158609038466876, 0.25198261298083596, 0.6887524754809515, 0.038637333990394845, 0.009169750744588714, 0.18339501489177426, 0.15359332497186096, 0.04355631603679639, 0.6120808622012966, 0.9761450927769743, 0.01818903899584424, 0.22586505340687388, 0.770598417505805, 0.8880763363549764, 0.09600825257891636, 0.012001031572364545, 0.9799034484874288, 0.015554022991863951, 0.17647713867161072, 0.035651947206386, 0.7665168649372991, 0.0017825973603193001, 0.019608570963512303, 0.00923735725199559, 0.988397225963528, 0.00923735725199559, 0.023126278630254828, 0.9944299811009576, 0.012853851599864123, 0.9624321385398262, 0.0008033657249915077, 0.024904337474736738, 0.021426033509074096, 0.9748845246628713, 0.7969822960051485, 0.007448432672945314, 0.20110768216952346, 0.018480547476039673, 0.1801853378913868, 0.7992836783387158, 0.9826315797340455, 0.02047149124445928, 0.032628945396873256, 0.9353631013770334, 0.012689034321006267, 0.01993991107586699, 0.8326604195557239, 0.13950331636535687, 0.026156871818504415, 0.7384420449820795, 0.2556145540322583, 0.0047336028524492275, 0.9786331451483323, 0.015533859446798927, 0.04430793191995284, 0.952620536278986, 0.9876971464881517, 0.007965299568452835, 0.007965299568452835, 0.9868536653351417, 0.009819439456071062, 0.004909719728035531, 0.009222319332850079, 0.004611159666425039, 0.09683435299492582, 0.825397580290082, 0.06916739499637559, 0.04728432257662818, 0.7783726947229561, 0.10669283042931486, 0.06789543754592764, 0.05064612521853495, 0.9453943374126523, 0.9784381243868285, 0.014112088332502335, 0.004704029444167445, 0.020340205000677007, 0.9763298400324963, 0.9460101957713105, 0.03003206970702573, 0.03003206970702573, 0.03421586396900854, 0.2126271546645531, 0.7026472065064254, 0.023217907693255796, 0.02688389311850671, 0.98048406772046, 0.015814259156781613, 0.8590825624681997, 0.013888170755836945, 0.1269775611962235, 0.9743013199590629, 0.014989251076293274, 0.014989251076293274, 0.01404230587190629, 0.0035105764679765725, 0.9513662228216512, 0.03159518821178915, 0.005867640233637003, 0.005867640233637003, 0.9857635592510166, 0.005867640233637003, 0.019168506985854577, 0.019168506985854577, 0.9584253492927287, 0.019168506985854577, 0.9842596775007824, 0.0047320176802922225, 0.009464035360584445, 0.02046252280341727, 0.982201094564029, 0.14707148457505265, 0.5147501960126842, 0.32565828727333085, 0.010505106041075189, 0.31190306301217724, 0.30774435550534823, 0.22457020536876762, 0.033269660054632236, 0.1247612252048709, 0.013314654221249061, 0.7722499448324456, 0.017752872294998747, 0.19676100126956947, 0.018472191177107942, 0.9790261323867209, 0.006961402639097715, 0.0008701753298872144, 0.6326174648280048, 0.0017403506597744288, 0.3567718852537579, 0.9704115468110578, 0.02310503682883471, 0.02312633431196645, 0.9944323754145574, 0.9859772357229539, 0.009959366017403574, 0.008954035097765574, 0.9849438607542133, 0.008954035097765574, 0.010348953959198031, 0.9934995800830109, 0.5411660475879726, 0.42808657495764996, 0.0026923683959600626, 0.02961605235556069, 0.9398709384582827, 0.03916128910242845, 0.9062806806265149, 0.07583938750012677, 0.015167877500025354, 0.994492572508457, 0.001482105175124377, 0.002964210350248754, 0.40404396742763277, 0.18880559225590315, 0.4059320233501918, 0.019601319068113694, 0.9800659534056848, 0.04200123626220352, 0.966028434030681, 0.14528125003074657, 0.127847500027057, 0.034867500007379176, 0.6915387501463537, 0.4098281379146702, 0.39149716688973285, 0.03273387683024522, 0.16497873922443593, 0.029310505405923594, 0.9672466783954786, 0.0073276263514808985, 0.021775912327789287, 0.16744925686541418, 0.6187362675206336, 0.00825982881398904, 0.18471980802193672, 0.08979326786730309, 0.9048398531243619, 0.9904674015033509, 0.9830186478703762, 0.009018519705232809, 0.009018519705232809, 0.008299335627249873, 0.0456463459498743, 0.8776547425816741, 0.037347010322624434, 0.031122508602187026, 0.9894941337394481, 0.015460845839678876, 0.9862880474789375, 0.020984852074019948, 0.016331487216186432, 0.04082871804046608, 0.7522691298955875, 0.03776656418743112, 0.15208697470073615, 0.012021956606294147, 0.98580044171612, 0.955488705882131, 0.04154298721226657, 0.9968440286909489, 0.010244172532307966, 0.1188324013747724, 0.37083904566954834, 0.002048834506461593, 0.4999156195766287, 0.9681861786832334, 0.017929373679319138, 0.017929373679319138, 0.9678773970480432, 0.02250877667553589, 0.058991172242885706, 0.9438587558861713, 0.058991172242885706, 0.9438587558861713, 0.05776474773172786, 0.5603180529977602, 0.3696943854830583, 0.011552949546345571, 0.10296107598582159, 0.009360097816892872, 0.8704890969710372, 0.018720195633785745, 0.007961643494062974, 0.9394739322994309, 0.018577168152813604, 0.031846573976251895, 0.7394065147088176, 0.24646883823627252, 0.015901215370082097, 0.011818737715240795, 0.08273116400668556, 0.803674164636374, 0.06057103079060907, 0.04136558200334278, 0.9895248220606588, 0.0025242980154608643, 0.007572894046382592, 0.011710419001771222, 0.9836751961487826, 0.0019547176462970145, 0.9988607172577744, 0.14892128288664958, 0.006205053453610399, 0.8438872696910142, 0.08615118450902888, 0.8208744939067846, 0.01950592856808201, 0.0747727261776477, 0.9961547131722954, 0.003876088378102317, 0.00590214700866962, 0.13058500256681535, 0.7908876991617291, 0.0295107350433481, 0.042790565812854744, 0.6376907542925587, 0.09447270433963834, 0.25979993693400544, 0.011809088042454792, 0.006310469118143537, 0.006310469118143537, 0.9844331824303917, 0.006310469118143537, 0.025755774556128198, 0.8081984429681607, 0.011545692042402295, 0.15364651717966132, 0.005968358215531375, 0.9788107473471455, 0.01193671643106275], \"Term\": [\"aaaaaaaaaaaaaaaaaaaaaaaaaaaaaaaaaaaaaaaaaaaaaaaaaaaaaaaaaaaaaaaaaaaaaaaaaaaa\", \"aaaaaaaaaaaaaaaaaaaaaaaaaaaaaaaaaaaaaaaaaaaaaaaaaaaaaaaaaaaaaaaaaaaaaaaaaaaa\", \"acceptance\", \"acceptance\", \"adult\", \"adult\", \"affiliate\", \"affiliate\", \"affiliate\", \"aggies\", \"aggressively\", \"aggressively\", \"alert\", \"align\", \"align\", \"align\", \"already\", \"already\", \"already\", \"also\", \"also\", \"also\", \"also\", \"also\", \"amazon\", \"amazon\", \"amazon\", \"ancillary\", \"ancillary\", \"andersen\", \"andersen\", \"appeal\", \"arctic\", \"arctic\", \"arnold\", \"asarco\", \"astronomical\", \"astronomical\", \"athoc\", \"athoc\", \"attached\", \"attached\", \"attached\", \"auth\", \"auth\", \"available\", \"available\", \"available\", \"available\", \"backout\", \"backout\", \"bakernet\", \"bankruptcy\", \"bankruptcy\", \"bankruptcy\", \"barbo\", \"barbo\", \"barry\", \"barry\", \"barton\", \"basically\", \"beth\", \"beth\", \"bgcolor\", \"bgcolor\", \"bgcolor\", \"bill\", \"bill\", \"bill\", \"bill\", \"bin\", \"binding\", \"binding\", \"bodydefault\", \"bodydefault\", \"border\", \"border\", \"border\", \"border\", \"br\", \"br\", \"br\", \"brad\", \"brad\", \"brochure\", \"brochure\", \"bush\", \"bush\", \"business\", \"business\", \"business\", \"business\", \"caiso\", \"caiso\", \"california\", \"california\", \"california\", \"cellpadding\", \"cellpadding\", \"cellpadding\", \"cellspacing\", \"cellspacing\", \"cellspacing\", \"center\", \"center\", \"center\", \"center\", \"cherry\", \"cherry\", \"choice\", \"choice\", \"choice\", \"circuit\", \"citygate\", \"citygate\", \"claim\", \"claim\", \"class\", \"class\", \"class\", \"class\", \"classmate\", \"classmate\", \"clear\", \"clear\", \"clear\", \"clear\", \"click\", \"click\", \"click\", \"click\", \"click\", \"cogen\", \"colspan\", \"colspan\", \"colspan\", \"commoditylogic\", \"commoditylogic\", \"company\", \"company\", \"company\", \"company\", \"company\", \"conference\", \"conference\", \"conference\", \"congestion\", \"congestion\", \"consumer\", \"consumer\", \"consumer\", \"consumer\", \"contain\", \"contain\", \"contracted\", \"coords\", \"coords\", \"copyright\", \"copyright\", \"corp\", \"corp\", \"corp\", \"court\", \"court\", \"ct\", \"ct\", \"ct\", \"ct\", \"ctr\", \"ctr\", \"darrell\", \"darrell\", \"data\", \"data\", \"data\", \"data\", \"data\", \"date\", \"date\", \"date\", \"date\", \"day\", \"day\", \"day\", \"day\", \"day\", \"declared\", \"declared\", \"delta\", \"delta\", \"delta\", \"desk\", \"desk\", \"desk\", \"detected\", \"detected\", \"devastated\", \"devastated\", \"development\", \"development\", \"development\", \"deviation\", \"deviation\", \"devon\", \"devon\", \"dine\", \"dine\", \"discrimination\", \"div\", \"div\", \"doc\", \"doc\", \"doc\", \"donate\", \"donate\", \"dye\", \"dye\", \"e\", \"e\", \"e\", \"e\", \"e\", \"earnings\", \"earnings\", \"ecar\", \"ecar\", \"edgar\", \"edgar\", \"ee\", \"ee\", \"ee\", \"eei\", \"eei\", \"eei\", \"email\", \"email\", \"email\", \"email\", \"email\", \"emaillink\", \"emaillink\", \"employee\", \"employee\", \"employee\", \"employer\", \"employer\", \"employment\", \"end\", \"end\", \"end\", \"end\", \"end\", \"enemy\", \"enemy\", \"energy\", \"energy\", \"energy\", \"energy\", \"enform\", \"enform\", \"enlarge\", \"enlarge\", \"enlarge\", \"enron\", \"enron\", \"enron\", \"enron\", \"enron\", \"eol\", \"eol\", \"erichardson\", \"estoppel\", \"estoppel\", \"et\", \"et\", \"et\", \"euci\", \"euci\", \"executive\", \"executive\", \"executive\", \"exotica\", \"exotica\", \"f\", \"f\", \"f\", \"f\", \"f\", \"federal\", \"federal\", \"feedback\", \"feedback\", \"ffffff\", \"ffffff\", \"file\", \"file\", \"file\", \"final\", \"final\", \"final\", \"financially\", \"financially\", \"flo\", \"fname\", \"fname\", \"font\", \"font\", \"font\", \"forecast\", \"forecast\", \"forecast\", \"former\", \"former\", \"france\", \"france\", \"frcc\", \"frcc\", \"fri\", \"fri\", \"fri\", \"fund\", \"fund\", \"gas\", \"gas\", \"gas\", \"gas\", \"gif\", \"gif\", \"gif\", \"gift\", \"gift\", \"gift\", \"government\", \"government\", \"greg\", \"greg\", \"greg\", \"hanagriff\", \"hanagriff\", \"hannon\", \"hannon\", \"height\", \"height\", \"height\", \"heintzelman\", \"heintzelman\", \"hereto\", \"hereto\", \"hou\", \"hou\", \"hou\", \"hourahead\", \"hourahead\", \"house\", \"house\", \"houston\", \"houston\", \"houston\", \"houston\", \"hp\", \"hp\", \"hp\", \"href\", \"href\", \"href\", \"image\", \"image\", \"image\", \"image\", \"img\", \"img\", \"img\", \"insurance\", \"intended\", \"intended\", \"itcapps\", \"itcapps\", \"january\", \"january\", \"january\", \"january\", \"jason\", \"jason\", \"jason\", \"john\", \"john\", \"john\", \"june\", \"june\", \"june\", \"kern\", \"kern\", \"kimberly\", \"kimberly\", \"kimberly\", \"know\", \"know\", \"know\", \"know\", \"krishna\", \"krishna\", \"labour\", \"laurel\", \"laurel\", \"law\", \"law\", \"ld\", \"legislation\", \"let\", \"let\", \"let\", \"let\", \"linkbarseperator\", \"linkbarseperator\", \"log\", \"log\", \"log\", \"louis\", \"louis\", \"lover\", \"lover\", \"lubbock\", \"lubbock\", \"lynn\", \"lynn\", \"lynn\", \"maac\", \"maac\", \"maac\", \"made\", \"made\", \"made\", \"made\", \"mage\", \"mage\", \"mail\", \"mail\", \"mail\", \"mail\", \"mail\", \"mailto\", \"mailto\", \"mailto\", \"mailto\", \"mailto\", \"mainheadline\", \"mainheadline\", \"mapp\", \"mapp\", \"mapp\", \"mark\", \"mark\", \"mark\", \"mark\", \"market\", \"market\", \"market\", \"market\", \"market\", \"marten\", \"matrix\", \"matrix\", \"matrix\", \"matt\", \"matt\", \"matt\", \"max\", \"max\", \"max\", \"may\", \"may\", \"may\", \"may\", \"message\", \"message\", \"message\", \"message\", \"message\", \"million\", \"million\", \"million\", \"million\", \"min\", \"min\", \"min\", \"money\", \"money\", \"money\", \"money\", \"month\", \"month\", \"month\", \"mr\", \"mr\", \"national\", \"national\", \"national\", \"nbsp\", \"nbsp\", \"nbsp\", \"nc\", \"nc\", \"nc\", \"ne\", \"ne\", \"ne\", \"ne\", \"net\", \"net\", \"net\", \"net\", \"net\", \"netted\", \"netted\", \"neumin\", \"neumin\", \"new\", \"new\", \"new\", \"new\", \"new\", \"news\", \"news\", \"news\", \"news\", \"npcc\", \"npcc\", \"nw\", \"nw\", \"nw\", \"official\", \"official\", \"one\", \"one\", \"one\", \"one\", \"operation\", \"operation\", \"operation\", \"option\", \"option\", \"option\", \"option\", \"option\", \"original\", \"original\", \"original\", \"original\", \"outage\", \"outage\", \"p\", \"p\", \"p\", \"p\", \"p\", \"pager\", \"pager\", \"partnership\", \"partnership\", \"paypal\", \"paypal\", \"pension\", \"pension\", \"people\", \"people\", \"people\", \"people\", \"pep\", \"pep\", \"permit\", \"plan\", \"plan\", \"plan\", \"please\", \"please\", \"please\", \"please\", \"please\", \"pm\", \"pm\", \"pm\", \"pocketbook\", \"pocketbook\", \"power\", \"power\", \"power\", \"power\", \"price\", \"price\", \"price\", \"price\", \"privileged\", \"privileged\", \"project\", \"project\", \"project\", \"pseg\", \"pseg\", \"pseg\", \"pt\", \"pt\", \"pt\", \"range\", \"range\", \"range\", \"range\", \"raquel\", \"raquel\", \"recipient\", \"recipient\", \"rect\", \"rect\", \"reg\", \"reg\", \"reg\", \"reliantenergy\", \"reliantenergy\", \"reliantenergy\", \"repair\", \"repair\", \"report\", \"report\", \"report\", \"report\", \"request\", \"request\", \"request\", \"request\", \"request\", \"reserved\", \"reserved\", \"retirement\", \"retirement\", \"revised\", \"revised\", \"revised\", \"rfp\", \"rfp\", \"right\", \"right\", \"right\", \"right\", \"right\", \"rk\", \"rk\", \"rk\", \"russanboy\", \"russanboy\", \"said\", \"said\", \"said\", \"said\", \"sample\", \"sample\", \"sat\", \"sat\", \"sat\", \"saving\", \"saving\", \"saving\", \"savita\", \"savita\", \"say\", \"say\", \"say\", \"say\", \"schedule\", \"schedule\", \"schedule\", \"scheduled\", \"scheduled\", \"scheduled\", \"schoolcraft\", \"schoolcraft\", \"scientech\", \"scientech\", \"scoop\", \"scoop\", \"scoop\", \"script\", \"script\", \"script\", \"se\", \"se\", \"se\", \"se\", \"se\", \"see\", \"see\", \"see\", \"see\", \"sender\", \"sender\", \"sept\", \"sept\", \"sept\", \"serc\", \"serc\", \"server\", \"server\", \"server\", \"service\", \"service\", \"service\", \"service\", \"service\", \"sfs\", \"sfs\", \"share\", \"share\", \"share\", \"simulation\", \"simulation\", \"simulation\", \"since\", \"since\", \"since\", \"since\", \"sp\", \"sp\", \"sp\", \"sp\", \"spp\", \"spp\", \"spp\", \"spp\", \"src\", \"src\", \"src\", \"srrs\", \"srrs\", \"standard\", \"standard\", \"standard\", \"standard\", \"start\", \"start\", \"start\", \"start\", \"start\", \"state\", \"state\", \"state\", \"state\", \"std\", \"std\", \"stock\", \"stock\", \"stock\", \"stock\", \"stock\", \"stocklookup\", \"stocklookup\", \"stoller\", \"stoller\", \"strike\", \"strike\", \"sw\", \"sw\", \"sw\", \"syncrasy\", \"syncrasy\", \"system\", \"system\", \"system\", \"system\", \"tab\", \"tab\", \"table\", \"table\", \"table\", \"td\", \"td\", \"td\", \"team\", \"team\", \"team\", \"temp\", \"temp\", \"temperature\", \"temperature\", \"thank\", \"thank\", \"thank\", \"thank\", \"thanks\", \"thanks\", \"thanks\", \"thanks\", \"thru\", \"thru\", \"thru\", \"time\", \"time\", \"time\", \"time\", \"time\", \"tonight\", \"tonight\", \"touch\", \"tr\", \"tr\", \"tr\", \"two\", \"two\", \"two\", \"two\", \"two\", \"tycholiz\", \"tycholiz\", \"tyrell\", \"tyrell\", \"u\", \"u\", \"u\", \"u\", \"u\", \"underhanded\", \"underhanded\", \"underscore\", \"underscore\", \"union\", \"use\", \"use\", \"use\", \"use\", \"use\", \"valign\", \"valign\", \"valign\", \"variance\", \"variance\", \"vegetarian\", \"vegetarian\", \"veggie\", \"veggie\", \"visit\", \"visit\", \"visit\", \"visit\", \"volatility\", \"volatility\", \"volatility\", \"volatility\", \"want\", \"want\", \"want\", \"want\", \"watson\", \"watson\", \"watson\", \"week\", \"week\", \"week\", \"week\", \"week\", \"width\", \"width\", \"width\", \"wiped\", \"wiped\", \"wj\", \"wj\", \"wolfe\", \"wolfe\", \"wolfe\", \"work\", \"work\", \"work\", \"work\", \"worker\", \"worker\", \"would\", \"would\", \"would\", \"would\", \"would\", \"wrap\", \"wrap\", \"wrap\", \"wrap\", \"wscc\", \"wscc\", \"wscc\", \"wscc\", \"year\", \"year\", \"year\", \"year\", \"yesterday\", \"yesterday\", \"yesterday\"]}, \"R\": 30, \"lambda.step\": 0.01, \"plot.opts\": {\"xlab\": \"PC1\", \"ylab\": \"PC2\"}, \"topic.order\": [1, 2, 3, 4, 5]};\n",
              "\n",
              "function LDAvis_load_lib(url, callback){\n",
              "  var s = document.createElement('script');\n",
              "  s.src = url;\n",
              "  s.async = true;\n",
              "  s.onreadystatechange = s.onload = callback;\n",
              "  s.onerror = function(){console.warn(\"failed to load library \" + url);};\n",
              "  document.getElementsByTagName(\"head\")[0].appendChild(s);\n",
              "}\n",
              "\n",
              "if(typeof(LDAvis) !== \"undefined\"){\n",
              "   // already loaded: just create the visualization\n",
              "   !function(LDAvis){\n",
              "       new LDAvis(\"#\" + \"ldavis_el31141319314079904805991202035\", ldavis_el31141319314079904805991202035_data);\n",
              "   }(LDAvis);\n",
              "}else if(typeof define === \"function\" && define.amd){\n",
              "   // require.js is available: use it to load d3/LDAvis\n",
              "   require.config({paths: {d3: \"https://d3js.org/d3.v5\"}});\n",
              "   require([\"d3\"], function(d3){\n",
              "      window.d3 = d3;\n",
              "      LDAvis_load_lib(\"https://cdn.jsdelivr.net/gh/bmabey/pyLDAvis@3.4.0/pyLDAvis/js/ldavis.v3.0.0.js\", function(){\n",
              "        new LDAvis(\"#\" + \"ldavis_el31141319314079904805991202035\", ldavis_el31141319314079904805991202035_data);\n",
              "      });\n",
              "    });\n",
              "}else{\n",
              "    // require.js not available: dynamically load d3 & LDAvis\n",
              "    LDAvis_load_lib(\"https://d3js.org/d3.v5.js\", function(){\n",
              "         LDAvis_load_lib(\"https://cdn.jsdelivr.net/gh/bmabey/pyLDAvis@3.4.0/pyLDAvis/js/ldavis.v3.0.0.js\", function(){\n",
              "                 new LDAvis(\"#\" + \"ldavis_el31141319314079904805991202035\", ldavis_el31141319314079904805991202035_data);\n",
              "            })\n",
              "         });\n",
              "}\n",
              "</script>"
            ]
          },
          "metadata": {},
          "execution_count": 118
        }
      ],
      "source": [
        "pyLDAvis.display(lda_display)"
      ]
    },
    {
      "cell_type": "markdown",
      "metadata": {
        "id": "0q7u1PipPGwx"
      },
      "source": [
        "#### Assign topics to your original data\n",
        "\n",
        "* One practical application of topic modeling is to determine what topic a given text is about\n",
        "* To find that, find the topic number that has the highest percentage contribution in that text\n",
        "* The function, `get_topic_details` shown here, nicely aggregates this information in a presentable table\n",
        "* Combine the original text data with the output of the `get_topic_details` function\n",
        "* Each row contains the dominant topic number, the probability score with that topic and the original text data\n",
        "\n",
        "```python\n",
        "def get_topic_details(ldamodel, corpus):\n",
        "    topic_details_df = pd.DataFrame()\n",
        "    for i, row in enumerate(ldamodel[corpus]):\n",
        "        row = sorted(row, key=lambda x: (x[1]), reverse=True)\n",
        "        for j, (topic_num, prop_topic) in enumerate(row):\n",
        "            if j == 0:  # => dominant topic\n",
        "                wp = ldamodel.show_topic(topic_num)\n",
        "                topic_details_df = topic_details_df.append(pd.Series([topic_num, prop_topic]), ignore_index=True)\n",
        "    topic_details_df.columns = ['Dominant_Topic', '% Score']\n",
        "    return topic_details_df\n",
        "\n",
        "\n",
        "contents = pd.DataFrame({'Original text':text_clean})\n",
        "topic_details = pd.concat([get_topic_details(ldamodel,\n",
        "                           corpus), contents], axis=1)\n",
        "topic_details.head()\n",
        "\n",
        "\n",
        "     Dominant_Topic    % Score     Original text\n",
        "0    0.0              0.989108    [investools, advisory, free, ...\n",
        "1    0.0              0.993513    [forwarded, richard, b, ...\n",
        "2    1.0              0.964858    [hey, wearing, target, purple, ...\n",
        "3    0.0              0.989241    [leslie, milosevich, santa, clara, ...\n",
        "```"
      ]
    },
    {
      "cell_type": "markdown",
      "metadata": {
        "id": "_scNUvQ2PGwx"
      },
      "source": [
        "### Interpreting the topic model\n",
        "\n",
        "* Use the visualization results from the pyLDAvis library shown in 4.4.0.2.\n",
        "* Have a look at topic 1 and 3 from the LDA model on the Enron email data. Which one would you research further for fraud detection purposes?\n",
        "\n",
        "**Possible Answers**\n",
        "\n",
        "* __**Topic 1.**__\n",
        "* ~~Topic 3.~~\n",
        "* ~~None of these topics seem related to fraud.~~\n",
        "\n",
        "\n",
        "**Topic 1 seems to discuss the employee share option program, and seems to point to internal conversation (with \"please, may, know\" etc), so this is more likely to be related to the internal accounting fraud and trading stock with insider knowledge. Topic 3 seems to be more related to general news around Enron.**"
      ]
    },
    {
      "cell_type": "markdown",
      "metadata": {
        "id": "tcIJodfAPGwx"
      },
      "source": [
        "### Finding fraudsters based on topic\n",
        "\n",
        "In this exercise you're going to **link the results** from the topic model **back to your original data**. You now learned that you want to **flag everything related to topic 3**. As you will see, this is actually not that straightforward. You'll be given the function `get_topic_details()` which takes the arguments `ldamodel` and `corpus`. It retrieves the details of the topics for each line of text. With that function, you can append the results back to your original data. If you want to learn more detail on how to work with the model results, which is beyond the scope of this course, you're highly encouraged to read this [article](https://www.machinelearningplus.com/nlp/topic-modeling-gensim-python/).\n",
        "\n",
        "Available for you are the `dictionary` and `corpus`, the text data `text_clean` as well as your model results `ldamodel`. Also defined is `get_topic_details()`.\n",
        "\n",
        "**Instructions 1/3**\n",
        "\n",
        "* Print and inspect the results from the `get_topic_details()` function by inserting your LDA model results and `corpus`."
      ]
    },
    {
      "cell_type": "markdown",
      "metadata": {
        "id": "5_q7bYjGPGwx"
      },
      "source": [
        "#### def get_topic_details"
      ]
    },
    {
      "cell_type": "code",
      "execution_count": 119,
      "metadata": {
        "tags": [],
        "id": "KikscanHPGwx",
        "colab": {
          "base_uri": "https://localhost:8080/"
        },
        "outputId": "4ee6fd0b-a53e-45ca-9fa0-5b6f61e07e85"
      },
      "outputs": [
        {
          "output_type": "stream",
          "name": "stderr",
          "text": [
            "/usr/local/lib/python3.10/dist-packages/ipykernel/ipkernel.py:283: DeprecationWarning: `should_run_async` will not call `transform_cell` automatically in the future. Please pass the result to `transformed_cell` argument and any exception that happen during thetransform in `preprocessing_exc_tuple` in IPython 7.17 and above.\n",
            "  and should_run_async(code)\n"
          ]
        }
      ],
      "source": [
        "def get_topic_details(ldamodel, corpus):\n",
        "    topic_details_df = pd.DataFrame()\n",
        "    for i, row in enumerate(ldamodel[corpus]):\n",
        "        row = sorted(row, key=lambda x: (x[1]), reverse=True)\n",
        "        for j, (topic_num, prop_topic) in enumerate(row):\n",
        "            if j == 0:  # => dominant topic\n",
        "                wp = ldamodel.show_topic(topic_num)\n",
        "                topic_details_df = topic_details_df.append(pd.Series([topic_num, prop_topic]), ignore_index=True)\n",
        "    topic_details_df.columns = ['Dominant_Topic', '% Score']\n",
        "    return topic_details_df"
      ]
    },
    {
      "cell_type": "code",
      "execution_count": 120,
      "metadata": {
        "tags": [],
        "id": "ftD9jeGjPGwx",
        "colab": {
          "base_uri": "https://localhost:8080/"
        },
        "outputId": "2493c999-c7f3-4588-bfdc-eb7a0d2a4c07"
      },
      "outputs": [
        {
          "output_type": "stream",
          "name": "stderr",
          "text": [
            "/usr/local/lib/python3.10/dist-packages/ipykernel/ipkernel.py:283: DeprecationWarning: `should_run_async` will not call `transform_cell` automatically in the future. Please pass the result to `transformed_cell` argument and any exception that happen during thetransform in `preprocessing_exc_tuple` in IPython 7.17 and above.\n",
            "  and should_run_async(code)\n"
          ]
        }
      ],
      "source": [
        "# Run get_topic_details function and check the results\n",
        "topic_details_df = get_topic_details(ldamodel, corpus)"
      ]
    },
    {
      "cell_type": "code",
      "execution_count": 122,
      "metadata": {
        "tags": [],
        "colab": {
          "base_uri": "https://localhost:8080/",
          "height": 261
        },
        "id": "1w-AVy2ePGwx",
        "outputId": "3e94e57a-61ac-405e-a671-1539578e53f0"
      },
      "outputs": [
        {
          "output_type": "stream",
          "name": "stderr",
          "text": [
            "/usr/local/lib/python3.10/dist-packages/ipykernel/ipkernel.py:283: DeprecationWarning: `should_run_async` will not call `transform_cell` automatically in the future. Please pass the result to `transformed_cell` argument and any exception that happen during thetransform in `preprocessing_exc_tuple` in IPython 7.17 and above.\n",
            "  and should_run_async(code)\n"
          ]
        },
        {
          "output_type": "execute_result",
          "data": {
            "text/plain": [
              "   Dominant_Topic   % Score\n",
              "0             2.0  0.771370\n",
              "1             4.0  0.624946\n",
              "2             2.0  0.868670\n",
              "3             4.0  0.993496\n",
              "4             4.0  0.993395"
            ],
            "text/html": [
              "\n",
              "  <div id=\"df-fae60d86-06bd-434a-819a-c25bedaf7a3f\" class=\"colab-df-container\">\n",
              "    <div>\n",
              "<style scoped>\n",
              "    .dataframe tbody tr th:only-of-type {\n",
              "        vertical-align: middle;\n",
              "    }\n",
              "\n",
              "    .dataframe tbody tr th {\n",
              "        vertical-align: top;\n",
              "    }\n",
              "\n",
              "    .dataframe thead th {\n",
              "        text-align: right;\n",
              "    }\n",
              "</style>\n",
              "<table border=\"1\" class=\"dataframe\">\n",
              "  <thead>\n",
              "    <tr style=\"text-align: right;\">\n",
              "      <th></th>\n",
              "      <th>Dominant_Topic</th>\n",
              "      <th>% Score</th>\n",
              "    </tr>\n",
              "  </thead>\n",
              "  <tbody>\n",
              "    <tr>\n",
              "      <th>0</th>\n",
              "      <td>2.0</td>\n",
              "      <td>0.771370</td>\n",
              "    </tr>\n",
              "    <tr>\n",
              "      <th>1</th>\n",
              "      <td>4.0</td>\n",
              "      <td>0.624946</td>\n",
              "    </tr>\n",
              "    <tr>\n",
              "      <th>2</th>\n",
              "      <td>2.0</td>\n",
              "      <td>0.868670</td>\n",
              "    </tr>\n",
              "    <tr>\n",
              "      <th>3</th>\n",
              "      <td>4.0</td>\n",
              "      <td>0.993496</td>\n",
              "    </tr>\n",
              "    <tr>\n",
              "      <th>4</th>\n",
              "      <td>4.0</td>\n",
              "      <td>0.993395</td>\n",
              "    </tr>\n",
              "  </tbody>\n",
              "</table>\n",
              "</div>\n",
              "    <div class=\"colab-df-buttons\">\n",
              "\n",
              "  <div class=\"colab-df-container\">\n",
              "    <button class=\"colab-df-convert\" onclick=\"convertToInteractive('df-fae60d86-06bd-434a-819a-c25bedaf7a3f')\"\n",
              "            title=\"Convert this dataframe to an interactive table.\"\n",
              "            style=\"display:none;\">\n",
              "\n",
              "  <svg xmlns=\"http://www.w3.org/2000/svg\" height=\"24px\" viewBox=\"0 -960 960 960\">\n",
              "    <path d=\"M120-120v-720h720v720H120Zm60-500h600v-160H180v160Zm220 220h160v-160H400v160Zm0 220h160v-160H400v160ZM180-400h160v-160H180v160Zm440 0h160v-160H620v160ZM180-180h160v-160H180v160Zm440 0h160v-160H620v160Z\"/>\n",
              "  </svg>\n",
              "    </button>\n",
              "\n",
              "  <style>\n",
              "    .colab-df-container {\n",
              "      display:flex;\n",
              "      gap: 12px;\n",
              "    }\n",
              "\n",
              "    .colab-df-convert {\n",
              "      background-color: #E8F0FE;\n",
              "      border: none;\n",
              "      border-radius: 50%;\n",
              "      cursor: pointer;\n",
              "      display: none;\n",
              "      fill: #1967D2;\n",
              "      height: 32px;\n",
              "      padding: 0 0 0 0;\n",
              "      width: 32px;\n",
              "    }\n",
              "\n",
              "    .colab-df-convert:hover {\n",
              "      background-color: #E2EBFA;\n",
              "      box-shadow: 0px 1px 2px rgba(60, 64, 67, 0.3), 0px 1px 3px 1px rgba(60, 64, 67, 0.15);\n",
              "      fill: #174EA6;\n",
              "    }\n",
              "\n",
              "    .colab-df-buttons div {\n",
              "      margin-bottom: 4px;\n",
              "    }\n",
              "\n",
              "    [theme=dark] .colab-df-convert {\n",
              "      background-color: #3B4455;\n",
              "      fill: #D2E3FC;\n",
              "    }\n",
              "\n",
              "    [theme=dark] .colab-df-convert:hover {\n",
              "      background-color: #434B5C;\n",
              "      box-shadow: 0px 1px 3px 1px rgba(0, 0, 0, 0.15);\n",
              "      filter: drop-shadow(0px 1px 2px rgba(0, 0, 0, 0.3));\n",
              "      fill: #FFFFFF;\n",
              "    }\n",
              "  </style>\n",
              "\n",
              "    <script>\n",
              "      const buttonEl =\n",
              "        document.querySelector('#df-fae60d86-06bd-434a-819a-c25bedaf7a3f button.colab-df-convert');\n",
              "      buttonEl.style.display =\n",
              "        google.colab.kernel.accessAllowed ? 'block' : 'none';\n",
              "\n",
              "      async function convertToInteractive(key) {\n",
              "        const element = document.querySelector('#df-fae60d86-06bd-434a-819a-c25bedaf7a3f');\n",
              "        const dataTable =\n",
              "          await google.colab.kernel.invokeFunction('convertToInteractive',\n",
              "                                                    [key], {});\n",
              "        if (!dataTable) return;\n",
              "\n",
              "        const docLinkHtml = 'Like what you see? Visit the ' +\n",
              "          '<a target=\"_blank\" href=https://colab.research.google.com/notebooks/data_table.ipynb>data table notebook</a>'\n",
              "          + ' to learn more about interactive tables.';\n",
              "        element.innerHTML = '';\n",
              "        dataTable['output_type'] = 'display_data';\n",
              "        await google.colab.output.renderOutput(dataTable, element);\n",
              "        const docLink = document.createElement('div');\n",
              "        docLink.innerHTML = docLinkHtml;\n",
              "        element.appendChild(docLink);\n",
              "      }\n",
              "    </script>\n",
              "  </div>\n",
              "\n",
              "\n",
              "<div id=\"df-2ed7bc25-e7a3-4d2e-86ec-42f368a15486\">\n",
              "  <button class=\"colab-df-quickchart\" onclick=\"quickchart('df-2ed7bc25-e7a3-4d2e-86ec-42f368a15486')\"\n",
              "            title=\"Suggest charts\"\n",
              "            style=\"display:none;\">\n",
              "\n",
              "<svg xmlns=\"http://www.w3.org/2000/svg\" height=\"24px\"viewBox=\"0 0 24 24\"\n",
              "     width=\"24px\">\n",
              "    <g>\n",
              "        <path d=\"M19 3H5c-1.1 0-2 .9-2 2v14c0 1.1.9 2 2 2h14c1.1 0 2-.9 2-2V5c0-1.1-.9-2-2-2zM9 17H7v-7h2v7zm4 0h-2V7h2v10zm4 0h-2v-4h2v4z\"/>\n",
              "    </g>\n",
              "</svg>\n",
              "  </button>\n",
              "\n",
              "<style>\n",
              "  .colab-df-quickchart {\n",
              "      --bg-color: #E8F0FE;\n",
              "      --fill-color: #1967D2;\n",
              "      --hover-bg-color: #E2EBFA;\n",
              "      --hover-fill-color: #174EA6;\n",
              "      --disabled-fill-color: #AAA;\n",
              "      --disabled-bg-color: #DDD;\n",
              "  }\n",
              "\n",
              "  [theme=dark] .colab-df-quickchart {\n",
              "      --bg-color: #3B4455;\n",
              "      --fill-color: #D2E3FC;\n",
              "      --hover-bg-color: #434B5C;\n",
              "      --hover-fill-color: #FFFFFF;\n",
              "      --disabled-bg-color: #3B4455;\n",
              "      --disabled-fill-color: #666;\n",
              "  }\n",
              "\n",
              "  .colab-df-quickchart {\n",
              "    background-color: var(--bg-color);\n",
              "    border: none;\n",
              "    border-radius: 50%;\n",
              "    cursor: pointer;\n",
              "    display: none;\n",
              "    fill: var(--fill-color);\n",
              "    height: 32px;\n",
              "    padding: 0;\n",
              "    width: 32px;\n",
              "  }\n",
              "\n",
              "  .colab-df-quickchart:hover {\n",
              "    background-color: var(--hover-bg-color);\n",
              "    box-shadow: 0 1px 2px rgba(60, 64, 67, 0.3), 0 1px 3px 1px rgba(60, 64, 67, 0.15);\n",
              "    fill: var(--button-hover-fill-color);\n",
              "  }\n",
              "\n",
              "  .colab-df-quickchart-complete:disabled,\n",
              "  .colab-df-quickchart-complete:disabled:hover {\n",
              "    background-color: var(--disabled-bg-color);\n",
              "    fill: var(--disabled-fill-color);\n",
              "    box-shadow: none;\n",
              "  }\n",
              "\n",
              "  .colab-df-spinner {\n",
              "    border: 2px solid var(--fill-color);\n",
              "    border-color: transparent;\n",
              "    border-bottom-color: var(--fill-color);\n",
              "    animation:\n",
              "      spin 1s steps(1) infinite;\n",
              "  }\n",
              "\n",
              "  @keyframes spin {\n",
              "    0% {\n",
              "      border-color: transparent;\n",
              "      border-bottom-color: var(--fill-color);\n",
              "      border-left-color: var(--fill-color);\n",
              "    }\n",
              "    20% {\n",
              "      border-color: transparent;\n",
              "      border-left-color: var(--fill-color);\n",
              "      border-top-color: var(--fill-color);\n",
              "    }\n",
              "    30% {\n",
              "      border-color: transparent;\n",
              "      border-left-color: var(--fill-color);\n",
              "      border-top-color: var(--fill-color);\n",
              "      border-right-color: var(--fill-color);\n",
              "    }\n",
              "    40% {\n",
              "      border-color: transparent;\n",
              "      border-right-color: var(--fill-color);\n",
              "      border-top-color: var(--fill-color);\n",
              "    }\n",
              "    60% {\n",
              "      border-color: transparent;\n",
              "      border-right-color: var(--fill-color);\n",
              "    }\n",
              "    80% {\n",
              "      border-color: transparent;\n",
              "      border-right-color: var(--fill-color);\n",
              "      border-bottom-color: var(--fill-color);\n",
              "    }\n",
              "    90% {\n",
              "      border-color: transparent;\n",
              "      border-bottom-color: var(--fill-color);\n",
              "    }\n",
              "  }\n",
              "</style>\n",
              "\n",
              "  <script>\n",
              "    async function quickchart(key) {\n",
              "      const quickchartButtonEl =\n",
              "        document.querySelector('#' + key + ' button');\n",
              "      quickchartButtonEl.disabled = true;  // To prevent multiple clicks.\n",
              "      quickchartButtonEl.classList.add('colab-df-spinner');\n",
              "      try {\n",
              "        const charts = await google.colab.kernel.invokeFunction(\n",
              "            'suggestCharts', [key], {});\n",
              "      } catch (error) {\n",
              "        console.error('Error during call to suggestCharts:', error);\n",
              "      }\n",
              "      quickchartButtonEl.classList.remove('colab-df-spinner');\n",
              "      quickchartButtonEl.classList.add('colab-df-quickchart-complete');\n",
              "    }\n",
              "    (() => {\n",
              "      let quickchartButtonEl =\n",
              "        document.querySelector('#df-2ed7bc25-e7a3-4d2e-86ec-42f368a15486 button');\n",
              "      quickchartButtonEl.style.display =\n",
              "        google.colab.kernel.accessAllowed ? 'block' : 'none';\n",
              "    })();\n",
              "  </script>\n",
              "</div>\n",
              "    </div>\n",
              "  </div>\n"
            ],
            "application/vnd.google.colaboratory.intrinsic+json": {
              "type": "dataframe",
              "variable_name": "topic_details_df",
              "summary": "{\n  \"name\": \"topic_details_df\",\n  \"rows\": 2090,\n  \"fields\": [\n    {\n      \"column\": \"Dominant_Topic\",\n      \"properties\": {\n        \"dtype\": \"number\",\n        \"std\": 1.08221127267524,\n        \"min\": 0.0,\n        \"max\": 4.0,\n        \"num_unique_values\": 5,\n        \"samples\": [\n          4.0,\n          0.0,\n          1.0\n        ],\n        \"semantic_type\": \"\",\n        \"description\": \"\"\n      }\n    },\n    {\n      \"column\": \"% Score\",\n      \"properties\": {\n        \"dtype\": \"number\",\n        \"std\": 0.1860763750906088,\n        \"min\": 0.2974647581577301,\n        \"max\": 0.9998745918273926,\n        \"num_unique_values\": 2075,\n        \"samples\": [\n          0.7441248893737793,\n          0.9139842987060547,\n          0.9647064208984375\n        ],\n        \"semantic_type\": \"\",\n        \"description\": \"\"\n      }\n    }\n  ]\n}"
            }
          },
          "metadata": {},
          "execution_count": 122
        }
      ],
      "source": [
        "topic_details_df.head()"
      ]
    },
    {
      "cell_type": "code",
      "execution_count": 123,
      "metadata": {
        "tags": [],
        "colab": {
          "base_uri": "https://localhost:8080/",
          "height": 261
        },
        "id": "5F9Lu-sRPGwx",
        "outputId": "95fd88e4-2a03-4ca6-f58f-ad8be7cdf71d"
      },
      "outputs": [
        {
          "output_type": "stream",
          "name": "stderr",
          "text": [
            "/usr/local/lib/python3.10/dist-packages/ipykernel/ipkernel.py:283: DeprecationWarning: `should_run_async` will not call `transform_cell` automatically in the future. Please pass the result to `transformed_cell` argument and any exception that happen during thetransform in `preprocessing_exc_tuple` in IPython 7.17 and above.\n",
            "  and should_run_async(code)\n"
          ]
        },
        {
          "output_type": "execute_result",
          "data": {
            "text/plain": [
              "      Dominant_Topic   % Score\n",
              "2085             1.0  0.910360\n",
              "2086             3.0  0.599501\n",
              "2087             3.0  0.999325\n",
              "2088             1.0  0.998142\n",
              "2089             1.0  0.988428"
            ],
            "text/html": [
              "\n",
              "  <div id=\"df-2977d005-6077-4d4c-9b68-22b55ad9d8e1\" class=\"colab-df-container\">\n",
              "    <div>\n",
              "<style scoped>\n",
              "    .dataframe tbody tr th:only-of-type {\n",
              "        vertical-align: middle;\n",
              "    }\n",
              "\n",
              "    .dataframe tbody tr th {\n",
              "        vertical-align: top;\n",
              "    }\n",
              "\n",
              "    .dataframe thead th {\n",
              "        text-align: right;\n",
              "    }\n",
              "</style>\n",
              "<table border=\"1\" class=\"dataframe\">\n",
              "  <thead>\n",
              "    <tr style=\"text-align: right;\">\n",
              "      <th></th>\n",
              "      <th>Dominant_Topic</th>\n",
              "      <th>% Score</th>\n",
              "    </tr>\n",
              "  </thead>\n",
              "  <tbody>\n",
              "    <tr>\n",
              "      <th>2085</th>\n",
              "      <td>1.0</td>\n",
              "      <td>0.910360</td>\n",
              "    </tr>\n",
              "    <tr>\n",
              "      <th>2086</th>\n",
              "      <td>3.0</td>\n",
              "      <td>0.599501</td>\n",
              "    </tr>\n",
              "    <tr>\n",
              "      <th>2087</th>\n",
              "      <td>3.0</td>\n",
              "      <td>0.999325</td>\n",
              "    </tr>\n",
              "    <tr>\n",
              "      <th>2088</th>\n",
              "      <td>1.0</td>\n",
              "      <td>0.998142</td>\n",
              "    </tr>\n",
              "    <tr>\n",
              "      <th>2089</th>\n",
              "      <td>1.0</td>\n",
              "      <td>0.988428</td>\n",
              "    </tr>\n",
              "  </tbody>\n",
              "</table>\n",
              "</div>\n",
              "    <div class=\"colab-df-buttons\">\n",
              "\n",
              "  <div class=\"colab-df-container\">\n",
              "    <button class=\"colab-df-convert\" onclick=\"convertToInteractive('df-2977d005-6077-4d4c-9b68-22b55ad9d8e1')\"\n",
              "            title=\"Convert this dataframe to an interactive table.\"\n",
              "            style=\"display:none;\">\n",
              "\n",
              "  <svg xmlns=\"http://www.w3.org/2000/svg\" height=\"24px\" viewBox=\"0 -960 960 960\">\n",
              "    <path d=\"M120-120v-720h720v720H120Zm60-500h600v-160H180v160Zm220 220h160v-160H400v160Zm0 220h160v-160H400v160ZM180-400h160v-160H180v160Zm440 0h160v-160H620v160ZM180-180h160v-160H180v160Zm440 0h160v-160H620v160Z\"/>\n",
              "  </svg>\n",
              "    </button>\n",
              "\n",
              "  <style>\n",
              "    .colab-df-container {\n",
              "      display:flex;\n",
              "      gap: 12px;\n",
              "    }\n",
              "\n",
              "    .colab-df-convert {\n",
              "      background-color: #E8F0FE;\n",
              "      border: none;\n",
              "      border-radius: 50%;\n",
              "      cursor: pointer;\n",
              "      display: none;\n",
              "      fill: #1967D2;\n",
              "      height: 32px;\n",
              "      padding: 0 0 0 0;\n",
              "      width: 32px;\n",
              "    }\n",
              "\n",
              "    .colab-df-convert:hover {\n",
              "      background-color: #E2EBFA;\n",
              "      box-shadow: 0px 1px 2px rgba(60, 64, 67, 0.3), 0px 1px 3px 1px rgba(60, 64, 67, 0.15);\n",
              "      fill: #174EA6;\n",
              "    }\n",
              "\n",
              "    .colab-df-buttons div {\n",
              "      margin-bottom: 4px;\n",
              "    }\n",
              "\n",
              "    [theme=dark] .colab-df-convert {\n",
              "      background-color: #3B4455;\n",
              "      fill: #D2E3FC;\n",
              "    }\n",
              "\n",
              "    [theme=dark] .colab-df-convert:hover {\n",
              "      background-color: #434B5C;\n",
              "      box-shadow: 0px 1px 3px 1px rgba(0, 0, 0, 0.15);\n",
              "      filter: drop-shadow(0px 1px 2px rgba(0, 0, 0, 0.3));\n",
              "      fill: #FFFFFF;\n",
              "    }\n",
              "  </style>\n",
              "\n",
              "    <script>\n",
              "      const buttonEl =\n",
              "        document.querySelector('#df-2977d005-6077-4d4c-9b68-22b55ad9d8e1 button.colab-df-convert');\n",
              "      buttonEl.style.display =\n",
              "        google.colab.kernel.accessAllowed ? 'block' : 'none';\n",
              "\n",
              "      async function convertToInteractive(key) {\n",
              "        const element = document.querySelector('#df-2977d005-6077-4d4c-9b68-22b55ad9d8e1');\n",
              "        const dataTable =\n",
              "          await google.colab.kernel.invokeFunction('convertToInteractive',\n",
              "                                                    [key], {});\n",
              "        if (!dataTable) return;\n",
              "\n",
              "        const docLinkHtml = 'Like what you see? Visit the ' +\n",
              "          '<a target=\"_blank\" href=https://colab.research.google.com/notebooks/data_table.ipynb>data table notebook</a>'\n",
              "          + ' to learn more about interactive tables.';\n",
              "        element.innerHTML = '';\n",
              "        dataTable['output_type'] = 'display_data';\n",
              "        await google.colab.output.renderOutput(dataTable, element);\n",
              "        const docLink = document.createElement('div');\n",
              "        docLink.innerHTML = docLinkHtml;\n",
              "        element.appendChild(docLink);\n",
              "      }\n",
              "    </script>\n",
              "  </div>\n",
              "\n",
              "\n",
              "<div id=\"df-9701e1a8-c51f-4d98-8255-1e947a622016\">\n",
              "  <button class=\"colab-df-quickchart\" onclick=\"quickchart('df-9701e1a8-c51f-4d98-8255-1e947a622016')\"\n",
              "            title=\"Suggest charts\"\n",
              "            style=\"display:none;\">\n",
              "\n",
              "<svg xmlns=\"http://www.w3.org/2000/svg\" height=\"24px\"viewBox=\"0 0 24 24\"\n",
              "     width=\"24px\">\n",
              "    <g>\n",
              "        <path d=\"M19 3H5c-1.1 0-2 .9-2 2v14c0 1.1.9 2 2 2h14c1.1 0 2-.9 2-2V5c0-1.1-.9-2-2-2zM9 17H7v-7h2v7zm4 0h-2V7h2v10zm4 0h-2v-4h2v4z\"/>\n",
              "    </g>\n",
              "</svg>\n",
              "  </button>\n",
              "\n",
              "<style>\n",
              "  .colab-df-quickchart {\n",
              "      --bg-color: #E8F0FE;\n",
              "      --fill-color: #1967D2;\n",
              "      --hover-bg-color: #E2EBFA;\n",
              "      --hover-fill-color: #174EA6;\n",
              "      --disabled-fill-color: #AAA;\n",
              "      --disabled-bg-color: #DDD;\n",
              "  }\n",
              "\n",
              "  [theme=dark] .colab-df-quickchart {\n",
              "      --bg-color: #3B4455;\n",
              "      --fill-color: #D2E3FC;\n",
              "      --hover-bg-color: #434B5C;\n",
              "      --hover-fill-color: #FFFFFF;\n",
              "      --disabled-bg-color: #3B4455;\n",
              "      --disabled-fill-color: #666;\n",
              "  }\n",
              "\n",
              "  .colab-df-quickchart {\n",
              "    background-color: var(--bg-color);\n",
              "    border: none;\n",
              "    border-radius: 50%;\n",
              "    cursor: pointer;\n",
              "    display: none;\n",
              "    fill: var(--fill-color);\n",
              "    height: 32px;\n",
              "    padding: 0;\n",
              "    width: 32px;\n",
              "  }\n",
              "\n",
              "  .colab-df-quickchart:hover {\n",
              "    background-color: var(--hover-bg-color);\n",
              "    box-shadow: 0 1px 2px rgba(60, 64, 67, 0.3), 0 1px 3px 1px rgba(60, 64, 67, 0.15);\n",
              "    fill: var(--button-hover-fill-color);\n",
              "  }\n",
              "\n",
              "  .colab-df-quickchart-complete:disabled,\n",
              "  .colab-df-quickchart-complete:disabled:hover {\n",
              "    background-color: var(--disabled-bg-color);\n",
              "    fill: var(--disabled-fill-color);\n",
              "    box-shadow: none;\n",
              "  }\n",
              "\n",
              "  .colab-df-spinner {\n",
              "    border: 2px solid var(--fill-color);\n",
              "    border-color: transparent;\n",
              "    border-bottom-color: var(--fill-color);\n",
              "    animation:\n",
              "      spin 1s steps(1) infinite;\n",
              "  }\n",
              "\n",
              "  @keyframes spin {\n",
              "    0% {\n",
              "      border-color: transparent;\n",
              "      border-bottom-color: var(--fill-color);\n",
              "      border-left-color: var(--fill-color);\n",
              "    }\n",
              "    20% {\n",
              "      border-color: transparent;\n",
              "      border-left-color: var(--fill-color);\n",
              "      border-top-color: var(--fill-color);\n",
              "    }\n",
              "    30% {\n",
              "      border-color: transparent;\n",
              "      border-left-color: var(--fill-color);\n",
              "      border-top-color: var(--fill-color);\n",
              "      border-right-color: var(--fill-color);\n",
              "    }\n",
              "    40% {\n",
              "      border-color: transparent;\n",
              "      border-right-color: var(--fill-color);\n",
              "      border-top-color: var(--fill-color);\n",
              "    }\n",
              "    60% {\n",
              "      border-color: transparent;\n",
              "      border-right-color: var(--fill-color);\n",
              "    }\n",
              "    80% {\n",
              "      border-color: transparent;\n",
              "      border-right-color: var(--fill-color);\n",
              "      border-bottom-color: var(--fill-color);\n",
              "    }\n",
              "    90% {\n",
              "      border-color: transparent;\n",
              "      border-bottom-color: var(--fill-color);\n",
              "    }\n",
              "  }\n",
              "</style>\n",
              "\n",
              "  <script>\n",
              "    async function quickchart(key) {\n",
              "      const quickchartButtonEl =\n",
              "        document.querySelector('#' + key + ' button');\n",
              "      quickchartButtonEl.disabled = true;  // To prevent multiple clicks.\n",
              "      quickchartButtonEl.classList.add('colab-df-spinner');\n",
              "      try {\n",
              "        const charts = await google.colab.kernel.invokeFunction(\n",
              "            'suggestCharts', [key], {});\n",
              "      } catch (error) {\n",
              "        console.error('Error during call to suggestCharts:', error);\n",
              "      }\n",
              "      quickchartButtonEl.classList.remove('colab-df-spinner');\n",
              "      quickchartButtonEl.classList.add('colab-df-quickchart-complete');\n",
              "    }\n",
              "    (() => {\n",
              "      let quickchartButtonEl =\n",
              "        document.querySelector('#df-9701e1a8-c51f-4d98-8255-1e947a622016 button');\n",
              "      quickchartButtonEl.style.display =\n",
              "        google.colab.kernel.accessAllowed ? 'block' : 'none';\n",
              "    })();\n",
              "  </script>\n",
              "</div>\n",
              "    </div>\n",
              "  </div>\n"
            ],
            "application/vnd.google.colaboratory.intrinsic+json": {
              "type": "dataframe",
              "summary": "{\n  \"name\": \"topic_details_df\",\n  \"rows\": 5,\n  \"fields\": [\n    {\n      \"column\": \"Dominant_Topic\",\n      \"properties\": {\n        \"dtype\": \"number\",\n        \"std\": 1.0954451150103324,\n        \"min\": 1.0,\n        \"max\": 3.0,\n        \"num_unique_values\": 2,\n        \"samples\": [\n          3.0,\n          1.0\n        ],\n        \"semantic_type\": \"\",\n        \"description\": \"\"\n      }\n    },\n    {\n      \"column\": \"% Score\",\n      \"properties\": {\n        \"dtype\": \"number\",\n        \"std\": 0.17155205181414174,\n        \"min\": 0.5995006561279297,\n        \"max\": 0.99932461977005,\n        \"num_unique_values\": 5,\n        \"samples\": [\n          0.5995006561279297,\n          0.9884280562400818\n        ],\n        \"semantic_type\": \"\",\n        \"description\": \"\"\n      }\n    }\n  ]\n}"
            }
          },
          "metadata": {},
          "execution_count": 123
        }
      ],
      "source": [
        "topic_details_df.tail()"
      ]
    },
    {
      "cell_type": "markdown",
      "metadata": {
        "id": "G4GWGBEMPGwy"
      },
      "source": [
        "**Instructions 2/3**\n",
        "\n",
        "* Concatenate column-wise the results from the previously defined function `get_topic_details()` to the original text data contained under `contents` and inspect the results."
      ]
    },
    {
      "cell_type": "code",
      "execution_count": 124,
      "metadata": {
        "tags": [],
        "id": "7qyKbrKLPGwy",
        "colab": {
          "base_uri": "https://localhost:8080/"
        },
        "outputId": "e44b0762-9b97-4f32-b4c6-b8583a70ff39"
      },
      "outputs": [
        {
          "output_type": "stream",
          "name": "stderr",
          "text": [
            "/usr/local/lib/python3.10/dist-packages/ipykernel/ipkernel.py:283: DeprecationWarning: `should_run_async` will not call `transform_cell` automatically in the future. Please pass the result to `transformed_cell` argument and any exception that happen during thetransform in `preprocessing_exc_tuple` in IPython 7.17 and above.\n",
            "  and should_run_async(code)\n"
          ]
        }
      ],
      "source": [
        "# Add original text to topic details in a dataframe\n",
        "contents = pd.DataFrame({'Original text': text_clean})\n",
        "topic_details = pd.concat([get_topic_details(ldamodel, corpus), contents], axis=1)"
      ]
    },
    {
      "cell_type": "code",
      "execution_count": 125,
      "metadata": {
        "tags": [],
        "colab": {
          "base_uri": "https://localhost:8080/",
          "height": 261
        },
        "id": "DsoMufZsPGwy",
        "outputId": "c5253fd4-0fe2-4ff1-c877-1945abb6b9b1"
      },
      "outputs": [
        {
          "output_type": "stream",
          "name": "stderr",
          "text": [
            "/usr/local/lib/python3.10/dist-packages/ipykernel/ipkernel.py:283: DeprecationWarning: `should_run_async` will not call `transform_cell` automatically in the future. Please pass the result to `transformed_cell` argument and any exception that happen during thetransform in `preprocessing_exc_tuple` in IPython 7.17 and above.\n",
            "  and should_run_async(code)\n"
          ]
        },
        {
          "output_type": "execute_result",
          "data": {
            "text/plain": [
              "      Dominant_Topic   % Score  \\\n",
              "849              4.0  0.999875   \n",
              "81               2.0  0.999722   \n",
              "2081             0.0  0.999631   \n",
              "1782             2.0  0.999376   \n",
              "2087             3.0  0.999325   \n",
              "\n",
              "                                          Original text  \n",
              "849   [original, message, received, thu, aug, cdt, e...  \n",
              "81    [brazil, scramble, energy, new, york, time, wo...  \n",
              "2081  [unsubscribe, mailing, please, go, money, net,...  \n",
              "1782  [national, journal, congressdaily, issue, date...  \n",
              "2087  [image, image, image, image, image, image, ima...  "
            ],
            "text/html": [
              "\n",
              "  <div id=\"df-99c60edd-5c7e-4f2a-acfd-8c477a4a2553\" class=\"colab-df-container\">\n",
              "    <div>\n",
              "<style scoped>\n",
              "    .dataframe tbody tr th:only-of-type {\n",
              "        vertical-align: middle;\n",
              "    }\n",
              "\n",
              "    .dataframe tbody tr th {\n",
              "        vertical-align: top;\n",
              "    }\n",
              "\n",
              "    .dataframe thead th {\n",
              "        text-align: right;\n",
              "    }\n",
              "</style>\n",
              "<table border=\"1\" class=\"dataframe\">\n",
              "  <thead>\n",
              "    <tr style=\"text-align: right;\">\n",
              "      <th></th>\n",
              "      <th>Dominant_Topic</th>\n",
              "      <th>% Score</th>\n",
              "      <th>Original text</th>\n",
              "    </tr>\n",
              "  </thead>\n",
              "  <tbody>\n",
              "    <tr>\n",
              "      <th>849</th>\n",
              "      <td>4.0</td>\n",
              "      <td>0.999875</td>\n",
              "      <td>[original, message, received, thu, aug, cdt, e...</td>\n",
              "    </tr>\n",
              "    <tr>\n",
              "      <th>81</th>\n",
              "      <td>2.0</td>\n",
              "      <td>0.999722</td>\n",
              "      <td>[brazil, scramble, energy, new, york, time, wo...</td>\n",
              "    </tr>\n",
              "    <tr>\n",
              "      <th>2081</th>\n",
              "      <td>0.0</td>\n",
              "      <td>0.999631</td>\n",
              "      <td>[unsubscribe, mailing, please, go, money, net,...</td>\n",
              "    </tr>\n",
              "    <tr>\n",
              "      <th>1782</th>\n",
              "      <td>2.0</td>\n",
              "      <td>0.999376</td>\n",
              "      <td>[national, journal, congressdaily, issue, date...</td>\n",
              "    </tr>\n",
              "    <tr>\n",
              "      <th>2087</th>\n",
              "      <td>3.0</td>\n",
              "      <td>0.999325</td>\n",
              "      <td>[image, image, image, image, image, image, ima...</td>\n",
              "    </tr>\n",
              "  </tbody>\n",
              "</table>\n",
              "</div>\n",
              "    <div class=\"colab-df-buttons\">\n",
              "\n",
              "  <div class=\"colab-df-container\">\n",
              "    <button class=\"colab-df-convert\" onclick=\"convertToInteractive('df-99c60edd-5c7e-4f2a-acfd-8c477a4a2553')\"\n",
              "            title=\"Convert this dataframe to an interactive table.\"\n",
              "            style=\"display:none;\">\n",
              "\n",
              "  <svg xmlns=\"http://www.w3.org/2000/svg\" height=\"24px\" viewBox=\"0 -960 960 960\">\n",
              "    <path d=\"M120-120v-720h720v720H120Zm60-500h600v-160H180v160Zm220 220h160v-160H400v160Zm0 220h160v-160H400v160ZM180-400h160v-160H180v160Zm440 0h160v-160H620v160ZM180-180h160v-160H180v160Zm440 0h160v-160H620v160Z\"/>\n",
              "  </svg>\n",
              "    </button>\n",
              "\n",
              "  <style>\n",
              "    .colab-df-container {\n",
              "      display:flex;\n",
              "      gap: 12px;\n",
              "    }\n",
              "\n",
              "    .colab-df-convert {\n",
              "      background-color: #E8F0FE;\n",
              "      border: none;\n",
              "      border-radius: 50%;\n",
              "      cursor: pointer;\n",
              "      display: none;\n",
              "      fill: #1967D2;\n",
              "      height: 32px;\n",
              "      padding: 0 0 0 0;\n",
              "      width: 32px;\n",
              "    }\n",
              "\n",
              "    .colab-df-convert:hover {\n",
              "      background-color: #E2EBFA;\n",
              "      box-shadow: 0px 1px 2px rgba(60, 64, 67, 0.3), 0px 1px 3px 1px rgba(60, 64, 67, 0.15);\n",
              "      fill: #174EA6;\n",
              "    }\n",
              "\n",
              "    .colab-df-buttons div {\n",
              "      margin-bottom: 4px;\n",
              "    }\n",
              "\n",
              "    [theme=dark] .colab-df-convert {\n",
              "      background-color: #3B4455;\n",
              "      fill: #D2E3FC;\n",
              "    }\n",
              "\n",
              "    [theme=dark] .colab-df-convert:hover {\n",
              "      background-color: #434B5C;\n",
              "      box-shadow: 0px 1px 3px 1px rgba(0, 0, 0, 0.15);\n",
              "      filter: drop-shadow(0px 1px 2px rgba(0, 0, 0, 0.3));\n",
              "      fill: #FFFFFF;\n",
              "    }\n",
              "  </style>\n",
              "\n",
              "    <script>\n",
              "      const buttonEl =\n",
              "        document.querySelector('#df-99c60edd-5c7e-4f2a-acfd-8c477a4a2553 button.colab-df-convert');\n",
              "      buttonEl.style.display =\n",
              "        google.colab.kernel.accessAllowed ? 'block' : 'none';\n",
              "\n",
              "      async function convertToInteractive(key) {\n",
              "        const element = document.querySelector('#df-99c60edd-5c7e-4f2a-acfd-8c477a4a2553');\n",
              "        const dataTable =\n",
              "          await google.colab.kernel.invokeFunction('convertToInteractive',\n",
              "                                                    [key], {});\n",
              "        if (!dataTable) return;\n",
              "\n",
              "        const docLinkHtml = 'Like what you see? Visit the ' +\n",
              "          '<a target=\"_blank\" href=https://colab.research.google.com/notebooks/data_table.ipynb>data table notebook</a>'\n",
              "          + ' to learn more about interactive tables.';\n",
              "        element.innerHTML = '';\n",
              "        dataTable['output_type'] = 'display_data';\n",
              "        await google.colab.output.renderOutput(dataTable, element);\n",
              "        const docLink = document.createElement('div');\n",
              "        docLink.innerHTML = docLinkHtml;\n",
              "        element.appendChild(docLink);\n",
              "      }\n",
              "    </script>\n",
              "  </div>\n",
              "\n",
              "\n",
              "<div id=\"df-5c95f739-2ead-45d6-932f-f2365be67d2a\">\n",
              "  <button class=\"colab-df-quickchart\" onclick=\"quickchart('df-5c95f739-2ead-45d6-932f-f2365be67d2a')\"\n",
              "            title=\"Suggest charts\"\n",
              "            style=\"display:none;\">\n",
              "\n",
              "<svg xmlns=\"http://www.w3.org/2000/svg\" height=\"24px\"viewBox=\"0 0 24 24\"\n",
              "     width=\"24px\">\n",
              "    <g>\n",
              "        <path d=\"M19 3H5c-1.1 0-2 .9-2 2v14c0 1.1.9 2 2 2h14c1.1 0 2-.9 2-2V5c0-1.1-.9-2-2-2zM9 17H7v-7h2v7zm4 0h-2V7h2v10zm4 0h-2v-4h2v4z\"/>\n",
              "    </g>\n",
              "</svg>\n",
              "  </button>\n",
              "\n",
              "<style>\n",
              "  .colab-df-quickchart {\n",
              "      --bg-color: #E8F0FE;\n",
              "      --fill-color: #1967D2;\n",
              "      --hover-bg-color: #E2EBFA;\n",
              "      --hover-fill-color: #174EA6;\n",
              "      --disabled-fill-color: #AAA;\n",
              "      --disabled-bg-color: #DDD;\n",
              "  }\n",
              "\n",
              "  [theme=dark] .colab-df-quickchart {\n",
              "      --bg-color: #3B4455;\n",
              "      --fill-color: #D2E3FC;\n",
              "      --hover-bg-color: #434B5C;\n",
              "      --hover-fill-color: #FFFFFF;\n",
              "      --disabled-bg-color: #3B4455;\n",
              "      --disabled-fill-color: #666;\n",
              "  }\n",
              "\n",
              "  .colab-df-quickchart {\n",
              "    background-color: var(--bg-color);\n",
              "    border: none;\n",
              "    border-radius: 50%;\n",
              "    cursor: pointer;\n",
              "    display: none;\n",
              "    fill: var(--fill-color);\n",
              "    height: 32px;\n",
              "    padding: 0;\n",
              "    width: 32px;\n",
              "  }\n",
              "\n",
              "  .colab-df-quickchart:hover {\n",
              "    background-color: var(--hover-bg-color);\n",
              "    box-shadow: 0 1px 2px rgba(60, 64, 67, 0.3), 0 1px 3px 1px rgba(60, 64, 67, 0.15);\n",
              "    fill: var(--button-hover-fill-color);\n",
              "  }\n",
              "\n",
              "  .colab-df-quickchart-complete:disabled,\n",
              "  .colab-df-quickchart-complete:disabled:hover {\n",
              "    background-color: var(--disabled-bg-color);\n",
              "    fill: var(--disabled-fill-color);\n",
              "    box-shadow: none;\n",
              "  }\n",
              "\n",
              "  .colab-df-spinner {\n",
              "    border: 2px solid var(--fill-color);\n",
              "    border-color: transparent;\n",
              "    border-bottom-color: var(--fill-color);\n",
              "    animation:\n",
              "      spin 1s steps(1) infinite;\n",
              "  }\n",
              "\n",
              "  @keyframes spin {\n",
              "    0% {\n",
              "      border-color: transparent;\n",
              "      border-bottom-color: var(--fill-color);\n",
              "      border-left-color: var(--fill-color);\n",
              "    }\n",
              "    20% {\n",
              "      border-color: transparent;\n",
              "      border-left-color: var(--fill-color);\n",
              "      border-top-color: var(--fill-color);\n",
              "    }\n",
              "    30% {\n",
              "      border-color: transparent;\n",
              "      border-left-color: var(--fill-color);\n",
              "      border-top-color: var(--fill-color);\n",
              "      border-right-color: var(--fill-color);\n",
              "    }\n",
              "    40% {\n",
              "      border-color: transparent;\n",
              "      border-right-color: var(--fill-color);\n",
              "      border-top-color: var(--fill-color);\n",
              "    }\n",
              "    60% {\n",
              "      border-color: transparent;\n",
              "      border-right-color: var(--fill-color);\n",
              "    }\n",
              "    80% {\n",
              "      border-color: transparent;\n",
              "      border-right-color: var(--fill-color);\n",
              "      border-bottom-color: var(--fill-color);\n",
              "    }\n",
              "    90% {\n",
              "      border-color: transparent;\n",
              "      border-bottom-color: var(--fill-color);\n",
              "    }\n",
              "  }\n",
              "</style>\n",
              "\n",
              "  <script>\n",
              "    async function quickchart(key) {\n",
              "      const quickchartButtonEl =\n",
              "        document.querySelector('#' + key + ' button');\n",
              "      quickchartButtonEl.disabled = true;  // To prevent multiple clicks.\n",
              "      quickchartButtonEl.classList.add('colab-df-spinner');\n",
              "      try {\n",
              "        const charts = await google.colab.kernel.invokeFunction(\n",
              "            'suggestCharts', [key], {});\n",
              "      } catch (error) {\n",
              "        console.error('Error during call to suggestCharts:', error);\n",
              "      }\n",
              "      quickchartButtonEl.classList.remove('colab-df-spinner');\n",
              "      quickchartButtonEl.classList.add('colab-df-quickchart-complete');\n",
              "    }\n",
              "    (() => {\n",
              "      let quickchartButtonEl =\n",
              "        document.querySelector('#df-5c95f739-2ead-45d6-932f-f2365be67d2a button');\n",
              "      quickchartButtonEl.style.display =\n",
              "        google.colab.kernel.accessAllowed ? 'block' : 'none';\n",
              "    })();\n",
              "  </script>\n",
              "</div>\n",
              "    </div>\n",
              "  </div>\n"
            ],
            "application/vnd.google.colaboratory.intrinsic+json": {
              "type": "dataframe",
              "summary": "{\n  \"name\": \"topic_details\",\n  \"rows\": 5,\n  \"fields\": [\n    {\n      \"column\": \"Dominant_Topic\",\n      \"properties\": {\n        \"dtype\": \"number\",\n        \"std\": 1.4832396974191326,\n        \"min\": 0.0,\n        \"max\": 4.0,\n        \"num_unique_values\": 4,\n        \"samples\": [\n          2.0,\n          3.0,\n          4.0\n        ],\n        \"semantic_type\": \"\",\n        \"description\": \"\"\n      }\n    },\n    {\n      \"column\": \"% Score\",\n      \"properties\": {\n        \"dtype\": \"number\",\n        \"std\": 0.00023259337246803248,\n        \"min\": 0.99932461977005,\n        \"max\": 0.9998745918273926,\n        \"num_unique_values\": 5,\n        \"samples\": [\n          0.9997220039367676,\n          0.99932461977005,\n          0.9996306896209717\n        ],\n        \"semantic_type\": \"\",\n        \"description\": \"\"\n      }\n    },\n    {\n      \"column\": \"Original text\",\n      \"properties\": {\n        \"dtype\": \"object\",\n        \"semantic_type\": \"\",\n        \"description\": \"\"\n      }\n    }\n  ]\n}"
            }
          },
          "metadata": {},
          "execution_count": 125
        }
      ],
      "source": [
        "topic_details.sort_values(by=['% Score'], ascending=False).head(10).head()"
      ]
    },
    {
      "cell_type": "code",
      "execution_count": 126,
      "metadata": {
        "tags": [],
        "colab": {
          "base_uri": "https://localhost:8080/",
          "height": 261
        },
        "id": "MYxRdX6APGwy",
        "outputId": "3c9f81c6-9c66-4fe2-e44c-31d11012d473"
      },
      "outputs": [
        {
          "output_type": "stream",
          "name": "stderr",
          "text": [
            "/usr/local/lib/python3.10/dist-packages/ipykernel/ipkernel.py:283: DeprecationWarning: `should_run_async` will not call `transform_cell` automatically in the future. Please pass the result to `transformed_cell` argument and any exception that happen during thetransform in `preprocessing_exc_tuple` in IPython 7.17 and above.\n",
            "  and should_run_async(code)\n"
          ]
        },
        {
          "output_type": "execute_result",
          "data": {
            "text/plain": [
              "      Dominant_Topic   % Score  \\\n",
              "280              2.0  0.999224   \n",
              "1211             1.0  0.999060   \n",
              "1449             2.0  0.999024   \n",
              "442              2.0  0.998792   \n",
              "608              4.0  0.998731   \n",
              "\n",
              "                                          Original text  \n",
              "280   [financial, express, wednesday, october, anti,...  \n",
              "1211  [start, date, hourahead, hour, hourahead, sche...  \n",
              "1449  [original, message, dave, stevenson, mailto, d...  \n",
              "442   [pleased, send, web, based, e, mail, alert, pr...  \n",
              "608   [forwarded, daren, j, farmer, hou, glover, rus...  "
            ],
            "text/html": [
              "\n",
              "  <div id=\"df-00e2791a-2105-4a99-88e0-71762c0ffe96\" class=\"colab-df-container\">\n",
              "    <div>\n",
              "<style scoped>\n",
              "    .dataframe tbody tr th:only-of-type {\n",
              "        vertical-align: middle;\n",
              "    }\n",
              "\n",
              "    .dataframe tbody tr th {\n",
              "        vertical-align: top;\n",
              "    }\n",
              "\n",
              "    .dataframe thead th {\n",
              "        text-align: right;\n",
              "    }\n",
              "</style>\n",
              "<table border=\"1\" class=\"dataframe\">\n",
              "  <thead>\n",
              "    <tr style=\"text-align: right;\">\n",
              "      <th></th>\n",
              "      <th>Dominant_Topic</th>\n",
              "      <th>% Score</th>\n",
              "      <th>Original text</th>\n",
              "    </tr>\n",
              "  </thead>\n",
              "  <tbody>\n",
              "    <tr>\n",
              "      <th>280</th>\n",
              "      <td>2.0</td>\n",
              "      <td>0.999224</td>\n",
              "      <td>[financial, express, wednesday, october, anti,...</td>\n",
              "    </tr>\n",
              "    <tr>\n",
              "      <th>1211</th>\n",
              "      <td>1.0</td>\n",
              "      <td>0.999060</td>\n",
              "      <td>[start, date, hourahead, hour, hourahead, sche...</td>\n",
              "    </tr>\n",
              "    <tr>\n",
              "      <th>1449</th>\n",
              "      <td>2.0</td>\n",
              "      <td>0.999024</td>\n",
              "      <td>[original, message, dave, stevenson, mailto, d...</td>\n",
              "    </tr>\n",
              "    <tr>\n",
              "      <th>442</th>\n",
              "      <td>2.0</td>\n",
              "      <td>0.998792</td>\n",
              "      <td>[pleased, send, web, based, e, mail, alert, pr...</td>\n",
              "    </tr>\n",
              "    <tr>\n",
              "      <th>608</th>\n",
              "      <td>4.0</td>\n",
              "      <td>0.998731</td>\n",
              "      <td>[forwarded, daren, j, farmer, hou, glover, rus...</td>\n",
              "    </tr>\n",
              "  </tbody>\n",
              "</table>\n",
              "</div>\n",
              "    <div class=\"colab-df-buttons\">\n",
              "\n",
              "  <div class=\"colab-df-container\">\n",
              "    <button class=\"colab-df-convert\" onclick=\"convertToInteractive('df-00e2791a-2105-4a99-88e0-71762c0ffe96')\"\n",
              "            title=\"Convert this dataframe to an interactive table.\"\n",
              "            style=\"display:none;\">\n",
              "\n",
              "  <svg xmlns=\"http://www.w3.org/2000/svg\" height=\"24px\" viewBox=\"0 -960 960 960\">\n",
              "    <path d=\"M120-120v-720h720v720H120Zm60-500h600v-160H180v160Zm220 220h160v-160H400v160Zm0 220h160v-160H400v160ZM180-400h160v-160H180v160Zm440 0h160v-160H620v160ZM180-180h160v-160H180v160Zm440 0h160v-160H620v160Z\"/>\n",
              "  </svg>\n",
              "    </button>\n",
              "\n",
              "  <style>\n",
              "    .colab-df-container {\n",
              "      display:flex;\n",
              "      gap: 12px;\n",
              "    }\n",
              "\n",
              "    .colab-df-convert {\n",
              "      background-color: #E8F0FE;\n",
              "      border: none;\n",
              "      border-radius: 50%;\n",
              "      cursor: pointer;\n",
              "      display: none;\n",
              "      fill: #1967D2;\n",
              "      height: 32px;\n",
              "      padding: 0 0 0 0;\n",
              "      width: 32px;\n",
              "    }\n",
              "\n",
              "    .colab-df-convert:hover {\n",
              "      background-color: #E2EBFA;\n",
              "      box-shadow: 0px 1px 2px rgba(60, 64, 67, 0.3), 0px 1px 3px 1px rgba(60, 64, 67, 0.15);\n",
              "      fill: #174EA6;\n",
              "    }\n",
              "\n",
              "    .colab-df-buttons div {\n",
              "      margin-bottom: 4px;\n",
              "    }\n",
              "\n",
              "    [theme=dark] .colab-df-convert {\n",
              "      background-color: #3B4455;\n",
              "      fill: #D2E3FC;\n",
              "    }\n",
              "\n",
              "    [theme=dark] .colab-df-convert:hover {\n",
              "      background-color: #434B5C;\n",
              "      box-shadow: 0px 1px 3px 1px rgba(0, 0, 0, 0.15);\n",
              "      filter: drop-shadow(0px 1px 2px rgba(0, 0, 0, 0.3));\n",
              "      fill: #FFFFFF;\n",
              "    }\n",
              "  </style>\n",
              "\n",
              "    <script>\n",
              "      const buttonEl =\n",
              "        document.querySelector('#df-00e2791a-2105-4a99-88e0-71762c0ffe96 button.colab-df-convert');\n",
              "      buttonEl.style.display =\n",
              "        google.colab.kernel.accessAllowed ? 'block' : 'none';\n",
              "\n",
              "      async function convertToInteractive(key) {\n",
              "        const element = document.querySelector('#df-00e2791a-2105-4a99-88e0-71762c0ffe96');\n",
              "        const dataTable =\n",
              "          await google.colab.kernel.invokeFunction('convertToInteractive',\n",
              "                                                    [key], {});\n",
              "        if (!dataTable) return;\n",
              "\n",
              "        const docLinkHtml = 'Like what you see? Visit the ' +\n",
              "          '<a target=\"_blank\" href=https://colab.research.google.com/notebooks/data_table.ipynb>data table notebook</a>'\n",
              "          + ' to learn more about interactive tables.';\n",
              "        element.innerHTML = '';\n",
              "        dataTable['output_type'] = 'display_data';\n",
              "        await google.colab.output.renderOutput(dataTable, element);\n",
              "        const docLink = document.createElement('div');\n",
              "        docLink.innerHTML = docLinkHtml;\n",
              "        element.appendChild(docLink);\n",
              "      }\n",
              "    </script>\n",
              "  </div>\n",
              "\n",
              "\n",
              "<div id=\"df-95bb4017-7860-4a64-89c5-72a3b57cdf87\">\n",
              "  <button class=\"colab-df-quickchart\" onclick=\"quickchart('df-95bb4017-7860-4a64-89c5-72a3b57cdf87')\"\n",
              "            title=\"Suggest charts\"\n",
              "            style=\"display:none;\">\n",
              "\n",
              "<svg xmlns=\"http://www.w3.org/2000/svg\" height=\"24px\"viewBox=\"0 0 24 24\"\n",
              "     width=\"24px\">\n",
              "    <g>\n",
              "        <path d=\"M19 3H5c-1.1 0-2 .9-2 2v14c0 1.1.9 2 2 2h14c1.1 0 2-.9 2-2V5c0-1.1-.9-2-2-2zM9 17H7v-7h2v7zm4 0h-2V7h2v10zm4 0h-2v-4h2v4z\"/>\n",
              "    </g>\n",
              "</svg>\n",
              "  </button>\n",
              "\n",
              "<style>\n",
              "  .colab-df-quickchart {\n",
              "      --bg-color: #E8F0FE;\n",
              "      --fill-color: #1967D2;\n",
              "      --hover-bg-color: #E2EBFA;\n",
              "      --hover-fill-color: #174EA6;\n",
              "      --disabled-fill-color: #AAA;\n",
              "      --disabled-bg-color: #DDD;\n",
              "  }\n",
              "\n",
              "  [theme=dark] .colab-df-quickchart {\n",
              "      --bg-color: #3B4455;\n",
              "      --fill-color: #D2E3FC;\n",
              "      --hover-bg-color: #434B5C;\n",
              "      --hover-fill-color: #FFFFFF;\n",
              "      --disabled-bg-color: #3B4455;\n",
              "      --disabled-fill-color: #666;\n",
              "  }\n",
              "\n",
              "  .colab-df-quickchart {\n",
              "    background-color: var(--bg-color);\n",
              "    border: none;\n",
              "    border-radius: 50%;\n",
              "    cursor: pointer;\n",
              "    display: none;\n",
              "    fill: var(--fill-color);\n",
              "    height: 32px;\n",
              "    padding: 0;\n",
              "    width: 32px;\n",
              "  }\n",
              "\n",
              "  .colab-df-quickchart:hover {\n",
              "    background-color: var(--hover-bg-color);\n",
              "    box-shadow: 0 1px 2px rgba(60, 64, 67, 0.3), 0 1px 3px 1px rgba(60, 64, 67, 0.15);\n",
              "    fill: var(--button-hover-fill-color);\n",
              "  }\n",
              "\n",
              "  .colab-df-quickchart-complete:disabled,\n",
              "  .colab-df-quickchart-complete:disabled:hover {\n",
              "    background-color: var(--disabled-bg-color);\n",
              "    fill: var(--disabled-fill-color);\n",
              "    box-shadow: none;\n",
              "  }\n",
              "\n",
              "  .colab-df-spinner {\n",
              "    border: 2px solid var(--fill-color);\n",
              "    border-color: transparent;\n",
              "    border-bottom-color: var(--fill-color);\n",
              "    animation:\n",
              "      spin 1s steps(1) infinite;\n",
              "  }\n",
              "\n",
              "  @keyframes spin {\n",
              "    0% {\n",
              "      border-color: transparent;\n",
              "      border-bottom-color: var(--fill-color);\n",
              "      border-left-color: var(--fill-color);\n",
              "    }\n",
              "    20% {\n",
              "      border-color: transparent;\n",
              "      border-left-color: var(--fill-color);\n",
              "      border-top-color: var(--fill-color);\n",
              "    }\n",
              "    30% {\n",
              "      border-color: transparent;\n",
              "      border-left-color: var(--fill-color);\n",
              "      border-top-color: var(--fill-color);\n",
              "      border-right-color: var(--fill-color);\n",
              "    }\n",
              "    40% {\n",
              "      border-color: transparent;\n",
              "      border-right-color: var(--fill-color);\n",
              "      border-top-color: var(--fill-color);\n",
              "    }\n",
              "    60% {\n",
              "      border-color: transparent;\n",
              "      border-right-color: var(--fill-color);\n",
              "    }\n",
              "    80% {\n",
              "      border-color: transparent;\n",
              "      border-right-color: var(--fill-color);\n",
              "      border-bottom-color: var(--fill-color);\n",
              "    }\n",
              "    90% {\n",
              "      border-color: transparent;\n",
              "      border-bottom-color: var(--fill-color);\n",
              "    }\n",
              "  }\n",
              "</style>\n",
              "\n",
              "  <script>\n",
              "    async function quickchart(key) {\n",
              "      const quickchartButtonEl =\n",
              "        document.querySelector('#' + key + ' button');\n",
              "      quickchartButtonEl.disabled = true;  // To prevent multiple clicks.\n",
              "      quickchartButtonEl.classList.add('colab-df-spinner');\n",
              "      try {\n",
              "        const charts = await google.colab.kernel.invokeFunction(\n",
              "            'suggestCharts', [key], {});\n",
              "      } catch (error) {\n",
              "        console.error('Error during call to suggestCharts:', error);\n",
              "      }\n",
              "      quickchartButtonEl.classList.remove('colab-df-spinner');\n",
              "      quickchartButtonEl.classList.add('colab-df-quickchart-complete');\n",
              "    }\n",
              "    (() => {\n",
              "      let quickchartButtonEl =\n",
              "        document.querySelector('#df-95bb4017-7860-4a64-89c5-72a3b57cdf87 button');\n",
              "      quickchartButtonEl.style.display =\n",
              "        google.colab.kernel.accessAllowed ? 'block' : 'none';\n",
              "    })();\n",
              "  </script>\n",
              "</div>\n",
              "    </div>\n",
              "  </div>\n"
            ],
            "application/vnd.google.colaboratory.intrinsic+json": {
              "type": "dataframe",
              "summary": "{\n  \"name\": \"topic_details\",\n  \"rows\": 5,\n  \"fields\": [\n    {\n      \"column\": \"Dominant_Topic\",\n      \"properties\": {\n        \"dtype\": \"number\",\n        \"std\": 1.0954451150103321,\n        \"min\": 1.0,\n        \"max\": 4.0,\n        \"num_unique_values\": 3,\n        \"samples\": [\n          2.0,\n          1.0,\n          4.0\n        ],\n        \"semantic_type\": \"\",\n        \"description\": \"\"\n      }\n    },\n    {\n      \"column\": \"% Score\",\n      \"properties\": {\n        \"dtype\": \"number\",\n        \"std\": 0.00020280152753710296,\n        \"min\": 0.9987306594848633,\n        \"max\": 0.9992241859436035,\n        \"num_unique_values\": 5,\n        \"samples\": [\n          0.9990595579147339,\n          0.9987306594848633,\n          0.9990242719650269\n        ],\n        \"semantic_type\": \"\",\n        \"description\": \"\"\n      }\n    },\n    {\n      \"column\": \"Original text\",\n      \"properties\": {\n        \"dtype\": \"object\",\n        \"semantic_type\": \"\",\n        \"description\": \"\"\n      }\n    }\n  ]\n}"
            }
          },
          "metadata": {},
          "execution_count": 126
        }
      ],
      "source": [
        "topic_details.sort_values(by=['% Score'], ascending=False).head(10).tail()"
      ]
    },
    {
      "cell_type": "markdown",
      "metadata": {
        "id": "bL4ZHK8JPGwy"
      },
      "source": [
        "**Instructions 3/3**\n",
        "\n",
        "* Create a flag with the `np.where()` function to flag all content that has topic 3 as a dominant topic with a 1, and 0 otherwise"
      ]
    },
    {
      "cell_type": "code",
      "execution_count": 127,
      "metadata": {
        "tags": [],
        "id": "w4s4XrogPGwy",
        "colab": {
          "base_uri": "https://localhost:8080/"
        },
        "outputId": "5bb17dbb-6ff6-4040-f616-27da6eedda71"
      },
      "outputs": [
        {
          "output_type": "stream",
          "name": "stderr",
          "text": [
            "/usr/local/lib/python3.10/dist-packages/ipykernel/ipkernel.py:283: DeprecationWarning: `should_run_async` will not call `transform_cell` automatically in the future. Please pass the result to `transformed_cell` argument and any exception that happen during thetransform in `preprocessing_exc_tuple` in IPython 7.17 and above.\n",
            "  and should_run_async(code)\n"
          ]
        }
      ],
      "source": [
        "# Create flag for text highest associated with topic 3\n",
        "topic_details['flag'] = np.where((topic_details['Dominant_Topic'] == 3.0), 1, 0)"
      ]
    },
    {
      "cell_type": "code",
      "execution_count": 128,
      "metadata": {
        "tags": [],
        "id": "p8zZtGX-PGwy",
        "colab": {
          "base_uri": "https://localhost:8080/"
        },
        "outputId": "558751c1-2908-4ca1-e5e7-ca0f85757374"
      },
      "outputs": [
        {
          "output_type": "stream",
          "name": "stderr",
          "text": [
            "/usr/local/lib/python3.10/dist-packages/ipykernel/ipkernel.py:283: DeprecationWarning: `should_run_async` will not call `transform_cell` automatically in the future. Please pass the result to `transformed_cell` argument and any exception that happen during thetransform in `preprocessing_exc_tuple` in IPython 7.17 and above.\n",
            "  and should_run_async(code)\n"
          ]
        }
      ],
      "source": [
        "topic_details_1 = topic_details[topic_details.flag == 1]"
      ]
    },
    {
      "cell_type": "code",
      "execution_count": 129,
      "metadata": {
        "tags": [],
        "colab": {
          "base_uri": "https://localhost:8080/",
          "height": 418
        },
        "id": "hNNQrmSgPGwy",
        "outputId": "f70d2031-80fc-4ca4-c061-4a11071b1f53"
      },
      "outputs": [
        {
          "output_type": "stream",
          "name": "stderr",
          "text": [
            "/usr/local/lib/python3.10/dist-packages/ipykernel/ipkernel.py:283: DeprecationWarning: `should_run_async` will not call `transform_cell` automatically in the future. Please pass the result to `transformed_cell` argument and any exception that happen during thetransform in `preprocessing_exc_tuple` in IPython 7.17 and above.\n",
            "  and should_run_async(code)\n"
          ]
        },
        {
          "output_type": "execute_result",
          "data": {
            "text/plain": [
              "      Dominant_Topic   % Score  \\\n",
              "2087             3.0  0.999325   \n",
              "2000             3.0  0.997224   \n",
              "2046             3.0  0.995211   \n",
              "2074             3.0  0.993149   \n",
              "2052             3.0  0.992356   \n",
              "2061             3.0  0.981255   \n",
              "2028             3.0  0.978140   \n",
              "1785             3.0  0.937426   \n",
              "2033             3.0  0.904611   \n",
              "602              3.0  0.902578   \n",
              "\n",
              "                                          Original text  flag  \n",
              "2087  [image, image, image, image, image, image, ima...     1  \n",
              "2000  [raquel, nunes, thomas, auto, confirm, amazon,...     1  \n",
              "2046  [image, image, image, school, image, military,...     1  \n",
              "2074  [dear, friend, hot, deal, value, one, opt, sub...     1  \n",
              "2052  [strict, jsut, curious, let, see, say, origina...     1  \n",
              "2061  [completely, forgot, trip, vega, bet, ha, ha, ...     1  \n",
              "2028  [get, wilkerson, hightower, top, nationally, d...     1  \n",
              "1785  [classmate, go, e, bt, cm, graphic, classmate,...     1  \n",
              "2033  [dear, valued, customer, got, great, news, new...     1  \n",
              "602   [image, image, image, image, image, image, ima...     1  "
            ],
            "text/html": [
              "\n",
              "  <div id=\"df-38e5fa23-378a-43b9-a8eb-b495198ce2d3\" class=\"colab-df-container\">\n",
              "    <div>\n",
              "<style scoped>\n",
              "    .dataframe tbody tr th:only-of-type {\n",
              "        vertical-align: middle;\n",
              "    }\n",
              "\n",
              "    .dataframe tbody tr th {\n",
              "        vertical-align: top;\n",
              "    }\n",
              "\n",
              "    .dataframe thead th {\n",
              "        text-align: right;\n",
              "    }\n",
              "</style>\n",
              "<table border=\"1\" class=\"dataframe\">\n",
              "  <thead>\n",
              "    <tr style=\"text-align: right;\">\n",
              "      <th></th>\n",
              "      <th>Dominant_Topic</th>\n",
              "      <th>% Score</th>\n",
              "      <th>Original text</th>\n",
              "      <th>flag</th>\n",
              "    </tr>\n",
              "  </thead>\n",
              "  <tbody>\n",
              "    <tr>\n",
              "      <th>2087</th>\n",
              "      <td>3.0</td>\n",
              "      <td>0.999325</td>\n",
              "      <td>[image, image, image, image, image, image, ima...</td>\n",
              "      <td>1</td>\n",
              "    </tr>\n",
              "    <tr>\n",
              "      <th>2000</th>\n",
              "      <td>3.0</td>\n",
              "      <td>0.997224</td>\n",
              "      <td>[raquel, nunes, thomas, auto, confirm, amazon,...</td>\n",
              "      <td>1</td>\n",
              "    </tr>\n",
              "    <tr>\n",
              "      <th>2046</th>\n",
              "      <td>3.0</td>\n",
              "      <td>0.995211</td>\n",
              "      <td>[image, image, image, school, image, military,...</td>\n",
              "      <td>1</td>\n",
              "    </tr>\n",
              "    <tr>\n",
              "      <th>2074</th>\n",
              "      <td>3.0</td>\n",
              "      <td>0.993149</td>\n",
              "      <td>[dear, friend, hot, deal, value, one, opt, sub...</td>\n",
              "      <td>1</td>\n",
              "    </tr>\n",
              "    <tr>\n",
              "      <th>2052</th>\n",
              "      <td>3.0</td>\n",
              "      <td>0.992356</td>\n",
              "      <td>[strict, jsut, curious, let, see, say, origina...</td>\n",
              "      <td>1</td>\n",
              "    </tr>\n",
              "    <tr>\n",
              "      <th>2061</th>\n",
              "      <td>3.0</td>\n",
              "      <td>0.981255</td>\n",
              "      <td>[completely, forgot, trip, vega, bet, ha, ha, ...</td>\n",
              "      <td>1</td>\n",
              "    </tr>\n",
              "    <tr>\n",
              "      <th>2028</th>\n",
              "      <td>3.0</td>\n",
              "      <td>0.978140</td>\n",
              "      <td>[get, wilkerson, hightower, top, nationally, d...</td>\n",
              "      <td>1</td>\n",
              "    </tr>\n",
              "    <tr>\n",
              "      <th>1785</th>\n",
              "      <td>3.0</td>\n",
              "      <td>0.937426</td>\n",
              "      <td>[classmate, go, e, bt, cm, graphic, classmate,...</td>\n",
              "      <td>1</td>\n",
              "    </tr>\n",
              "    <tr>\n",
              "      <th>2033</th>\n",
              "      <td>3.0</td>\n",
              "      <td>0.904611</td>\n",
              "      <td>[dear, valued, customer, got, great, news, new...</td>\n",
              "      <td>1</td>\n",
              "    </tr>\n",
              "    <tr>\n",
              "      <th>602</th>\n",
              "      <td>3.0</td>\n",
              "      <td>0.902578</td>\n",
              "      <td>[image, image, image, image, image, image, ima...</td>\n",
              "      <td>1</td>\n",
              "    </tr>\n",
              "  </tbody>\n",
              "</table>\n",
              "</div>\n",
              "    <div class=\"colab-df-buttons\">\n",
              "\n",
              "  <div class=\"colab-df-container\">\n",
              "    <button class=\"colab-df-convert\" onclick=\"convertToInteractive('df-38e5fa23-378a-43b9-a8eb-b495198ce2d3')\"\n",
              "            title=\"Convert this dataframe to an interactive table.\"\n",
              "            style=\"display:none;\">\n",
              "\n",
              "  <svg xmlns=\"http://www.w3.org/2000/svg\" height=\"24px\" viewBox=\"0 -960 960 960\">\n",
              "    <path d=\"M120-120v-720h720v720H120Zm60-500h600v-160H180v160Zm220 220h160v-160H400v160Zm0 220h160v-160H400v160ZM180-400h160v-160H180v160Zm440 0h160v-160H620v160ZM180-180h160v-160H180v160Zm440 0h160v-160H620v160Z\"/>\n",
              "  </svg>\n",
              "    </button>\n",
              "\n",
              "  <style>\n",
              "    .colab-df-container {\n",
              "      display:flex;\n",
              "      gap: 12px;\n",
              "    }\n",
              "\n",
              "    .colab-df-convert {\n",
              "      background-color: #E8F0FE;\n",
              "      border: none;\n",
              "      border-radius: 50%;\n",
              "      cursor: pointer;\n",
              "      display: none;\n",
              "      fill: #1967D2;\n",
              "      height: 32px;\n",
              "      padding: 0 0 0 0;\n",
              "      width: 32px;\n",
              "    }\n",
              "\n",
              "    .colab-df-convert:hover {\n",
              "      background-color: #E2EBFA;\n",
              "      box-shadow: 0px 1px 2px rgba(60, 64, 67, 0.3), 0px 1px 3px 1px rgba(60, 64, 67, 0.15);\n",
              "      fill: #174EA6;\n",
              "    }\n",
              "\n",
              "    .colab-df-buttons div {\n",
              "      margin-bottom: 4px;\n",
              "    }\n",
              "\n",
              "    [theme=dark] .colab-df-convert {\n",
              "      background-color: #3B4455;\n",
              "      fill: #D2E3FC;\n",
              "    }\n",
              "\n",
              "    [theme=dark] .colab-df-convert:hover {\n",
              "      background-color: #434B5C;\n",
              "      box-shadow: 0px 1px 3px 1px rgba(0, 0, 0, 0.15);\n",
              "      filter: drop-shadow(0px 1px 2px rgba(0, 0, 0, 0.3));\n",
              "      fill: #FFFFFF;\n",
              "    }\n",
              "  </style>\n",
              "\n",
              "    <script>\n",
              "      const buttonEl =\n",
              "        document.querySelector('#df-38e5fa23-378a-43b9-a8eb-b495198ce2d3 button.colab-df-convert');\n",
              "      buttonEl.style.display =\n",
              "        google.colab.kernel.accessAllowed ? 'block' : 'none';\n",
              "\n",
              "      async function convertToInteractive(key) {\n",
              "        const element = document.querySelector('#df-38e5fa23-378a-43b9-a8eb-b495198ce2d3');\n",
              "        const dataTable =\n",
              "          await google.colab.kernel.invokeFunction('convertToInteractive',\n",
              "                                                    [key], {});\n",
              "        if (!dataTable) return;\n",
              "\n",
              "        const docLinkHtml = 'Like what you see? Visit the ' +\n",
              "          '<a target=\"_blank\" href=https://colab.research.google.com/notebooks/data_table.ipynb>data table notebook</a>'\n",
              "          + ' to learn more about interactive tables.';\n",
              "        element.innerHTML = '';\n",
              "        dataTable['output_type'] = 'display_data';\n",
              "        await google.colab.output.renderOutput(dataTable, element);\n",
              "        const docLink = document.createElement('div');\n",
              "        docLink.innerHTML = docLinkHtml;\n",
              "        element.appendChild(docLink);\n",
              "      }\n",
              "    </script>\n",
              "  </div>\n",
              "\n",
              "\n",
              "<div id=\"df-0213cb55-6c35-405b-a00c-ac6abeee3061\">\n",
              "  <button class=\"colab-df-quickchart\" onclick=\"quickchart('df-0213cb55-6c35-405b-a00c-ac6abeee3061')\"\n",
              "            title=\"Suggest charts\"\n",
              "            style=\"display:none;\">\n",
              "\n",
              "<svg xmlns=\"http://www.w3.org/2000/svg\" height=\"24px\"viewBox=\"0 0 24 24\"\n",
              "     width=\"24px\">\n",
              "    <g>\n",
              "        <path d=\"M19 3H5c-1.1 0-2 .9-2 2v14c0 1.1.9 2 2 2h14c1.1 0 2-.9 2-2V5c0-1.1-.9-2-2-2zM9 17H7v-7h2v7zm4 0h-2V7h2v10zm4 0h-2v-4h2v4z\"/>\n",
              "    </g>\n",
              "</svg>\n",
              "  </button>\n",
              "\n",
              "<style>\n",
              "  .colab-df-quickchart {\n",
              "      --bg-color: #E8F0FE;\n",
              "      --fill-color: #1967D2;\n",
              "      --hover-bg-color: #E2EBFA;\n",
              "      --hover-fill-color: #174EA6;\n",
              "      --disabled-fill-color: #AAA;\n",
              "      --disabled-bg-color: #DDD;\n",
              "  }\n",
              "\n",
              "  [theme=dark] .colab-df-quickchart {\n",
              "      --bg-color: #3B4455;\n",
              "      --fill-color: #D2E3FC;\n",
              "      --hover-bg-color: #434B5C;\n",
              "      --hover-fill-color: #FFFFFF;\n",
              "      --disabled-bg-color: #3B4455;\n",
              "      --disabled-fill-color: #666;\n",
              "  }\n",
              "\n",
              "  .colab-df-quickchart {\n",
              "    background-color: var(--bg-color);\n",
              "    border: none;\n",
              "    border-radius: 50%;\n",
              "    cursor: pointer;\n",
              "    display: none;\n",
              "    fill: var(--fill-color);\n",
              "    height: 32px;\n",
              "    padding: 0;\n",
              "    width: 32px;\n",
              "  }\n",
              "\n",
              "  .colab-df-quickchart:hover {\n",
              "    background-color: var(--hover-bg-color);\n",
              "    box-shadow: 0 1px 2px rgba(60, 64, 67, 0.3), 0 1px 3px 1px rgba(60, 64, 67, 0.15);\n",
              "    fill: var(--button-hover-fill-color);\n",
              "  }\n",
              "\n",
              "  .colab-df-quickchart-complete:disabled,\n",
              "  .colab-df-quickchart-complete:disabled:hover {\n",
              "    background-color: var(--disabled-bg-color);\n",
              "    fill: var(--disabled-fill-color);\n",
              "    box-shadow: none;\n",
              "  }\n",
              "\n",
              "  .colab-df-spinner {\n",
              "    border: 2px solid var(--fill-color);\n",
              "    border-color: transparent;\n",
              "    border-bottom-color: var(--fill-color);\n",
              "    animation:\n",
              "      spin 1s steps(1) infinite;\n",
              "  }\n",
              "\n",
              "  @keyframes spin {\n",
              "    0% {\n",
              "      border-color: transparent;\n",
              "      border-bottom-color: var(--fill-color);\n",
              "      border-left-color: var(--fill-color);\n",
              "    }\n",
              "    20% {\n",
              "      border-color: transparent;\n",
              "      border-left-color: var(--fill-color);\n",
              "      border-top-color: var(--fill-color);\n",
              "    }\n",
              "    30% {\n",
              "      border-color: transparent;\n",
              "      border-left-color: var(--fill-color);\n",
              "      border-top-color: var(--fill-color);\n",
              "      border-right-color: var(--fill-color);\n",
              "    }\n",
              "    40% {\n",
              "      border-color: transparent;\n",
              "      border-right-color: var(--fill-color);\n",
              "      border-top-color: var(--fill-color);\n",
              "    }\n",
              "    60% {\n",
              "      border-color: transparent;\n",
              "      border-right-color: var(--fill-color);\n",
              "    }\n",
              "    80% {\n",
              "      border-color: transparent;\n",
              "      border-right-color: var(--fill-color);\n",
              "      border-bottom-color: var(--fill-color);\n",
              "    }\n",
              "    90% {\n",
              "      border-color: transparent;\n",
              "      border-bottom-color: var(--fill-color);\n",
              "    }\n",
              "  }\n",
              "</style>\n",
              "\n",
              "  <script>\n",
              "    async function quickchart(key) {\n",
              "      const quickchartButtonEl =\n",
              "        document.querySelector('#' + key + ' button');\n",
              "      quickchartButtonEl.disabled = true;  // To prevent multiple clicks.\n",
              "      quickchartButtonEl.classList.add('colab-df-spinner');\n",
              "      try {\n",
              "        const charts = await google.colab.kernel.invokeFunction(\n",
              "            'suggestCharts', [key], {});\n",
              "      } catch (error) {\n",
              "        console.error('Error during call to suggestCharts:', error);\n",
              "      }\n",
              "      quickchartButtonEl.classList.remove('colab-df-spinner');\n",
              "      quickchartButtonEl.classList.add('colab-df-quickchart-complete');\n",
              "    }\n",
              "    (() => {\n",
              "      let quickchartButtonEl =\n",
              "        document.querySelector('#df-0213cb55-6c35-405b-a00c-ac6abeee3061 button');\n",
              "      quickchartButtonEl.style.display =\n",
              "        google.colab.kernel.accessAllowed ? 'block' : 'none';\n",
              "    })();\n",
              "  </script>\n",
              "</div>\n",
              "    </div>\n",
              "  </div>\n"
            ],
            "application/vnd.google.colaboratory.intrinsic+json": {
              "type": "dataframe",
              "summary": "{\n  \"name\": \"topic_details_1\",\n  \"rows\": 10,\n  \"fields\": [\n    {\n      \"column\": \"Dominant_Topic\",\n      \"properties\": {\n        \"dtype\": \"number\",\n        \"std\": 0.0,\n        \"min\": 3.0,\n        \"max\": 3.0,\n        \"num_unique_values\": 1,\n        \"samples\": [\n          3.0\n        ],\n        \"semantic_type\": \"\",\n        \"description\": \"\"\n      }\n    },\n    {\n      \"column\": \"% Score\",\n      \"properties\": {\n        \"dtype\": \"number\",\n        \"std\": 0.038460227467840474,\n        \"min\": 0.9025784730911255,\n        \"max\": 0.99932461977005,\n        \"num_unique_values\": 10,\n        \"samples\": [\n          0.9046105742454529\n        ],\n        \"semantic_type\": \"\",\n        \"description\": \"\"\n      }\n    },\n    {\n      \"column\": \"Original text\",\n      \"properties\": {\n        \"dtype\": \"object\",\n        \"semantic_type\": \"\",\n        \"description\": \"\"\n      }\n    },\n    {\n      \"column\": \"flag\",\n      \"properties\": {\n        \"dtype\": \"number\",\n        \"std\": 0,\n        \"min\": 1,\n        \"max\": 1,\n        \"num_unique_values\": 1,\n        \"samples\": [\n          1\n        ],\n        \"semantic_type\": \"\",\n        \"description\": \"\"\n      }\n    }\n  ]\n}"
            }
          },
          "metadata": {},
          "execution_count": 129
        }
      ],
      "source": [
        "topic_details_1.sort_values(by=['% Score'], ascending=False).head(10)"
      ]
    },
    {
      "cell_type": "markdown",
      "metadata": {
        "id": "uf3ZvrlXPGwy"
      },
      "source": [
        "**You have now flagged all data that is highest associated with topic 3, that seems to cover internal conversation about enron stock options. You are a true detective. With these exercises you have demonstrated that text mining and topic modeling can be a powerful tool for fraud detection.**"
      ]
    },
    {
      "cell_type": "markdown",
      "metadata": {
        "id": "bmUIzqWjPGwy"
      },
      "source": [
        "## Lesson 4: Recap"
      ]
    },
    {
      "cell_type": "markdown",
      "metadata": {
        "id": "zPGgnnj4PGwy"
      },
      "source": [
        "### Working with imbalanced data\n",
        "\n",
        "* Worked with highly imbalanced fraud data\n",
        "* Learned how to resample your data\n",
        "* Learned about different resampling methods"
      ]
    },
    {
      "cell_type": "markdown",
      "metadata": {
        "id": "x3kbAv3JPGwy"
      },
      "source": [
        "### Fraud detection with labeled data\n",
        "\n",
        "* Refreshed supervised learning techniques to detect fraud\n",
        "* Learned how to get reliable performance metrics and worked with the precision recall trade-off\n",
        "* Explored how to optimize your model parameters to handle fraud data\n",
        "* Applied ensemble methods to fraud detection"
      ]
    },
    {
      "cell_type": "markdown",
      "metadata": {
        "id": "A_8bf2inPGwy"
      },
      "source": [
        "### Fraud detection without labels\n",
        "\n",
        "* Learned about the importance of segmentation\n",
        "* Refreshed your knowledge on clustering methods\n",
        "* Learned how to detect fraud using outliers and small clusters with K-means clustering\n",
        "* Applied a DB-scan clustering model for fraud detection"
      ]
    },
    {
      "cell_type": "markdown",
      "metadata": {
        "id": "Ff0ozd0ePGwy"
      },
      "source": [
        "### Text mining for fraud detection\n",
        "\n",
        "* Know how to augment fraud detection analysis with text mining techniques\n",
        "* Applied word searches to flag use of certain words, and learned how to apply topic modeling for fraud detection\n",
        "* Learned how to effectively clean messy text data"
      ]
    },
    {
      "cell_type": "markdown",
      "metadata": {
        "id": "vl5Jm6OhPGwy"
      },
      "source": [
        "### Further learning for fraud detection\n",
        "\n",
        "* Network analysis to detect fraud\n",
        "* Different supervised and unsupervised learning techniques (e.g. Neural Networks)\n",
        "* Working with very large data"
      ]
    }
  ],
  "metadata": {
    "kernelspec": {
      "display_name": "Python 3",
      "language": "python",
      "name": "python3"
    },
    "language_info": {
      "codemirror_mode": {
        "name": "ipython",
        "version": 3
      },
      "file_extension": ".py",
      "mimetype": "text/x-python",
      "name": "python",
      "nbconvert_exporter": "python",
      "pygments_lexer": "ipython3",
      "version": "3.8.10"
    },
    "toc-autonumbering": true,
    "colab": {
      "provenance": []
    }
  },
  "nbformat": 4,
  "nbformat_minor": 0
}